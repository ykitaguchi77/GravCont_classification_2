{
  "nbformat": 4,
  "nbformat_minor": 0,
  "metadata": {
    "colab": {
      "provenance": [],
      "gpuType": "T4",
      "authorship_tag": "ABX9TyPWmkTEHpmKVuxFf0oyAlP6",
      "include_colab_link": true
    },
    "kernelspec": {
      "name": "python3",
      "display_name": "Python 3"
    },
    "language_info": {
      "name": "python"
    },
    "accelerator": "GPU"
  },
  "cells": [
    {
      "cell_type": "markdown",
      "metadata": {
        "id": "view-in-github",
        "colab_type": "text"
      },
      "source": [
        "<a href=\"https://colab.research.google.com/github/ykitaguchi77/GravCont_classification_2/blob/main/DINOv2_olympia.ipynb\" target=\"_parent\"><img src=\"https://colab.research.google.com/assets/colab-badge.svg\" alt=\"Open In Colab\"/></a>"
      ]
    },
    {
      "cell_type": "markdown",
      "source": [
        "#**Olympia_new_DINOv2 (simple classification)**\n"
      ],
      "metadata": {
        "id": "D6QkMcbfB5ai"
      }
    },
    {
      "cell_type": "code",
      "execution_count": 1,
      "metadata": {
        "colab": {
          "base_uri": "https://localhost:8080/"
        },
        "id": "YW8nwbi80Hfq",
        "outputId": "9fba62a3-6609-4e00-f741-3c6e8c286ff6"
      },
      "outputs": [
        {
          "output_type": "stream",
          "name": "stdout",
          "text": [
            "Drive already mounted at /content/drive; to attempt to forcibly remount, call drive.mount(\"/content/drive\", force_remount=True).\n"
          ]
        }
      ],
      "source": [
        "# prompt: gdrivewom\n",
        "\n",
        "from google.colab import drive\n",
        "drive.mount('/content/drive')\n"
      ]
    },
    {
      "cell_type": "markdown",
      "source": [
        "##**Preprocess dataset**\n",
        "\n",
        "image size 224px\n",
        "\n",
        "Letterbox"
      ],
      "metadata": {
        "id": "NLNxL1qaCYcc"
      }
    },
    {
      "cell_type": "code",
      "source": [
        "# prompt: /content/drive/MyDrive/Deep_learning/Olympia_dataset/Olympia_new/Olympia_new_dataset.zipを/contentに解凍\n",
        "\n",
        "import zipfile\n",
        "\n",
        "with zipfile.ZipFile('/content/drive/MyDrive/Deep_learning/Olympia_dataset/Olympia_new/Olympia_new_dataset.zip', 'r') as zip_ref:\n",
        "    zip_ref.extractall('/content')\n"
      ],
      "metadata": {
        "id": "JdT83gEQ3TAM"
      },
      "execution_count": 3,
      "outputs": []
    },
    {
      "cell_type": "code",
      "source": [
        "import os\n",
        "import cv2\n",
        "import numpy as np\n",
        "from sklearn.model_selection import train_test_split\n",
        "from tqdm import tqdm\n",
        "\n",
        "def letterbox(img, new_shape=(224, 224), color=(114, 114, 114)):\n",
        "    # 元の形状\n",
        "    shape = img.shape[:2]  # current shape [height, width]\n",
        "\n",
        "    # スケール比を計算\n",
        "    r = min(new_shape[0] / shape[0], new_shape[1] / shape[1])\n",
        "\n",
        "    # 新しいサイズを計算（アスペクト比を維持）\n",
        "    new_unpad = int(round(shape[1] * r)), int(round(shape[0] * r))\n",
        "\n",
        "    # パディングの計算\n",
        "    dw, dh = new_shape[1] - new_unpad[0], new_shape[0] - new_unpad[1]\n",
        "\n",
        "    # パディングを均等に分配\n",
        "    dw /= 2\n",
        "    dh /= 2\n",
        "\n",
        "    # リサイズ\n",
        "    img = cv2.resize(img, new_unpad, interpolation=cv2.INTER_LINEAR)\n",
        "\n",
        "    # パディングを追加\n",
        "    top, bottom = round(dh - 0.1), round(dh + 0.1)\n",
        "    left, right = round(dw - 0.1), round(dw + 0.1)\n",
        "    img = cv2.copyMakeBorder(img, top, bottom, left, right, cv2.BORDER_CONSTANT, value=color)\n",
        "\n",
        "    return img\n",
        "\n",
        "def create_dataset_structure(grav_path, cont_path, output_path, test_size=0.2):\n",
        "    # 出力ディレクトリの作成\n",
        "    os.makedirs(output_path, exist_ok=True)\n",
        "    train_dir = os.path.join(output_path, 'train')\n",
        "    val_dir = os.path.join(output_path, 'val')\n",
        "\n",
        "    for dir_path in [train_dir, val_dir]:\n",
        "        os.makedirs(os.path.join(dir_path, 'grav'), exist_ok=True)\n",
        "        os.makedirs(os.path.join(dir_path, 'cont'), exist_ok=True)\n",
        "\n",
        "    # ファイルの処理\n",
        "    grav_files = [f for f in os.listdir(grav_path) if f.lower().endswith(('.png', '.jpg', '.jpeg'))]\n",
        "    cont_files = [f for f in os.listdir(cont_path) if f.lower().endswith(('.png', '.jpg', '.jpeg'))]\n",
        "\n",
        "    # データ分割\n",
        "    grav_train, grav_val = train_test_split(grav_files, test_size=test_size, random_state=42)\n",
        "    cont_train, cont_val = train_test_split(cont_files, test_size=test_size, random_state=42)\n",
        "\n",
        "    def process_files(files, src_path, dest_class_path, desc):\n",
        "        for f in tqdm(files, desc=desc):\n",
        "            # 画像の読み込み\n",
        "            img_path = os.path.join(src_path, f)\n",
        "            img = cv2.imread(img_path)\n",
        "            if img is None:\n",
        "                print(f\"Warning: Could not read image {img_path}\")\n",
        "                continue\n",
        "\n",
        "            # BGR to RGB\n",
        "            img = cv2.cvtColor(img, cv2.COLOR_BGR2RGB)\n",
        "\n",
        "            # レターボックス処理\n",
        "            img = letterbox(img, new_shape=(224, 224))\n",
        "\n",
        "            # RGB to BGR (OpenCVで保存するため)\n",
        "            img = cv2.cvtColor(img, cv2.COLOR_RGB2BGR)\n",
        "\n",
        "            # 保存\n",
        "            out_path = os.path.join(dest_class_path, f)\n",
        "            cv2.imwrite(out_path, img)\n",
        "\n",
        "    # trainデータの処理\n",
        "    print(\"Processing training data...\")\n",
        "    process_files(grav_train, grav_path, os.path.join(train_dir, 'grav'), \"Processing grav train\")\n",
        "    process_files(cont_train, cont_path, os.path.join(train_dir, 'cont'), \"Processing cont train\")\n",
        "\n",
        "    # valデータの処理\n",
        "    print(\"\\nProcessing validation data...\")\n",
        "    process_files(grav_val, grav_path, os.path.join(val_dir, 'grav'), \"Processing grav val\")\n",
        "    process_files(cont_val, cont_path, os.path.join(val_dir, 'cont'), \"Processing cont val\")\n",
        "\n",
        "    return len(grav_train), len(grav_val), len(cont_train), len(cont_val)\n",
        "\n",
        "# パスの設定と実行\n",
        "grav_path = '/content/Olympia_new/活動期写真'\n",
        "cont_path = '/content/Olympia_new/コントロール写真'\n",
        "output_path = '/content/drive/MyDrive/Deep_learning/Olympia_dataset/Olympia_new/dinov2_224px'\n",
        "\n",
        "# 実行\n",
        "train_grav, val_grav, train_cont, val_cont = create_dataset_structure(\n",
        "    grav_path, cont_path, output_path\n",
        ")\n",
        "\n",
        "print(f\"\\nDataset creation completed!\")\n",
        "print(f\"Train data: Grav={train_grav}, Cont={train_cont}\")\n",
        "print(f\"Val data: Grav={val_grav}, Cont={val_cont}\")"
      ],
      "metadata": {
        "colab": {
          "base_uri": "https://localhost:8080/"
        },
        "id": "Etr8PUCI0ZKl",
        "outputId": "18d33f15-74e7-4698-b122-a335ee28dbac"
      },
      "execution_count": 7,
      "outputs": [
        {
          "output_type": "stream",
          "name": "stdout",
          "text": [
            "Processing training data...\n"
          ]
        },
        {
          "output_type": "stream",
          "name": "stderr",
          "text": [
            "Processing grav train: 100%|██████████| 829/829 [00:59<00:00, 13.90it/s]\n",
            "Processing cont train: 100%|██████████| 827/827 [01:03<00:00, 12.97it/s]\n"
          ]
        },
        {
          "output_type": "stream",
          "name": "stdout",
          "text": [
            "\n",
            "Processing validation data...\n"
          ]
        },
        {
          "output_type": "stream",
          "name": "stderr",
          "text": [
            "Processing grav val: 100%|██████████| 208/208 [00:15<00:00, 13.58it/s]\n",
            "Processing cont val: 100%|██████████| 207/207 [00:18<00:00, 11.18it/s]"
          ]
        },
        {
          "output_type": "stream",
          "name": "stdout",
          "text": [
            "\n",
            "Dataset creation completed!\n",
            "Train data: Grav=829, Cont=827\n",
            "Val data: Grav=208, Cont=207\n"
          ]
        },
        {
          "output_type": "stream",
          "name": "stderr",
          "text": [
            "\n"
          ]
        }
      ]
    },
    {
      "cell_type": "code",
      "source": [
        "!git clone https://github.com/facebookresearch/dinov2.git\n",
        "%cd dinov2\n",
        "!pip install -q submitit\n",
        "!pip install -q xformers==0.0.18\n",
        "!pip install -q -r requirements.txt\n",
        "\n",
        "# PYTHONPATHの設定\n",
        "import os\n",
        "os.environ['PYTHONPATH'] = '.'"
      ],
      "metadata": {
        "colab": {
          "base_uri": "https://localhost:8080/"
        },
        "id": "epANVoi3917w",
        "outputId": "db3e3e7a-f2a6-40c1-c901-d90ab34ef0c8"
      },
      "execution_count": 3,
      "outputs": [
        {
          "output_type": "stream",
          "name": "stdout",
          "text": [
            "Cloning into 'dinov2'...\n",
            "remote: Enumerating objects: 485, done.\u001b[K\n",
            "remote: Total 485 (delta 0), reused 0 (delta 0), pack-reused 485 (from 1)\u001b[K\n",
            "Receiving objects: 100% (485/485), 1.11 MiB | 3.38 MiB/s, done.\n",
            "Resolving deltas: 100% (237/237), done.\n",
            "/content/dinov2\n",
            "\u001b[2K   \u001b[90m━━━━━━━━━━━━━━━━━━━━━━━━━━━━━━━━━━━━━━━━\u001b[0m \u001b[32m74.9/74.9 kB\u001b[0m \u001b[31m2.6 MB/s\u001b[0m eta \u001b[36m0:00:00\u001b[0m\n",
            "\u001b[2K   \u001b[90m━━━━━━━━━━━━━━━━━━━━━━━━━━━━━━━━━━━━━━━━\u001b[0m \u001b[32m123.8/123.8 MB\u001b[0m \u001b[31m9.5 MB/s\u001b[0m eta \u001b[36m0:00:00\u001b[0m\n",
            "\u001b[2K   \u001b[90m━━━━━━━━━━━━━━━━━━━━━━━━━━━━━━━━━━━━━━━━\u001b[0m \u001b[32m619.9/619.9 MB\u001b[0m \u001b[31m1.3 MB/s\u001b[0m eta \u001b[36m0:00:00\u001b[0m\n",
            "\u001b[2K   \u001b[90m━━━━━━━━━━━━━━━━━━━━━━━━━━━━━━━━━━━━━━━━\u001b[0m \u001b[32m317.1/317.1 MB\u001b[0m \u001b[31m4.2 MB/s\u001b[0m eta \u001b[36m0:00:00\u001b[0m\n",
            "\u001b[2K   \u001b[90m━━━━━━━━━━━━━━━━━━━━━━━━━━━━━━━━━━━━━━━━\u001b[0m \u001b[32m11.8/11.8 MB\u001b[0m \u001b[31m72.6 MB/s\u001b[0m eta \u001b[36m0:00:00\u001b[0m\n",
            "\u001b[2K   \u001b[90m━━━━━━━━━━━━━━━━━━━━━━━━━━━━━━━━━━━━━━━━\u001b[0m \u001b[32m21.0/21.0 MB\u001b[0m \u001b[31m42.5 MB/s\u001b[0m eta \u001b[36m0:00:00\u001b[0m\n",
            "\u001b[2K   \u001b[90m━━━━━━━━━━━━━━━━━━━━━━━━━━━━━━━━━━━━━━━━\u001b[0m \u001b[32m849.3/849.3 kB\u001b[0m \u001b[31m44.7 MB/s\u001b[0m eta \u001b[36m0:00:00\u001b[0m\n",
            "\u001b[2K   \u001b[90m━━━━━━━━━━━━━━━━━━━━━━━━━━━━━━━━━━━━━━━━\u001b[0m \u001b[32m557.1/557.1 MB\u001b[0m \u001b[31m1.3 MB/s\u001b[0m eta \u001b[36m0:00:00\u001b[0m\n",
            "\u001b[2K   \u001b[90m━━━━━━━━━━━━━━━━━━━━━━━━━━━━━━━━━━━━━━━━\u001b[0m \u001b[32m168.4/168.4 MB\u001b[0m \u001b[31m6.9 MB/s\u001b[0m eta \u001b[36m0:00:00\u001b[0m\n",
            "\u001b[2K   \u001b[90m━━━━━━━━━━━━━━━━━━━━━━━━━━━━━━━━━━━━━━━━\u001b[0m \u001b[32m54.6/54.6 MB\u001b[0m \u001b[31m12.1 MB/s\u001b[0m eta \u001b[36m0:00:00\u001b[0m\n",
            "\u001b[2K   \u001b[90m━━━━━━━━━━━━━━━━━━━━━━━━━━━━━━━━━━━━━━━━\u001b[0m \u001b[32m102.6/102.6 MB\u001b[0m \u001b[31m8.6 MB/s\u001b[0m eta \u001b[36m0:00:00\u001b[0m\n",
            "\u001b[2K   \u001b[90m━━━━━━━━━━━━━━━━━━━━━━━━━━━━━━━━━━━━━━━━\u001b[0m \u001b[32m173.2/173.2 MB\u001b[0m \u001b[31m6.4 MB/s\u001b[0m eta \u001b[36m0:00:00\u001b[0m\n",
            "\u001b[2K   \u001b[90m━━━━━━━━━━━━━━━━━━━━━━━━━━━━━━━━━━━━━━━━\u001b[0m \u001b[32m177.1/177.1 MB\u001b[0m \u001b[31m6.2 MB/s\u001b[0m eta \u001b[36m0:00:00\u001b[0m\n",
            "\u001b[2K   \u001b[90m━━━━━━━━━━━━━━━━━━━━━━━━━━━━━━━━━━━━━━━━\u001b[0m \u001b[32m98.6/98.6 kB\u001b[0m \u001b[31m9.2 MB/s\u001b[0m eta \u001b[36m0:00:00\u001b[0m\n",
            "\u001b[2K   \u001b[90m━━━━━━━━━━━━━━━━━━━━━━━━━━━━━━━━━━━━━━━━\u001b[0m \u001b[32m63.3/63.3 MB\u001b[0m \u001b[31m12.4 MB/s\u001b[0m eta \u001b[36m0:00:00\u001b[0m\n",
            "\u001b[2K   \u001b[90m━━━━━━━━━━━━━━━━━━━━━━━━━━━━━━━━━━━━━━━━\u001b[0m \u001b[32m96.4/96.4 kB\u001b[0m \u001b[31m9.0 MB/s\u001b[0m eta \u001b[36m0:00:00\u001b[0m\n",
            "\u001b[?25h\u001b[31mERROR: pip's dependency resolver does not currently take into account all the packages that are installed. This behaviour is the source of the following dependency conflicts.\n",
            "torchaudio 2.5.1+cu121 requires torch==2.5.1, but you have torch 2.0.0 which is incompatible.\n",
            "torchvision 0.20.1+cu121 requires torch==2.5.1, but you have torch 2.0.0 which is incompatible.\u001b[0m\u001b[31m\n",
            "\u001b[2K     \u001b[90m━━━━━━━━━━━━━━━━━━━━━━━━━━━━━━━━━━━━━━━━\u001b[0m \u001b[32m6.1/6.1 MB\u001b[0m \u001b[31m47.7 MB/s\u001b[0m eta \u001b[36m0:00:00\u001b[0m\n",
            "\u001b[2K     \u001b[90m━━━━━━━━━━━━━━━━━━━━━━━━━━━━━━━━━━━━━━━━\u001b[0m \u001b[32m50.2/50.2 kB\u001b[0m \u001b[31m219.1 kB/s\u001b[0m eta \u001b[36m0:00:00\u001b[0m\n",
            "\u001b[?25h  Preparing metadata (setup.py) ... \u001b[?25l\u001b[?25hdone\n",
            "\u001b[2K     \u001b[90m━━━━━━━━━━━━━━━━━━━━━━━━━━━━━━━━━━━━━━━━\u001b[0m \u001b[32m42.2/42.2 kB\u001b[0m \u001b[31m3.6 MB/s\u001b[0m eta \u001b[36m0:00:00\u001b[0m\n",
            "\u001b[?25h  Preparing metadata (setup.py) ... \u001b[?25l\u001b[?25hdone\n",
            "\u001b[2K     \u001b[90m━━━━━━━━━━━━━━━━━━━━━━━━━━━━━━━━━━━━━━━━\u001b[0m \u001b[32m1.4/1.4 GB\u001b[0m \u001b[31m1.3 MB/s\u001b[0m eta \u001b[36m0:00:00\u001b[0m\n",
            "\u001b[2K     \u001b[90m━━━━━━━━━━━━━━━━━━━━━━━━━━━━━━━━━━━━━━━━\u001b[0m \u001b[32m1.8/1.8 GB\u001b[0m \u001b[31m766.3 kB/s\u001b[0m eta \u001b[36m0:00:00\u001b[0m\n",
            "\u001b[2K     \u001b[90m━━━━━━━━━━━━━━━━━━━━━━━━━━━━━━━━━━━━━━━━\u001b[0m \u001b[32m117.0/117.0 kB\u001b[0m \u001b[31m7.7 MB/s\u001b[0m eta \u001b[36m0:00:00\u001b[0m\n",
            "\u001b[?25h  Preparing metadata (setup.py) ... \u001b[?25l\u001b[?25hdone\n",
            "\u001b[2K     \u001b[90m━━━━━━━━━━━━━━━━━━━━━━━━━━━━━━━━━━━━━━━━\u001b[0m \u001b[32m26.3/26.3 MB\u001b[0m \u001b[31m75.1 MB/s\u001b[0m eta \u001b[36m0:00:00\u001b[0m\n",
            "\u001b[2K     \u001b[90m━━━━━━━━━━━━━━━━━━━━━━━━━━━━━━━━━━━━━━━━\u001b[0m \u001b[32m1.5/1.5 GB\u001b[0m \u001b[31m929.7 kB/s\u001b[0m eta \u001b[36m0:00:00\u001b[0m\n",
            "\u001b[2K     \u001b[90m━━━━━━━━━━━━━━━━━━━━━━━━━━━━━━━━━━━━━━━━\u001b[0m \u001b[32m134.4/134.4 kB\u001b[0m \u001b[31m12.5 MB/s\u001b[0m eta \u001b[36m0:00:00\u001b[0m\n",
            "\u001b[2K     \u001b[90m━━━━━━━━━━━━━━━━━━━━━━━━━━━━━━━━━━━━━━━━\u001b[0m \u001b[32m67.2/67.2 kB\u001b[0m \u001b[31m6.3 MB/s\u001b[0m eta \u001b[36m0:00:00\u001b[0m\n",
            "\u001b[2K     \u001b[90m━━━━━━━━━━━━━━━━━━━━━━━━━━━━━━━━━━━━━━━━\u001b[0m \u001b[32m567.1/567.1 MB\u001b[0m \u001b[31m2.9 MB/s\u001b[0m eta \u001b[36m0:00:00\u001b[0m\n",
            "\u001b[2K     \u001b[90m━━━━━━━━━━━━━━━━━━━━━━━━━━━━━━━━━━━━━━━━\u001b[0m \u001b[32m196.9/196.9 MB\u001b[0m \u001b[31m5.8 MB/s\u001b[0m eta \u001b[36m0:00:00\u001b[0m\n",
            "\u001b[2K     \u001b[90m━━━━━━━━━━━━━━━━━━━━━━━━━━━━━━━━━━━━━━━━\u001b[0m \u001b[32m1.9/1.9 MB\u001b[0m \u001b[31m63.4 MB/s\u001b[0m eta \u001b[36m0:00:00\u001b[0m\n",
            "\u001b[2K     \u001b[90m━━━━━━━━━━━━━━━━━━━━━━━━━━━━━━━━━━━━━━━━\u001b[0m \u001b[32m8.8/8.8 MB\u001b[0m \u001b[31m114.6 MB/s\u001b[0m eta \u001b[36m0:00:00\u001b[0m\n",
            "\u001b[2K     \u001b[90m━━━━━━━━━━━━━━━━━━━━━━━━━━━━━━━━━━━━━━━━\u001b[0m \u001b[32m452.8/452.8 MB\u001b[0m \u001b[31m3.8 MB/s\u001b[0m eta \u001b[36m0:00:00\u001b[0m\n",
            "\u001b[2K     \u001b[90m━━━━━━━━━━━━━━━━━━━━━━━━━━━━━━━━━━━━━━━━\u001b[0m \u001b[32m8.7/8.7 MB\u001b[0m \u001b[31m111.0 MB/s\u001b[0m eta \u001b[36m0:00:00\u001b[0m\n",
            "\u001b[2K     \u001b[90m━━━━━━━━━━━━━━━━━━━━━━━━━━━━━━━━━━━━━━━━\u001b[0m \u001b[32m36.5/36.5 MB\u001b[0m \u001b[31m18.6 MB/s\u001b[0m eta \u001b[36m0:00:00\u001b[0m\n",
            "\u001b[2K     \u001b[90m━━━━━━━━━━━━━━━━━━━━━━━━━━━━━━━━━━━━━━━━\u001b[0m \u001b[32m2.1/2.1 MB\u001b[0m \u001b[31m83.4 MB/s\u001b[0m eta \u001b[36m0:00:00\u001b[0m\n",
            "\u001b[2K     \u001b[90m━━━━━━━━━━━━━━━━━━━━━━━━━━━━━━━━━━━━━━━━\u001b[0m \u001b[32m832.6/832.6 kB\u001b[0m \u001b[31m51.5 MB/s\u001b[0m eta \u001b[36m0:00:00\u001b[0m\n",
            "\u001b[2K     \u001b[90m━━━━━━━━━━━━━━━━━━━━━━━━━━━━━━━━━━━━━━━━\u001b[0m \u001b[32m2.0/2.0 MB\u001b[0m \u001b[31m82.8 MB/s\u001b[0m eta \u001b[36m0:00:00\u001b[0m\n",
            "\u001b[2K     \u001b[90m━━━━━━━━━━━━━━━━━━━━━━━━━━━━━━━━━━━━━━━━\u001b[0m \u001b[32m28.5/28.5 MB\u001b[0m \u001b[31m72.1 MB/s\u001b[0m eta \u001b[36m0:00:00\u001b[0m\n",
            "\u001b[2K     \u001b[90m━━━━━━━━━━━━━━━━━━━━━━━━━━━━━━━━━━━━━━━━\u001b[0m \u001b[32m505.6/505.6 kB\u001b[0m \u001b[31m36.5 MB/s\u001b[0m eta \u001b[36m0:00:00\u001b[0m\n",
            "\u001b[2K   \u001b[90m━━━━━━━━━━━━━━━━━━━━━━━━━━━━━━━━━━━━━━━━\u001b[0m \u001b[32m529.7/529.7 kB\u001b[0m \u001b[31m27.9 MB/s\u001b[0m eta \u001b[36m0:00:00\u001b[0m\n",
            "\u001b[2K   \u001b[90m━━━━━━━━━━━━━━━━━━━━━━━━━━━━━━━━━━━━━━━━\u001b[0m \u001b[32m79.5/79.5 kB\u001b[0m \u001b[31m7.8 MB/s\u001b[0m eta \u001b[36m0:00:00\u001b[0m\n",
            "\u001b[2K   \u001b[90m━━━━━━━━━━━━━━━━━━━━━━━━━━━━━━━━━━━━━━━━\u001b[0m \u001b[32m916.0/916.0 kB\u001b[0m \u001b[31m46.7 MB/s\u001b[0m eta \u001b[36m0:00:00\u001b[0m\n",
            "\u001b[2K   \u001b[90m━━━━━━━━━━━━━━━━━━━━━━━━━━━━━━━━━━━━━━━━\u001b[0m \u001b[32m1.3/1.3 MB\u001b[0m \u001b[31m52.6 MB/s\u001b[0m eta \u001b[36m0:00:00\u001b[0m\n",
            "\u001b[2K   \u001b[90m━━━━━━━━━━━━━━━━━━━━━━━━━━━━━━━━━━━━━━━━\u001b[0m \u001b[32m244.5/244.5 kB\u001b[0m \u001b[31m21.5 MB/s\u001b[0m eta \u001b[36m0:00:00\u001b[0m\n",
            "\u001b[2K   \u001b[90m━━━━━━━━━━━━━━━━━━━━━━━━━━━━━━━━━━━━━━━━\u001b[0m \u001b[32m1.0/1.0 MB\u001b[0m \u001b[31m56.8 MB/s\u001b[0m eta \u001b[36m0:00:00\u001b[0m\n",
            "\u001b[2K   \u001b[90m━━━━━━━━━━━━━━━━━━━━━━━━━━━━━━━━━━━━━━━━\u001b[0m \u001b[32m96.6/96.6 MB\u001b[0m \u001b[31m8.6 MB/s\u001b[0m eta \u001b[36m0:00:00\u001b[0m\n",
            "\u001b[2K   \u001b[90m━━━━━━━━━━━━━━━━━━━━━━━━━━━━━━━━━━━━━━━━\u001b[0m \u001b[32m18.7/18.7 MB\u001b[0m \u001b[31m89.1 MB/s\u001b[0m eta \u001b[36m0:00:00\u001b[0m\n",
            "\u001b[2K   \u001b[90m━━━━━━━━━━━━━━━━━━━━━━━━━━━━━━━━━━━━━━━━\u001b[0m \u001b[32m424.7/424.7 kB\u001b[0m \u001b[31m33.6 MB/s\u001b[0m eta \u001b[36m0:00:00\u001b[0m\n",
            "\u001b[2K   \u001b[90m━━━━━━━━━━━━━━━━━━━━━━━━━━━━━━━━━━━━━━━━\u001b[0m \u001b[32m47.0/47.0 kB\u001b[0m \u001b[31m4.2 MB/s\u001b[0m eta \u001b[36m0:00:00\u001b[0m\n",
            "\u001b[2K   \u001b[90m━━━━━━━━━━━━━━━━━━━━━━━━━━━━━━━━━━━━━━━━\u001b[0m \u001b[32m43.3/43.3 kB\u001b[0m \u001b[31m3.5 MB/s\u001b[0m eta \u001b[36m0:00:00\u001b[0m\n",
            "\u001b[2K   \u001b[90m━━━━━━━━━━━━━━━━━━━━━━━━━━━━━━━━━━━━━━━━\u001b[0m \u001b[32m26.9/26.9 MB\u001b[0m \u001b[31m72.3 MB/s\u001b[0m eta \u001b[36m0:00:00\u001b[0m\n",
            "\u001b[?25h  Building wheel for antlr4-python3-runtime (setup.py) ... \u001b[?25l\u001b[?25hdone\n",
            "  Building wheel for fvcore (setup.py) ... \u001b[?25l\u001b[?25hdone\n",
            "  Building wheel for iopath (setup.py) ... \u001b[?25l\u001b[?25hdone\n",
            "\u001b[31mERROR: pip's dependency resolver does not currently take into account all the packages that are installed. This behaviour is the source of the following dependency conflicts.\n",
            "cudf-cu12 24.10.1 requires cuda-python<13.0a0,>=12.0, but you have cuda-python 11.8.3 which is incompatible.\n",
            "pylibcudf-cu12 24.10.1 requires cuda-python<13.0a0,>=12.0, but you have cuda-python 11.8.3 which is incompatible.\n",
            "pylibraft-cu12 24.10.0 requires cuda-python<13.0a0,>=12.0, but you have cuda-python 11.8.3 which is incompatible.\n",
            "rmm-cu12 24.10.0 requires cuda-python<13.0a0,>=12.0, but you have cuda-python 11.8.3 which is incompatible.\n",
            "torchaudio 2.5.1+cu121 requires torch==2.5.1, but you have torch 2.0.0+cu117 which is incompatible.\u001b[0m\u001b[31m\n",
            "\u001b[0m"
          ]
        }
      ]
    },
    {
      "cell_type": "markdown",
      "source": [
        "##**Create metadata**"
      ],
      "metadata": {
        "id": "2aSkAwn1CVBb"
      }
    },
    {
      "cell_type": "code",
      "source": [
        "#メタデータ生成\n",
        "import numpy as np\n",
        "\n",
        "class ThyroidEyeDataset:\n",
        "    def __init__(self, root_dir, split='train'):\n",
        "        self.root_dir = os.path.join(root_dir, split)\n",
        "        self.split = split\n",
        "        self.classes = ['cont', 'grav']\n",
        "        self.class_to_idx = {cls: idx for idx, cls in enumerate(self.classes)}\n",
        "\n",
        "        self.samples = []\n",
        "        for class_name in self.classes:\n",
        "            class_dir = os.path.join(self.root_dir, class_name)\n",
        "            if os.path.isdir(class_dir):\n",
        "                for fname in os.listdir(class_dir):\n",
        "                    if fname.lower().endswith(('.png', '.jpg', '.jpeg', 'JPG')):\n",
        "                        path = os.path.join(class_dir, fname)\n",
        "                        self.samples.append((path, self.class_to_idx[class_name]))\n",
        "\n",
        "    def dump_extra(self, extra_dir):\n",
        "        os.makedirs(extra_dir, exist_ok=True)\n",
        "\n",
        "        class_ids = np.array([idx for idx in range(len(self.classes))])\n",
        "        class_names = np.array(self.classes)\n",
        "        entries = np.array([path for path, _ in self.samples])\n",
        "\n",
        "        np.save(os.path.join(extra_dir, f'class-ids-{self.split.upper()}.npy'), class_ids)\n",
        "        np.save(os.path.join(extra_dir, f'class-names-{self.split.upper()}.npy'), class_names)\n",
        "        np.save(os.path.join(extra_dir, f'entries-{self.split.upper()}.npy'), entries)\n",
        "\n",
        "\n",
        "# データセットとメタデータのパスを設定\n",
        "dataset_path = '/content/drive/MyDrive/Deep_learning/Olympia_dataset/Olympia_new/dinov2_224px'\n",
        "metadata_path = '/content/drive/MyDrive/Deep_learning/Olympia_dataset/Olympia_new/dinov2_224px/metadata'\n",
        "\n",
        "# メタデータを生成\n",
        "for split in ['train', 'val']:\n",
        "    dataset = ThyroidEyeDataset(dataset_path, split=split)\n",
        "    dataset.dump_extra(metadata_path)"
      ],
      "metadata": {
        "id": "vHjbiNhU93NI"
      },
      "execution_count": 10,
      "outputs": []
    },
    {
      "cell_type": "markdown",
      "source": [
        "##**Finetune DINOv2**"
      ],
      "metadata": {
        "id": "LGO5dJZfCQVV"
      }
    },
    {
      "cell_type": "code",
      "source": [
        "# Google Driveのマウント\n",
        "from google.colab import drive\n",
        "drive.mount('/content/drive')\n",
        "\n",
        "# 既存のdinov2ディレクトリを削除（もし存在する場合）\n",
        "!rm -rf dinov2\n",
        "\n",
        "# DINOv2リポジトリのクローン\n",
        "!git clone https://github.com/facebookresearch/dinov2.git\n",
        "\n",
        "# dinov2ディレクトリに移動\n",
        "%cd dinov2\n",
        "\n",
        "# 必要なパッケージのインストール\n",
        "!pip install -q submitit\n",
        "!pip install -q xformers==0.0.18\n",
        "!pip install -q -r requirements.txt\n",
        "!pip install -e ."
      ],
      "metadata": {
        "colab": {
          "base_uri": "https://localhost:8080/"
        },
        "id": "r0et3HBW-NGw",
        "outputId": "e699508f-f062-475a-fd15-aa5946367836"
      },
      "execution_count": 1,
      "outputs": [
        {
          "output_type": "stream",
          "name": "stdout",
          "text": [
            "Mounted at /content/drive\n",
            "Cloning into 'dinov2'...\n",
            "remote: Enumerating objects: 485, done.\u001b[K\n",
            "remote: Total 485 (delta 0), reused 0 (delta 0), pack-reused 485 (from 1)\u001b[K\n",
            "Receiving objects: 100% (485/485), 1.11 MiB | 20.24 MiB/s, done.\n",
            "Resolving deltas: 100% (237/237), done.\n",
            "/content/dinov2\n",
            "\u001b[2K   \u001b[90m━━━━━━━━━━━━━━━━━━━━━━━━━━━━━━━━━━━━━━━━\u001b[0m \u001b[32m74.9/74.9 kB\u001b[0m \u001b[31m2.9 MB/s\u001b[0m eta \u001b[36m0:00:00\u001b[0m\n",
            "\u001b[2K   \u001b[90m━━━━━━━━━━━━━━━━━━━━━━━━━━━━━━━━━━━━━━━━\u001b[0m \u001b[32m123.8/123.8 MB\u001b[0m \u001b[31m6.9 MB/s\u001b[0m eta \u001b[36m0:00:00\u001b[0m\n",
            "\u001b[2K   \u001b[90m━━━━━━━━━━━━━━━━━━━━━━━━━━━━━━━━━━━━━━━━\u001b[0m \u001b[32m619.9/619.9 MB\u001b[0m \u001b[31m2.9 MB/s\u001b[0m eta \u001b[36m0:00:00\u001b[0m\n",
            "\u001b[2K   \u001b[90m━━━━━━━━━━━━━━━━━━━━━━━━━━━━━━━━━━━━━━━━\u001b[0m \u001b[32m317.1/317.1 MB\u001b[0m \u001b[31m5.1 MB/s\u001b[0m eta \u001b[36m0:00:00\u001b[0m\n",
            "\u001b[2K   \u001b[90m━━━━━━━━━━━━━━━━━━━━━━━━━━━━━━━━━━━━━━━━\u001b[0m \u001b[32m11.8/11.8 MB\u001b[0m \u001b[31m105.6 MB/s\u001b[0m eta \u001b[36m0:00:00\u001b[0m\n",
            "\u001b[2K   \u001b[90m━━━━━━━━━━━━━━━━━━━━━━━━━━━━━━━━━━━━━━━━\u001b[0m \u001b[32m21.0/21.0 MB\u001b[0m \u001b[31m88.8 MB/s\u001b[0m eta \u001b[36m0:00:00\u001b[0m\n",
            "\u001b[2K   \u001b[90m━━━━━━━━━━━━━━━━━━━━━━━━━━━━━━━━━━━━━━━━\u001b[0m \u001b[32m849.3/849.3 kB\u001b[0m \u001b[31m45.8 MB/s\u001b[0m eta \u001b[36m0:00:00\u001b[0m\n",
            "\u001b[2K   \u001b[90m━━━━━━━━━━━━━━━━━━━━━━━━━━━━━━━━━━━━━━━━\u001b[0m \u001b[32m557.1/557.1 MB\u001b[0m \u001b[31m2.9 MB/s\u001b[0m eta \u001b[36m0:00:00\u001b[0m\n",
            "\u001b[2K   \u001b[90m━━━━━━━━━━━━━━━━━━━━━━━━━━━━━━━━━━━━━━━━\u001b[0m \u001b[32m168.4/168.4 MB\u001b[0m \u001b[31m6.8 MB/s\u001b[0m eta \u001b[36m0:00:00\u001b[0m\n",
            "\u001b[2K   \u001b[90m━━━━━━━━━━━━━━━━━━━━━━━━━━━━━━━━━━━━━━━━\u001b[0m \u001b[32m54.6/54.6 MB\u001b[0m \u001b[31m10.9 MB/s\u001b[0m eta \u001b[36m0:00:00\u001b[0m\n",
            "\u001b[2K   \u001b[90m━━━━━━━━━━━━━━━━━━━━━━━━━━━━━━━━━━━━━━━━\u001b[0m \u001b[32m102.6/102.6 MB\u001b[0m \u001b[31m8.4 MB/s\u001b[0m eta \u001b[36m0:00:00\u001b[0m\n",
            "\u001b[2K   \u001b[90m━━━━━━━━━━━━━━━━━━━━━━━━━━━━━━━━━━━━━━━━\u001b[0m \u001b[32m173.2/173.2 MB\u001b[0m \u001b[31m6.2 MB/s\u001b[0m eta \u001b[36m0:00:00\u001b[0m\n",
            "\u001b[2K   \u001b[90m━━━━━━━━━━━━━━━━━━━━━━━━━━━━━━━━━━━━━━━━\u001b[0m \u001b[32m177.1/177.1 MB\u001b[0m \u001b[31m6.5 MB/s\u001b[0m eta \u001b[36m0:00:00\u001b[0m\n",
            "\u001b[2K   \u001b[90m━━━━━━━━━━━━━━━━━━━━━━━━━━━━━━━━━━━━━━━━\u001b[0m \u001b[32m98.6/98.6 kB\u001b[0m \u001b[31m8.4 MB/s\u001b[0m eta \u001b[36m0:00:00\u001b[0m\n",
            "\u001b[2K   \u001b[90m━━━━━━━━━━━━━━━━━━━━━━━━━━━━━━━━━━━━━━━━\u001b[0m \u001b[32m63.3/63.3 MB\u001b[0m \u001b[31m12.5 MB/s\u001b[0m eta \u001b[36m0:00:00\u001b[0m\n",
            "\u001b[2K   \u001b[90m━━━━━━━━━━━━━━━━━━━━━━━━━━━━━━━━━━━━━━━━\u001b[0m \u001b[32m96.4/96.4 kB\u001b[0m \u001b[31m7.9 MB/s\u001b[0m eta \u001b[36m0:00:00\u001b[0m\n",
            "\u001b[?25h\u001b[31mERROR: pip's dependency resolver does not currently take into account all the packages that are installed. This behaviour is the source of the following dependency conflicts.\n",
            "torchaudio 2.5.1+cu121 requires torch==2.5.1, but you have torch 2.0.0 which is incompatible.\n",
            "torchvision 0.20.1+cu121 requires torch==2.5.1, but you have torch 2.0.0 which is incompatible.\u001b[0m\u001b[31m\n",
            "\u001b[2K     \u001b[90m━━━━━━━━━━━━━━━━━━━━━━━━━━━━━━━━━━━━━━━━\u001b[0m \u001b[32m6.1/6.1 MB\u001b[0m \u001b[31m64.2 MB/s\u001b[0m eta \u001b[36m0:00:00\u001b[0m\n",
            "\u001b[2K     \u001b[90m━━━━━━━━━━━━━━━━━━━━━━━━━━━━━━━━━━━━━━━━\u001b[0m \u001b[32m50.2/50.2 kB\u001b[0m \u001b[31m2.4 MB/s\u001b[0m eta \u001b[36m0:00:00\u001b[0m\n",
            "\u001b[?25h  Preparing metadata (setup.py) ... \u001b[?25l\u001b[?25hdone\n",
            "\u001b[2K     \u001b[90m━━━━━━━━━━━━━━━━━━━━━━━━━━━━━━━━━━━━━━━━\u001b[0m \u001b[32m42.2/42.2 kB\u001b[0m \u001b[31m3.2 MB/s\u001b[0m eta \u001b[36m0:00:00\u001b[0m\n",
            "\u001b[?25h  Preparing metadata (setup.py) ... \u001b[?25l\u001b[?25hdone\n",
            "\u001b[2K     \u001b[90m━━━━━━━━━━━━━━━━━━━━━━━━━━━━━━━━━━━━━━━━\u001b[0m \u001b[32m1.4/1.4 GB\u001b[0m \u001b[31m1.0 MB/s\u001b[0m eta \u001b[36m0:00:00\u001b[0m\n",
            "\u001b[2K     \u001b[90m━━━━━━━━━━━━━━━━━━━━━━━━━━━━━━━━━━━━━━━━\u001b[0m \u001b[32m1.8/1.8 GB\u001b[0m \u001b[31m696.8 kB/s\u001b[0m eta \u001b[36m0:00:00\u001b[0m\n",
            "\u001b[2K     \u001b[90m━━━━━━━━━━━━━━━━━━━━━━━━━━━━━━━━━━━━━━━━\u001b[0m \u001b[32m117.0/117.0 kB\u001b[0m \u001b[31m6.5 MB/s\u001b[0m eta \u001b[36m0:00:00\u001b[0m\n",
            "\u001b[?25h  Preparing metadata (setup.py) ... \u001b[?25l\u001b[?25hdone\n",
            "\u001b[2K     \u001b[90m━━━━━━━━━━━━━━━━━━━━━━━━━━━━━━━━━━━━━━━━\u001b[0m \u001b[32m26.3/26.3 MB\u001b[0m \u001b[31m73.8 MB/s\u001b[0m eta \u001b[36m0:00:00\u001b[0m\n",
            "\u001b[2K     \u001b[90m━━━━━━━━━━━━━━━━━━━━━━━━━━━━━━━━━━━━━━━━\u001b[0m \u001b[32m1.5/1.5 GB\u001b[0m \u001b[31m1.4 MB/s\u001b[0m eta \u001b[36m0:00:00\u001b[0m\n",
            "\u001b[2K     \u001b[90m━━━━━━━━━━━━━━━━━━━━━━━━━━━━━━━━━━━━━━━━\u001b[0m \u001b[32m134.4/134.4 kB\u001b[0m \u001b[31m9.9 MB/s\u001b[0m eta \u001b[36m0:00:00\u001b[0m\n",
            "\u001b[2K     \u001b[90m━━━━━━━━━━━━━━━━━━━━━━━━━━━━━━━━━━━━━━━━\u001b[0m \u001b[32m67.2/67.2 kB\u001b[0m \u001b[31m5.1 MB/s\u001b[0m eta \u001b[36m0:00:00\u001b[0m\n",
            "\u001b[2K     \u001b[90m━━━━━━━━━━━━━━━━━━━━━━━━━━━━━━━━━━━━━━━━\u001b[0m \u001b[32m567.1/567.1 MB\u001b[0m \u001b[31m1.4 MB/s\u001b[0m eta \u001b[36m0:00:00\u001b[0m\n",
            "\u001b[2K     \u001b[90m━━━━━━━━━━━━━━━━━━━━━━━━━━━━━━━━━━━━━━━━\u001b[0m \u001b[32m196.9/196.9 MB\u001b[0m \u001b[31m5.9 MB/s\u001b[0m eta \u001b[36m0:00:00\u001b[0m\n",
            "\u001b[2K     \u001b[90m━━━━━━━━━━━━━━━━━━━━━━━━━━━━━━━━━━━━━━━━\u001b[0m \u001b[32m1.9/1.9 MB\u001b[0m \u001b[31m79.7 MB/s\u001b[0m eta \u001b[36m0:00:00\u001b[0m\n",
            "\u001b[2K     \u001b[90m━━━━━━━━━━━━━━━━━━━━━━━━━━━━━━━━━━━━━━━━\u001b[0m \u001b[32m8.8/8.8 MB\u001b[0m \u001b[31m108.5 MB/s\u001b[0m eta \u001b[36m0:00:00\u001b[0m\n",
            "\u001b[2K     \u001b[90m━━━━━━━━━━━━━━━━━━━━━━━━━━━━━━━━━━━━━━━━\u001b[0m \u001b[32m452.8/452.8 MB\u001b[0m \u001b[31m3.6 MB/s\u001b[0m eta \u001b[36m0:00:00\u001b[0m\n",
            "\u001b[2K     \u001b[90m━━━━━━━━━━━━━━━━━━━━━━━━━━━━━━━━━━━━━━━━\u001b[0m \u001b[32m8.7/8.7 MB\u001b[0m \u001b[31m110.2 MB/s\u001b[0m eta \u001b[36m0:00:00\u001b[0m\n",
            "\u001b[2K     \u001b[90m━━━━━━━━━━━━━━━━━━━━━━━━━━━━━━━━━━━━━━━━\u001b[0m \u001b[32m36.5/36.5 MB\u001b[0m \u001b[31m19.9 MB/s\u001b[0m eta \u001b[36m0:00:00\u001b[0m\n",
            "\u001b[2K     \u001b[90m━━━━━━━━━━━━━━━━━━━━━━━━━━━━━━━━━━━━━━━━\u001b[0m \u001b[32m2.1/2.1 MB\u001b[0m \u001b[31m81.8 MB/s\u001b[0m eta \u001b[36m0:00:00\u001b[0m\n",
            "\u001b[2K     \u001b[90m━━━━━━━━━━━━━━━━━━━━━━━━━━━━━━━━━━━━━━━━\u001b[0m \u001b[32m832.6/832.6 kB\u001b[0m \u001b[31m44.3 MB/s\u001b[0m eta \u001b[36m0:00:00\u001b[0m\n",
            "\u001b[2K     \u001b[90m━━━━━━━━━━━━━━━━━━━━━━━━━━━━━━━━━━━━━━━━\u001b[0m \u001b[32m2.0/2.0 MB\u001b[0m \u001b[31m63.2 MB/s\u001b[0m eta \u001b[36m0:00:00\u001b[0m\n",
            "\u001b[2K     \u001b[90m━━━━━━━━━━━━━━━━━━━━━━━━━━━━━━━━━━━━━━━━\u001b[0m \u001b[32m28.5/28.5 MB\u001b[0m \u001b[31m68.8 MB/s\u001b[0m eta \u001b[36m0:00:00\u001b[0m\n",
            "\u001b[2K     \u001b[90m━━━━━━━━━━━━━━━━━━━━━━━━━━━━━━━━━━━━━━━━\u001b[0m \u001b[32m505.6/505.6 kB\u001b[0m \u001b[31m36.3 MB/s\u001b[0m eta \u001b[36m0:00:00\u001b[0m\n",
            "\u001b[2K   \u001b[90m━━━━━━━━━━━━━━━━━━━━━━━━━━━━━━━━━━━━━━━━\u001b[0m \u001b[32m529.7/529.7 kB\u001b[0m \u001b[31m25.6 MB/s\u001b[0m eta \u001b[36m0:00:00\u001b[0m\n",
            "\u001b[2K   \u001b[90m━━━━━━━━━━━━━━━━━━━━━━━━━━━━━━━━━━━━━━━━\u001b[0m \u001b[32m79.5/79.5 kB\u001b[0m \u001b[31m7.4 MB/s\u001b[0m eta \u001b[36m0:00:00\u001b[0m\n",
            "\u001b[2K   \u001b[90m━━━━━━━━━━━━━━━━━━━━━━━━━━━━━━━━━━━━━━━━\u001b[0m \u001b[32m916.0/916.0 kB\u001b[0m \u001b[31m39.2 MB/s\u001b[0m eta \u001b[36m0:00:00\u001b[0m\n",
            "\u001b[2K   \u001b[90m━━━━━━━━━━━━━━━━━━━━━━━━━━━━━━━━━━━━━━━━\u001b[0m \u001b[32m1.3/1.3 MB\u001b[0m \u001b[31m64.7 MB/s\u001b[0m eta \u001b[36m0:00:00\u001b[0m\n",
            "\u001b[2K   \u001b[90m━━━━━━━━━━━━━━━━━━━━━━━━━━━━━━━━━━━━━━━━\u001b[0m \u001b[32m244.5/244.5 kB\u001b[0m \u001b[31m18.8 MB/s\u001b[0m eta \u001b[36m0:00:00\u001b[0m\n",
            "\u001b[2K   \u001b[90m━━━━━━━━━━━━━━━━━━━━━━━━━━━━━━━━━━━━━━━━\u001b[0m \u001b[32m1.0/1.0 MB\u001b[0m \u001b[31m57.9 MB/s\u001b[0m eta \u001b[36m0:00:00\u001b[0m\n",
            "\u001b[2K   \u001b[90m━━━━━━━━━━━━━━━━━━━━━━━━━━━━━━━━━━━━━━━━\u001b[0m \u001b[32m96.6/96.6 MB\u001b[0m \u001b[31m8.5 MB/s\u001b[0m eta \u001b[36m0:00:00\u001b[0m\n",
            "\u001b[2K   \u001b[90m━━━━━━━━━━━━━━━━━━━━━━━━━━━━━━━━━━━━━━━━\u001b[0m \u001b[32m18.7/18.7 MB\u001b[0m \u001b[31m87.8 MB/s\u001b[0m eta \u001b[36m0:00:00\u001b[0m\n",
            "\u001b[2K   \u001b[90m━━━━━━━━━━━━━━━━━━━━━━━━━━━━━━━━━━━━━━━━\u001b[0m \u001b[32m424.7/424.7 kB\u001b[0m \u001b[31m33.1 MB/s\u001b[0m eta \u001b[36m0:00:00\u001b[0m\n",
            "\u001b[2K   \u001b[90m━━━━━━━━━━━━━━━━━━━━━━━━━━━━━━━━━━━━━━━━\u001b[0m \u001b[32m47.0/47.0 kB\u001b[0m \u001b[31m3.9 MB/s\u001b[0m eta \u001b[36m0:00:00\u001b[0m\n",
            "\u001b[2K   \u001b[90m━━━━━━━━━━━━━━━━━━━━━━━━━━━━━━━━━━━━━━━━\u001b[0m \u001b[32m43.3/43.3 kB\u001b[0m \u001b[31m3.4 MB/s\u001b[0m eta \u001b[36m0:00:00\u001b[0m\n",
            "\u001b[2K   \u001b[90m━━━━━━━━━━━━━━━━━━━━━━━━━━━━━━━━━━━━━━━━\u001b[0m \u001b[32m26.9/26.9 MB\u001b[0m \u001b[31m50.9 MB/s\u001b[0m eta \u001b[36m0:00:00\u001b[0m\n",
            "\u001b[?25h  Building wheel for antlr4-python3-runtime (setup.py) ... \u001b[?25l\u001b[?25hdone\n",
            "  Building wheel for fvcore (setup.py) ... \u001b[?25l\u001b[?25hdone\n",
            "  Building wheel for iopath (setup.py) ... \u001b[?25l\u001b[?25hdone\n",
            "\u001b[31mERROR: pip's dependency resolver does not currently take into account all the packages that are installed. This behaviour is the source of the following dependency conflicts.\n",
            "cudf-cu12 24.10.1 requires cuda-python<13.0a0,>=12.0, but you have cuda-python 11.8.3 which is incompatible.\n",
            "pylibcudf-cu12 24.10.1 requires cuda-python<13.0a0,>=12.0, but you have cuda-python 11.8.3 which is incompatible.\n",
            "pylibraft-cu12 24.10.0 requires cuda-python<13.0a0,>=12.0, but you have cuda-python 11.8.3 which is incompatible.\n",
            "rmm-cu12 24.10.0 requires cuda-python<13.0a0,>=12.0, but you have cuda-python 11.8.3 which is incompatible.\n",
            "torchaudio 2.5.1+cu121 requires torch==2.5.1, but you have torch 2.0.0+cu117 which is incompatible.\u001b[0m\u001b[31m\n",
            "\u001b[0mObtaining file:///content/dinov2\n",
            "  Installing build dependencies ... \u001b[?25l\u001b[?25hdone\n",
            "  Checking if build backend supports build_editable ... \u001b[?25l\u001b[?25hdone\n",
            "  Getting requirements to build editable ... \u001b[?25l\u001b[?25hdone\n",
            "  Preparing editable metadata (pyproject.toml) ... \u001b[?25l\u001b[?25hdone\n",
            "Requirement already satisfied: torch==2.0.0 in /usr/local/lib/python3.10/dist-packages (from dinov2==0.0.1) (2.0.0+cu117)\n",
            "Requirement already satisfied: torchvision==0.15.0 in /usr/local/lib/python3.10/dist-packages (from dinov2==0.0.1) (0.15.0+cu117)\n",
            "Requirement already satisfied: omegaconf in /usr/local/lib/python3.10/dist-packages (from dinov2==0.0.1) (2.3.0)\n",
            "Requirement already satisfied: torchmetrics==0.10.3 in /usr/local/lib/python3.10/dist-packages (from dinov2==0.0.1) (0.10.3)\n",
            "Requirement already satisfied: fvcore in /usr/local/lib/python3.10/dist-packages (from dinov2==0.0.1) (0.1.5.post20221221)\n",
            "Requirement already satisfied: iopath in /usr/local/lib/python3.10/dist-packages (from dinov2==0.0.1) (0.1.10)\n",
            "Requirement already satisfied: xformers==0.0.18 in /usr/local/lib/python3.10/dist-packages (from dinov2==0.0.1) (0.0.18)\n",
            "Requirement already satisfied: submitit in /usr/local/lib/python3.10/dist-packages (from dinov2==0.0.1) (1.5.2)\n",
            "Requirement already satisfied: cuml-cu11 in /usr/local/lib/python3.10/dist-packages (from dinov2==0.0.1) (24.12.0)\n",
            "Requirement already satisfied: filelock in /usr/local/lib/python3.10/dist-packages (from torch==2.0.0->dinov2==0.0.1) (3.16.1)\n",
            "Requirement already satisfied: typing-extensions in /usr/local/lib/python3.10/dist-packages (from torch==2.0.0->dinov2==0.0.1) (4.12.2)\n",
            "Requirement already satisfied: sympy in /usr/local/lib/python3.10/dist-packages (from torch==2.0.0->dinov2==0.0.1) (1.13.1)\n",
            "Requirement already satisfied: networkx in /usr/local/lib/python3.10/dist-packages (from torch==2.0.0->dinov2==0.0.1) (3.4.2)\n",
            "Requirement already satisfied: jinja2 in /usr/local/lib/python3.10/dist-packages (from torch==2.0.0->dinov2==0.0.1) (3.1.4)\n",
            "Requirement already satisfied: triton==2.0.0 in /usr/local/lib/python3.10/dist-packages (from torch==2.0.0->dinov2==0.0.1) (2.0.0)\n",
            "Requirement already satisfied: numpy>=1.17.2 in /usr/local/lib/python3.10/dist-packages (from torchmetrics==0.10.3->dinov2==0.0.1) (1.26.4)\n",
            "Requirement already satisfied: packaging in /usr/local/lib/python3.10/dist-packages (from torchmetrics==0.10.3->dinov2==0.0.1) (24.2)\n",
            "Requirement already satisfied: requests in /usr/local/lib/python3.10/dist-packages (from torchvision==0.15.0->dinov2==0.0.1) (2.32.3)\n",
            "Requirement already satisfied: pillow!=8.3.*,>=5.3.0 in /usr/local/lib/python3.10/dist-packages (from torchvision==0.15.0->dinov2==0.0.1) (11.0.0)\n",
            "Requirement already satisfied: pyre-extensions==0.0.23 in /usr/local/lib/python3.10/dist-packages (from xformers==0.0.18->dinov2==0.0.1) (0.0.23)\n",
            "Requirement already satisfied: typing-inspect in /usr/local/lib/python3.10/dist-packages (from pyre-extensions==0.0.23->xformers==0.0.18->dinov2==0.0.1) (0.9.0)\n",
            "Requirement already satisfied: cmake in /usr/local/lib/python3.10/dist-packages (from triton==2.0.0->torch==2.0.0->dinov2==0.0.1) (3.30.5)\n",
            "Requirement already satisfied: lit in /usr/local/lib/python3.10/dist-packages (from triton==2.0.0->torch==2.0.0->dinov2==0.0.1) (18.1.8)\n",
            "Requirement already satisfied: cudf-cu11==24.12.* in /usr/local/lib/python3.10/dist-packages (from cuml-cu11->dinov2==0.0.1) (24.12.0)\n",
            "Requirement already satisfied: cupy-cuda11x>=12.0.0 in /usr/local/lib/python3.10/dist-packages (from cuml-cu11->dinov2==0.0.1) (13.3.0)\n",
            "Requirement already satisfied: cuvs-cu11==24.12.* in /usr/local/lib/python3.10/dist-packages (from cuml-cu11->dinov2==0.0.1) (24.12.0)\n",
            "Requirement already satisfied: dask-cuda==24.12.* in /usr/local/lib/python3.10/dist-packages (from cuml-cu11->dinov2==0.0.1) (24.12.0)\n",
            "Requirement already satisfied: dask-cudf-cu11==24.12.* in /usr/local/lib/python3.10/dist-packages (from cuml-cu11->dinov2==0.0.1) (24.12.0)\n",
            "Requirement already satisfied: joblib>=0.11 in /usr/local/lib/python3.10/dist-packages (from cuml-cu11->dinov2==0.0.1) (1.4.2)\n",
            "Requirement already satisfied: numba>=0.57 in /usr/local/lib/python3.10/dist-packages (from cuml-cu11->dinov2==0.0.1) (0.60.0)\n",
            "Requirement already satisfied: pylibraft-cu11==24.12.* in /usr/local/lib/python3.10/dist-packages (from cuml-cu11->dinov2==0.0.1) (24.12.0)\n",
            "Requirement already satisfied: raft-dask-cu11==24.12.* in /usr/local/lib/python3.10/dist-packages (from cuml-cu11->dinov2==0.0.1) (24.12.0)\n",
            "Requirement already satisfied: rapids-dask-dependency==24.12.* in /usr/local/lib/python3.10/dist-packages (from cuml-cu11->dinov2==0.0.1) (24.12.0)\n",
            "Requirement already satisfied: rmm-cu11==24.12.* in /usr/local/lib/python3.10/dist-packages (from cuml-cu11->dinov2==0.0.1) (24.12.1)\n",
            "Requirement already satisfied: scipy>=1.8.0 in /usr/local/lib/python3.10/dist-packages (from cuml-cu11->dinov2==0.0.1) (1.13.1)\n",
            "Requirement already satisfied: treelite==4.3.0 in /usr/local/lib/python3.10/dist-packages (from cuml-cu11->dinov2==0.0.1) (4.3.0)\n",
            "Requirement already satisfied: cachetools in /usr/local/lib/python3.10/dist-packages (from cudf-cu11==24.12.*->cuml-cu11->dinov2==0.0.1) (5.5.0)\n",
            "Requirement already satisfied: cubinlinker-cu11 in /usr/local/lib/python3.10/dist-packages (from cudf-cu11==24.12.*->cuml-cu11->dinov2==0.0.1) (0.3.0.post2)\n",
            "Requirement already satisfied: cuda-python<12.0a0,<=11.8.3,>=11.7.1 in /usr/local/lib/python3.10/dist-packages (from cudf-cu11==24.12.*->cuml-cu11->dinov2==0.0.1) (11.8.3)\n",
            "Requirement already satisfied: fsspec>=0.6.0 in /usr/local/lib/python3.10/dist-packages (from cudf-cu11==24.12.*->cuml-cu11->dinov2==0.0.1) (2024.10.0)\n",
            "Requirement already satisfied: libcudf-cu11==24.12.* in /usr/local/lib/python3.10/dist-packages (from cudf-cu11==24.12.*->cuml-cu11->dinov2==0.0.1) (24.12.0)\n",
            "Requirement already satisfied: numba-cuda<0.0.18,>=0.0.13 in /usr/local/lib/python3.10/dist-packages (from cudf-cu11==24.12.*->cuml-cu11->dinov2==0.0.1) (0.0.17.1)\n",
            "Requirement already satisfied: nvtx>=0.2.1 in /usr/local/lib/python3.10/dist-packages (from cudf-cu11==24.12.*->cuml-cu11->dinov2==0.0.1) (0.2.10)\n",
            "Requirement already satisfied: pandas<2.2.4dev0,>=2.0 in /usr/local/lib/python3.10/dist-packages (from cudf-cu11==24.12.*->cuml-cu11->dinov2==0.0.1) (2.2.2)\n",
            "Requirement already satisfied: ptxcompiler-cu11 in /usr/local/lib/python3.10/dist-packages (from cudf-cu11==24.12.*->cuml-cu11->dinov2==0.0.1) (0.8.1.post2)\n",
            "Requirement already satisfied: pyarrow<19.0.0a0,>=14.0.0 in /usr/local/lib/python3.10/dist-packages (from cudf-cu11==24.12.*->cuml-cu11->dinov2==0.0.1) (17.0.0)\n",
            "Requirement already satisfied: pylibcudf-cu11==24.12.* in /usr/local/lib/python3.10/dist-packages (from cudf-cu11==24.12.*->cuml-cu11->dinov2==0.0.1) (24.12.0)\n",
            "Requirement already satisfied: rich in /usr/local/lib/python3.10/dist-packages (from cudf-cu11==24.12.*->cuml-cu11->dinov2==0.0.1) (13.9.4)\n",
            "Requirement already satisfied: click>=8.1 in /usr/local/lib/python3.10/dist-packages (from dask-cuda==24.12.*->cuml-cu11->dinov2==0.0.1) (8.1.7)\n",
            "Requirement already satisfied: pynvml<12.0.0a0,>=11.0.0 in /usr/local/lib/python3.10/dist-packages (from dask-cuda==24.12.*->cuml-cu11->dinov2==0.0.1) (11.4.1)\n",
            "Requirement already satisfied: zict>=2.0.0 in /usr/local/lib/python3.10/dist-packages (from dask-cuda==24.12.*->cuml-cu11->dinov2==0.0.1) (3.0.0)\n",
            "Requirement already satisfied: distributed-ucxx-cu11==0.41.* in /usr/local/lib/python3.10/dist-packages (from raft-dask-cu11==24.12.*->cuml-cu11->dinov2==0.0.1) (0.41.0)\n",
            "Requirement already satisfied: ucx-py-cu11==0.41.* in /usr/local/lib/python3.10/dist-packages (from raft-dask-cu11==24.12.*->cuml-cu11->dinov2==0.0.1) (0.41.0)\n",
            "Requirement already satisfied: dask==2024.11.2 in /usr/local/lib/python3.10/dist-packages (from rapids-dask-dependency==24.12.*->cuml-cu11->dinov2==0.0.1) (2024.11.2)\n",
            "Requirement already satisfied: distributed==2024.11.2 in /usr/local/lib/python3.10/dist-packages (from rapids-dask-dependency==24.12.*->cuml-cu11->dinov2==0.0.1) (2024.11.2)\n",
            "Requirement already satisfied: dask-expr==1.1.19 in /usr/local/lib/python3.10/dist-packages (from rapids-dask-dependency==24.12.*->cuml-cu11->dinov2==0.0.1) (1.1.19)\n",
            "Requirement already satisfied: cloudpickle>=3.0.0 in /usr/local/lib/python3.10/dist-packages (from dask==2024.11.2->rapids-dask-dependency==24.12.*->cuml-cu11->dinov2==0.0.1) (3.1.0)\n",
            "Requirement already satisfied: partd>=1.4.0 in /usr/local/lib/python3.10/dist-packages (from dask==2024.11.2->rapids-dask-dependency==24.12.*->cuml-cu11->dinov2==0.0.1) (1.4.2)\n",
            "Requirement already satisfied: pyyaml>=5.3.1 in /usr/local/lib/python3.10/dist-packages (from dask==2024.11.2->rapids-dask-dependency==24.12.*->cuml-cu11->dinov2==0.0.1) (6.0.2)\n",
            "Requirement already satisfied: toolz>=0.10.0 in /usr/local/lib/python3.10/dist-packages (from dask==2024.11.2->rapids-dask-dependency==24.12.*->cuml-cu11->dinov2==0.0.1) (0.12.1)\n",
            "Requirement already satisfied: importlib-metadata>=4.13.0 in /usr/local/lib/python3.10/dist-packages (from dask==2024.11.2->rapids-dask-dependency==24.12.*->cuml-cu11->dinov2==0.0.1) (8.5.0)\n",
            "Requirement already satisfied: locket>=1.0.0 in /usr/local/lib/python3.10/dist-packages (from distributed==2024.11.2->rapids-dask-dependency==24.12.*->cuml-cu11->dinov2==0.0.1) (1.0.0)\n",
            "Requirement already satisfied: msgpack>=1.0.2 in /usr/local/lib/python3.10/dist-packages (from distributed==2024.11.2->rapids-dask-dependency==24.12.*->cuml-cu11->dinov2==0.0.1) (1.1.0)\n",
            "Requirement already satisfied: psutil>=5.8.0 in /usr/local/lib/python3.10/dist-packages (from distributed==2024.11.2->rapids-dask-dependency==24.12.*->cuml-cu11->dinov2==0.0.1) (5.9.5)\n",
            "Requirement already satisfied: sortedcontainers>=2.0.5 in /usr/local/lib/python3.10/dist-packages (from distributed==2024.11.2->rapids-dask-dependency==24.12.*->cuml-cu11->dinov2==0.0.1) (2.4.0)\n",
            "Requirement already satisfied: tblib>=1.6.0 in /usr/local/lib/python3.10/dist-packages (from distributed==2024.11.2->rapids-dask-dependency==24.12.*->cuml-cu11->dinov2==0.0.1) (3.0.0)\n",
            "Requirement already satisfied: tornado>=6.2.0 in /usr/local/lib/python3.10/dist-packages (from distributed==2024.11.2->rapids-dask-dependency==24.12.*->cuml-cu11->dinov2==0.0.1) (6.3.3)\n",
            "Requirement already satisfied: urllib3>=1.26.5 in /usr/local/lib/python3.10/dist-packages (from distributed==2024.11.2->rapids-dask-dependency==24.12.*->cuml-cu11->dinov2==0.0.1) (2.2.3)\n",
            "Requirement already satisfied: ucxx-cu11==0.41.* in /usr/local/lib/python3.10/dist-packages (from distributed-ucxx-cu11==0.41.*->raft-dask-cu11==24.12.*->cuml-cu11->dinov2==0.0.1) (0.41.0)\n",
            "Requirement already satisfied: libkvikio-cu11==24.12.* in /usr/local/lib/python3.10/dist-packages (from libcudf-cu11==24.12.*->cudf-cu11==24.12.*->cuml-cu11->dinov2==0.0.1) (24.12.1)\n",
            "Requirement already satisfied: nvidia-nvcomp-cu11==4.1.0.6 in /usr/local/lib/python3.10/dist-packages (from libcudf-cu11==24.12.*->cudf-cu11==24.12.*->cuml-cu11->dinov2==0.0.1) (4.1.0.6)\n",
            "Requirement already satisfied: libucx-cu11<1.18,>=1.15.0 in /usr/local/lib/python3.10/dist-packages (from ucx-py-cu11==0.41.*->raft-dask-cu11==24.12.*->cuml-cu11->dinov2==0.0.1) (1.17.0.post1)\n",
            "Requirement already satisfied: libucxx-cu11==0.41.* in /usr/local/lib/python3.10/dist-packages (from ucxx-cu11==0.41.*->distributed-ucxx-cu11==0.41.*->raft-dask-cu11==24.12.*->cuml-cu11->dinov2==0.0.1) (0.41.0)\n",
            "Requirement already satisfied: yacs>=0.1.6 in /usr/local/lib/python3.10/dist-packages (from fvcore->dinov2==0.0.1) (0.1.8)\n",
            "Requirement already satisfied: tqdm in /usr/local/lib/python3.10/dist-packages (from fvcore->dinov2==0.0.1) (4.66.6)\n",
            "Requirement already satisfied: termcolor>=1.1 in /usr/local/lib/python3.10/dist-packages (from fvcore->dinov2==0.0.1) (2.5.0)\n",
            "Requirement already satisfied: tabulate in /usr/local/lib/python3.10/dist-packages (from fvcore->dinov2==0.0.1) (0.9.0)\n",
            "Requirement already satisfied: portalocker in /usr/local/lib/python3.10/dist-packages (from iopath->dinov2==0.0.1) (3.0.0)\n",
            "Requirement already satisfied: antlr4-python3-runtime==4.9.* in /usr/local/lib/python3.10/dist-packages (from omegaconf->dinov2==0.0.1) (4.9.3)\n",
            "Requirement already satisfied: fastrlock>=0.5 in /usr/local/lib/python3.10/dist-packages (from cupy-cuda11x>=12.0.0->cuml-cu11->dinov2==0.0.1) (0.8.2)\n",
            "Requirement already satisfied: MarkupSafe>=2.0 in /usr/local/lib/python3.10/dist-packages (from jinja2->torch==2.0.0->dinov2==0.0.1) (3.0.2)\n",
            "Requirement already satisfied: llvmlite<0.44,>=0.43.0dev0 in /usr/local/lib/python3.10/dist-packages (from numba>=0.57->cuml-cu11->dinov2==0.0.1) (0.43.0)\n",
            "Requirement already satisfied: charset-normalizer<4,>=2 in /usr/local/lib/python3.10/dist-packages (from requests->torchvision==0.15.0->dinov2==0.0.1) (3.4.0)\n",
            "Requirement already satisfied: idna<4,>=2.5 in /usr/local/lib/python3.10/dist-packages (from requests->torchvision==0.15.0->dinov2==0.0.1) (3.10)\n",
            "Requirement already satisfied: certifi>=2017.4.17 in /usr/local/lib/python3.10/dist-packages (from requests->torchvision==0.15.0->dinov2==0.0.1) (2024.8.30)\n",
            "Requirement already satisfied: mpmath<1.4,>=1.1.0 in /usr/local/lib/python3.10/dist-packages (from sympy->torch==2.0.0->dinov2==0.0.1) (1.3.0)\n",
            "Requirement already satisfied: python-dateutil>=2.8.2 in /usr/local/lib/python3.10/dist-packages (from pandas<2.2.4dev0,>=2.0->cudf-cu11==24.12.*->cuml-cu11->dinov2==0.0.1) (2.8.2)\n",
            "Requirement already satisfied: pytz>=2020.1 in /usr/local/lib/python3.10/dist-packages (from pandas<2.2.4dev0,>=2.0->cudf-cu11==24.12.*->cuml-cu11->dinov2==0.0.1) (2024.2)\n",
            "Requirement already satisfied: tzdata>=2022.7 in /usr/local/lib/python3.10/dist-packages (from pandas<2.2.4dev0,>=2.0->cudf-cu11==24.12.*->cuml-cu11->dinov2==0.0.1) (2024.2)\n",
            "Requirement already satisfied: markdown-it-py>=2.2.0 in /usr/local/lib/python3.10/dist-packages (from rich->cudf-cu11==24.12.*->cuml-cu11->dinov2==0.0.1) (3.0.0)\n",
            "Requirement already satisfied: pygments<3.0.0,>=2.13.0 in /usr/local/lib/python3.10/dist-packages (from rich->cudf-cu11==24.12.*->cuml-cu11->dinov2==0.0.1) (2.18.0)\n",
            "Requirement already satisfied: mypy-extensions>=0.3.0 in /usr/local/lib/python3.10/dist-packages (from typing-inspect->pyre-extensions==0.0.23->xformers==0.0.18->dinov2==0.0.1) (1.0.0)\n",
            "Requirement already satisfied: zipp>=3.20 in /usr/local/lib/python3.10/dist-packages (from importlib-metadata>=4.13.0->dask==2024.11.2->rapids-dask-dependency==24.12.*->cuml-cu11->dinov2==0.0.1) (3.21.0)\n",
            "Requirement already satisfied: mdurl~=0.1 in /usr/local/lib/python3.10/dist-packages (from markdown-it-py>=2.2.0->rich->cudf-cu11==24.12.*->cuml-cu11->dinov2==0.0.1) (0.1.2)\n",
            "Requirement already satisfied: six>=1.5 in /usr/local/lib/python3.10/dist-packages (from python-dateutil>=2.8.2->pandas<2.2.4dev0,>=2.0->cudf-cu11==24.12.*->cuml-cu11->dinov2==0.0.1) (1.17.0)\n",
            "Building wheels for collected packages: dinov2\n",
            "  Building editable for dinov2 (pyproject.toml) ... \u001b[?25l\u001b[?25hdone\n",
            "  Created wheel for dinov2: filename=dinov2-0.0.1-0.editable-py3-none-any.whl size=12239 sha256=8a322ea6ec0c9408f43d3f847880c20fa6e503cf67e6b77fa3f5d56d36a55157\n",
            "  Stored in directory: /tmp/pip-ephem-wheel-cache-km2q0jdq/wheels/18/0b/a9/106239d21f72cde56407a7a0c96ccc47adcbc3df6f67e8d87e\n",
            "Successfully built dinov2\n",
            "Installing collected packages: dinov2\n",
            "Successfully installed dinov2-0.0.1\n"
          ]
        }
      ]
    },
    {
      "cell_type": "code",
      "source": [
        "!PYTHONPATH=$PYTHONPATH:/content/dinov2 python dinov2/run/eval/linear.py \\\n",
        "    --config-file dinov2/configs/eval/vits14_pretrain.yaml \\\n",
        "    --pretrained-weights https://dl.fbaipublicfiles.com/dinov2/dinov2_vits14/dinov2_vits14_pretrain.pth \\\n",
        "    --train-dataset ImageNet:split=TRAIN:root={dataset_path}:extra={metadata_path} \\\n",
        "    --val-dataset ImageNet:split=VAL:root={dataset_path}:extra={metadata_path} \\\n",
        "    --output-dir /content/drive/MyDrive/Deep_learning/Olympia_dataset/dinov2_output"
      ],
      "metadata": {
        "colab": {
          "base_uri": "https://localhost:8080/"
        },
        "id": "txtVaOLfjsDi",
        "outputId": "ff2a9b09-4289-48f7-92e1-5b3e499af92a"
      },
      "execution_count": null,
      "outputs": [
        {
          "output_type": "stream",
          "name": "stdout",
          "text": [
            "2024-12-16 09:14:11.488624: E external/local_xla/xla/stream_executor/cuda/cuda_fft.cc:485] Unable to register cuFFT factory: Attempting to register factory for plugin cuFFT when one has already been registered\n",
            "2024-12-16 09:14:11.507558: E external/local_xla/xla/stream_executor/cuda/cuda_dnn.cc:8454] Unable to register cuDNN factory: Attempting to register factory for plugin cuDNN when one has already been registered\n",
            "2024-12-16 09:14:11.513491: E external/local_xla/xla/stream_executor/cuda/cuda_blas.cc:1452] Unable to register cuBLAS factory: Attempting to register factory for plugin cuBLAS when one has already been registered\n",
            "2024-12-16 09:14:11.527842: I tensorflow/core/platform/cpu_feature_guard.cc:210] This TensorFlow binary is optimized to use available CPU instructions in performance-critical operations.\n",
            "To enable the following instructions: AVX2 FMA, in other operations, rebuild TensorFlow with the appropriate compiler flags.\n",
            "2024-12-16 09:14:13.089794: W tensorflow/compiler/tf2tensorrt/utils/py_utils.cc:38] TF-TRT Warning: Could not find TensorRT\n",
            "/usr/local/lib/python3.10/dist-packages/torchvision/datapoints/__init__.py:12: UserWarning: The torchvision.datapoints and torchvision.transforms.v2 namespaces are still Beta. While we do not expect major breaking changes, some APIs may still change according to user feedback. Please submit any feedback you may have in this issue: https://github.com/pytorch/vision/issues/6753, and you can also check out https://github.com/pytorch/vision/issues/7319 to learn more about the APIs that we suspect might involve future changes. You can silence this warning by calling torchvision.disable_beta_transforms_warning().\n",
            "  warnings.warn(_BETA_TRANSFORMS_WARNING)\n",
            "/usr/local/lib/python3.10/dist-packages/torchvision/transforms/v2/__init__.py:54: UserWarning: The torchvision.datapoints and torchvision.transforms.v2 namespaces are still Beta. While we do not expect major breaking changes, some APIs may still change according to user feedback. Please submit any feedback you may have in this issue: https://github.com/pytorch/vision/issues/6753, and you can also check out https://github.com/pytorch/vision/issues/7319 to learn more about the APIs that we suspect might involve future changes. You can silence this warning by calling torchvision.disable_beta_transforms_warning().\n",
            "  warnings.warn(_BETA_TRANSFORMS_WARNING)\n",
            "/content/dinov2/dinov2/layers/swiglu_ffn.py:43: UserWarning: xFormers is available (SwiGLU)\n",
            "  warnings.warn(\"xFormers is available (SwiGLU)\")\n",
            "/content/dinov2/dinov2/layers/attention.py:27: UserWarning: xFormers is available (Attention)\n",
            "  warnings.warn(\"xFormers is available (Attention)\")\n",
            "/content/dinov2/dinov2/layers/block.py:33: UserWarning: xFormers is available (Block)\n",
            "  warnings.warn(\"xFormers is available (Block)\")\n",
            "I20241216 09:14:18 3279 dinov2 submit.py:120] Submitted job_id: 3398\n",
            "I20241216 09:14:18 3279 dinov2 submit.py:122] Logs and checkpoints will be saved at: /content/drive/MyDrive/Deep_learning/Olympia_dataset/dinov2_output\n"
          ]
        }
      ]
    }
  ]
}