{
  "nbformat": 4,
  "nbformat_minor": 0,
  "metadata": {
    "colab": {
      "provenance": [],
      "gpuType": "T4",
      "include_colab_link": true
    },
    "kernelspec": {
      "name": "python3",
      "display_name": "Python 3"
    },
    "language_info": {
      "name": "python"
    },
    "accelerator": "GPU"
  },
  "cells": [
    {
      "cell_type": "markdown",
      "metadata": {
        "id": "view-in-github",
        "colab_type": "text"
      },
      "source": [
        "<a href=\"https://colab.research.google.com/github/ykitaguchi77/GravCont_classification_2/blob/main/FaceFusion.ipynb\" target=\"_parent\"><img src=\"https://colab.research.google.com/assets/colab-badge.svg\" alt=\"Open In Colab\"/></a>"
      ]
    },
    {
      "cell_type": "markdown",
      "source": [
        "# リポジトリクローン🕊"
      ],
      "metadata": {
        "id": "gxtDQDxRFLj7"
      }
    },
    {
      "cell_type": "code",
      "execution_count": null,
      "metadata": {
        "id": "Okr7zNEuIajm"
      },
      "outputs": [],
      "source": [
        "!git clone https://github.com/facefusion/facefusion\n",
        "%cd facefusion"
      ]
    },
    {
      "cell_type": "markdown",
      "source": [
        "# パッケージインストール🕊"
      ],
      "metadata": {
        "id": "7oLUr-BmFR4T"
      }
    },
    {
      "cell_type": "code",
      "source": [
        "!pip install -q filetype\n",
        "!pip install -q gradio\n",
        "!pip install -q gradio-rangeslider\n",
        "!pip install -q onnx onnxruntime-gpu"
      ],
      "metadata": {
        "id": "zNxsSDVNIsOG"
      },
      "execution_count": null,
      "outputs": []
    },
    {
      "cell_type": "markdown",
      "source": [
        "# GradioをColaboratory上で動作するように暫定対応🕊"
      ],
      "metadata": {
        "id": "MaotMpYlFUg-"
      }
    },
    {
      "cell_type": "code",
      "source": [
        "file_path = '/content/facefusion/facefusion/uis/layouts/default.py'\n",
        "\n",
        "with open(file_path) as fp:\n",
        "    file_lines = fp.read()\n",
        "\n",
        "file_lines = file_lines.replace(\n",
        "    \"ui.launch(favicon_path = 'facefusion.ico', inbrowser = state_manager.get_item('open_browser'))\",\n",
        "    \"ui.launch(favicon_path = 'facefusion.ico', inbrowser = state_manager.get_item('open_browser'), share=True)\",\n",
        ")\n",
        "\n",
        "with open(file_path, mode=\"w\") as fp:\n",
        "    fp.write(file_lines)"
      ],
      "metadata": {
        "id": "YhzDkfXRS993"
      },
      "execution_count": null,
      "outputs": []
    },
    {
      "cell_type": "markdown",
      "source": [
        "# FaceFusion実行🕊"
      ],
      "metadata": {
        "id": "Q3dISkcDFaLU"
      }
    },
    {
      "cell_type": "code",
      "source": [
        "!python facefusion.py run"
      ],
      "metadata": {
        "id": "ZuO0L0lUIvtH"
      },
      "execution_count": null,
      "outputs": []
    }
  ]
}