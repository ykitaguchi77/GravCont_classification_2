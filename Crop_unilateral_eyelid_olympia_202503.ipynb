{
  "nbformat": 4,
  "nbformat_minor": 0,
  "metadata": {
    "colab": {
      "provenance": [],
      "authorship_tag": "ABX9TyNIdq8e60KhZf3SxLxFhVYo",
      "include_colab_link": true
    },
    "kernelspec": {
      "name": "python3",
      "display_name": "Python 3"
    },
    "language_info": {
      "name": "python"
    }
  },
  "cells": [
    {
      "cell_type": "markdown",
      "metadata": {
        "id": "view-in-github",
        "colab_type": "text"
      },
      "source": [
        "<a href=\"https://colab.research.google.com/github/ykitaguchi77/GravCont_classification_2/blob/main/Crop_unilateral_eyelid_olympia_202503.ipynb\" target=\"_parent\"><img src=\"https://colab.research.google.com/assets/colab-badge.svg\" alt=\"Open In Colab\"/></a>"
      ]
    },
    {
      "cell_type": "markdown",
      "source": [
        "#**Crop_unilateral_eyelid_olympia_202503**"
      ],
      "metadata": {
        "id": "VN7v2klejy61"
      }
    },
    {
      "cell_type": "code",
      "execution_count": null,
      "metadata": {
        "colab": {
          "base_uri": "https://localhost:8080/"
        },
        "id": "tbnJGmA5hJ7r",
        "outputId": "e1fabf7a-66d2-484b-e9ff-84a886bad8ed"
      },
      "outputs": [
        {
          "output_type": "stream",
          "name": "stdout",
          "text": [
            "Mounted at /content/drive\n"
          ]
        }
      ],
      "source": [
        "# prompt: gdriveをマウント\n",
        "\n",
        "from google.colab import drive\n",
        "drive.mount('/content/drive')\n"
      ]
    },
    {
      "cell_type": "code",
      "source": [
        "# Olympia_new\n",
        "zip_path = \"/content/drive/MyDrive/Deep_learning/Olympia_dataset/Olympia_new/Olympia_new_dataset.zip\"\n",
        "\n",
        "# Heltel_list\n",
        "Heltel_list_path = \"/content/drive/MyDrive/Deep_learning/Olympia_dataset/Olympia_new/個人情報なし　コントロールと活動期.xlsx\"\n",
        "\n",
        "# YOLO11l\n",
        "model_path = \"/content/drive/MyDrive/Deep_learning/Olympia_dataset/Olympia_new/295+cerebhq1-9655_yolo11l.pt\""
      ],
      "metadata": {
        "id": "GKcKoQKskudC"
      },
      "execution_count": null,
      "outputs": []
    },
    {
      "cell_type": "code",
      "source": [],
      "metadata": {
        "id": "tHzu86LmnUGz"
      },
      "execution_count": null,
      "outputs": []
    },
    {
      "cell_type": "code",
      "source": [
        "# prompt: zip_pathのzipファイルを解凍\n",
        "\n",
        "import zipfile\n",
        "import os\n",
        "\n",
        "zip_path = zip_path\n",
        "\n",
        "# Extract the zip file\n",
        "with zipfile.ZipFile(zip_path, 'r') as zip_ref:\n",
        "    zip_ref.extractall(\"/content\") # Specify the extraction path\n",
        "\n",
        "print(f\"Files extracted!\")\n"
      ],
      "metadata": {
        "colab": {
          "base_uri": "https://localhost:8080/"
        },
        "id": "yEPws-BEn4dM",
        "outputId": "9171ccb5-275f-4d2d-f5c7-0910841ff340"
      },
      "execution_count": null,
      "outputs": [
        {
          "output_type": "stream",
          "name": "stdout",
          "text": [
            "Files extracted!\n"
          ]
        }
      ]
    },
    {
      "cell_type": "code",
      "source": [
        "# prompt: # prompt: dst_dir = \"content/Olympia_new/renamed_image\"\n",
        "# # 活動期写真： IMG_0001.JPG →A0001.JPGの名前(4桁0埋め)でdst_dir内にコピー\n",
        "# # コントロール写真： 1.JPG →C0001.JPGの名前(4桁0埋め)でdst_dir内にコピー\n",
        "\n",
        "import os\n",
        "import shutil\n",
        "from tqdm import tqdm\n",
        "\n",
        "# Correct the swapped paths according to comments\n",
        "active_list = \"/content/Olympia_new/活動期写真\"  # This should be active images\n",
        "control_list = \"/content/Olympia_new/コントロール写真\"  # This should be control images\n",
        "dst_dir = \"/content/Olympia_new/renamed_image\"\n",
        "\n",
        "# Create the destination directory if it doesn't exist\n",
        "if os.path.exists(dst_dir):\n",
        "    shutil.rmtree(dst_dir)\n",
        "os.makedirs(dst_dir, exist_ok=True)\n",
        "\n",
        "print(\"Processing active images...\")\n",
        "# Process active images with tqdm\n",
        "active_files = [f for f in os.listdir(active_list) if f.lower().endswith((\".jpg\", \".jpeg\"))]\n",
        "for filename in tqdm(active_files, desc=\"Active images\"):\n",
        "    src_path = os.path.join(active_list, filename)\n",
        "    name, ext = os.path.splitext(filename)\n",
        "    try:\n",
        "        # Check if filename is in IMG_XXXX format\n",
        "        if name.startswith(\"IMG_\"):\n",
        "            num = int(name[4:])  # Extract the number part\n",
        "            new_filename = f\"A{num:04d}{ext.upper()}\"\n",
        "        else:\n",
        "            # Try to convert the entire filename to a number\n",
        "            num = int(name)\n",
        "            new_filename = f\"A{num:04d}{ext.upper()}\"\n",
        "    except ValueError:\n",
        "        print(f\"Skipping file with non-numeric name: {filename}\")\n",
        "        continue\n",
        "    dst_path = os.path.join(dst_dir, new_filename)\n",
        "    shutil.copy2(src_path, dst_path)\n",
        "    #print(f\"Copied {filename} to {new_filename}\")\n",
        "\n",
        "print(\"Processing control images...\")\n",
        "# Process control images with tqdm\n",
        "control_files = [f for f in os.listdir(control_list) if f.lower().endswith((\".jpg\", \".jpeg\"))]\n",
        "for filename in tqdm(control_files, desc=\"Control images\"):\n",
        "    src_path = os.path.join(control_list, filename)\n",
        "    name, ext = os.path.splitext(filename)\n",
        "    try:\n",
        "        # Try to convert the entire filename to a number\n",
        "        num = int(name)\n",
        "        new_filename = f\"C{num:04d}{ext.upper()}\"\n",
        "    except ValueError:\n",
        "        print(f\"Skipping file with non-numeric name: {filename}\")\n",
        "        continue\n",
        "    dst_path = os.path.join(dst_dir, new_filename)\n",
        "    shutil.copy2(src_path, dst_path)\n",
        "\n",
        "print(f\"All images have been processed and saved to {dst_dir}\")\n"
      ],
      "metadata": {
        "colab": {
          "base_uri": "https://localhost:8080/"
        },
        "id": "0_UePRrerIuX",
        "outputId": "52a61820-4601-4518-f399-d20dc17319f3"
      },
      "execution_count": null,
      "outputs": [
        {
          "output_type": "stream",
          "name": "stdout",
          "text": [
            "Processing active images...\n"
          ]
        },
        {
          "output_type": "stream",
          "name": "stderr",
          "text": [
            "Active images: 100%|██████████| 1037/1037 [00:13<00:00, 75.52it/s] \n"
          ]
        },
        {
          "output_type": "stream",
          "name": "stdout",
          "text": [
            "Processing control images...\n"
          ]
        },
        {
          "output_type": "stream",
          "name": "stderr",
          "text": [
            "Control images: 100%|██████████| 1034/1034 [00:12<00:00, 85.01it/s]"
          ]
        },
        {
          "output_type": "stream",
          "name": "stdout",
          "text": [
            "All images have been processed and saved to /content/Olympia_new/renamed_image\n"
          ]
        },
        {
          "output_type": "stream",
          "name": "stderr",
          "text": [
            "\n"
          ]
        }
      ]
    },
    {
      "cell_type": "markdown",
      "source": [
        "#**Crop eye using pre-trained YOLO11l model**"
      ],
      "metadata": {
        "id": "vQ1dTa3fK06Z"
      }
    },
    {
      "cell_type": "code",
      "source": [
        "!pip install ultralytics --q\n",
        "!pip install wget --q"
      ],
      "metadata": {
        "colab": {
          "base_uri": "https://localhost:8080/"
        },
        "id": "8qBF3FuFYBZv",
        "outputId": "ec8b2ad8-4dbd-49ff-9837-5f703c51359b"
      },
      "execution_count": null,
      "outputs": [
        {
          "output_type": "stream",
          "name": "stdout",
          "text": [
            "\u001b[2K   \u001b[90m━━━━━━━━━━━━━━━━━━━━━━━━━━━━━━━━━━━━━━━━\u001b[0m \u001b[32m949.1/949.1 kB\u001b[0m \u001b[31m13.0 MB/s\u001b[0m eta \u001b[36m0:00:00\u001b[0m\n",
            "\u001b[2K   \u001b[90m━━━━━━━━━━━━━━━━━━━━━━━━━━━━━━━━━━━━━━━━\u001b[0m \u001b[32m363.4/363.4 MB\u001b[0m \u001b[31m2.3 MB/s\u001b[0m eta \u001b[36m0:00:00\u001b[0m\n",
            "\u001b[2K   \u001b[90m━━━━━━━━━━━━━━━━━━━━━━━━━━━━━━━━━━━━━━━━\u001b[0m \u001b[32m13.8/13.8 MB\u001b[0m \u001b[31m46.3 MB/s\u001b[0m eta \u001b[36m0:00:00\u001b[0m\n",
            "\u001b[2K   \u001b[90m━━━━━━━━━━━━━━━━━━━━━━━━━━━━━━━━━━━━━━━━\u001b[0m \u001b[32m24.6/24.6 MB\u001b[0m \u001b[31m16.0 MB/s\u001b[0m eta \u001b[36m0:00:00\u001b[0m\n",
            "\u001b[2K   \u001b[90m━━━━━━━━━━━━━━━━━━━━━━━━━━━━━━━━━━━━━━━━\u001b[0m \u001b[32m883.7/883.7 kB\u001b[0m \u001b[31m17.8 MB/s\u001b[0m eta \u001b[36m0:00:00\u001b[0m\n",
            "\u001b[2K   \u001b[90m━━━━━━━━━━━━━━━━━━━━━━━━━━━━━━━━━━━━━━━━\u001b[0m \u001b[32m664.8/664.8 MB\u001b[0m \u001b[31m1.0 MB/s\u001b[0m eta \u001b[36m0:00:00\u001b[0m\n",
            "\u001b[2K   \u001b[90m━━━━━━━━━━━━━━━━━━━━━━━━━━━━━━━━━━━━━━━━\u001b[0m \u001b[32m211.5/211.5 MB\u001b[0m \u001b[31m3.5 MB/s\u001b[0m eta \u001b[36m0:00:00\u001b[0m\n",
            "\u001b[2K   \u001b[90m━━━━━━━━━━━━━━━━━━━━━━━━━━━━━━━━━━━━━━━━\u001b[0m \u001b[32m56.3/56.3 MB\u001b[0m \u001b[31m11.3 MB/s\u001b[0m eta \u001b[36m0:00:00\u001b[0m\n",
            "\u001b[2K   \u001b[90m━━━━━━━━━━━━━━━━━━━━━━━━━━━━━━━━━━━━━━━━\u001b[0m \u001b[32m127.9/127.9 MB\u001b[0m \u001b[31m5.3 MB/s\u001b[0m eta \u001b[36m0:00:00\u001b[0m\n",
            "\u001b[2K   \u001b[90m━━━━━━━━━━━━━━━━━━━━━━━━━━━━━━━━━━━━━━━━\u001b[0m \u001b[32m207.5/207.5 MB\u001b[0m \u001b[31m5.9 MB/s\u001b[0m eta \u001b[36m0:00:00\u001b[0m\n",
            "\u001b[2K   \u001b[90m━━━━━━━━━━━━━━━━━━━━━━━━━━━━━━━━━━━━━━━━\u001b[0m \u001b[32m21.1/21.1 MB\u001b[0m \u001b[31m80.1 MB/s\u001b[0m eta \u001b[36m0:00:00\u001b[0m\n",
            "\u001b[?25h  Preparing metadata (setup.py) ... \u001b[?25l\u001b[?25hdone\n",
            "  Building wheel for wget (setup.py) ... \u001b[?25l\u001b[?25hdone\n"
          ]
        }
      ]
    },
    {
      "cell_type": "code",
      "source": [
        "from ultralytics import YOLO\n",
        "import wget\n",
        "import cv2\n",
        "import matplotlib.pyplot as plt\n",
        "\n",
        "model_path = \"/content/drive/MyDrive/Deep_learning/Olympia_dataset/Olympia_new/295+cerebhq1-9655_yolo11l.pt\"\n",
        "model = YOLO(model_path)\n",
        "\n",
        "# 推論を実行: YOLOの推論\n",
        "image_path = r'/content/Olympia_new/renamed_image/A0001.JPG'\n",
        "results = model(image_path, save=False)\n",
        "\n",
        "for r in results:\n",
        "    boxes = r.boxes  # YOLOv8の場合\n",
        "\n",
        "    # YOLO形式出力\n",
        "    for box in boxes:\n",
        "        cls_id = int(box.cls[0])  # クラスID\n",
        "        x_center, y_center, width, height = box.xywhn[0]\n",
        "\n",
        "        # YOLO形式: class x_center y_center width height\n",
        "        # 小数点以下6桁で出力したい場合\n",
        "        print(f\"{cls_id} {x_center:.6f} {y_center:.6f} {width:.6f} {height:.6f}\")\n",
        "\n",
        "    #検出結果を画像に描画して表示\n",
        "    plt.figure(figsize=(12, 8))\n",
        "    plt.imshow(cv2.cvtColor(r.plot(), cv2.COLOR_BGR2RGB))\n",
        "    plt.axis('off')\n",
        "    plt.show()\n",
        "\n",
        "    # 結果の保存\n",
        "    #cv2.imwrite('result.jpg', r.plot())"
      ],
      "metadata": {
        "id": "n38Bp4QhYE2t"
      },
      "execution_count": null,
      "outputs": []
    },
    {
      "cell_type": "code",
      "source": [
        "from ultralytics import YOLO\n",
        "import wget\n",
        "import cv2\n",
        "import numpy as np\n",
        "import matplotlib.pyplot as plt\n",
        "\n",
        "model_path = \"/content/drive/MyDrive/Deep_learning/Olympia_dataset/Olympia_new/295+cerebhq1-9655_yolo11l.pt\"\n",
        "model = YOLO(model_path)\n",
        "\n",
        "# クラスIDとラベルのマッピング\n",
        "class_mapping = {0: \"R\", 1: \"L\"}  # クラスID 1を\"L\"にマッピング\n",
        "\n",
        "# 推論を実行: YOLOの推論\n",
        "image_path = r'/content/Olympia_new/renamed_image/A0001.JPG'\n",
        "results = model(image_path, save=False)\n",
        "\n",
        "# 元の画像を読み込む\n",
        "original_image = cv2.imread(image_path)\n",
        "img_height, img_width = original_image.shape[:2]\n",
        "\n",
        "for r in results:\n",
        "    boxes = r.boxes  # YOLOv8の場合\n",
        "\n",
        "    # YOLO形式出力\n",
        "    for i, box in enumerate(boxes):\n",
        "        cls_id = int(box.cls[0])  # クラスID\n",
        "        class_label = class_mapping.get(cls_id, f\"Class {cls_id}\")  # クラスIDに対応するラベル（R/L）\n",
        "\n",
        "        # 正規化された座標を取得\n",
        "        x_center, y_center, width, height = box.xywhn[0].cpu().numpy()\n",
        "\n",
        "        # 正規化されたYOLO形式を出力\n",
        "        print(f\"{cls_id} ({class_label}) {x_center:.6f} {y_center:.6f} {width:.6f} {height:.6f}\")\n",
        "\n",
        "        # 実際のピクセル座標に変換\n",
        "        x_center_px = x_center * img_width\n",
        "        y_center_px = y_center * img_height\n",
        "        width_px = width * img_width\n",
        "        height_px = height * img_height\n",
        "\n",
        "        # 拡張された幅を計算 (左右に25%ずつ広げる)\n",
        "        expanded_width = width_px * 1.5  # 元の幅 + 50% (左右それぞれ25%)\n",
        "\n",
        "        # 拡張された高さを計算 (拡張された幅と同じに設定)\n",
        "        expanded_height = expanded_width\n",
        "\n",
        "        # 新しい中心は元のx中心と同じ、y中心も元のまま\n",
        "        new_x1 = int(x_center_px - expanded_width / 2)\n",
        "        new_y1 = int(y_center_px - expanded_height / 2)  # y中心を保持\n",
        "        new_x2 = int(x_center_px + expanded_width / 2)\n",
        "        new_y2 = int(y_center_px + expanded_height / 2)  # y中心を保持\n",
        "\n",
        "        # 範囲外処理のための座標計算\n",
        "        pad_left = max(0, -new_x1)\n",
        "        pad_top = max(0, -new_y1)\n",
        "        pad_right = max(0, new_x2 - img_width)\n",
        "        pad_bottom = max(0, new_y2 - img_height)\n",
        "\n",
        "        # 画像内の実際の切り出し座標を計算\n",
        "        crop_x1 = max(0, new_x1)\n",
        "        crop_y1 = max(0, new_y1)\n",
        "        crop_x2 = min(img_width, new_x2)\n",
        "        crop_y2 = min(img_height, new_y2)\n",
        "\n",
        "        # 切り出し\n",
        "        cropped = original_image[crop_y1:crop_y2, crop_x1:crop_x2].copy()\n",
        "\n",
        "        # パディングが必要な場合、黒で埋める\n",
        "        if pad_left > 0 or pad_top > 0 or pad_right > 0 or pad_bottom > 0:\n",
        "            # パディングを含む新しい画像を作成\n",
        "            padded_width = crop_x2 - crop_x1 + pad_left + pad_right\n",
        "            padded_height = crop_y2 - crop_y1 + pad_top + pad_bottom\n",
        "            padded = np.zeros((padded_height, padded_width, 3), dtype=np.uint8)\n",
        "\n",
        "            # 切り出した部分を黒背景に配置\n",
        "            padded[pad_top:pad_top+(crop_y2-crop_y1), pad_left:pad_left+(crop_x2-crop_x1)] = cropped\n",
        "            cropped = padded\n",
        "\n",
        "        # 切り出した画像を表示（タイトルを修正）\n",
        "        plt.figure(figsize=(4, 4))\n",
        "        plt.title(f\"{class_label} (ID: {cls_id})\", fontsize=10)  # 適切なラベルを表示\n",
        "        plt.imshow(cv2.cvtColor(cropped, cv2.COLOR_BGR2RGB))\n",
        "        plt.axis('off')\n",
        "        plt.tight_layout()\n",
        "        plt.show()\n",
        "\n",
        "    # 元の検出結果を表示\n",
        "    result_img = cv2.cvtColor(r.plot(), cv2.COLOR_BGR2RGB)\n",
        "    original_aspect_ratio = result_img.shape[1] / result_img.shape[0]\n",
        "\n",
        "    fig_width = 6\n",
        "    fig_height = fig_width / original_aspect_ratio\n",
        "\n",
        "    plt.figure(figsize=(fig_width, fig_height))\n",
        "    plt.title(\"Original Detection\", fontsize=10)\n",
        "    plt.imshow(result_img)\n",
        "    plt.axis('off')\n",
        "    plt.tight_layout()\n",
        "    plt.show()"
      ],
      "metadata": {
        "id": "9BRgsMzneGhc"
      },
      "execution_count": null,
      "outputs": []
    },
    {
      "cell_type": "markdown",
      "source": [
        "###**複数枚一括処理**\n",
        "\n",
        "Basemameに対して、右眼は_R、左眼は_Lを追加して保存"
      ],
      "metadata": {
        "id": "LgDRp4SRlSIS"
      }
    },
    {
      "cell_type": "code",
      "source": [
        "from ultralytics import YOLO\n",
        "import os\n",
        "import cv2\n",
        "import numpy as np\n",
        "import matplotlib.pyplot as plt\n",
        "import glob\n",
        "import shutil\n",
        "from tqdm import tqdm\n",
        "\n",
        "# ディレクトリ設定\n",
        "orig_dir = \"/content/Olympia_new/renamed_image\"\n",
        "dst_dir = \"/content/Olympia_new/cropped_unilateral_image_25%\"\n",
        "\n",
        "# クラスIDとラベルのマッピング\n",
        "class_mapping = {0: \"R\", 1: \"L\"}\n",
        "\n",
        "# モデルの読み込み\n",
        "model_path = \"/content/drive/MyDrive/Deep_learning/Olympia_dataset/Olympia_new/295+cerebhq1-9655_yolo11l.pt\"\n",
        "model = YOLO(model_path)\n",
        "\n",
        "# 出力ディレクトリの準備\n",
        "if os.path.exists(dst_dir):\n",
        "    shutil.rmtree(dst_dir)  # ディレクトリが存在する場合は削除\n",
        "os.makedirs(dst_dir)  # ディレクトリを新規作成\n",
        "\n",
        "# JPGファイルのリストを取得\n",
        "jpg_files = glob.glob(os.path.join(orig_dir, \"*.JPG\")) + glob.glob(os.path.join(orig_dir, \"*.jpg\"))\n",
        "print(f\"Total images found: {len(jpg_files)}\")\n",
        "\n",
        "# tqdmを使用してプログレスバーを表示\n",
        "for image_path in tqdm(jpg_files, desc=\"Processing images\"):\n",
        "    # 元のファイル名を取得\n",
        "    filename = os.path.basename(image_path)\n",
        "    basename, ext = os.path.splitext(filename)\n",
        "\n",
        "    # 画像を読み込む\n",
        "    original_image = cv2.imread(image_path)\n",
        "    if original_image is None:\n",
        "        tqdm.write(f\"Error: Could not read image {image_path}\")\n",
        "        continue\n",
        "\n",
        "    img_height, img_width = original_image.shape[:2]\n",
        "\n",
        "    # 推論を実行\n",
        "    results = model(image_path, save=False)\n",
        "\n",
        "    # 各検出結果に対して処理\n",
        "    detection_count = 0\n",
        "    for r in results:\n",
        "        boxes = r.boxes\n",
        "\n",
        "        for box in boxes:\n",
        "            cls_id = int(box.cls[0])\n",
        "            class_label = class_mapping.get(cls_id, f\"Class{cls_id}\")\n",
        "\n",
        "            # 正規化された座標を取得\n",
        "            x_center, y_center, width, height = box.xywhn[0].cpu().numpy()\n",
        "\n",
        "            # 実際のピクセル座標に変換\n",
        "            x_center_px = x_center * img_width\n",
        "            y_center_px = y_center * img_height\n",
        "            width_px = width * img_width\n",
        "            height_px = height * img_height\n",
        "\n",
        "            # 拡張された幅を計算 (左右に25%ずつ広げる)\n",
        "            expanded_width = width_px * 1.5  # 元の幅 + 50% (左右それぞれ25%)\n",
        "\n",
        "            # 拡張された高さを計算 (拡張された幅と同じに設定)\n",
        "            expanded_height = expanded_width\n",
        "\n",
        "            # 新しい中心は元のx中心と同じ、y中心も元のまま\n",
        "            new_x1 = int(x_center_px - expanded_width / 2)\n",
        "            new_y1 = int(y_center_px - expanded_height / 2)\n",
        "            new_x2 = int(x_center_px + expanded_width / 2)\n",
        "            new_y2 = int(y_center_px + expanded_height / 2)\n",
        "\n",
        "            # 範囲外処理のための座標計算\n",
        "            pad_left = max(0, -new_x1)\n",
        "            pad_top = max(0, -new_y1)\n",
        "            pad_right = max(0, new_x2 - img_width)\n",
        "            pad_bottom = max(0, new_y2 - img_height)\n",
        "\n",
        "            # 画像内の実際の切り出し座標を計算\n",
        "            crop_x1 = max(0, new_x1)\n",
        "            crop_y1 = max(0, new_y1)\n",
        "            crop_x2 = min(img_width, new_x2)\n",
        "            crop_y2 = min(img_height, new_y2)\n",
        "\n",
        "            # 切り出し\n",
        "            cropped = original_image[crop_y1:crop_y2, crop_x1:crop_x2].copy()\n",
        "\n",
        "            # パディングが必要な場合、黒で埋める\n",
        "            if pad_left > 0 or pad_top > 0 or pad_right > 0 or pad_bottom > 0:\n",
        "                # パディングを含む新しい画像を作成\n",
        "                padded_width = crop_x2 - crop_x1 + pad_left + pad_right\n",
        "                padded_height = crop_y2 - crop_y1 + pad_top + pad_bottom\n",
        "                padded = np.zeros((padded_height, padded_width, 3), dtype=np.uint8)\n",
        "\n",
        "                # 切り出した部分を黒背景に配置\n",
        "                padded[pad_top:pad_top+(crop_y2-crop_y1), pad_left:pad_left+(crop_x2-crop_x1)] = cropped\n",
        "                cropped = padded\n",
        "\n",
        "            # 保存するファイル名の作成 (basename_R.jpg or basename_L.jpg)\n",
        "            output_filename = f\"{basename}_{class_label}{ext}\"\n",
        "            output_path = os.path.join(dst_dir, output_filename)\n",
        "\n",
        "            # 切り抜いた画像を保存\n",
        "            cv2.imwrite(output_path, cropped)\n",
        "            detection_count += 1\n",
        "\n",
        "    # 検出されなかった場合に通知\n",
        "    if detection_count == 0:\n",
        "        tqdm.write(f\"Warning: No eyes detected in {filename}\")\n",
        "\n",
        "print(\"\\nProcessing completed!\")\n",
        "print(f\"Processed {len(jpg_files)} images and saved results to {dst_dir}\")"
      ],
      "metadata": {
        "id": "HE6Lb66Vj_RP"
      },
      "execution_count": null,
      "outputs": []
    },
    {
      "cell_type": "code",
      "source": [
        "import os\n",
        "import shutil\n",
        "\n",
        "# コピー元とコピー先のパス\n",
        "src_dir = \"/content/Olympia_new/cropped_unilateral_image_25%\"\n",
        "dst_dir = \"/content/drive/MyDrive/Deep_learning/Olympia_dataset/Olympia_new/cropped_unilateral_image_25%\"\n",
        "\n",
        "# コピー先のディレクトリが存在する場合は削除\n",
        "if os.path.exists(dst_dir):\n",
        "    print(f\"Removing existing directory: {dst_dir}\")\n",
        "    shutil.rmtree(dst_dir)\n",
        "\n",
        "# ディレクトリごとコピー\n",
        "print(f\"Copying {src_dir} to {dst_dir}...\")\n",
        "shutil.copytree(src_dir, dst_dir)\n",
        "print(\"Copy completed successfully!\")\n",
        "\n",
        "# ファイル数を確認\n",
        "file_count = len([f for f in os.listdir(dst_dir) if os.path.isfile(os.path.join(dst_dir, f))])\n",
        "print(f\"Total files copied: {file_count}\")"
      ],
      "metadata": {
        "colab": {
          "base_uri": "https://localhost:8080/"
        },
        "id": "BFjqGzPnnVpZ",
        "outputId": "48bf9b6e-016a-4c5a-bd63-29d818dd0d98"
      },
      "execution_count": null,
      "outputs": [
        {
          "output_type": "stream",
          "name": "stdout",
          "text": [
            "Copying /content/Olympia_new/cropped_unilateral_image_25% to /content/drive/MyDrive/Deep_learning/Olympia_dataset/Olympia_new/cropped_unilateral_image_25%...\n",
            "Copy completed successfully!\n",
            "Total files copied: 4142\n"
          ]
        }
      ]
    },
    {
      "cell_type": "code",
      "source": [
        "import os\n",
        "import shutil\n",
        "from tqdm import tqdm\n",
        "\n",
        "# コピー元とコピー先のパス\n",
        "src_dir = \"/content/Olympia_new/cropped_unilateral_image_25%\"\n",
        "dst_dir = \"/content/drive/MyDrive/Deep_learning/Olympia_dataset/Olympia_new/cropped_unilateral_image_25%\"\n",
        "\n",
        "# コピー先のディレクトリが存在する場合は削除\n",
        "if os.path.exists(dst_dir):\n",
        "    print(f\"Removing existing directory: {dst_dir}\")\n",
        "    shutil.rmtree(dst_dir)\n",
        "\n",
        "# まずディレクトリを作成\n",
        "os.makedirs(dst_dir)\n",
        "\n",
        "# ファイル一覧を取得\n",
        "files = [f for f in os.listdir(src_dir) if os.path.isfile(os.path.join(src_dir, f))]\n",
        "total_files = len(files)\n",
        "\n",
        "print(f\"Copying {total_files} files from {src_dir} to {dst_dir}...\")\n",
        "\n",
        "# tqdmでファイルをコピー\n",
        "for file in tqdm(files, desc=\"Copying files\"):\n",
        "    src_file = os.path.join(src_dir, file)\n",
        "    dst_file = os.path.join(dst_dir, file)\n",
        "    shutil.copy2(src_file, dst_file)\n",
        "\n",
        "print(\"Copy completed successfully!\")\n",
        "print(f\"Total files copied: {total_files}\")"
      ],
      "metadata": {
        "id": "c1_TOkXqxTHb",
        "outputId": "d074777e-511e-423f-e061-13e2e0fc80bf",
        "colab": {
          "base_uri": "https://localhost:8080/"
        }
      },
      "execution_count": null,
      "outputs": [
        {
          "output_type": "stream",
          "name": "stdout",
          "text": [
            "Removing existing directory: /content/drive/MyDrive/Deep_learning/Olympia_dataset/Olympia_new/cropped_unilateral_image_25%\n",
            "Copying 4142 files from /content/Olympia_new/cropped_unilateral_image_25% to /content/drive/MyDrive/Deep_learning/Olympia_dataset/Olympia_new/cropped_unilateral_image_25%...\n"
          ]
        },
        {
          "output_type": "stream",
          "name": "stderr",
          "text": [
            "Copying files: 100%|██████████| 4142/4142 [01:15<00:00, 55.00it/s]"
          ]
        },
        {
          "output_type": "stream",
          "name": "stdout",
          "text": [
            "Copy completed successfully!\n",
            "Total files copied: 4142\n"
          ]
        },
        {
          "output_type": "stream",
          "name": "stderr",
          "text": [
            "\n"
          ]
        }
      ]
    },
    {
      "cell_type": "markdown",
      "source": [
        "#**Hertelトレーニング用CSV対応表作成**"
      ],
      "metadata": {
        "id": "k-kCl2vwyV5A"
      }
    },
    {
      "cell_type": "code",
      "source": [
        "xslx_path = \"/content/Olympia_new/個人情報なし　コントロールと活動期.xlsx\""
      ],
      "metadata": {
        "id": "K9S1zVdVyb9C"
      },
      "execution_count": null,
      "outputs": []
    }
  ]
}