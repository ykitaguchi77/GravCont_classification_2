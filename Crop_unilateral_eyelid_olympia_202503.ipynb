{
  "nbformat": 4,
  "nbformat_minor": 0,
  "metadata": {
    "colab": {
      "provenance": [],
      "authorship_tag": "ABX9TyOIB+Ada19ifeu6Spjdlha+",
      "include_colab_link": true
    },
    "kernelspec": {
      "name": "python3",
      "display_name": "Python 3"
    },
    "language_info": {
      "name": "python"
    }
  },
  "cells": [
    {
      "cell_type": "markdown",
      "metadata": {
        "id": "view-in-github",
        "colab_type": "text"
      },
      "source": [
        "<a href=\"https://colab.research.google.com/github/ykitaguchi77/GravCont_classification_2/blob/main/Crop_unilateral_eyelid_olympia_202503.ipynb\" target=\"_parent\"><img src=\"https://colab.research.google.com/assets/colab-badge.svg\" alt=\"Open In Colab\"/></a>"
      ]
    },
    {
      "cell_type": "markdown",
      "source": [
        "#**Crop_unilateral_eyelid_olympia_202503**"
      ],
      "metadata": {
        "id": "VN7v2klejy61"
      }
    },
    {
      "cell_type": "code",
      "execution_count": 1,
      "metadata": {
        "colab": {
          "base_uri": "https://localhost:8080/"
        },
        "id": "tbnJGmA5hJ7r",
        "outputId": "45dedb40-c80f-4975-9431-2c2ada5c001a"
      },
      "outputs": [
        {
          "output_type": "stream",
          "name": "stdout",
          "text": [
            "Mounted at /content/drive\n"
          ]
        }
      ],
      "source": [
        "# prompt: gdriveをマウント\n",
        "\n",
        "from google.colab import drive\n",
        "drive.mount('/content/drive')\n"
      ]
    },
    {
      "cell_type": "code",
      "source": [
        "# Olympia_new\n",
        "zip_path = \"/content/drive/MyDrive/Deep_learning/Olympia_dataset/Olympia_new/Olympia_new_dataset.zip\"\n",
        "\n",
        "# Heltel_list\n",
        "Heltel_list_path = \"/content/drive/MyDrive/Deep_learning/Olympia_dataset/Olympia_new/個人情報なし　コントロールと活動期.xlsx\"\n",
        "\n",
        "# YOLO11l\n",
        "model_path = \"/content/drive/MyDrive/Deep_learning/Olympia_dataset/Olympia_new/295+cerebhq1-9655_yolo11l.pt\""
      ],
      "metadata": {
        "id": "GKcKoQKskudC"
      },
      "execution_count": 2,
      "outputs": []
    },
    {
      "cell_type": "code",
      "source": [
        "# prompt: zip_pathのzipファイルを解凍\n",
        "\n",
        "import zipfile\n",
        "import os\n",
        "\n",
        "zip_path = zip_path\n",
        "\n",
        "# Extract the zip file\n",
        "with zipfile.ZipFile(zip_path, 'r') as zip_ref:\n",
        "    zip_ref.extractall(\"/content\") # Specify the extraction path\n",
        "\n",
        "print(f\"Files extracted!\")\n"
      ],
      "metadata": {
        "colab": {
          "base_uri": "https://localhost:8080/"
        },
        "id": "yEPws-BEn4dM",
        "outputId": "13c5701c-90e5-458e-a964-227689dac720"
      },
      "execution_count": 3,
      "outputs": [
        {
          "output_type": "stream",
          "name": "stdout",
          "text": [
            "Files extracted!\n"
          ]
        }
      ]
    },
    {
      "cell_type": "code",
      "source": [],
      "metadata": {
        "id": "V6CEd47gp7gm"
      },
      "execution_count": null,
      "outputs": []
    },
    {
      "cell_type": "code",
      "source": [
        "# prompt: dst_dir = \"content/Olympia_new/renamed_image\"\n",
        "# 活動期写真： IMG_0001.JPG →A0001.JPGの名前(4桁0埋め)でdst_dir内にコピー\n",
        "# コントロール写真： 1.JPG →C0001.JPGの名前(4桁0埋め)でdst_dir内にコピー\n",
        "\n",
        "\n",
        "import shutil\n",
        "import os\n",
        "\n",
        "active_list = \"/content/Olympia_new/コントロール写真\"\n",
        "control_list = \"/content/Olympia_new/活動期写真\"\n",
        "dst_dir = \"/content/Olympia_new/renamed_image\"\n",
        "\n",
        "# Create the destination directory if it doesn't exist\n",
        "os.makedirs(dst_dir, exist_ok=True)\n",
        "\n",
        "# Process active images\n",
        "for filename in os.listdir(active_list):\n",
        "    if filename.endswith(\".JPG\") or filename.endswith(\".jpg\"):\n",
        "        src_path = os.path.join(active_list, filename)\n",
        "        if filename.startswith(\"IMG_\"):\n",
        "          new_filename = \"A\" + filename[4:].replace(\".JPG\",\".jpg\").replace(\".jpg\",\".JPG\")\n",
        "        else:\n",
        "          new_filename = \"A\" + filename.zfill(4).replace(\".JPG\",\".jpg\").replace(\".jpg\",\".JPG\")\n",
        "        dst_path = os.path.join(dst_dir, new_filename)\n",
        "        shutil.copy2(src_path, dst_path)  # copy2 preserves metadata\n",
        "        print(f\"Copied {filename} to {new_filename}\")\n",
        "\n",
        "# Process control images\n",
        "for filename in os.listdir(control_list):\n",
        "    if filename.endswith(\".JPG\") or filename.endswith(\".jpg\"):\n",
        "        src_path = os.path.join(control_list, filename)\n",
        "        new_filename = \"C\" + filename.zfill(4).replace(\".JPG\",\".jpg\").replace(\".jpg\",\".JPG\")\n",
        "        dst_path = os.path.join(dst_dir, new_filename)\n",
        "        shutil.copy2(src_path, dst_path)  # copy2 preserves metadata\n",
        "        print(f\"Copied {filename} to {new_filename}\")\n"
      ],
      "metadata": {
        "id": "ZeVtwiOQrJEq"
      },
      "execution_count": null,
      "outputs": []
    },
    {
      "cell_type": "code",
      "source": [
        "# prompt: # prompt: dst_dir = \"content/Olympia_new/renamed_image\"\n",
        "# # 活動期写真： IMG_0001.JPG →A0001.JPGの名前(4桁0埋め)でdst_dir内にコピー\n",
        "# # コントロール写真： 1.JPG →C0001.JPGの名前(4桁0埋め)でdst_dir内にコピー\n",
        "\n",
        "import os\n",
        "import shutil\n",
        "from tqdm import tqdm\n",
        "\n",
        "# Correct the swapped paths according to comments\n",
        "active_list = \"/content/Olympia_new/活動期写真\"  # This should be active images\n",
        "control_list = \"/content/Olympia_new/コントロール写真\"  # This should be control images\n",
        "dst_dir = \"/content/Olympia_new/renamed_image\"\n",
        "\n",
        "# Create the destination directory if it doesn't exist\n",
        "if os.path.exists(dst_dir):\n",
        "    shutil.rmtree(dst_dir)\n",
        "os.makedirs(dst_dir, exist_ok=True)\n",
        "\n",
        "print(\"Processing active images...\")\n",
        "# Process active images with tqdm\n",
        "active_files = [f for f in os.listdir(active_list) if f.lower().endswith((\".jpg\", \".jpeg\"))]\n",
        "for filename in tqdm(active_files, desc=\"Active images\"):\n",
        "    src_path = os.path.join(active_list, filename)\n",
        "    name, ext = os.path.splitext(filename)\n",
        "    try:\n",
        "        # Check if filename is in IMG_XXXX format\n",
        "        if name.startswith(\"IMG_\"):\n",
        "            num = int(name[4:])  # Extract the number part\n",
        "            new_filename = f\"A{num:04d}{ext.upper()}\"\n",
        "        else:\n",
        "            # Try to convert the entire filename to a number\n",
        "            num = int(name)\n",
        "            new_filename = f\"A{num:04d}{ext.upper()}\"\n",
        "    except ValueError:\n",
        "        print(f\"Skipping file with non-numeric name: {filename}\")\n",
        "        continue\n",
        "    dst_path = os.path.join(dst_dir, new_filename)\n",
        "    shutil.copy2(src_path, dst_path)\n",
        "    #print(f\"Copied {filename} to {new_filename}\")\n",
        "\n",
        "print(\"Processing control images...\")\n",
        "# Process control images with tqdm\n",
        "control_files = [f for f in os.listdir(control_list) if f.lower().endswith((\".jpg\", \".jpeg\"))]\n",
        "for filename in tqdm(control_files, desc=\"Control images\"):\n",
        "    src_path = os.path.join(control_list, filename)\n",
        "    name, ext = os.path.splitext(filename)\n",
        "    try:\n",
        "        # Try to convert the entire filename to a number\n",
        "        num = int(name)\n",
        "        new_filename = f\"C{num:04d}{ext.upper()}\"\n",
        "    except ValueError:\n",
        "        print(f\"Skipping file with non-numeric name: {filename}\")\n",
        "        continue\n",
        "    dst_path = os.path.join(dst_dir, new_filename)\n",
        "    shutil.copy2(src_path, dst_path)\n",
        "\n",
        "print(f\"All images have been processed and saved to {dst_dir}\")\n"
      ],
      "metadata": {
        "colab": {
          "base_uri": "https://localhost:8080/"
        },
        "id": "0_UePRrerIuX",
        "outputId": "acceb0fb-f15d-455f-b168-a7ece36f0ca6"
      },
      "execution_count": null,
      "outputs": [
        {
          "output_type": "stream",
          "name": "stdout",
          "text": [
            "Processing active images...\n"
          ]
        },
        {
          "output_type": "stream",
          "name": "stderr",
          "text": [
            "Active images: 100%|██████████| 1037/1037 [00:06<00:00, 169.77it/s]\n"
          ]
        },
        {
          "output_type": "stream",
          "name": "stdout",
          "text": [
            "Processing control images...\n"
          ]
        },
        {
          "output_type": "stream",
          "name": "stderr",
          "text": [
            "Control images:  59%|█████▊    | 605/1034 [00:04<00:02, 195.70it/s]"
          ]
        }
      ]
    }
  ]
}