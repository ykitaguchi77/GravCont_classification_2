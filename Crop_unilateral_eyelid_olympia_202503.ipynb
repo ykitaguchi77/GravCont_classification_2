{
  "nbformat": 4,
  "nbformat_minor": 0,
  "metadata": {
    "colab": {
      "provenance": [],
      "authorship_tag": "ABX9TyONjB1zuswG+Dvn2tnY7DWc",
      "include_colab_link": true
    },
    "kernelspec": {
      "name": "python3",
      "display_name": "Python 3"
    },
    "language_info": {
      "name": "python"
    }
  },
  "cells": [
    {
      "cell_type": "markdown",
      "metadata": {
        "id": "view-in-github",
        "colab_type": "text"
      },
      "source": [
        "<a href=\"https://colab.research.google.com/github/ykitaguchi77/GravCont_classification_2/blob/main/Crop_unilateral_eyelid_olympia_202503.ipynb\" target=\"_parent\"><img src=\"https://colab.research.google.com/assets/colab-badge.svg\" alt=\"Open In Colab\"/></a>"
      ]
    },
    {
      "cell_type": "markdown",
      "source": [
        "#**Crop_unilateral_eyelid_olympia_202503**"
      ],
      "metadata": {
        "id": "VN7v2klejy61"
      }
    },
    {
      "cell_type": "code",
      "execution_count": null,
      "metadata": {
        "colab": {
          "base_uri": "https://localhost:8080/"
        },
        "id": "tbnJGmA5hJ7r",
        "outputId": "e1fabf7a-66d2-484b-e9ff-84a886bad8ed"
      },
      "outputs": [
        {
          "output_type": "stream",
          "name": "stdout",
          "text": [
            "Mounted at /content/drive\n"
          ]
        }
      ],
      "source": [
        "# prompt: gdriveをマウント\n",
        "\n",
        "from google.colab import drive\n",
        "drive.mount('/content/drive')\n"
      ]
    },
    {
      "cell_type": "code",
      "source": [
        "# Olympia_new\n",
        "zip_path = \"/content/drive/MyDrive/Deep_learning/Olympia_dataset/Olympia_new/Olympia_new_dataset.zip\"\n",
        "\n",
        "# Heltel_list\n",
        "Heltel_list_path = \"/content/drive/MyDrive/Deep_learning/Olympia_dataset/Olympia_new/個人情報なし　コントロールと活動期.xlsx\"\n",
        "\n",
        "# YOLO11l\n",
        "model_path = \"/content/drive/MyDrive/Deep_learning/Olympia_dataset/Olympia_new/295+cerebhq1-9655_yolo11l.pt\""
      ],
      "metadata": {
        "id": "GKcKoQKskudC"
      },
      "execution_count": null,
      "outputs": []
    },
    {
      "cell_type": "code",
      "source": [],
      "metadata": {
        "id": "tHzu86LmnUGz"
      },
      "execution_count": null,
      "outputs": []
    },
    {
      "cell_type": "code",
      "source": [
        "# prompt: zip_pathのzipファイルを解凍\n",
        "\n",
        "import zipfile\n",
        "import os\n",
        "\n",
        "zip_path = zip_path\n",
        "\n",
        "# Extract the zip file\n",
        "with zipfile.ZipFile(zip_path, 'r') as zip_ref:\n",
        "    zip_ref.extractall(\"/content\") # Specify the extraction path\n",
        "\n",
        "print(f\"Files extracted!\")\n"
      ],
      "metadata": {
        "colab": {
          "base_uri": "https://localhost:8080/"
        },
        "id": "yEPws-BEn4dM",
        "outputId": "9171ccb5-275f-4d2d-f5c7-0910841ff340"
      },
      "execution_count": null,
      "outputs": [
        {
          "output_type": "stream",
          "name": "stdout",
          "text": [
            "Files extracted!\n"
          ]
        }
      ]
    },
    {
      "cell_type": "code",
      "source": [
        "# prompt: # prompt: dst_dir = \"content/Olympia_new/renamed_image\"\n",
        "# # 活動期写真： IMG_0001.JPG →A0001.JPGの名前(4桁0埋め)でdst_dir内にコピー\n",
        "# # コントロール写真： 1.JPG →C0001.JPGの名前(4桁0埋め)でdst_dir内にコピー\n",
        "\n",
        "import os\n",
        "import shutil\n",
        "from tqdm import tqdm\n",
        "\n",
        "# Correct the swapped paths according to comments\n",
        "active_list = \"/content/Olympia_new/活動期写真\"  # This should be active images\n",
        "control_list = \"/content/Olympia_new/コントロール写真\"  # This should be control images\n",
        "dst_dir = \"/content/Olympia_new/renamed_image\"\n",
        "\n",
        "# Create the destination directory if it doesn't exist\n",
        "if os.path.exists(dst_dir):\n",
        "    shutil.rmtree(dst_dir)\n",
        "os.makedirs(dst_dir, exist_ok=True)\n",
        "\n",
        "print(\"Processing active images...\")\n",
        "# Process active images with tqdm\n",
        "active_files = [f for f in os.listdir(active_list) if f.lower().endswith((\".jpg\", \".jpeg\"))]\n",
        "for filename in tqdm(active_files, desc=\"Active images\"):\n",
        "    src_path = os.path.join(active_list, filename)\n",
        "    name, ext = os.path.splitext(filename)\n",
        "    try:\n",
        "        # Check if filename is in IMG_XXXX format\n",
        "        if name.startswith(\"IMG_\"):\n",
        "            num = int(name[4:])  # Extract the number part\n",
        "            new_filename = f\"A{num:04d}{ext.upper()}\"\n",
        "        else:\n",
        "            # Try to convert the entire filename to a number\n",
        "            num = int(name)\n",
        "            new_filename = f\"A{num:04d}{ext.upper()}\"\n",
        "    except ValueError:\n",
        "        print(f\"Skipping file with non-numeric name: {filename}\")\n",
        "        continue\n",
        "    dst_path = os.path.join(dst_dir, new_filename)\n",
        "    shutil.copy2(src_path, dst_path)\n",
        "    #print(f\"Copied {filename} to {new_filename}\")\n",
        "\n",
        "print(\"Processing control images...\")\n",
        "# Process control images with tqdm\n",
        "control_files = [f for f in os.listdir(control_list) if f.lower().endswith((\".jpg\", \".jpeg\"))]\n",
        "for filename in tqdm(control_files, desc=\"Control images\"):\n",
        "    src_path = os.path.join(control_list, filename)\n",
        "    name, ext = os.path.splitext(filename)\n",
        "    try:\n",
        "        # Try to convert the entire filename to a number\n",
        "        num = int(name)\n",
        "        new_filename = f\"C{num:04d}{ext.upper()}\"\n",
        "    except ValueError:\n",
        "        print(f\"Skipping file with non-numeric name: {filename}\")\n",
        "        continue\n",
        "    dst_path = os.path.join(dst_dir, new_filename)\n",
        "    shutil.copy2(src_path, dst_path)\n",
        "\n",
        "print(f\"All images have been processed and saved to {dst_dir}\")\n"
      ],
      "metadata": {
        "colab": {
          "base_uri": "https://localhost:8080/"
        },
        "id": "0_UePRrerIuX",
        "outputId": "52a61820-4601-4518-f399-d20dc17319f3"
      },
      "execution_count": null,
      "outputs": [
        {
          "output_type": "stream",
          "name": "stdout",
          "text": [
            "Processing active images...\n"
          ]
        },
        {
          "output_type": "stream",
          "name": "stderr",
          "text": [
            "Active images: 100%|██████████| 1037/1037 [00:13<00:00, 75.52it/s] \n"
          ]
        },
        {
          "output_type": "stream",
          "name": "stdout",
          "text": [
            "Processing control images...\n"
          ]
        },
        {
          "output_type": "stream",
          "name": "stderr",
          "text": [
            "Control images: 100%|██████████| 1034/1034 [00:12<00:00, 85.01it/s]"
          ]
        },
        {
          "output_type": "stream",
          "name": "stdout",
          "text": [
            "All images have been processed and saved to /content/Olympia_new/renamed_image\n"
          ]
        },
        {
          "output_type": "stream",
          "name": "stderr",
          "text": [
            "\n"
          ]
        }
      ]
    },
    {
      "cell_type": "markdown",
      "source": [
        "#**Crop eye using pre-trained YOLO11l model**"
      ],
      "metadata": {
        "id": "vQ1dTa3fK06Z"
      }
    },
    {
      "cell_type": "code",
      "source": [
        "!pip install ultralytics --q\n",
        "!pip install wget --q"
      ],
      "metadata": {
        "id": "8qBF3FuFYBZv",
        "outputId": "ec8b2ad8-4dbd-49ff-9837-5f703c51359b",
        "colab": {
          "base_uri": "https://localhost:8080/"
        }
      },
      "execution_count": null,
      "outputs": [
        {
          "output_type": "stream",
          "name": "stdout",
          "text": [
            "\u001b[2K   \u001b[90m━━━━━━━━━━━━━━━━━━━━━━━━━━━━━━━━━━━━━━━━\u001b[0m \u001b[32m949.1/949.1 kB\u001b[0m \u001b[31m13.0 MB/s\u001b[0m eta \u001b[36m0:00:00\u001b[0m\n",
            "\u001b[2K   \u001b[90m━━━━━━━━━━━━━━━━━━━━━━━━━━━━━━━━━━━━━━━━\u001b[0m \u001b[32m363.4/363.4 MB\u001b[0m \u001b[31m2.3 MB/s\u001b[0m eta \u001b[36m0:00:00\u001b[0m\n",
            "\u001b[2K   \u001b[90m━━━━━━━━━━━━━━━━━━━━━━━━━━━━━━━━━━━━━━━━\u001b[0m \u001b[32m13.8/13.8 MB\u001b[0m \u001b[31m46.3 MB/s\u001b[0m eta \u001b[36m0:00:00\u001b[0m\n",
            "\u001b[2K   \u001b[90m━━━━━━━━━━━━━━━━━━━━━━━━━━━━━━━━━━━━━━━━\u001b[0m \u001b[32m24.6/24.6 MB\u001b[0m \u001b[31m16.0 MB/s\u001b[0m eta \u001b[36m0:00:00\u001b[0m\n",
            "\u001b[2K   \u001b[90m━━━━━━━━━━━━━━━━━━━━━━━━━━━━━━━━━━━━━━━━\u001b[0m \u001b[32m883.7/883.7 kB\u001b[0m \u001b[31m17.8 MB/s\u001b[0m eta \u001b[36m0:00:00\u001b[0m\n",
            "\u001b[2K   \u001b[90m━━━━━━━━━━━━━━━━━━━━━━━━━━━━━━━━━━━━━━━━\u001b[0m \u001b[32m664.8/664.8 MB\u001b[0m \u001b[31m1.0 MB/s\u001b[0m eta \u001b[36m0:00:00\u001b[0m\n",
            "\u001b[2K   \u001b[90m━━━━━━━━━━━━━━━━━━━━━━━━━━━━━━━━━━━━━━━━\u001b[0m \u001b[32m211.5/211.5 MB\u001b[0m \u001b[31m3.5 MB/s\u001b[0m eta \u001b[36m0:00:00\u001b[0m\n",
            "\u001b[2K   \u001b[90m━━━━━━━━━━━━━━━━━━━━━━━━━━━━━━━━━━━━━━━━\u001b[0m \u001b[32m56.3/56.3 MB\u001b[0m \u001b[31m11.3 MB/s\u001b[0m eta \u001b[36m0:00:00\u001b[0m\n",
            "\u001b[2K   \u001b[90m━━━━━━━━━━━━━━━━━━━━━━━━━━━━━━━━━━━━━━━━\u001b[0m \u001b[32m127.9/127.9 MB\u001b[0m \u001b[31m5.3 MB/s\u001b[0m eta \u001b[36m0:00:00\u001b[0m\n",
            "\u001b[2K   \u001b[90m━━━━━━━━━━━━━━━━━━━━━━━━━━━━━━━━━━━━━━━━\u001b[0m \u001b[32m207.5/207.5 MB\u001b[0m \u001b[31m5.9 MB/s\u001b[0m eta \u001b[36m0:00:00\u001b[0m\n",
            "\u001b[2K   \u001b[90m━━━━━━━━━━━━━━━━━━━━━━━━━━━━━━━━━━━━━━━━\u001b[0m \u001b[32m21.1/21.1 MB\u001b[0m \u001b[31m80.1 MB/s\u001b[0m eta \u001b[36m0:00:00\u001b[0m\n",
            "\u001b[?25h  Preparing metadata (setup.py) ... \u001b[?25l\u001b[?25hdone\n",
            "  Building wheel for wget (setup.py) ... \u001b[?25l\u001b[?25hdone\n"
          ]
        }
      ]
    },
    {
      "cell_type": "code",
      "source": [
        "from ultralytics import YOLO\n",
        "import wget\n",
        "import cv2\n",
        "import matplotlib.pyplot as plt\n",
        "\n",
        "model_path = \"/content/drive/MyDrive/Deep_learning/Olympia_dataset/Olympia_new/295+cerebhq1-9655_yolo11l.pt\"\n",
        "model = YOLO(model_path)\n",
        "\n",
        "# 推論を実行: YOLOの推論\n",
        "image_path = r'/content/Olympia_new/renamed_image/A0001.JPG'\n",
        "results = model(image_path, save=False)\n",
        "\n",
        "for r in results:\n",
        "    boxes = r.boxes  # YOLOv8の場合\n",
        "\n",
        "    # YOLO形式出力\n",
        "    for box in boxes:\n",
        "        cls_id = int(box.cls[0])  # クラスID\n",
        "        x_center, y_center, width, height = box.xywhn[0]\n",
        "\n",
        "        # YOLO形式: class x_center y_center width height\n",
        "        # 小数点以下6桁で出力したい場合\n",
        "        print(f\"{cls_id} {x_center:.6f} {y_center:.6f} {width:.6f} {height:.6f}\")\n",
        "\n",
        "    #検出結果を画像に描画して表示\n",
        "    plt.figure(figsize=(12, 8))\n",
        "    plt.imshow(cv2.cvtColor(r.plot(), cv2.COLOR_BGR2RGB))\n",
        "    plt.axis('off')\n",
        "    plt.show()\n",
        "\n",
        "    # 結果の保存\n",
        "    #cv2.imwrite('result.jpg', r.plot())"
      ],
      "metadata": {
        "id": "n38Bp4QhYE2t"
      },
      "execution_count": null,
      "outputs": []
    },
    {
      "cell_type": "code",
      "source": [
        "from ultralytics import YOLO\n",
        "import wget\n",
        "import cv2\n",
        "import numpy as np\n",
        "import matplotlib.pyplot as plt\n",
        "\n",
        "model_path = \"/content/drive/MyDrive/Deep_learning/Olympia_dataset/Olympia_new/295+cerebhq1-9655_yolo11l.pt\"\n",
        "model = YOLO(model_path)\n",
        "\n",
        "# クラスIDとラベルのマッピング\n",
        "class_mapping = {0: \"R\", 1: \"L\"}  # クラスID 1を\"L\"にマッピング\n",
        "\n",
        "# 推論を実行: YOLOの推論\n",
        "image_path = r'/content/Olympia_new/renamed_image/A0001.JPG'\n",
        "results = model(image_path, save=False)\n",
        "\n",
        "# 元の画像を読み込む\n",
        "original_image = cv2.imread(image_path)\n",
        "img_height, img_width = original_image.shape[:2]\n",
        "\n",
        "for r in results:\n",
        "    boxes = r.boxes  # YOLOv8の場合\n",
        "\n",
        "    # YOLO形式出力\n",
        "    for i, box in enumerate(boxes):\n",
        "        cls_id = int(box.cls[0])  # クラスID\n",
        "        class_label = class_mapping.get(cls_id, f\"Class {cls_id}\")  # クラスIDに対応するラベル（R/L）\n",
        "\n",
        "        # 正規化された座標を取得\n",
        "        x_center, y_center, width, height = box.xywhn[0].cpu().numpy()\n",
        "\n",
        "        # 正規化されたYOLO形式を出力\n",
        "        print(f\"{cls_id} ({class_label}) {x_center:.6f} {y_center:.6f} {width:.6f} {height:.6f}\")\n",
        "\n",
        "        # 実際のピクセル座標に変換\n",
        "        x_center_px = x_center * img_width\n",
        "        y_center_px = y_center * img_height\n",
        "        width_px = width * img_width\n",
        "        height_px = height * img_height\n",
        "\n",
        "        # 拡張された幅を計算 (左右に25%ずつ広げる)\n",
        "        expanded_width = width_px * 1.5  # 元の幅 + 50% (左右それぞれ25%)\n",
        "\n",
        "        # 拡張された高さを計算 (拡張された幅と同じに設定)\n",
        "        expanded_height = expanded_width\n",
        "\n",
        "        # 新しい中心は元のx中心と同じ、y中心も元のまま\n",
        "        new_x1 = int(x_center_px - expanded_width / 2)\n",
        "        new_y1 = int(y_center_px - expanded_height / 2)  # y中心を保持\n",
        "        new_x2 = int(x_center_px + expanded_width / 2)\n",
        "        new_y2 = int(y_center_px + expanded_height / 2)  # y中心を保持\n",
        "\n",
        "        # 範囲外処理のための座標計算\n",
        "        pad_left = max(0, -new_x1)\n",
        "        pad_top = max(0, -new_y1)\n",
        "        pad_right = max(0, new_x2 - img_width)\n",
        "        pad_bottom = max(0, new_y2 - img_height)\n",
        "\n",
        "        # 画像内の実際の切り出し座標を計算\n",
        "        crop_x1 = max(0, new_x1)\n",
        "        crop_y1 = max(0, new_y1)\n",
        "        crop_x2 = min(img_width, new_x2)\n",
        "        crop_y2 = min(img_height, new_y2)\n",
        "\n",
        "        # 切り出し\n",
        "        cropped = original_image[crop_y1:crop_y2, crop_x1:crop_x2].copy()\n",
        "\n",
        "        # パディングが必要な場合、黒で埋める\n",
        "        if pad_left > 0 or pad_top > 0 or pad_right > 0 or pad_bottom > 0:\n",
        "            # パディングを含む新しい画像を作成\n",
        "            padded_width = crop_x2 - crop_x1 + pad_left + pad_right\n",
        "            padded_height = crop_y2 - crop_y1 + pad_top + pad_bottom\n",
        "            padded = np.zeros((padded_height, padded_width, 3), dtype=np.uint8)\n",
        "\n",
        "            # 切り出した部分を黒背景に配置\n",
        "            padded[pad_top:pad_top+(crop_y2-crop_y1), pad_left:pad_left+(crop_x2-crop_x1)] = cropped\n",
        "            cropped = padded\n",
        "\n",
        "        # 切り出した画像を表示（タイトルを修正）\n",
        "        plt.figure(figsize=(4, 4))\n",
        "        plt.title(f\"{class_label} (ID: {cls_id})\", fontsize=10)  # 適切なラベルを表示\n",
        "        plt.imshow(cv2.cvtColor(cropped, cv2.COLOR_BGR2RGB))\n",
        "        plt.axis('off')\n",
        "        plt.tight_layout()\n",
        "        plt.show()\n",
        "\n",
        "    # 元の検出結果を表示\n",
        "    result_img = cv2.cvtColor(r.plot(), cv2.COLOR_BGR2RGB)\n",
        "    original_aspect_ratio = result_img.shape[1] / result_img.shape[0]\n",
        "\n",
        "    fig_width = 6\n",
        "    fig_height = fig_width / original_aspect_ratio\n",
        "\n",
        "    plt.figure(figsize=(fig_width, fig_height))\n",
        "    plt.title(\"Original Detection\", fontsize=10)\n",
        "    plt.imshow(result_img)\n",
        "    plt.axis('off')\n",
        "    plt.tight_layout()\n",
        "    plt.show()"
      ],
      "metadata": {
        "id": "9BRgsMzneGhc"
      },
      "execution_count": null,
      "outputs": []
    },
    {
      "cell_type": "markdown",
      "source": [
        "###**複数枚一括処理**\n",
        "\n",
        "Basemameに対して、右眼は_R、左眼は_Lを追加して保存"
      ],
      "metadata": {
        "id": "LgDRp4SRlSIS"
      }
    },
    {
      "cell_type": "code",
      "source": [
        "from ultralytics import YOLO\n",
        "import os\n",
        "import cv2\n",
        "import numpy as np\n",
        "import matplotlib.pyplot as plt\n",
        "import glob\n",
        "import shutil\n",
        "from tqdm import tqdm\n",
        "\n",
        "# ディレクトリ設定\n",
        "orig_dir = \"/content/Olympia_new/renamed_image\"\n",
        "dst_dir = \"/content/Olympia_new/cropped_unilateral_image_25%\"\n",
        "\n",
        "# クラスIDとラベルのマッピング\n",
        "class_mapping = {0: \"R\", 1: \"L\"}\n",
        "\n",
        "# モデルの読み込み\n",
        "model_path = \"/content/drive/MyDrive/Deep_learning/Olympia_dataset/Olympia_new/295+cerebhq1-9655_yolo11l.pt\"\n",
        "model = YOLO(model_path)\n",
        "\n",
        "# 出力ディレクトリの準備\n",
        "if os.path.exists(dst_dir):\n",
        "    shutil.rmtree(dst_dir)  # ディレクトリが存在する場合は削除\n",
        "os.makedirs(dst_dir)  # ディレクトリを新規作成\n",
        "\n",
        "# JPGファイルのリストを取得\n",
        "jpg_files = glob.glob(os.path.join(orig_dir, \"*.JPG\")) + glob.glob(os.path.join(orig_dir, \"*.jpg\"))\n",
        "print(f\"Total images found: {len(jpg_files)}\")\n",
        "\n",
        "# tqdmを使用してプログレスバーを表示\n",
        "for image_path in tqdm(jpg_files, desc=\"Processing images\"):\n",
        "    # 元のファイル名を取得\n",
        "    filename = os.path.basename(image_path)\n",
        "    basename, ext = os.path.splitext(filename)\n",
        "\n",
        "    # 画像を読み込む\n",
        "    original_image = cv2.imread(image_path)\n",
        "    if original_image is None:\n",
        "        tqdm.write(f\"Error: Could not read image {image_path}\")\n",
        "        continue\n",
        "\n",
        "    img_height, img_width = original_image.shape[:2]\n",
        "\n",
        "    # 推論を実行\n",
        "    results = model(image_path, save=False)\n",
        "\n",
        "    # 各検出結果に対して処理\n",
        "    detection_count = 0\n",
        "    for r in results:\n",
        "        boxes = r.boxes\n",
        "\n",
        "        for box in boxes:\n",
        "            cls_id = int(box.cls[0])\n",
        "            class_label = class_mapping.get(cls_id, f\"Class{cls_id}\")\n",
        "\n",
        "            # 正規化された座標を取得\n",
        "            x_center, y_center, width, height = box.xywhn[0].cpu().numpy()\n",
        "\n",
        "            # 実際のピクセル座標に変換\n",
        "            x_center_px = x_center * img_width\n",
        "            y_center_px = y_center * img_height\n",
        "            width_px = width * img_width\n",
        "            height_px = height * img_height\n",
        "\n",
        "            # 拡張された幅を計算 (左右に25%ずつ広げる)\n",
        "            expanded_width = width_px * 1.5  # 元の幅 + 50% (左右それぞれ25%)\n",
        "\n",
        "            # 拡張された高さを計算 (拡張された幅と同じに設定)\n",
        "            expanded_height = expanded_width\n",
        "\n",
        "            # 新しい中心は元のx中心と同じ、y中心も元のまま\n",
        "            new_x1 = int(x_center_px - expanded_width / 2)\n",
        "            new_y1 = int(y_center_px - expanded_height / 2)\n",
        "            new_x2 = int(x_center_px + expanded_width / 2)\n",
        "            new_y2 = int(y_center_px + expanded_height / 2)\n",
        "\n",
        "            # 範囲外処理のための座標計算\n",
        "            pad_left = max(0, -new_x1)\n",
        "            pad_top = max(0, -new_y1)\n",
        "            pad_right = max(0, new_x2 - img_width)\n",
        "            pad_bottom = max(0, new_y2 - img_height)\n",
        "\n",
        "            # 画像内の実際の切り出し座標を計算\n",
        "            crop_x1 = max(0, new_x1)\n",
        "            crop_y1 = max(0, new_y1)\n",
        "            crop_x2 = min(img_width, new_x2)\n",
        "            crop_y2 = min(img_height, new_y2)\n",
        "\n",
        "            # 切り出し\n",
        "            cropped = original_image[crop_y1:crop_y2, crop_x1:crop_x2].copy()\n",
        "\n",
        "            # パディングが必要な場合、黒で埋める\n",
        "            if pad_left > 0 or pad_top > 0 or pad_right > 0 or pad_bottom > 0:\n",
        "                # パディングを含む新しい画像を作成\n",
        "                padded_width = crop_x2 - crop_x1 + pad_left + pad_right\n",
        "                padded_height = crop_y2 - crop_y1 + pad_top + pad_bottom\n",
        "                padded = np.zeros((padded_height, padded_width, 3), dtype=np.uint8)\n",
        "\n",
        "                # 切り出した部分を黒背景に配置\n",
        "                padded[pad_top:pad_top+(crop_y2-crop_y1), pad_left:pad_left+(crop_x2-crop_x1)] = cropped\n",
        "                cropped = padded\n",
        "\n",
        "            # 保存するファイル名の作成 (basename_R.jpg or basename_L.jpg)\n",
        "            output_filename = f\"{basename}_{class_label}{ext}\"\n",
        "            output_path = os.path.join(dst_dir, output_filename)\n",
        "\n",
        "            # 切り抜いた画像を保存\n",
        "            cv2.imwrite(output_path, cropped)\n",
        "            detection_count += 1\n",
        "\n",
        "    # 検出されなかった場合に通知\n",
        "    if detection_count == 0:\n",
        "        tqdm.write(f\"Warning: No eyes detected in {filename}\")\n",
        "\n",
        "print(\"\\nProcessing completed!\")\n",
        "print(f\"Processed {len(jpg_files)} images and saved results to {dst_dir}\")"
      ],
      "metadata": {
        "id": "HE6Lb66Vj_RP",
        "outputId": "3a976d9d-7b01-446f-d58b-bbcfbce96b16",
        "colab": {
          "base_uri": "https://localhost:8080/"
        },
        "collapsed": true
      },
      "execution_count": null,
      "outputs": [
        {
          "output_type": "stream",
          "name": "stdout",
          "text": [
            "Total images found: 2071\n"
          ]
        },
        {
          "output_type": "stream",
          "name": "stderr",
          "text": [
            "\rProcessing images:   0%|          | 0/2071 [00:00<?, ?it/s]"
          ]
        },
        {
          "output_type": "stream",
          "name": "stdout",
          "text": [
            "\n",
            "image 1/1 /content/Olympia_new/renamed_image/C0473.JPG: 448x640 1 Right_eye, 1 Left_eye, 2453.2ms\n",
            "Speed: 7.3ms preprocess, 2453.2ms inference, 1.1ms postprocess per image at shape (1, 3, 448, 640)\n"
          ]
        },
        {
          "output_type": "stream",
          "name": "stderr",
          "text": [
            "\rProcessing images:   0%|          | 1/2071 [00:03<2:00:17,  3.49s/it]"
          ]
        },
        {
          "output_type": "stream",
          "name": "stdout",
          "text": [
            "\n",
            "image 1/1 /content/Olympia_new/renamed_image/A0430.JPG: 448x640 1 Right_eye, 1 Left_eye, 1764.7ms\n",
            "Speed: 5.3ms preprocess, 1764.7ms inference, 1.3ms postprocess per image at shape (1, 3, 448, 640)\n"
          ]
        },
        {
          "output_type": "stream",
          "name": "stderr",
          "text": [
            "\rProcessing images:   0%|          | 2/2071 [00:05<1:29:32,  2.60s/it]"
          ]
        },
        {
          "output_type": "stream",
          "name": "stdout",
          "text": [
            "\n",
            "image 1/1 /content/Olympia_new/renamed_image/C0078.JPG: 448x640 1 Right_eye, 1 Left_eye, 1268.3ms\n",
            "Speed: 7.3ms preprocess, 1268.3ms inference, 0.9ms postprocess per image at shape (1, 3, 448, 640)\n"
          ]
        },
        {
          "output_type": "stream",
          "name": "stderr",
          "text": [
            "\rProcessing images:   0%|          | 3/2071 [00:06<1:10:37,  2.05s/it]"
          ]
        },
        {
          "output_type": "stream",
          "name": "stdout",
          "text": [
            "\n",
            "image 1/1 /content/Olympia_new/renamed_image/A0898.JPG: 448x640 1 Right_eye, 1 Left_eye, 1091.6ms\n",
            "Speed: 3.6ms preprocess, 1091.6ms inference, 0.9ms postprocess per image at shape (1, 3, 448, 640)\n"
          ]
        },
        {
          "output_type": "stream",
          "name": "stderr",
          "text": [
            "\rProcessing images:   0%|          | 4/2071 [00:08<58:59,  1.71s/it]  "
          ]
        },
        {
          "output_type": "stream",
          "name": "stdout",
          "text": [
            "\n",
            "image 1/1 /content/Olympia_new/renamed_image/A0335.JPG: 448x640 1 Right_eye, 1 Left_eye, 1101.4ms\n",
            "Speed: 3.7ms preprocess, 1101.4ms inference, 2.5ms postprocess per image at shape (1, 3, 448, 640)\n"
          ]
        },
        {
          "output_type": "stream",
          "name": "stderr",
          "text": [
            "\rProcessing images:   0%|          | 5/2071 [00:09<53:19,  1.55s/it]"
          ]
        },
        {
          "output_type": "stream",
          "name": "stdout",
          "text": [
            "\n",
            "image 1/1 /content/Olympia_new/renamed_image/C0069.JPG: 448x640 1 Right_eye, 1 Left_eye, 1122.8ms\n",
            "Speed: 3.6ms preprocess, 1122.8ms inference, 0.9ms postprocess per image at shape (1, 3, 448, 640)\n"
          ]
        },
        {
          "output_type": "stream",
          "name": "stderr",
          "text": [
            "\rProcessing images:   0%|          | 6/2071 [00:10<49:24,  1.44s/it]"
          ]
        },
        {
          "output_type": "stream",
          "name": "stdout",
          "text": [
            "\n",
            "image 1/1 /content/Olympia_new/renamed_image/A0540.JPG: 448x640 1 Right_eye, 1 Left_eye, 1090.7ms\n",
            "Speed: 3.5ms preprocess, 1090.7ms inference, 1.0ms postprocess per image at shape (1, 3, 448, 640)\n"
          ]
        },
        {
          "output_type": "stream",
          "name": "stderr",
          "text": [
            "\rProcessing images:   0%|          | 7/2071 [00:11<46:31,  1.35s/it]"
          ]
        },
        {
          "output_type": "stream",
          "name": "stdout",
          "text": [
            "\n",
            "image 1/1 /content/Olympia_new/renamed_image/A0182.JPG: 448x640 1 Right_eye, 1 Left_eye, 1298.1ms\n",
            "Speed: 3.5ms preprocess, 1298.1ms inference, 0.9ms postprocess per image at shape (1, 3, 448, 640)\n"
          ]
        },
        {
          "output_type": "stream",
          "name": "stderr",
          "text": [
            "\rProcessing images:   0%|          | 8/2071 [00:13<47:00,  1.37s/it]"
          ]
        },
        {
          "output_type": "stream",
          "name": "stdout",
          "text": [
            "\n",
            "image 1/1 /content/Olympia_new/renamed_image/A0383.JPG: 448x640 1 Right_eye, 1 Left_eye, 1075.7ms\n",
            "Speed: 3.6ms preprocess, 1075.7ms inference, 0.9ms postprocess per image at shape (1, 3, 448, 640)\n"
          ]
        },
        {
          "output_type": "stream",
          "name": "stderr",
          "text": [
            "\rProcessing images:   0%|          | 9/2071 [00:14<45:29,  1.32s/it]"
          ]
        },
        {
          "output_type": "stream",
          "name": "stdout",
          "text": [
            "\n",
            "image 1/1 /content/Olympia_new/renamed_image/A0031.JPG: 448x640 1 Right_eye, 1 Left_eye, 1094.4ms\n",
            "Speed: 3.7ms preprocess, 1094.4ms inference, 1.1ms postprocess per image at shape (1, 3, 448, 640)\n"
          ]
        },
        {
          "output_type": "stream",
          "name": "stderr",
          "text": [
            "\rProcessing images:   0%|          | 10/2071 [00:15<44:55,  1.31s/it]"
          ]
        },
        {
          "output_type": "stream",
          "name": "stdout",
          "text": [
            "\n",
            "image 1/1 /content/Olympia_new/renamed_image/C0127.JPG: 448x640 1 Right_eye, 1 Left_eye, 1541.4ms\n",
            "Speed: 3.6ms preprocess, 1541.4ms inference, 1.1ms postprocess per image at shape (1, 3, 448, 640)\n"
          ]
        },
        {
          "output_type": "stream",
          "name": "stderr",
          "text": [
            "\rProcessing images:   1%|          | 11/2071 [00:17<48:19,  1.41s/it]"
          ]
        },
        {
          "output_type": "stream",
          "name": "stdout",
          "text": [
            "\n",
            "image 1/1 /content/Olympia_new/renamed_image/A0361.JPG: 448x640 1 Right_eye, 1 Left_eye, 1770.4ms\n",
            "Speed: 5.2ms preprocess, 1770.4ms inference, 1.3ms postprocess per image at shape (1, 3, 448, 640)\n"
          ]
        },
        {
          "output_type": "stream",
          "name": "stderr",
          "text": [
            "\rProcessing images:   1%|          | 12/2071 [00:19<54:03,  1.58s/it]"
          ]
        },
        {
          "output_type": "stream",
          "name": "stdout",
          "text": [
            "\n",
            "image 1/1 /content/Olympia_new/renamed_image/C0805.JPG: 448x640 1 Right_eye, 1 Left_eye, 1341.4ms\n",
            "Speed: 5.1ms preprocess, 1341.4ms inference, 0.9ms postprocess per image at shape (1, 3, 448, 640)\n"
          ]
        },
        {
          "output_type": "stream",
          "name": "stderr",
          "text": [
            "\rProcessing images:   1%|          | 13/2071 [00:20<52:53,  1.54s/it]"
          ]
        },
        {
          "output_type": "stream",
          "name": "stdout",
          "text": [
            "\n",
            "image 1/1 /content/Olympia_new/renamed_image/C0030.JPG: 448x640 1 Right_eye, 1 Left_eye, 1147.6ms\n",
            "Speed: 5.1ms preprocess, 1147.6ms inference, 0.9ms postprocess per image at shape (1, 3, 448, 640)\n"
          ]
        },
        {
          "output_type": "stream",
          "name": "stderr",
          "text": [
            "\rProcessing images:   1%|          | 14/2071 [00:21<49:45,  1.45s/it]"
          ]
        },
        {
          "output_type": "stream",
          "name": "stdout",
          "text": [
            "\n",
            "image 1/1 /content/Olympia_new/renamed_image/C0359.JPG: 448x640 1 Right_eye, 1 Left_eye, 1138.5ms\n",
            "Speed: 3.8ms preprocess, 1138.5ms inference, 0.9ms postprocess per image at shape (1, 3, 448, 640)\n"
          ]
        },
        {
          "output_type": "stream",
          "name": "stderr",
          "text": [
            "\rProcessing images:   1%|          | 15/2071 [00:23<48:18,  1.41s/it]"
          ]
        },
        {
          "output_type": "stream",
          "name": "stdout",
          "text": [
            "\n",
            "image 1/1 /content/Olympia_new/renamed_image/C0900.JPG: 448x640 1 Right_eye, 1 Left_eye, 1102.6ms\n",
            "Speed: 3.5ms preprocess, 1102.6ms inference, 1.3ms postprocess per image at shape (1, 3, 448, 640)\n"
          ]
        },
        {
          "output_type": "stream",
          "name": "stderr",
          "text": [
            "\rProcessing images:   1%|          | 16/2071 [00:24<46:08,  1.35s/it]"
          ]
        },
        {
          "output_type": "stream",
          "name": "stdout",
          "text": [
            "\n",
            "image 1/1 /content/Olympia_new/renamed_image/C0218.JPG: 448x640 1 Right_eye, 1 Left_eye, 1100.7ms\n",
            "Speed: 3.9ms preprocess, 1100.7ms inference, 0.9ms postprocess per image at shape (1, 3, 448, 640)\n"
          ]
        },
        {
          "output_type": "stream",
          "name": "stderr",
          "text": [
            "\rProcessing images:   1%|          | 17/2071 [00:26<49:41,  1.45s/it]"
          ]
        },
        {
          "output_type": "stream",
          "name": "stdout",
          "text": [
            "\n",
            "image 1/1 /content/Olympia_new/renamed_image/A0126.JPG: 448x640 1 Right_eye, 1 Left_eye, 1101.8ms\n",
            "Speed: 3.7ms preprocess, 1101.8ms inference, 0.9ms postprocess per image at shape (1, 3, 448, 640)\n"
          ]
        },
        {
          "output_type": "stream",
          "name": "stderr",
          "text": [
            "\rProcessing images:   1%|          | 18/2071 [00:27<47:07,  1.38s/it]"
          ]
        },
        {
          "output_type": "stream",
          "name": "stdout",
          "text": [
            "\n",
            "image 1/1 /content/Olympia_new/renamed_image/C0239.JPG: 448x640 1 Right_eye, 1 Left_eye, 1103.3ms\n",
            "Speed: 3.6ms preprocess, 1103.3ms inference, 0.9ms postprocess per image at shape (1, 3, 448, 640)\n"
          ]
        },
        {
          "output_type": "stream",
          "name": "stderr",
          "text": [
            "\rProcessing images:   1%|          | 19/2071 [00:28<45:45,  1.34s/it]"
          ]
        },
        {
          "output_type": "stream",
          "name": "stdout",
          "text": [
            "\n",
            "image 1/1 /content/Olympia_new/renamed_image/A0212.JPG: 448x640 1 Right_eye, 1 Left_eye, 1093.9ms\n",
            "Speed: 3.4ms preprocess, 1093.9ms inference, 0.9ms postprocess per image at shape (1, 3, 448, 640)\n"
          ]
        },
        {
          "output_type": "stream",
          "name": "stderr",
          "text": [
            "\rProcessing images:   1%|          | 20/2071 [00:29<44:11,  1.29s/it]"
          ]
        },
        {
          "output_type": "stream",
          "name": "stdout",
          "text": [
            "\n",
            "image 1/1 /content/Olympia_new/renamed_image/A0007.JPG: 448x640 1 Right_eye, 1 Left_eye, 1724.8ms\n",
            "Speed: 3.8ms preprocess, 1724.8ms inference, 1.2ms postprocess per image at shape (1, 3, 448, 640)\n"
          ]
        },
        {
          "output_type": "stream",
          "name": "stderr",
          "text": [
            "\rProcessing images:   1%|          | 21/2071 [00:31<50:20,  1.47s/it]"
          ]
        },
        {
          "output_type": "stream",
          "name": "stdout",
          "text": [
            "\n",
            "image 1/1 /content/Olympia_new/renamed_image/A0526.JPG: 448x640 1 Right_eye, 1 Left_eye, 1770.5ms\n",
            "Speed: 5.5ms preprocess, 1770.5ms inference, 1.3ms postprocess per image at shape (1, 3, 448, 640)\n"
          ]
        },
        {
          "output_type": "stream",
          "name": "stderr",
          "text": [
            "\rProcessing images:   1%|          | 22/2071 [00:33<54:55,  1.61s/it]"
          ]
        },
        {
          "output_type": "stream",
          "name": "stdout",
          "text": [
            "\n",
            "image 1/1 /content/Olympia_new/renamed_image/A0508.JPG: 448x640 1 Right_eye, 1 Left_eye, 1217.2ms\n",
            "Speed: 5.1ms preprocess, 1217.2ms inference, 0.9ms postprocess per image at shape (1, 3, 448, 640)\n"
          ]
        },
        {
          "output_type": "stream",
          "name": "stderr",
          "text": [
            "\rProcessing images:   1%|          | 23/2071 [00:34<52:03,  1.53s/it]"
          ]
        },
        {
          "output_type": "stream",
          "name": "stdout",
          "text": [
            "\n",
            "image 1/1 /content/Olympia_new/renamed_image/A0582.JPG: 448x640 1 Right_eye, 1 Left_eye, 1101.0ms\n",
            "Speed: 3.5ms preprocess, 1101.0ms inference, 0.9ms postprocess per image at shape (1, 3, 448, 640)\n"
          ]
        },
        {
          "output_type": "stream",
          "name": "stderr",
          "text": [
            "\rProcessing images:   1%|          | 24/2071 [00:36<48:38,  1.43s/it]"
          ]
        },
        {
          "output_type": "stream",
          "name": "stdout",
          "text": [
            "\n",
            "image 1/1 /content/Olympia_new/renamed_image/C0998.JPG: 448x640 1 Right_eye, 1 Left_eye, 1093.1ms\n",
            "Speed: 3.8ms preprocess, 1093.1ms inference, 0.9ms postprocess per image at shape (1, 3, 448, 640)\n"
          ]
        },
        {
          "output_type": "stream",
          "name": "stderr",
          "text": [
            "\rProcessing images:   1%|          | 25/2071 [00:37<46:17,  1.36s/it]"
          ]
        },
        {
          "output_type": "stream",
          "name": "stdout",
          "text": [
            "\n",
            "image 1/1 /content/Olympia_new/renamed_image/A0606.JPG: 448x640 1 Right_eye, 1 Left_eye, 1091.2ms\n",
            "Speed: 5.0ms preprocess, 1091.2ms inference, 0.9ms postprocess per image at shape (1, 3, 448, 640)\n"
          ]
        },
        {
          "output_type": "stream",
          "name": "stderr",
          "text": [
            "\rProcessing images:   1%|▏         | 26/2071 [00:38<44:37,  1.31s/it]"
          ]
        },
        {
          "output_type": "stream",
          "name": "stdout",
          "text": [
            "\n",
            "image 1/1 /content/Olympia_new/renamed_image/A0447.JPG: 448x640 1 Right_eye, 1 Left_eye, 1103.3ms\n",
            "Speed: 3.6ms preprocess, 1103.3ms inference, 0.9ms postprocess per image at shape (1, 3, 448, 640)\n"
          ]
        },
        {
          "output_type": "stream",
          "name": "stderr",
          "text": [
            "\rProcessing images:   1%|▏         | 27/2071 [00:39<44:02,  1.29s/it]"
          ]
        },
        {
          "output_type": "stream",
          "name": "stdout",
          "text": [
            "\n",
            "image 1/1 /content/Olympia_new/renamed_image/A0583.JPG: 448x640 1 Right_eye, 1 Left_eye, 1094.0ms\n",
            "Speed: 3.6ms preprocess, 1094.0ms inference, 0.9ms postprocess per image at shape (1, 3, 448, 640)\n"
          ]
        },
        {
          "output_type": "stream",
          "name": "stderr",
          "text": [
            "\rProcessing images:   1%|▏         | 28/2071 [00:40<42:56,  1.26s/it]"
          ]
        },
        {
          "output_type": "stream",
          "name": "stdout",
          "text": [
            "\n",
            "image 1/1 /content/Olympia_new/renamed_image/A0487.JPG: 448x640 1 Right_eye, 1 Left_eye, 1130.2ms\n",
            "Speed: 3.5ms preprocess, 1130.2ms inference, 1.3ms postprocess per image at shape (1, 3, 448, 640)\n"
          ]
        },
        {
          "output_type": "stream",
          "name": "stderr",
          "text": [
            "\rProcessing images:   1%|▏         | 29/2071 [00:42<42:31,  1.25s/it]"
          ]
        },
        {
          "output_type": "stream",
          "name": "stdout",
          "text": [
            "\n",
            "image 1/1 /content/Olympia_new/renamed_image/A0211.JPG: 448x640 1 Right_eye, 1 Left_eye, 1109.6ms\n",
            "Speed: 3.6ms preprocess, 1109.6ms inference, 0.9ms postprocess per image at shape (1, 3, 448, 640)\n"
          ]
        },
        {
          "output_type": "stream",
          "name": "stderr",
          "text": [
            "\rProcessing images:   1%|▏         | 30/2071 [00:43<42:05,  1.24s/it]"
          ]
        },
        {
          "output_type": "stream",
          "name": "stdout",
          "text": [
            "\n",
            "image 1/1 /content/Olympia_new/renamed_image/A0903.JPG: 448x640 1 Right_eye, 1 Left_eye, 1582.5ms\n",
            "Speed: 3.7ms preprocess, 1582.5ms inference, 1.1ms postprocess per image at shape (1, 3, 448, 640)\n"
          ]
        },
        {
          "output_type": "stream",
          "name": "stderr",
          "text": [
            "\rProcessing images:   1%|▏         | 31/2071 [00:45<46:44,  1.37s/it]"
          ]
        },
        {
          "output_type": "stream",
          "name": "stdout",
          "text": [
            "\n",
            "image 1/1 /content/Olympia_new/renamed_image/A0797.JPG: 448x640 1 Right_eye, 1 Left_eye, 1763.2ms\n",
            "Speed: 5.2ms preprocess, 1763.2ms inference, 1.3ms postprocess per image at shape (1, 3, 448, 640)\n"
          ]
        },
        {
          "output_type": "stream",
          "name": "stderr",
          "text": [
            "\rProcessing images:   2%|▏         | 32/2071 [00:46<52:14,  1.54s/it]"
          ]
        },
        {
          "output_type": "stream",
          "name": "stdout",
          "text": [
            "\n",
            "image 1/1 /content/Olympia_new/renamed_image/C0563.JPG: 448x640 1 Right_eye, 1 Left_eye, 1422.6ms\n",
            "Speed: 5.2ms preprocess, 1422.6ms inference, 0.9ms postprocess per image at shape (1, 3, 448, 640)\n"
          ]
        },
        {
          "output_type": "stream",
          "name": "stderr",
          "text": [
            "\rProcessing images:   2%|▏         | 33/2071 [00:48<52:22,  1.54s/it]"
          ]
        },
        {
          "output_type": "stream",
          "name": "stdout",
          "text": [
            "\n",
            "image 1/1 /content/Olympia_new/renamed_image/C0790.JPG: 448x640 1 Right_eye, 1 Left_eye, 1093.2ms\n",
            "Speed: 3.5ms preprocess, 1093.2ms inference, 0.9ms postprocess per image at shape (1, 3, 448, 640)\n"
          ]
        },
        {
          "output_type": "stream",
          "name": "stderr",
          "text": [
            "\rProcessing images:   2%|▏         | 34/2071 [00:49<48:46,  1.44s/it]"
          ]
        },
        {
          "output_type": "stream",
          "name": "stdout",
          "text": [
            "\n",
            "image 1/1 /content/Olympia_new/renamed_image/A0485.JPG: 448x640 1 Right_eye, 1 Left_eye, 1101.1ms\n",
            "Speed: 3.5ms preprocess, 1101.1ms inference, 0.9ms postprocess per image at shape (1, 3, 448, 640)\n"
          ]
        },
        {
          "output_type": "stream",
          "name": "stderr",
          "text": [
            "\rProcessing images:   2%|▏         | 35/2071 [00:50<46:16,  1.36s/it]"
          ]
        },
        {
          "output_type": "stream",
          "name": "stdout",
          "text": [
            "\n",
            "image 1/1 /content/Olympia_new/renamed_image/A0221.JPG: 448x640 1 Right_eye, 1 Left_eye, 1107.4ms\n",
            "Speed: 3.6ms preprocess, 1107.4ms inference, 0.9ms postprocess per image at shape (1, 3, 448, 640)\n"
          ]
        },
        {
          "output_type": "stream",
          "name": "stderr",
          "text": [
            "\rProcessing images:   2%|▏         | 36/2071 [00:52<44:44,  1.32s/it]"
          ]
        },
        {
          "output_type": "stream",
          "name": "stdout",
          "text": [
            "\n",
            "image 1/1 /content/Olympia_new/renamed_image/C0713.JPG: 448x640 1 Right_eye, 1 Left_eye, 1114.0ms\n",
            "Speed: 3.4ms preprocess, 1114.0ms inference, 0.9ms postprocess per image at shape (1, 3, 448, 640)\n"
          ]
        },
        {
          "output_type": "stream",
          "name": "stderr",
          "text": [
            "\rProcessing images:   2%|▏         | 37/2071 [00:53<43:36,  1.29s/it]"
          ]
        },
        {
          "output_type": "stream",
          "name": "stdout",
          "text": [
            "\n",
            "image 1/1 /content/Olympia_new/renamed_image/A0714.JPG: 448x640 1 Right_eye, 1 Left_eye, 1096.0ms\n",
            "Speed: 3.5ms preprocess, 1096.0ms inference, 0.9ms postprocess per image at shape (1, 3, 448, 640)\n"
          ]
        },
        {
          "output_type": "stream",
          "name": "stderr",
          "text": [
            "\rProcessing images:   2%|▏         | 38/2071 [00:54<42:37,  1.26s/it]"
          ]
        },
        {
          "output_type": "stream",
          "name": "stdout",
          "text": [
            "\n",
            "image 1/1 /content/Olympia_new/renamed_image/A0840.JPG: 448x640 1 Right_eye, 1 Left_eye, 1101.0ms\n",
            "Speed: 3.7ms preprocess, 1101.0ms inference, 0.9ms postprocess per image at shape (1, 3, 448, 640)\n"
          ]
        },
        {
          "output_type": "stream",
          "name": "stderr",
          "text": [
            "\rProcessing images:   2%|▏         | 39/2071 [00:55<42:03,  1.24s/it]"
          ]
        },
        {
          "output_type": "stream",
          "name": "stdout",
          "text": [
            "\n",
            "image 1/1 /content/Olympia_new/renamed_image/A0236.JPG: 448x640 1 Right_eye, 1 Left_eye, 1100.3ms\n",
            "Speed: 3.5ms preprocess, 1100.3ms inference, 0.9ms postprocess per image at shape (1, 3, 448, 640)\n"
          ]
        },
        {
          "output_type": "stream",
          "name": "stderr",
          "text": [
            "\rProcessing images:   2%|▏         | 40/2071 [00:56<41:31,  1.23s/it]"
          ]
        },
        {
          "output_type": "stream",
          "name": "stdout",
          "text": [
            "\n",
            "image 1/1 /content/Olympia_new/renamed_image/A0757.JPG: 448x640 1 Right_eye, 1 Left_eye, 1224.6ms\n",
            "Speed: 3.5ms preprocess, 1224.6ms inference, 1.1ms postprocess per image at shape (1, 3, 448, 640)\n"
          ]
        },
        {
          "output_type": "stream",
          "name": "stderr",
          "text": [
            "\rProcessing images:   2%|▏         | 41/2071 [00:58<42:33,  1.26s/it]"
          ]
        },
        {
          "output_type": "stream",
          "name": "stdout",
          "text": [
            "\n",
            "image 1/1 /content/Olympia_new/renamed_image/A0715.JPG: 448x640 1 Right_eye, 1 Left_eye, 1728.1ms\n",
            "Speed: 5.3ms preprocess, 1728.1ms inference, 3.4ms postprocess per image at shape (1, 3, 448, 640)\n"
          ]
        },
        {
          "output_type": "stream",
          "name": "stderr",
          "text": [
            "\rProcessing images:   2%|▏         | 42/2071 [01:00<48:37,  1.44s/it]"
          ]
        },
        {
          "output_type": "stream",
          "name": "stdout",
          "text": [
            "\n",
            "image 1/1 /content/Olympia_new/renamed_image/C0356.JPG: 448x640 1 Right_eye, 1 Left_eye, 1674.6ms\n",
            "Speed: 7.3ms preprocess, 1674.6ms inference, 0.9ms postprocess per image at shape (1, 3, 448, 640)\n"
          ]
        },
        {
          "output_type": "stream",
          "name": "stderr",
          "text": [
            "\rProcessing images:   2%|▏         | 43/2071 [01:02<53:15,  1.58s/it]"
          ]
        },
        {
          "output_type": "stream",
          "name": "stdout",
          "text": [
            "\n",
            "image 1/1 /content/Olympia_new/renamed_image/C0234.JPG: 448x640 1 Right_eye, 1 Left_eye, 1165.2ms\n",
            "Speed: 3.8ms preprocess, 1165.2ms inference, 0.9ms postprocess per image at shape (1, 3, 448, 640)\n"
          ]
        },
        {
          "output_type": "stream",
          "name": "stderr",
          "text": [
            "\rProcessing images:   2%|▏         | 44/2071 [01:03<50:33,  1.50s/it]"
          ]
        },
        {
          "output_type": "stream",
          "name": "stdout",
          "text": [
            "\n",
            "image 1/1 /content/Olympia_new/renamed_image/C0026.JPG: 448x640 1 Right_eye, 1 Left_eye, 1098.9ms\n",
            "Speed: 3.6ms preprocess, 1098.9ms inference, 1.3ms postprocess per image at shape (1, 3, 448, 640)\n"
          ]
        },
        {
          "output_type": "stream",
          "name": "stderr",
          "text": [
            "\rProcessing images:   2%|▏         | 45/2071 [01:04<47:26,  1.40s/it]"
          ]
        },
        {
          "output_type": "stream",
          "name": "stdout",
          "text": [
            "\n",
            "image 1/1 /content/Olympia_new/renamed_image/C0883.JPG: 448x640 1 Right_eye, 1 Left_eye, 1093.4ms\n",
            "Speed: 3.5ms preprocess, 1093.4ms inference, 0.9ms postprocess per image at shape (1, 3, 448, 640)\n"
          ]
        },
        {
          "output_type": "stream",
          "name": "stderr",
          "text": [
            "\rProcessing images:   2%|▏         | 46/2071 [01:05<45:19,  1.34s/it]"
          ]
        },
        {
          "output_type": "stream",
          "name": "stdout",
          "text": [
            "\n",
            "image 1/1 /content/Olympia_new/renamed_image/C0004.JPG: 448x640 1 Right_eye, 1 Left_eye, 1098.3ms\n",
            "Speed: 3.7ms preprocess, 1098.3ms inference, 0.9ms postprocess per image at shape (1, 3, 448, 640)\n"
          ]
        },
        {
          "output_type": "stream",
          "name": "stderr",
          "text": [
            "\rProcessing images:   2%|▏         | 47/2071 [01:06<43:42,  1.30s/it]"
          ]
        },
        {
          "output_type": "stream",
          "name": "stdout",
          "text": [
            "\n",
            "image 1/1 /content/Olympia_new/renamed_image/A0147.JPG: 448x640 1 Right_eye, 1 Left_eye, 1087.0ms\n",
            "Speed: 3.3ms preprocess, 1087.0ms inference, 0.9ms postprocess per image at shape (1, 3, 448, 640)\n"
          ]
        },
        {
          "output_type": "stream",
          "name": "stderr",
          "text": [
            "\rProcessing images:   2%|▏         | 48/2071 [01:08<42:35,  1.26s/it]"
          ]
        },
        {
          "output_type": "stream",
          "name": "stdout",
          "text": [
            "\n",
            "image 1/1 /content/Olympia_new/renamed_image/A0823.JPG: 448x640 1 Right_eye, 1 Left_eye, 1093.0ms\n",
            "Speed: 3.8ms preprocess, 1093.0ms inference, 0.9ms postprocess per image at shape (1, 3, 448, 640)\n"
          ]
        },
        {
          "output_type": "stream",
          "name": "stderr",
          "text": [
            "\rProcessing images:   2%|▏         | 49/2071 [01:09<41:53,  1.24s/it]"
          ]
        },
        {
          "output_type": "stream",
          "name": "stdout",
          "text": [
            "\n",
            "image 1/1 /content/Olympia_new/renamed_image/C0637.JPG: 448x640 1 Right_eye, 1 Left_eye, 1104.2ms\n",
            "Speed: 3.5ms preprocess, 1104.2ms inference, 0.9ms postprocess per image at shape (1, 3, 448, 640)\n"
          ]
        },
        {
          "output_type": "stream",
          "name": "stderr",
          "text": [
            "\rProcessing images:   2%|▏         | 50/2071 [01:10<41:22,  1.23s/it]"
          ]
        },
        {
          "output_type": "stream",
          "name": "stdout",
          "text": [
            "\n",
            "image 1/1 /content/Olympia_new/renamed_image/A0350.JPG: 448x640 1 Right_eye, 1 Left_eye, 1104.7ms\n",
            "Speed: 3.7ms preprocess, 1104.7ms inference, 1.2ms postprocess per image at shape (1, 3, 448, 640)\n"
          ]
        },
        {
          "output_type": "stream",
          "name": "stderr",
          "text": [
            "\rProcessing images:   2%|▏         | 51/2071 [01:11<41:33,  1.23s/it]"
          ]
        },
        {
          "output_type": "stream",
          "name": "stdout",
          "text": [
            "\n",
            "image 1/1 /content/Olympia_new/renamed_image/A0816.JPG: 448x640 1 Right_eye, 1 Left_eye, 2701.4ms\n",
            "Speed: 3.5ms preprocess, 2701.4ms inference, 1.1ms postprocess per image at shape (1, 3, 448, 640)\n"
          ]
        },
        {
          "output_type": "stream",
          "name": "stderr",
          "text": [
            "\rProcessing images:   3%|▎         | 52/2071 [01:14<57:26,  1.71s/it]"
          ]
        },
        {
          "output_type": "stream",
          "name": "stdout",
          "text": [
            "\n",
            "image 1/1 /content/Olympia_new/renamed_image/C0617.JPG: 448x640 1 Right_eye, 1 Left_eye, 1638.8ms\n",
            "Speed: 5.2ms preprocess, 1638.8ms inference, 1.5ms postprocess per image at shape (1, 3, 448, 640)\n"
          ]
        },
        {
          "output_type": "stream",
          "name": "stderr",
          "text": [
            "\rProcessing images:   3%|▎         | 53/2071 [01:16<58:04,  1.73s/it]"
          ]
        },
        {
          "output_type": "stream",
          "name": "stdout",
          "text": [
            "\n",
            "image 1/1 /content/Olympia_new/renamed_image/C0061.JPG: 448x640 1 Right_eye, 1 Left_eye, 1096.6ms\n",
            "Speed: 3.5ms preprocess, 1096.6ms inference, 0.8ms postprocess per image at shape (1, 3, 448, 640)\n"
          ]
        },
        {
          "output_type": "stream",
          "name": "stderr",
          "text": [
            "\rProcessing images:   3%|▎         | 54/2071 [01:17<52:37,  1.57s/it]"
          ]
        },
        {
          "output_type": "stream",
          "name": "stdout",
          "text": [
            "\n",
            "image 1/1 /content/Olympia_new/renamed_image/C0055.JPG: 448x640 1 Right_eye, 1 Left_eye, 1086.9ms\n",
            "Speed: 3.5ms preprocess, 1086.9ms inference, 0.9ms postprocess per image at shape (1, 3, 448, 640)\n"
          ]
        },
        {
          "output_type": "stream",
          "name": "stderr",
          "text": [
            "\rProcessing images:   3%|▎         | 55/2071 [01:18<48:39,  1.45s/it]"
          ]
        },
        {
          "output_type": "stream",
          "name": "stdout",
          "text": [
            "\n",
            "image 1/1 /content/Olympia_new/renamed_image/C0681.JPG: 448x640 1 Right_eye, 1 Left_eye, 1098.9ms\n",
            "Speed: 3.4ms preprocess, 1098.9ms inference, 0.9ms postprocess per image at shape (1, 3, 448, 640)\n"
          ]
        },
        {
          "output_type": "stream",
          "name": "stderr",
          "text": [
            "\rProcessing images:   3%|▎         | 56/2071 [01:19<46:03,  1.37s/it]"
          ]
        },
        {
          "output_type": "stream",
          "name": "stdout",
          "text": [
            "\n",
            "image 1/1 /content/Olympia_new/renamed_image/C0381.JPG: 448x640 1 Right_eye, 1 Left_eye, 1101.1ms\n",
            "Speed: 3.8ms preprocess, 1101.1ms inference, 0.9ms postprocess per image at shape (1, 3, 448, 640)\n"
          ]
        },
        {
          "output_type": "stream",
          "name": "stderr",
          "text": [
            "\rProcessing images:   3%|▎         | 57/2071 [01:21<44:50,  1.34s/it]"
          ]
        },
        {
          "output_type": "stream",
          "name": "stdout",
          "text": [
            "\n",
            "image 1/1 /content/Olympia_new/renamed_image/C0433.JPG: 448x640 1 Right_eye, 1 Left_eye, 1093.2ms\n",
            "Speed: 3.5ms preprocess, 1093.2ms inference, 1.0ms postprocess per image at shape (1, 3, 448, 640)\n"
          ]
        },
        {
          "output_type": "stream",
          "name": "stderr",
          "text": [
            "\rProcessing images:   3%|▎         | 58/2071 [01:22<43:22,  1.29s/it]"
          ]
        },
        {
          "output_type": "stream",
          "name": "stdout",
          "text": [
            "\n",
            "image 1/1 /content/Olympia_new/renamed_image/C0909.JPG: 448x640 1 Right_eye, 1 Left_eye, 1088.5ms\n",
            "Speed: 3.6ms preprocess, 1088.5ms inference, 0.9ms postprocess per image at shape (1, 3, 448, 640)\n"
          ]
        },
        {
          "output_type": "stream",
          "name": "stderr",
          "text": [
            "\rProcessing images:   3%|▎         | 59/2071 [01:23<42:16,  1.26s/it]"
          ]
        },
        {
          "output_type": "stream",
          "name": "stdout",
          "text": [
            "\n",
            "image 1/1 /content/Olympia_new/renamed_image/C0590.JPG: 448x640 1 Right_eye, 1 Left_eye, 1085.1ms\n",
            "Speed: 3.5ms preprocess, 1085.1ms inference, 0.9ms postprocess per image at shape (1, 3, 448, 640)\n"
          ]
        },
        {
          "output_type": "stream",
          "name": "stderr",
          "text": [
            "\rProcessing images:   3%|▎         | 60/2071 [01:24<41:24,  1.24s/it]"
          ]
        },
        {
          "output_type": "stream",
          "name": "stdout",
          "text": [
            "\n",
            "image 1/1 /content/Olympia_new/renamed_image/C0614.JPG: 448x640 1 Right_eye, 1 Left_eye, 1100.9ms\n",
            "Speed: 3.6ms preprocess, 1100.9ms inference, 0.8ms postprocess per image at shape (1, 3, 448, 640)\n"
          ]
        },
        {
          "output_type": "stream",
          "name": "stderr",
          "text": [
            "\rProcessing images:   3%|▎         | 61/2071 [01:25<41:01,  1.22s/it]"
          ]
        },
        {
          "output_type": "stream",
          "name": "stdout",
          "text": [
            "\n",
            "image 1/1 /content/Olympia_new/renamed_image/A0594.JPG: 448x640 1 Right_eye, 1 Left_eye, 1760.2ms\n",
            "Speed: 3.5ms preprocess, 1760.2ms inference, 1.1ms postprocess per image at shape (1, 3, 448, 640)\n"
          ]
        },
        {
          "output_type": "stream",
          "name": "stderr",
          "text": [
            "\rProcessing images:   3%|▎         | 62/2071 [01:27<47:22,  1.41s/it]"
          ]
        },
        {
          "output_type": "stream",
          "name": "stdout",
          "text": [
            "\n",
            "image 1/1 /content/Olympia_new/renamed_image/C0682.JPG: 448x640 1 Right_eye, 1 Left_eye, 1733.1ms\n",
            "Speed: 5.2ms preprocess, 1733.1ms inference, 1.3ms postprocess per image at shape (1, 3, 448, 640)\n"
          ]
        },
        {
          "output_type": "stream",
          "name": "stderr",
          "text": [
            "\rProcessing images:   3%|▎         | 63/2071 [01:29<51:49,  1.55s/it]"
          ]
        },
        {
          "output_type": "stream",
          "name": "stdout",
          "text": [
            "\n",
            "image 1/1 /content/Olympia_new/renamed_image/C0425.JPG: 448x640 1 Right_eye, 1 Left_eye, 1174.4ms\n",
            "Speed: 5.1ms preprocess, 1174.4ms inference, 1.0ms postprocess per image at shape (1, 3, 448, 640)\n"
          ]
        },
        {
          "output_type": "stream",
          "name": "stderr",
          "text": [
            "\rProcessing images:   3%|▎         | 64/2071 [01:30<49:17,  1.47s/it]"
          ]
        },
        {
          "output_type": "stream",
          "name": "stdout",
          "text": [
            "\n",
            "image 1/1 /content/Olympia_new/renamed_image/A0915.JPG: 448x640 1 Right_eye, 1 Left_eye, 1084.6ms\n",
            "Speed: 3.7ms preprocess, 1084.6ms inference, 0.9ms postprocess per image at shape (1, 3, 448, 640)\n"
          ]
        },
        {
          "output_type": "stream",
          "name": "stderr",
          "text": [
            "\rProcessing images:   3%|▎         | 65/2071 [01:32<46:26,  1.39s/it]"
          ]
        },
        {
          "output_type": "stream",
          "name": "stdout",
          "text": [
            "\n",
            "image 1/1 /content/Olympia_new/renamed_image/A0097.JPG: 448x640 1 Right_eye, 1 Left_eye, 1090.5ms\n",
            "Speed: 5.1ms preprocess, 1090.5ms inference, 0.9ms postprocess per image at shape (1, 3, 448, 640)\n"
          ]
        },
        {
          "output_type": "stream",
          "name": "stderr",
          "text": [
            "\rProcessing images:   3%|▎         | 66/2071 [01:33<44:26,  1.33s/it]"
          ]
        },
        {
          "output_type": "stream",
          "name": "stdout",
          "text": [
            "\n",
            "image 1/1 /content/Olympia_new/renamed_image/C0183.JPG: 448x640 1 Right_eye, 1 Left_eye, 1097.8ms\n",
            "Speed: 3.5ms preprocess, 1097.8ms inference, 0.8ms postprocess per image at shape (1, 3, 448, 640)\n"
          ]
        },
        {
          "output_type": "stream",
          "name": "stderr",
          "text": [
            "\rProcessing images:   3%|▎         | 67/2071 [01:34<42:59,  1.29s/it]"
          ]
        },
        {
          "output_type": "stream",
          "name": "stdout",
          "text": [
            "\n",
            "image 1/1 /content/Olympia_new/renamed_image/A0073.JPG: 448x640 1 Right_eye, 1 Left_eye, 1151.7ms\n",
            "Speed: 3.8ms preprocess, 1151.7ms inference, 0.9ms postprocess per image at shape (1, 3, 448, 640)\n"
          ]
        },
        {
          "output_type": "stream",
          "name": "stderr",
          "text": [
            "\rProcessing images:   3%|▎         | 68/2071 [01:35<43:08,  1.29s/it]"
          ]
        },
        {
          "output_type": "stream",
          "name": "stdout",
          "text": [
            "\n",
            "image 1/1 /content/Olympia_new/renamed_image/A0304.JPG: 448x640 1 Right_eye, 1 Left_eye, 1101.7ms\n",
            "Speed: 3.9ms preprocess, 1101.7ms inference, 0.9ms postprocess per image at shape (1, 3, 448, 640)\n"
          ]
        },
        {
          "output_type": "stream",
          "name": "stderr",
          "text": [
            "\rProcessing images:   3%|▎         | 69/2071 [01:37<47:43,  1.43s/it]"
          ]
        },
        {
          "output_type": "stream",
          "name": "stdout",
          "text": [
            "\n",
            "image 1/1 /content/Olympia_new/renamed_image/A0127.JPG: 448x640 1 Right_eye, 1 Left_eye, 1102.9ms\n",
            "Speed: 3.5ms preprocess, 1102.9ms inference, 0.9ms postprocess per image at shape (1, 3, 448, 640)\n"
          ]
        },
        {
          "output_type": "stream",
          "name": "stderr",
          "text": [
            "\rProcessing images:   3%|▎         | 70/2071 [01:38<45:25,  1.36s/it]"
          ]
        },
        {
          "output_type": "stream",
          "name": "stdout",
          "text": [
            "\n",
            "image 1/1 /content/Olympia_new/renamed_image/C0806.JPG: 448x640 1 Right_eye, 1 Left_eye, 1116.1ms\n",
            "Speed: 3.5ms preprocess, 1116.1ms inference, 1.3ms postprocess per image at shape (1, 3, 448, 640)\n"
          ]
        },
        {
          "output_type": "stream",
          "name": "stderr",
          "text": [
            "\rProcessing images:   3%|▎         | 71/2071 [01:39<44:05,  1.32s/it]"
          ]
        },
        {
          "output_type": "stream",
          "name": "stdout",
          "text": [
            "\n",
            "image 1/1 /content/Olympia_new/renamed_image/A0437.JPG: 448x640 1 Right_eye, 1 Left_eye, 1805.2ms\n",
            "Speed: 7.2ms preprocess, 1805.2ms inference, 1.3ms postprocess per image at shape (1, 3, 448, 640)\n"
          ]
        },
        {
          "output_type": "stream",
          "name": "stderr",
          "text": [
            "\rProcessing images:   3%|▎         | 72/2071 [01:41<50:57,  1.53s/it]"
          ]
        },
        {
          "output_type": "stream",
          "name": "stdout",
          "text": [
            "\n",
            "image 1/1 /content/Olympia_new/renamed_image/C0753.JPG: 448x640 1 Right_eye, 1 Left_eye, 1704.5ms\n",
            "Speed: 5.3ms preprocess, 1704.5ms inference, 0.9ms postprocess per image at shape (1, 3, 448, 640)\n"
          ]
        },
        {
          "output_type": "stream",
          "name": "stderr",
          "text": [
            "\rProcessing images:   4%|▎         | 73/2071 [01:43<53:58,  1.62s/it]"
          ]
        },
        {
          "output_type": "stream",
          "name": "stdout",
          "text": [
            "\n",
            "image 1/1 /content/Olympia_new/renamed_image/C0661.JPG: 448x640 1 Right_eye, 1 Left_eye, 1086.8ms\n",
            "Speed: 3.6ms preprocess, 1086.8ms inference, 0.9ms postprocess per image at shape (1, 3, 448, 640)\n"
          ]
        },
        {
          "output_type": "stream",
          "name": "stderr",
          "text": [
            "\rProcessing images:   4%|▎         | 74/2071 [01:44<49:33,  1.49s/it]"
          ]
        },
        {
          "output_type": "stream",
          "name": "stdout",
          "text": [
            "\n",
            "image 1/1 /content/Olympia_new/renamed_image/A0324.JPG: 448x640 1 Right_eye, 1 Left_eye, 1105.2ms\n",
            "Speed: 5.4ms preprocess, 1105.2ms inference, 0.9ms postprocess per image at shape (1, 3, 448, 640)\n"
          ]
        },
        {
          "output_type": "stream",
          "name": "stderr",
          "text": [
            "\rProcessing images:   4%|▎         | 75/2071 [01:46<47:15,  1.42s/it]"
          ]
        },
        {
          "output_type": "stream",
          "name": "stdout",
          "text": [
            "\n",
            "image 1/1 /content/Olympia_new/renamed_image/C0157.JPG: 448x640 1 Right_eye, 1 Left_eye, 1113.5ms\n",
            "Speed: 3.5ms preprocess, 1113.5ms inference, 0.9ms postprocess per image at shape (1, 3, 448, 640)\n"
          ]
        },
        {
          "output_type": "stream",
          "name": "stderr",
          "text": [
            "\rProcessing images:   4%|▎         | 76/2071 [01:47<45:05,  1.36s/it]"
          ]
        },
        {
          "output_type": "stream",
          "name": "stdout",
          "text": [
            "\n",
            "image 1/1 /content/Olympia_new/renamed_image/C0221.JPG: 448x640 1 Right_eye, 1 Left_eye, 1083.1ms\n",
            "Speed: 3.8ms preprocess, 1083.1ms inference, 0.9ms postprocess per image at shape (1, 3, 448, 640)\n"
          ]
        },
        {
          "output_type": "stream",
          "name": "stderr",
          "text": [
            "\rProcessing images:   4%|▎         | 77/2071 [01:48<46:35,  1.40s/it]"
          ]
        },
        {
          "output_type": "stream",
          "name": "stdout",
          "text": [
            "\n",
            "image 1/1 /content/Olympia_new/renamed_image/C0626.JPG: 448x640 1 Right_eye, 1 Left_eye, 1110.6ms\n",
            "Speed: 3.5ms preprocess, 1110.6ms inference, 0.9ms postprocess per image at shape (1, 3, 448, 640)\n"
          ]
        },
        {
          "output_type": "stream",
          "name": "stderr",
          "text": [
            "\rProcessing images:   4%|▍         | 78/2071 [01:50<44:32,  1.34s/it]"
          ]
        },
        {
          "output_type": "stream",
          "name": "stdout",
          "text": [
            "\n",
            "image 1/1 /content/Olympia_new/renamed_image/A0001.JPG: 448x640 1 Right_eye, 1 Left_eye, 1101.0ms\n",
            "Speed: 3.8ms preprocess, 1101.0ms inference, 0.9ms postprocess per image at shape (1, 3, 448, 640)\n"
          ]
        },
        {
          "output_type": "stream",
          "name": "stderr",
          "text": [
            "\rProcessing images:   4%|▍         | 79/2071 [01:51<43:40,  1.32s/it]"
          ]
        },
        {
          "output_type": "stream",
          "name": "stdout",
          "text": [
            "\n",
            "image 1/1 /content/Olympia_new/renamed_image/A0712.JPG: 448x640 1 Right_eye, 1 Left_eye, 1087.1ms\n",
            "Speed: 3.6ms preprocess, 1087.1ms inference, 0.9ms postprocess per image at shape (1, 3, 448, 640)\n"
          ]
        },
        {
          "output_type": "stream",
          "name": "stderr",
          "text": [
            "\rProcessing images:   4%|▍         | 80/2071 [01:52<42:18,  1.27s/it]"
          ]
        },
        {
          "output_type": "stream",
          "name": "stdout",
          "text": [
            "\n",
            "image 1/1 /content/Olympia_new/renamed_image/C0657.JPG: 448x640 1 Right_eye, 1 Left_eye, 1138.9ms\n",
            "Speed: 3.6ms preprocess, 1138.9ms inference, 1.3ms postprocess per image at shape (1, 3, 448, 640)\n"
          ]
        },
        {
          "output_type": "stream",
          "name": "stderr",
          "text": [
            "\rProcessing images:   4%|▍         | 81/2071 [01:53<41:57,  1.26s/it]"
          ]
        },
        {
          "output_type": "stream",
          "name": "stdout",
          "text": [
            "\n",
            "image 1/1 /content/Olympia_new/renamed_image/A0396.JPG: 448x640 1 Right_eye, 1 Left_eye, 1739.7ms\n",
            "Speed: 5.2ms preprocess, 1739.7ms inference, 1.1ms postprocess per image at shape (1, 3, 448, 640)\n"
          ]
        },
        {
          "output_type": "stream",
          "name": "stderr",
          "text": [
            "\rProcessing images:   4%|▍         | 82/2071 [01:55<48:57,  1.48s/it]"
          ]
        },
        {
          "output_type": "stream",
          "name": "stdout",
          "text": [
            "\n",
            "image 1/1 /content/Olympia_new/renamed_image/C0705.JPG: 448x640 1 Right_eye, 1 Left_eye, 1650.4ms\n",
            "Speed: 5.2ms preprocess, 1650.4ms inference, 0.9ms postprocess per image at shape (1, 3, 448, 640)\n"
          ]
        },
        {
          "output_type": "stream",
          "name": "stderr",
          "text": [
            "\rProcessing images:   4%|▍         | 83/2071 [01:57<51:58,  1.57s/it]"
          ]
        },
        {
          "output_type": "stream",
          "name": "stdout",
          "text": [
            "\n",
            "image 1/1 /content/Olympia_new/renamed_image/C0953.JPG: 448x640 1 Right_eye, 1 Left_eye, 1086.5ms\n",
            "Speed: 3.7ms preprocess, 1086.5ms inference, 0.9ms postprocess per image at shape (1, 3, 448, 640)\n"
          ]
        },
        {
          "output_type": "stream",
          "name": "stderr",
          "text": [
            "\rProcessing images:   4%|▍         | 84/2071 [01:58<48:12,  1.46s/it]"
          ]
        },
        {
          "output_type": "stream",
          "name": "stdout",
          "text": [
            "\n",
            "image 1/1 /content/Olympia_new/renamed_image/A0677.JPG: 448x640 1 Right_eye, 1 Left_eye, 1089.1ms\n",
            "Speed: 3.6ms preprocess, 1089.1ms inference, 1.1ms postprocess per image at shape (1, 3, 448, 640)\n"
          ]
        },
        {
          "output_type": "stream",
          "name": "stderr",
          "text": [
            "\rProcessing images:   4%|▍         | 85/2071 [01:59<45:36,  1.38s/it]"
          ]
        },
        {
          "output_type": "stream",
          "name": "stdout",
          "text": [
            "\n",
            "image 1/1 /content/Olympia_new/renamed_image/C0764.JPG: 448x640 1 Right_eye, 1 Left_eye, 1094.0ms\n",
            "Speed: 3.5ms preprocess, 1094.0ms inference, 0.9ms postprocess per image at shape (1, 3, 448, 640)\n"
          ]
        },
        {
          "output_type": "stream",
          "name": "stderr",
          "text": [
            "\rProcessing images:   4%|▍         | 86/2071 [02:01<43:46,  1.32s/it]"
          ]
        },
        {
          "output_type": "stream",
          "name": "stdout",
          "text": [
            "\n",
            "image 1/1 /content/Olympia_new/renamed_image/A0039.JPG: 448x640 1 Right_eye, 1 Left_eye, 1088.4ms\n",
            "Speed: 3.7ms preprocess, 1088.4ms inference, 0.9ms postprocess per image at shape (1, 3, 448, 640)\n"
          ]
        },
        {
          "output_type": "stream",
          "name": "stderr",
          "text": [
            "\rProcessing images:   4%|▍         | 87/2071 [02:02<42:55,  1.30s/it]"
          ]
        },
        {
          "output_type": "stream",
          "name": "stdout",
          "text": [
            "\n",
            "image 1/1 /content/Olympia_new/renamed_image/C1014.JPG: 448x640 1 Right_eye, 1 Left_eye, 1095.5ms\n",
            "Speed: 3.9ms preprocess, 1095.5ms inference, 0.9ms postprocess per image at shape (1, 3, 448, 640)\n"
          ]
        },
        {
          "output_type": "stream",
          "name": "stderr",
          "text": [
            "\rProcessing images:   4%|▍         | 88/2071 [02:03<41:59,  1.27s/it]"
          ]
        },
        {
          "output_type": "stream",
          "name": "stdout",
          "text": [
            "\n",
            "image 1/1 /content/Olympia_new/renamed_image/C0530.JPG: 448x640 1 Right_eye, 1 Left_eye, 1091.9ms\n",
            "Speed: 3.5ms preprocess, 1091.9ms inference, 0.8ms postprocess per image at shape (1, 3, 448, 640)\n"
          ]
        },
        {
          "output_type": "stream",
          "name": "stderr",
          "text": [
            "\rProcessing images:   4%|▍         | 89/2071 [02:04<41:09,  1.25s/it]"
          ]
        },
        {
          "output_type": "stream",
          "name": "stdout",
          "text": [
            "\n",
            "image 1/1 /content/Olympia_new/renamed_image/C0072.JPG: 448x640 1 Right_eye, 1 Left_eye, 1086.1ms\n",
            "Speed: 3.4ms preprocess, 1086.1ms inference, 0.9ms postprocess per image at shape (1, 3, 448, 640)\n"
          ]
        },
        {
          "output_type": "stream",
          "name": "stderr",
          "text": [
            "\rProcessing images:   4%|▍         | 90/2071 [02:05<40:31,  1.23s/it]"
          ]
        },
        {
          "output_type": "stream",
          "name": "stdout",
          "text": [
            "\n",
            "image 1/1 /content/Olympia_new/renamed_image/A0411.JPG: 448x640 1 Right_eye, 1 Left_eye, 1092.5ms\n",
            "Speed: 3.7ms preprocess, 1092.5ms inference, 0.8ms postprocess per image at shape (1, 3, 448, 640)\n"
          ]
        },
        {
          "output_type": "stream",
          "name": "stderr",
          "text": [
            "\rProcessing images:   4%|▍         | 91/2071 [02:07<40:38,  1.23s/it]"
          ]
        },
        {
          "output_type": "stream",
          "name": "stdout",
          "text": [
            "\n",
            "image 1/1 /content/Olympia_new/renamed_image/A0135.JPG: 448x640 1 Right_eye, 1 Left_eye, 1696.6ms\n",
            "Speed: 3.4ms preprocess, 1696.6ms inference, 1.2ms postprocess per image at shape (1, 3, 448, 640)\n"
          ]
        },
        {
          "output_type": "stream",
          "name": "stderr",
          "text": [
            "\rProcessing images:   4%|▍         | 92/2071 [02:09<46:14,  1.40s/it]"
          ]
        },
        {
          "output_type": "stream",
          "name": "stdout",
          "text": [
            "\n",
            "image 1/1 /content/Olympia_new/renamed_image/C0653.JPG: 448x640 1 Right_eye, 1 Left_eye, 1764.1ms\n",
            "Speed: 5.2ms preprocess, 1764.1ms inference, 1.3ms postprocess per image at shape (1, 3, 448, 640)\n"
          ]
        },
        {
          "output_type": "stream",
          "name": "stderr",
          "text": [
            "\rProcessing images:   4%|▍         | 93/2071 [02:10<51:09,  1.55s/it]"
          ]
        },
        {
          "output_type": "stream",
          "name": "stdout",
          "text": [
            "\n",
            "image 1/1 /content/Olympia_new/renamed_image/A0588.JPG: 448x640 1 Right_eye, 1 Left_eye, 1194.7ms\n",
            "Speed: 5.1ms preprocess, 1194.7ms inference, 0.9ms postprocess per image at shape (1, 3, 448, 640)\n"
          ]
        },
        {
          "output_type": "stream",
          "name": "stderr",
          "text": [
            "\rProcessing images:   5%|▍         | 94/2071 [02:12<48:56,  1.49s/it]"
          ]
        },
        {
          "output_type": "stream",
          "name": "stdout",
          "text": [
            "\n",
            "image 1/1 /content/Olympia_new/renamed_image/A0032.JPG: 448x640 1 Right_eye, 1 Left_eye, 1092.6ms\n",
            "Speed: 3.7ms preprocess, 1092.6ms inference, 0.9ms postprocess per image at shape (1, 3, 448, 640)\n"
          ]
        },
        {
          "output_type": "stream",
          "name": "stderr",
          "text": [
            "\rProcessing images:   5%|▍         | 95/2071 [02:13<46:34,  1.41s/it]"
          ]
        },
        {
          "output_type": "stream",
          "name": "stdout",
          "text": [
            "\n",
            "image 1/1 /content/Olympia_new/renamed_image/C0297.JPG: 448x640 1 Right_eye, 1 Left_eye, 1097.6ms\n",
            "Speed: 3.7ms preprocess, 1097.6ms inference, 0.9ms postprocess per image at shape (1, 3, 448, 640)\n"
          ]
        },
        {
          "output_type": "stream",
          "name": "stderr",
          "text": [
            "\rProcessing images:   5%|▍         | 96/2071 [02:14<44:49,  1.36s/it]"
          ]
        },
        {
          "output_type": "stream",
          "name": "stdout",
          "text": [
            "\n",
            "image 1/1 /content/Olympia_new/renamed_image/A1036.JPG: 448x640 1 Right_eye, 1 Left_eye, 1100.5ms\n",
            "Speed: 3.7ms preprocess, 1100.5ms inference, 0.9ms postprocess per image at shape (1, 3, 448, 640)\n"
          ]
        },
        {
          "output_type": "stream",
          "name": "stderr",
          "text": [
            "\rProcessing images:   5%|▍         | 97/2071 [02:15<43:14,  1.31s/it]"
          ]
        },
        {
          "output_type": "stream",
          "name": "stdout",
          "text": [
            "\n",
            "image 1/1 /content/Olympia_new/renamed_image/C0274.JPG: 448x640 1 Right_eye, 1 Left_eye, 1152.5ms\n",
            "Speed: 3.7ms preprocess, 1152.5ms inference, 0.9ms postprocess per image at shape (1, 3, 448, 640)\n"
          ]
        },
        {
          "output_type": "stream",
          "name": "stderr",
          "text": [
            "\rProcessing images:   5%|▍         | 98/2071 [02:17<43:02,  1.31s/it]"
          ]
        },
        {
          "output_type": "stream",
          "name": "stdout",
          "text": [
            "\n",
            "image 1/1 /content/Olympia_new/renamed_image/A0139.JPG: 448x640 1 Right_eye, 1 Left_eye, 1089.3ms\n",
            "Speed: 3.4ms preprocess, 1089.3ms inference, 0.9ms postprocess per image at shape (1, 3, 448, 640)\n"
          ]
        },
        {
          "output_type": "stream",
          "name": "stderr",
          "text": [
            "\rProcessing images:   5%|▍         | 99/2071 [02:18<41:53,  1.27s/it]"
          ]
        },
        {
          "output_type": "stream",
          "name": "stdout",
          "text": [
            "\n",
            "image 1/1 /content/Olympia_new/renamed_image/A1010.JPG: 448x640 1 Right_eye, 1 Left_eye, 1085.1ms\n",
            "Speed: 3.6ms preprocess, 1085.1ms inference, 1.0ms postprocess per image at shape (1, 3, 448, 640)\n"
          ]
        },
        {
          "output_type": "stream",
          "name": "stderr",
          "text": [
            "\rProcessing images:   5%|▍         | 100/2071 [02:19<41:04,  1.25s/it]"
          ]
        },
        {
          "output_type": "stream",
          "name": "stdout",
          "text": [
            "\n",
            "image 1/1 /content/Olympia_new/renamed_image/C0150.JPG: 448x640 1 Right_eye, 1 Left_eye, 1089.6ms\n",
            "Speed: 3.5ms preprocess, 1089.6ms inference, 0.9ms postprocess per image at shape (1, 3, 448, 640)\n"
          ]
        },
        {
          "output_type": "stream",
          "name": "stderr",
          "text": [
            "\rProcessing images:   5%|▍         | 101/2071 [02:20<40:22,  1.23s/it]"
          ]
        },
        {
          "output_type": "stream",
          "name": "stdout",
          "text": [
            "\n",
            "image 1/1 /content/Olympia_new/renamed_image/C0777.JPG: 448x640 1 Right_eye, 1 Left_eye, 1521.7ms\n",
            "Speed: 3.8ms preprocess, 1521.7ms inference, 1.1ms postprocess per image at shape (1, 3, 448, 640)\n"
          ]
        },
        {
          "output_type": "stream",
          "name": "stderr",
          "text": [
            "\rProcessing images:   5%|▍         | 102/2071 [02:22<44:18,  1.35s/it]"
          ]
        },
        {
          "output_type": "stream",
          "name": "stdout",
          "text": [
            "\n",
            "image 1/1 /content/Olympia_new/renamed_image/C0684.JPG: 448x640 1 Right_eye, 1 Left_eye, 1767.7ms\n",
            "Speed: 5.3ms preprocess, 1767.7ms inference, 1.3ms postprocess per image at shape (1, 3, 448, 640)\n"
          ]
        },
        {
          "output_type": "stream",
          "name": "stderr",
          "text": [
            "\rProcessing images:   5%|▍         | 103/2071 [02:24<49:58,  1.52s/it]"
          ]
        },
        {
          "output_type": "stream",
          "name": "stdout",
          "text": [
            "\n",
            "image 1/1 /content/Olympia_new/renamed_image/A0585.JPG: 448x640 1 Right_eye, 1 Left_eye, 1310.6ms\n",
            "Speed: 5.1ms preprocess, 1310.6ms inference, 0.9ms postprocess per image at shape (1, 3, 448, 640)\n"
          ]
        },
        {
          "output_type": "stream",
          "name": "stderr",
          "text": [
            "\rProcessing images:   5%|▌         | 104/2071 [02:25<49:05,  1.50s/it]"
          ]
        },
        {
          "output_type": "stream",
          "name": "stdout",
          "text": [
            "\n",
            "image 1/1 /content/Olympia_new/renamed_image/A0281.JPG: 448x640 1 Right_eye, 1 Left_eye, 1081.4ms\n",
            "Speed: 3.5ms preprocess, 1081.4ms inference, 0.9ms postprocess per image at shape (1, 3, 448, 640)\n"
          ]
        },
        {
          "output_type": "stream",
          "name": "stderr",
          "text": [
            "\rProcessing images:   5%|▌         | 105/2071 [02:26<45:52,  1.40s/it]"
          ]
        },
        {
          "output_type": "stream",
          "name": "stdout",
          "text": [
            "\n",
            "image 1/1 /content/Olympia_new/renamed_image/A0455.JPG: 448x640 1 Right_eye, 1 Left_eye, 1082.3ms\n",
            "Speed: 3.5ms preprocess, 1082.3ms inference, 0.9ms postprocess per image at shape (1, 3, 448, 640)\n"
          ]
        },
        {
          "output_type": "stream",
          "name": "stderr",
          "text": [
            "\rProcessing images:   5%|▌         | 106/2071 [02:28<44:06,  1.35s/it]"
          ]
        },
        {
          "output_type": "stream",
          "name": "stdout",
          "text": [
            "\n",
            "image 1/1 /content/Olympia_new/renamed_image/C0555.JPG: 448x640 1 Right_eye, 1 Left_eye, 1089.6ms\n",
            "Speed: 3.5ms preprocess, 1089.6ms inference, 0.9ms postprocess per image at shape (1, 3, 448, 640)\n"
          ]
        },
        {
          "output_type": "stream",
          "name": "stderr",
          "text": [
            "\rProcessing images:   5%|▌         | 107/2071 [02:29<42:28,  1.30s/it]"
          ]
        },
        {
          "output_type": "stream",
          "name": "stdout",
          "text": [
            "\n",
            "image 1/1 /content/Olympia_new/renamed_image/A0987.JPG: 448x640 1 Right_eye, 1 Left_eye, 1104.5ms\n",
            "Speed: 3.6ms preprocess, 1104.5ms inference, 0.9ms postprocess per image at shape (1, 3, 448, 640)\n"
          ]
        },
        {
          "output_type": "stream",
          "name": "stderr",
          "text": [
            "\rProcessing images:   5%|▌         | 108/2071 [02:30<41:43,  1.28s/it]"
          ]
        },
        {
          "output_type": "stream",
          "name": "stdout",
          "text": [
            "\n",
            "image 1/1 /content/Olympia_new/renamed_image/A0199.JPG: 448x640 1 Right_eye, 1 Left_eye, 1103.0ms\n",
            "Speed: 3.6ms preprocess, 1103.0ms inference, 1.2ms postprocess per image at shape (1, 3, 448, 640)\n"
          ]
        },
        {
          "output_type": "stream",
          "name": "stderr",
          "text": [
            "\rProcessing images:   5%|▌         | 109/2071 [02:31<40:55,  1.25s/it]"
          ]
        },
        {
          "output_type": "stream",
          "name": "stdout",
          "text": [
            "\n",
            "image 1/1 /content/Olympia_new/renamed_image/A0474.JPG: 448x640 1 Right_eye, 1 Left_eye, 1124.4ms\n",
            "Speed: 3.5ms preprocess, 1124.4ms inference, 0.9ms postprocess per image at shape (1, 3, 448, 640)\n"
          ]
        },
        {
          "output_type": "stream",
          "name": "stderr",
          "text": [
            "\rProcessing images:   5%|▌         | 110/2071 [02:33<40:32,  1.24s/it]"
          ]
        },
        {
          "output_type": "stream",
          "name": "stdout",
          "text": [
            "\n",
            "image 1/1 /content/Olympia_new/renamed_image/C0952.JPG: 448x640 1 Right_eye, 1 Left_eye, 1115.3ms\n",
            "Speed: 3.8ms preprocess, 1115.3ms inference, 0.9ms postprocess per image at shape (1, 3, 448, 640)\n"
          ]
        },
        {
          "output_type": "stream",
          "name": "stderr",
          "text": [
            "\rProcessing images:   5%|▌         | 111/2071 [02:34<40:24,  1.24s/it]"
          ]
        },
        {
          "output_type": "stream",
          "name": "stdout",
          "text": [
            "\n",
            "image 1/1 /content/Olympia_new/renamed_image/C0616.JPG: 448x640 1 Right_eye, 1 Left_eye, 1329.8ms\n",
            "Speed: 3.5ms preprocess, 1329.8ms inference, 1.1ms postprocess per image at shape (1, 3, 448, 640)\n"
          ]
        },
        {
          "output_type": "stream",
          "name": "stderr",
          "text": [
            "\rProcessing images:   5%|▌         | 112/2071 [02:35<42:20,  1.30s/it]"
          ]
        },
        {
          "output_type": "stream",
          "name": "stdout",
          "text": [
            "\n",
            "image 1/1 /content/Olympia_new/renamed_image/C0166.JPG: 448x640 1 Right_eye, 1 Left_eye, 1768.8ms\n",
            "Speed: 5.3ms preprocess, 1768.8ms inference, 1.1ms postprocess per image at shape (1, 3, 448, 640)\n"
          ]
        },
        {
          "output_type": "stream",
          "name": "stderr",
          "text": [
            "\rProcessing images:   5%|▌         | 113/2071 [02:37<48:16,  1.48s/it]"
          ]
        },
        {
          "output_type": "stream",
          "name": "stdout",
          "text": [
            "\n",
            "image 1/1 /content/Olympia_new/renamed_image/C0849.JPG: 448x640 1 Right_eye, 1 Left_eye, 1500.7ms\n",
            "Speed: 5.2ms preprocess, 1500.7ms inference, 0.9ms postprocess per image at shape (1, 3, 448, 640)\n"
          ]
        },
        {
          "output_type": "stream",
          "name": "stderr",
          "text": [
            "\rProcessing images:   6%|▌         | 114/2071 [02:39<49:49,  1.53s/it]"
          ]
        },
        {
          "output_type": "stream",
          "name": "stdout",
          "text": [
            "\n",
            "image 1/1 /content/Olympia_new/renamed_image/C0118.JPG: 448x640 1 Right_eye, 1 Left_eye, 1095.4ms\n",
            "Speed: 3.7ms preprocess, 1095.4ms inference, 1.1ms postprocess per image at shape (1, 3, 448, 640)\n"
          ]
        },
        {
          "output_type": "stream",
          "name": "stderr",
          "text": [
            "\rProcessing images:   6%|▌         | 115/2071 [02:40<46:34,  1.43s/it]"
          ]
        },
        {
          "output_type": "stream",
          "name": "stdout",
          "text": [
            "\n",
            "image 1/1 /content/Olympia_new/renamed_image/C0175.JPG: 448x640 1 Right_eye, 1 Left_eye, 1112.5ms\n",
            "Speed: 3.7ms preprocess, 1112.5ms inference, 0.9ms postprocess per image at shape (1, 3, 448, 640)\n"
          ]
        },
        {
          "output_type": "stream",
          "name": "stderr",
          "text": [
            "\rProcessing images:   6%|▌         | 116/2071 [02:41<44:22,  1.36s/it]"
          ]
        },
        {
          "output_type": "stream",
          "name": "stdout",
          "text": [
            "\n",
            "image 1/1 /content/Olympia_new/renamed_image/A0872.JPG: 448x640 1 Right_eye, 1 Left_eye, 1093.8ms\n",
            "Speed: 3.5ms preprocess, 1093.8ms inference, 0.9ms postprocess per image at shape (1, 3, 448, 640)\n"
          ]
        },
        {
          "output_type": "stream",
          "name": "stderr",
          "text": [
            "\rProcessing images:   6%|▌         | 117/2071 [02:42<42:45,  1.31s/it]"
          ]
        },
        {
          "output_type": "stream",
          "name": "stdout",
          "text": [
            "\n",
            "image 1/1 /content/Olympia_new/renamed_image/C0528.JPG: 448x640 1 Right_eye, 1 Left_eye, 1089.4ms\n",
            "Speed: 3.4ms preprocess, 1089.4ms inference, 0.8ms postprocess per image at shape (1, 3, 448, 640)\n"
          ]
        },
        {
          "output_type": "stream",
          "name": "stderr",
          "text": [
            "\rProcessing images:   6%|▌         | 118/2071 [02:44<41:30,  1.28s/it]"
          ]
        },
        {
          "output_type": "stream",
          "name": "stdout",
          "text": [
            "\n",
            "image 1/1 /content/Olympia_new/renamed_image/A1000.JPG: 448x640 1 Right_eye, 1 Left_eye, 1094.3ms\n",
            "Speed: 3.6ms preprocess, 1094.3ms inference, 0.9ms postprocess per image at shape (1, 3, 448, 640)\n"
          ]
        },
        {
          "output_type": "stream",
          "name": "stderr",
          "text": [
            "\rProcessing images:   6%|▌         | 119/2071 [02:45<40:44,  1.25s/it]"
          ]
        },
        {
          "output_type": "stream",
          "name": "stdout",
          "text": [
            "\n",
            "image 1/1 /content/Olympia_new/renamed_image/A0486.JPG: 448x640 1 Right_eye, 1 Left_eye, 1105.5ms\n",
            "Speed: 3.5ms preprocess, 1105.5ms inference, 0.9ms postprocess per image at shape (1, 3, 448, 640)\n"
          ]
        },
        {
          "output_type": "stream",
          "name": "stderr",
          "text": [
            "\rProcessing images:   6%|▌         | 120/2071 [02:46<40:13,  1.24s/it]"
          ]
        },
        {
          "output_type": "stream",
          "name": "stdout",
          "text": [
            "\n",
            "image 1/1 /content/Olympia_new/renamed_image/A0254.JPG: 448x640 1 Right_eye, 1 Left_eye, 1119.5ms\n",
            "Speed: 4.7ms preprocess, 1119.5ms inference, 0.8ms postprocess per image at shape (1, 3, 448, 640)\n"
          ]
        },
        {
          "output_type": "stream",
          "name": "stderr",
          "text": [
            "\rProcessing images:   6%|▌         | 121/2071 [02:47<40:05,  1.23s/it]"
          ]
        },
        {
          "output_type": "stream",
          "name": "stdout",
          "text": [
            "\n",
            "image 1/1 /content/Olympia_new/renamed_image/C0818.JPG: 448x640 1 Right_eye, 1 Left_eye, 1097.7ms\n",
            "Speed: 3.6ms preprocess, 1097.7ms inference, 1.3ms postprocess per image at shape (1, 3, 448, 640)\n"
          ]
        },
        {
          "output_type": "stream",
          "name": "stderr",
          "text": [
            "\rProcessing images:   6%|▌         | 122/2071 [02:48<39:45,  1.22s/it]"
          ]
        },
        {
          "output_type": "stream",
          "name": "stdout",
          "text": [
            "\n",
            "image 1/1 /content/Olympia_new/renamed_image/C0146.JPG: 448x640 1 Right_eye, 1 Left_eye, 1746.2ms\n",
            "Speed: 5.2ms preprocess, 1746.2ms inference, 1.3ms postprocess per image at shape (1, 3, 448, 640)\n"
          ]
        },
        {
          "output_type": "stream",
          "name": "stderr",
          "text": [
            "\rProcessing images:   6%|▌         | 123/2071 [02:50<46:00,  1.42s/it]"
          ]
        },
        {
          "output_type": "stream",
          "name": "stdout",
          "text": [
            "\n",
            "image 1/1 /content/Olympia_new/renamed_image/C0211.JPG: 448x640 1 Right_eye, 1 Left_eye, 1483.0ms\n",
            "Speed: 5.4ms preprocess, 1483.0ms inference, 0.9ms postprocess per image at shape (1, 3, 448, 640)\n"
          ]
        },
        {
          "output_type": "stream",
          "name": "stderr",
          "text": [
            "\rProcessing images:   6%|▌         | 124/2071 [02:53<55:03,  1.70s/it]"
          ]
        },
        {
          "output_type": "stream",
          "name": "stdout",
          "text": [
            "\n",
            "image 1/1 /content/Olympia_new/renamed_image/C0795.JPG: 448x640 1 Right_eye, 1 Left_eye, 1088.6ms\n",
            "Speed: 3.5ms preprocess, 1088.6ms inference, 0.9ms postprocess per image at shape (1, 3, 448, 640)\n"
          ]
        },
        {
          "output_type": "stream",
          "name": "stderr",
          "text": [
            "\rProcessing images:   6%|▌         | 125/2071 [02:54<50:04,  1.54s/it]"
          ]
        },
        {
          "output_type": "stream",
          "name": "stdout",
          "text": [
            "\n",
            "image 1/1 /content/Olympia_new/renamed_image/A0490.JPG: 448x640 1 Right_eye, 1 Left_eye, 1092.2ms\n",
            "Speed: 3.6ms preprocess, 1092.2ms inference, 0.9ms postprocess per image at shape (1, 3, 448, 640)\n"
          ]
        },
        {
          "output_type": "stream",
          "name": "stderr",
          "text": [
            "\rProcessing images:   6%|▌         | 126/2071 [02:55<46:36,  1.44s/it]"
          ]
        },
        {
          "output_type": "stream",
          "name": "stdout",
          "text": [
            "\n",
            "image 1/1 /content/Olympia_new/renamed_image/A0450.JPG: 448x640 1 Right_eye, 1 Left_eye, 1104.0ms\n",
            "Speed: 3.8ms preprocess, 1104.0ms inference, 0.9ms postprocess per image at shape (1, 3, 448, 640)\n"
          ]
        },
        {
          "output_type": "stream",
          "name": "stderr",
          "text": [
            "\rProcessing images:   6%|▌         | 127/2071 [02:56<44:42,  1.38s/it]"
          ]
        },
        {
          "output_type": "stream",
          "name": "stdout",
          "text": [
            "\n",
            "image 1/1 /content/Olympia_new/renamed_image/C0162.JPG: 448x640 1 Right_eye, 1 Left_eye, 1096.0ms\n",
            "Speed: 3.6ms preprocess, 1096.0ms inference, 0.9ms postprocess per image at shape (1, 3, 448, 640)\n"
          ]
        },
        {
          "output_type": "stream",
          "name": "stderr",
          "text": [
            "\rProcessing images:   6%|▌         | 128/2071 [02:57<42:45,  1.32s/it]"
          ]
        },
        {
          "output_type": "stream",
          "name": "stdout",
          "text": [
            "\n",
            "image 1/1 /content/Olympia_new/renamed_image/A0704.JPG: 448x640 1 Right_eye, 1 Left_eye, 1107.1ms\n",
            "Speed: 3.6ms preprocess, 1107.1ms inference, 0.9ms postprocess per image at shape (1, 3, 448, 640)\n"
          ]
        },
        {
          "output_type": "stream",
          "name": "stderr",
          "text": [
            "\rProcessing images:   6%|▌         | 129/2071 [02:59<41:35,  1.29s/it]"
          ]
        },
        {
          "output_type": "stream",
          "name": "stdout",
          "text": [
            "\n",
            "image 1/1 /content/Olympia_new/renamed_image/A0862.JPG: 448x640 1 Right_eye, 1 Left_eye, 1131.9ms\n",
            "Speed: 3.9ms preprocess, 1131.9ms inference, 0.9ms postprocess per image at shape (1, 3, 448, 640)\n"
          ]
        },
        {
          "output_type": "stream",
          "name": "stderr",
          "text": [
            "\rProcessing images:   6%|▋         | 130/2071 [03:00<41:07,  1.27s/it]"
          ]
        },
        {
          "output_type": "stream",
          "name": "stdout",
          "text": [
            "\n",
            "image 1/1 /content/Olympia_new/renamed_image/C0836.JPG: 448x640 1 Right_eye, 1 Left_eye, 1123.0ms\n",
            "Speed: 3.6ms preprocess, 1123.0ms inference, 0.9ms postprocess per image at shape (1, 3, 448, 640)\n"
          ]
        },
        {
          "output_type": "stream",
          "name": "stderr",
          "text": [
            "\rProcessing images:   6%|▋         | 131/2071 [03:01<40:38,  1.26s/it]"
          ]
        },
        {
          "output_type": "stream",
          "name": "stdout",
          "text": [
            "\n",
            "image 1/1 /content/Olympia_new/renamed_image/C1030.JPG: 448x640 1 Right_eye, 1 Left_eye, 1173.5ms\n",
            "Speed: 3.7ms preprocess, 1173.5ms inference, 1.1ms postprocess per image at shape (1, 3, 448, 640)\n"
          ]
        },
        {
          "output_type": "stream",
          "name": "stderr",
          "text": [
            "\rProcessing images:   6%|▋         | 132/2071 [03:02<40:53,  1.27s/it]"
          ]
        },
        {
          "output_type": "stream",
          "name": "stdout",
          "text": [
            "\n",
            "image 1/1 /content/Olympia_new/renamed_image/A0234.JPG: 448x640 1 Right_eye, 1 Left_eye, 1771.2ms\n",
            "Speed: 5.2ms preprocess, 1771.2ms inference, 1.1ms postprocess per image at shape (1, 3, 448, 640)\n"
          ]
        },
        {
          "output_type": "stream",
          "name": "stderr",
          "text": [
            "\rProcessing images:   6%|▋         | 133/2071 [03:04<47:02,  1.46s/it]"
          ]
        },
        {
          "output_type": "stream",
          "name": "stdout",
          "text": [
            "\n",
            "image 1/1 /content/Olympia_new/renamed_image/A0560.JPG: 448x640 1 Right_eye, 1 Left_eye, 1669.8ms\n",
            "Speed: 5.2ms preprocess, 1669.8ms inference, 0.9ms postprocess per image at shape (1, 3, 448, 640)\n"
          ]
        },
        {
          "output_type": "stream",
          "name": "stderr",
          "text": [
            "\rProcessing images:   6%|▋         | 134/2071 [03:06<50:32,  1.57s/it]"
          ]
        },
        {
          "output_type": "stream",
          "name": "stdout",
          "text": [
            "\n",
            "image 1/1 /content/Olympia_new/renamed_image/C0768.JPG: 448x640 1 Right_eye, 1 Left_eye, 1092.3ms\n",
            "Speed: 3.5ms preprocess, 1092.3ms inference, 0.9ms postprocess per image at shape (1, 3, 448, 640)\n"
          ]
        },
        {
          "output_type": "stream",
          "name": "stderr",
          "text": [
            "\rProcessing images:   7%|▋         | 135/2071 [03:07<46:51,  1.45s/it]"
          ]
        },
        {
          "output_type": "stream",
          "name": "stdout",
          "text": [
            "\n",
            "image 1/1 /content/Olympia_new/renamed_image/C0694.JPG: 448x640 1 Right_eye, 1 Left_eye, 1088.7ms\n",
            "Speed: 3.5ms preprocess, 1088.7ms inference, 0.9ms postprocess per image at shape (1, 3, 448, 640)\n"
          ]
        },
        {
          "output_type": "stream",
          "name": "stderr",
          "text": [
            "\rProcessing images:   7%|▋         | 136/2071 [03:08<44:17,  1.37s/it]"
          ]
        },
        {
          "output_type": "stream",
          "name": "stdout",
          "text": [
            "\n",
            "image 1/1 /content/Olympia_new/renamed_image/C0243.JPG: 448x640 1 Right_eye, 1 Left_eye, 1105.9ms\n",
            "Speed: 3.5ms preprocess, 1105.9ms inference, 0.9ms postprocess per image at shape (1, 3, 448, 640)\n"
          ]
        },
        {
          "output_type": "stream",
          "name": "stderr",
          "text": [
            "\rProcessing images:   7%|▋         | 137/2071 [03:10<43:10,  1.34s/it]"
          ]
        },
        {
          "output_type": "stream",
          "name": "stdout",
          "text": [
            "\n",
            "image 1/1 /content/Olympia_new/renamed_image/A0788.JPG: 448x640 1 Right_eye, 1 Left_eye, 1096.0ms\n",
            "Speed: 3.6ms preprocess, 1096.0ms inference, 0.9ms postprocess per image at shape (1, 3, 448, 640)\n"
          ]
        },
        {
          "output_type": "stream",
          "name": "stderr",
          "text": [
            "\rProcessing images:   7%|▋         | 138/2071 [03:11<41:45,  1.30s/it]"
          ]
        },
        {
          "output_type": "stream",
          "name": "stdout",
          "text": [
            "\n",
            "image 1/1 /content/Olympia_new/renamed_image/A0775.JPG: 448x640 1 Right_eye, 1 Left_eye, 1173.4ms\n",
            "Speed: 3.5ms preprocess, 1173.4ms inference, 0.9ms postprocess per image at shape (1, 3, 448, 640)\n"
          ]
        },
        {
          "output_type": "stream",
          "name": "stderr",
          "text": [
            "\rProcessing images:   7%|▋         | 139/2071 [03:12<41:30,  1.29s/it]"
          ]
        },
        {
          "output_type": "stream",
          "name": "stdout",
          "text": [
            "\n",
            "image 1/1 /content/Olympia_new/renamed_image/C0111.JPG: 448x640 1 Right_eye, 1 Left_eye, 1096.8ms\n",
            "Speed: 3.5ms preprocess, 1096.8ms inference, 0.9ms postprocess per image at shape (1, 3, 448, 640)\n"
          ]
        },
        {
          "output_type": "stream",
          "name": "stderr",
          "text": [
            "\rProcessing images:   7%|▋         | 140/2071 [03:13<40:33,  1.26s/it]"
          ]
        },
        {
          "output_type": "stream",
          "name": "stdout",
          "text": [
            "\n",
            "image 1/1 /content/Olympia_new/renamed_image/A0866.JPG: 448x640 1 Right_eye, 1 Left_eye, 1096.8ms\n",
            "Speed: 3.5ms preprocess, 1096.8ms inference, 0.9ms postprocess per image at shape (1, 3, 448, 640)\n"
          ]
        },
        {
          "output_type": "stream",
          "name": "stderr",
          "text": [
            "\rProcessing images:   7%|▋         | 141/2071 [03:15<39:55,  1.24s/it]"
          ]
        },
        {
          "output_type": "stream",
          "name": "stdout",
          "text": [
            "\n",
            "image 1/1 /content/Olympia_new/renamed_image/C0718.JPG: 448x640 1 Right_eye, 1 Left_eye, 1099.7ms\n",
            "Speed: 3.7ms preprocess, 1099.7ms inference, 0.9ms postprocess per image at shape (1, 3, 448, 640)\n"
          ]
        },
        {
          "output_type": "stream",
          "name": "stderr",
          "text": [
            "\rProcessing images:   7%|▋         | 142/2071 [03:16<39:32,  1.23s/it]"
          ]
        },
        {
          "output_type": "stream",
          "name": "stdout",
          "text": [
            "\n",
            "image 1/1 /content/Olympia_new/renamed_image/A0414.JPG: 448x640 1 Right_eye, 1 Left_eye, 1806.0ms\n",
            "Speed: 5.9ms preprocess, 1806.0ms inference, 1.3ms postprocess per image at shape (1, 3, 448, 640)\n"
          ]
        },
        {
          "output_type": "stream",
          "name": "stderr",
          "text": [
            "\rProcessing images:   7%|▋         | 143/2071 [03:18<46:44,  1.45s/it]"
          ]
        },
        {
          "output_type": "stream",
          "name": "stdout",
          "text": [
            "\n",
            "image 1/1 /content/Olympia_new/renamed_image/C0209.JPG: 448x640 1 Right_eye, 1 Left_eye, 1538.8ms\n",
            "Speed: 5.7ms preprocess, 1538.8ms inference, 0.9ms postprocess per image at shape (1, 3, 448, 640)\n"
          ]
        },
        {
          "output_type": "stream",
          "name": "stderr",
          "text": [
            "\rProcessing images:   7%|▋         | 144/2071 [03:20<55:59,  1.74s/it]"
          ]
        },
        {
          "output_type": "stream",
          "name": "stdout",
          "text": [
            "\n",
            "image 1/1 /content/Olympia_new/renamed_image/C0523.JPG: 448x640 1 Right_eye, 1 Left_eye, 1087.2ms\n",
            "Speed: 3.5ms preprocess, 1087.2ms inference, 0.9ms postprocess per image at shape (1, 3, 448, 640)\n"
          ]
        },
        {
          "output_type": "stream",
          "name": "stderr",
          "text": [
            "\rProcessing images:   7%|▋         | 145/2071 [03:21<50:34,  1.58s/it]"
          ]
        },
        {
          "output_type": "stream",
          "name": "stdout",
          "text": [
            "\n",
            "image 1/1 /content/Olympia_new/renamed_image/C0190.JPG: 448x640 1 Right_eye, 1 Left_eye, 1083.4ms\n",
            "Speed: 3.8ms preprocess, 1083.4ms inference, 0.9ms postprocess per image at shape (1, 3, 448, 640)\n"
          ]
        },
        {
          "output_type": "stream",
          "name": "stderr",
          "text": [
            "\rProcessing images:   7%|▋         | 146/2071 [03:23<51:11,  1.60s/it]"
          ]
        },
        {
          "output_type": "stream",
          "name": "stdout",
          "text": [
            "\n",
            "image 1/1 /content/Olympia_new/renamed_image/A0670.JPG: 448x640 1 Right_eye, 1 Left_eye, 1091.2ms\n",
            "Speed: 3.5ms preprocess, 1091.2ms inference, 0.9ms postprocess per image at shape (1, 3, 448, 640)\n"
          ]
        },
        {
          "output_type": "stream",
          "name": "stderr",
          "text": [
            "\rProcessing images:   7%|▋         | 147/2071 [03:24<47:14,  1.47s/it]"
          ]
        },
        {
          "output_type": "stream",
          "name": "stdout",
          "text": [
            "\n",
            "image 1/1 /content/Olympia_new/renamed_image/C0328.JPG: 448x640 1 Right_eye, 1 Left_eye, 1101.7ms\n",
            "Speed: 3.8ms preprocess, 1101.7ms inference, 0.9ms postprocess per image at shape (1, 3, 448, 640)\n"
          ]
        },
        {
          "output_type": "stream",
          "name": "stderr",
          "text": [
            "\rProcessing images:   7%|▋         | 148/2071 [03:25<44:56,  1.40s/it]"
          ]
        },
        {
          "output_type": "stream",
          "name": "stdout",
          "text": [
            "\n",
            "image 1/1 /content/Olympia_new/renamed_image/A0477.JPG: 448x640 1 Right_eye, 1 Left_eye, 1160.7ms\n",
            "Speed: 3.5ms preprocess, 1160.7ms inference, 0.9ms postprocess per image at shape (1, 3, 448, 640)\n"
          ]
        },
        {
          "output_type": "stream",
          "name": "stderr",
          "text": [
            "\rProcessing images:   7%|▋         | 149/2071 [03:27<43:28,  1.36s/it]"
          ]
        },
        {
          "output_type": "stream",
          "name": "stdout",
          "text": [
            "\n",
            "image 1/1 /content/Olympia_new/renamed_image/A0418.JPG: 448x640 1 Right_eye, 1 Left_eye, 1084.5ms\n",
            "Speed: 4.2ms preprocess, 1084.5ms inference, 0.8ms postprocess per image at shape (1, 3, 448, 640)\n"
          ]
        },
        {
          "output_type": "stream",
          "name": "stderr",
          "text": [
            "\rProcessing images:   7%|▋         | 150/2071 [03:28<42:17,  1.32s/it]"
          ]
        },
        {
          "output_type": "stream",
          "name": "stdout",
          "text": [
            "\n",
            "image 1/1 /content/Olympia_new/renamed_image/A0681.JPG: 448x640 1 Right_eye, 1 Left_eye, 1107.1ms\n",
            "Speed: 3.5ms preprocess, 1107.1ms inference, 0.9ms postprocess per image at shape (1, 3, 448, 640)\n"
          ]
        },
        {
          "output_type": "stream",
          "name": "stderr",
          "text": [
            "\rProcessing images:   7%|▋         | 151/2071 [03:29<41:05,  1.28s/it]"
          ]
        },
        {
          "output_type": "stream",
          "name": "stdout",
          "text": [
            "\n",
            "image 1/1 /content/Olympia_new/renamed_image/A0512.JPG: 448x640 1 Right_eye, 1 Left_eye, 1423.0ms\n",
            "Speed: 3.5ms preprocess, 1423.0ms inference, 1.2ms postprocess per image at shape (1, 3, 448, 640)\n"
          ]
        },
        {
          "output_type": "stream",
          "name": "stderr",
          "text": [
            "\rProcessing images:   7%|▋         | 152/2071 [03:31<43:22,  1.36s/it]"
          ]
        },
        {
          "output_type": "stream",
          "name": "stdout",
          "text": [
            "\n",
            "image 1/1 /content/Olympia_new/renamed_image/A0247.JPG: 448x640 1 Right_eye, 1 Left_eye, 2024.0ms\n",
            "Speed: 5.3ms preprocess, 2024.0ms inference, 1.1ms postprocess per image at shape (1, 3, 448, 640)\n"
          ]
        },
        {
          "output_type": "stream",
          "name": "stderr",
          "text": [
            "\rProcessing images:   7%|▋         | 153/2071 [03:33<51:01,  1.60s/it]"
          ]
        },
        {
          "output_type": "stream",
          "name": "stdout",
          "text": [
            "\n",
            "image 1/1 /content/Olympia_new/renamed_image/A0916.JPG: 448x640 1 Right_eye, 1 Left_eye, 1971.1ms\n",
            "Speed: 7.9ms preprocess, 1971.1ms inference, 1.0ms postprocess per image at shape (1, 3, 448, 640)\n"
          ]
        },
        {
          "output_type": "stream",
          "name": "stderr",
          "text": [
            "\rProcessing images:   7%|▋         | 154/2071 [03:35<56:37,  1.77s/it]"
          ]
        },
        {
          "output_type": "stream",
          "name": "stdout",
          "text": [
            "\n",
            "image 1/1 /content/Olympia_new/renamed_image/A0666.JPG: 448x640 1 Right_eye, 1 Left_eye, 1286.8ms\n",
            "Speed: 7.1ms preprocess, 1286.8ms inference, 1.0ms postprocess per image at shape (1, 3, 448, 640)\n"
          ]
        },
        {
          "output_type": "stream",
          "name": "stderr",
          "text": [
            "\rProcessing images:   7%|▋         | 155/2071 [03:36<53:11,  1.67s/it]"
          ]
        },
        {
          "output_type": "stream",
          "name": "stdout",
          "text": [
            "\n",
            "image 1/1 /content/Olympia_new/renamed_image/C0031.JPG: 448x640 1 Right_eye, 1 Left_eye, 2933.4ms\n",
            "Speed: 3.9ms preprocess, 2933.4ms inference, 1.0ms postprocess per image at shape (1, 3, 448, 640)\n"
          ]
        },
        {
          "output_type": "stream",
          "name": "stderr",
          "text": [
            "\rProcessing images:   8%|▊         | 156/2071 [03:39<1:06:24,  2.08s/it]"
          ]
        },
        {
          "output_type": "stream",
          "name": "stdout",
          "text": [
            "\n",
            "image 1/1 /content/Olympia_new/renamed_image/A0873.JPG: 448x640 1 Right_eye, 1 Left_eye, 1778.5ms\n",
            "Speed: 3.9ms preprocess, 1778.5ms inference, 1.1ms postprocess per image at shape (1, 3, 448, 640)\n"
          ]
        },
        {
          "output_type": "stream",
          "name": "stderr",
          "text": [
            "\rProcessing images:   8%|▊         | 157/2071 [03:41<1:04:30,  2.02s/it]"
          ]
        },
        {
          "output_type": "stream",
          "name": "stdout",
          "text": [
            "\n",
            "image 1/1 /content/Olympia_new/renamed_image/C0216.JPG: 448x640 1 Right_eye, 1 Left_eye, 1085.6ms\n",
            "Speed: 4.1ms preprocess, 1085.6ms inference, 0.9ms postprocess per image at shape (1, 3, 448, 640)\n"
          ]
        },
        {
          "output_type": "stream",
          "name": "stderr",
          "text": [
            "\rProcessing images:   8%|▊         | 158/2071 [03:43<1:02:43,  1.97s/it]"
          ]
        },
        {
          "output_type": "stream",
          "name": "stdout",
          "text": [
            "\n",
            "image 1/1 /content/Olympia_new/renamed_image/C0384.JPG: 448x640 1 Right_eye, 1 Left_eye, 1080.1ms\n",
            "Speed: 3.7ms preprocess, 1080.1ms inference, 0.9ms postprocess per image at shape (1, 3, 448, 640)\n"
          ]
        },
        {
          "output_type": "stream",
          "name": "stderr",
          "text": [
            "\rProcessing images:   8%|▊         | 159/2071 [03:44<55:37,  1.75s/it]  "
          ]
        },
        {
          "output_type": "stream",
          "name": "stdout",
          "text": [
            "\n",
            "image 1/1 /content/Olympia_new/renamed_image/A0996.JPG: 448x640 1 Right_eye, 1 Left_eye, 1749.4ms\n",
            "Speed: 5.3ms preprocess, 1749.4ms inference, 1.1ms postprocess per image at shape (1, 3, 448, 640)\n"
          ]
        },
        {
          "output_type": "stream",
          "name": "stderr",
          "text": [
            "\rProcessing images:   8%|▊         | 160/2071 [03:46<56:56,  1.79s/it]"
          ]
        },
        {
          "output_type": "stream",
          "name": "stdout",
          "text": [
            "\n",
            "image 1/1 /content/Olympia_new/renamed_image/A0535.JPG: 448x640 1 Right_eye, 1 Left_eye, 1769.7ms\n",
            "Speed: 5.2ms preprocess, 1769.7ms inference, 1.3ms postprocess per image at shape (1, 3, 448, 640)\n"
          ]
        },
        {
          "output_type": "stream",
          "name": "stderr",
          "text": [
            "\rProcessing images:   8%|▊         | 161/2071 [03:48<58:01,  1.82s/it]"
          ]
        },
        {
          "output_type": "stream",
          "name": "stdout",
          "text": [
            "\n",
            "image 1/1 /content/Olympia_new/renamed_image/A0112.JPG: 448x640 1 Right_eye, 1 Left_eye, 1121.9ms\n",
            "Speed: 5.5ms preprocess, 1121.9ms inference, 0.9ms postprocess per image at shape (1, 3, 448, 640)\n"
          ]
        },
        {
          "output_type": "stream",
          "name": "stderr",
          "text": [
            "\rProcessing images:   8%|▊         | 162/2071 [03:49<52:33,  1.65s/it]"
          ]
        },
        {
          "output_type": "stream",
          "name": "stdout",
          "text": [
            "\n",
            "image 1/1 /content/Olympia_new/renamed_image/A0751.JPG: 448x640 1 Right_eye, 1 Left_eye, 1102.4ms\n",
            "Speed: 3.6ms preprocess, 1102.4ms inference, 0.9ms postprocess per image at shape (1, 3, 448, 640)\n"
          ]
        },
        {
          "output_type": "stream",
          "name": "stderr",
          "text": [
            "\rProcessing images:   8%|▊         | 163/2071 [03:51<48:15,  1.52s/it]"
          ]
        },
        {
          "output_type": "stream",
          "name": "stdout",
          "text": [
            "\n",
            "image 1/1 /content/Olympia_new/renamed_image/C0300.JPG: 448x640 1 Right_eye, 1 Left_eye, 1153.8ms\n",
            "Speed: 3.7ms preprocess, 1153.8ms inference, 0.9ms postprocess per image at shape (1, 3, 448, 640)\n"
          ]
        },
        {
          "output_type": "stream",
          "name": "stderr",
          "text": [
            "\rProcessing images:   8%|▊         | 164/2071 [03:52<46:15,  1.46s/it]"
          ]
        },
        {
          "output_type": "stream",
          "name": "stdout",
          "text": [
            "\n",
            "image 1/1 /content/Olympia_new/renamed_image/C0484.JPG: 448x640 1 Right_eye, 1 Left_eye, 1087.7ms\n",
            "Speed: 4.1ms preprocess, 1087.7ms inference, 0.9ms postprocess per image at shape (1, 3, 448, 640)\n"
          ]
        },
        {
          "output_type": "stream",
          "name": "stderr",
          "text": [
            "\rProcessing images:   8%|▊         | 165/2071 [03:53<43:38,  1.37s/it]"
          ]
        },
        {
          "output_type": "stream",
          "name": "stdout",
          "text": [
            "\n",
            "image 1/1 /content/Olympia_new/renamed_image/A1030.JPG: 448x640 1 Right_eye, 1 Left_eye, 1102.3ms\n",
            "Speed: 3.5ms preprocess, 1102.3ms inference, 0.9ms postprocess per image at shape (1, 3, 448, 640)\n"
          ]
        },
        {
          "output_type": "stream",
          "name": "stderr",
          "text": [
            "\rProcessing images:   8%|▊         | 166/2071 [03:54<42:03,  1.32s/it]"
          ]
        },
        {
          "output_type": "stream",
          "name": "stdout",
          "text": [
            "\n",
            "image 1/1 /content/Olympia_new/renamed_image/A0369.JPG: 448x640 1 Right_eye, 1 Left_eye, 1092.7ms\n",
            "Speed: 3.7ms preprocess, 1092.7ms inference, 0.9ms postprocess per image at shape (1, 3, 448, 640)\n"
          ]
        },
        {
          "output_type": "stream",
          "name": "stderr",
          "text": [
            "\rProcessing images:   8%|▊         | 167/2071 [03:56<41:10,  1.30s/it]"
          ]
        },
        {
          "output_type": "stream",
          "name": "stdout",
          "text": [
            "\n",
            "image 1/1 /content/Olympia_new/renamed_image/A0239.JPG: 448x640 1 Right_eye, 1 Left_eye, 1097.3ms\n",
            "Speed: 3.6ms preprocess, 1097.3ms inference, 0.9ms postprocess per image at shape (1, 3, 448, 640)\n"
          ]
        },
        {
          "output_type": "stream",
          "name": "stderr",
          "text": [
            "\rProcessing images:   8%|▊         | 168/2071 [03:57<40:11,  1.27s/it]"
          ]
        },
        {
          "output_type": "stream",
          "name": "stdout",
          "text": [
            "\n",
            "image 1/1 /content/Olympia_new/renamed_image/A0178.JPG: 448x640 1 Right_eye, 1 Left_eye, 1101.1ms\n",
            "Speed: 3.4ms preprocess, 1101.1ms inference, 0.9ms postprocess per image at shape (1, 3, 448, 640)\n"
          ]
        },
        {
          "output_type": "stream",
          "name": "stderr",
          "text": [
            "\rProcessing images:   8%|▊         | 169/2071 [03:58<39:29,  1.25s/it]"
          ]
        },
        {
          "output_type": "stream",
          "name": "stdout",
          "text": [
            "\n",
            "image 1/1 /content/Olympia_new/renamed_image/C0873.JPG: 448x640 1 Right_eye, 1 Left_eye, 1636.7ms\n",
            "Speed: 3.7ms preprocess, 1636.7ms inference, 1.1ms postprocess per image at shape (1, 3, 448, 640)\n"
          ]
        },
        {
          "output_type": "stream",
          "name": "stderr",
          "text": [
            "\rProcessing images:   8%|▊         | 170/2071 [04:00<44:17,  1.40s/it]"
          ]
        },
        {
          "output_type": "stream",
          "name": "stdout",
          "text": [
            "\n",
            "image 1/1 /content/Olympia_new/renamed_image/A0192.JPG: 448x640 1 Right_eye, 1 Left_eye, 1737.7ms\n",
            "Speed: 5.1ms preprocess, 1737.7ms inference, 1.3ms postprocess per image at shape (1, 3, 448, 640)\n"
          ]
        },
        {
          "output_type": "stream",
          "name": "stderr",
          "text": [
            "\rProcessing images:   8%|▊         | 171/2071 [04:02<48:40,  1.54s/it]"
          ]
        },
        {
          "output_type": "stream",
          "name": "stdout",
          "text": [
            "\n",
            "image 1/1 /content/Olympia_new/renamed_image/C0430.JPG: 448x640 1 Right_eye, 1 Left_eye, 1412.3ms\n",
            "Speed: 5.2ms preprocess, 1412.3ms inference, 0.9ms postprocess per image at shape (1, 3, 448, 640)\n"
          ]
        },
        {
          "output_type": "stream",
          "name": "stderr",
          "text": [
            "\rProcessing images:   8%|▊         | 172/2071 [04:03<48:49,  1.54s/it]"
          ]
        },
        {
          "output_type": "stream",
          "name": "stdout",
          "text": [
            "\n",
            "image 1/1 /content/Olympia_new/renamed_image/A0201.JPG: 448x640 1 Right_eye, 1 Left_eye, 1091.8ms\n",
            "Speed: 3.5ms preprocess, 1091.8ms inference, 0.9ms postprocess per image at shape (1, 3, 448, 640)\n"
          ]
        },
        {
          "output_type": "stream",
          "name": "stderr",
          "text": [
            "\rProcessing images:   8%|▊         | 173/2071 [04:04<45:25,  1.44s/it]"
          ]
        },
        {
          "output_type": "stream",
          "name": "stdout",
          "text": [
            "\n",
            "image 1/1 /content/Olympia_new/renamed_image/C0912.JPG: 448x640 1 Right_eye, 1 Left_eye, 1106.4ms\n",
            "Speed: 3.6ms preprocess, 1106.4ms inference, 0.9ms postprocess per image at shape (1, 3, 448, 640)\n"
          ]
        },
        {
          "output_type": "stream",
          "name": "stderr",
          "text": [
            "\rProcessing images:   8%|▊         | 174/2071 [04:06<43:14,  1.37s/it]"
          ]
        },
        {
          "output_type": "stream",
          "name": "stdout",
          "text": [
            "\n",
            "image 1/1 /content/Olympia_new/renamed_image/A0464.JPG: 448x640 1 Right_eye, 1 Left_eye, 1089.4ms\n",
            "Speed: 3.5ms preprocess, 1089.4ms inference, 0.9ms postprocess per image at shape (1, 3, 448, 640)\n"
          ]
        },
        {
          "output_type": "stream",
          "name": "stderr",
          "text": [
            "\rProcessing images:   8%|▊         | 175/2071 [04:07<41:29,  1.31s/it]"
          ]
        },
        {
          "output_type": "stream",
          "name": "stdout",
          "text": [
            "\n",
            "image 1/1 /content/Olympia_new/renamed_image/A0410.JPG: 448x640 1 Right_eye, 1 Left_eye, 1101.1ms\n",
            "Speed: 3.7ms preprocess, 1101.1ms inference, 0.9ms postprocess per image at shape (1, 3, 448, 640)\n"
          ]
        },
        {
          "output_type": "stream",
          "name": "stderr",
          "text": [
            "\rProcessing images:   8%|▊         | 176/2071 [04:08<40:47,  1.29s/it]"
          ]
        },
        {
          "output_type": "stream",
          "name": "stdout",
          "text": [
            "\n",
            "image 1/1 /content/Olympia_new/renamed_image/C0331.JPG: 448x640 1 Right_eye, 1 Left_eye, 1153.0ms\n",
            "Speed: 3.8ms preprocess, 1153.0ms inference, 0.9ms postprocess per image at shape (1, 3, 448, 640)\n"
          ]
        },
        {
          "output_type": "stream",
          "name": "stderr",
          "text": [
            "\rProcessing images:   9%|▊         | 177/2071 [04:09<40:51,  1.29s/it]"
          ]
        },
        {
          "output_type": "stream",
          "name": "stdout",
          "text": [
            "\n",
            "image 1/1 /content/Olympia_new/renamed_image/A0338.JPG: 448x640 1 Right_eye, 1 Left_eye, 1129.5ms\n",
            "Speed: 3.7ms preprocess, 1129.5ms inference, 1.3ms postprocess per image at shape (1, 3, 448, 640)\n"
          ]
        },
        {
          "output_type": "stream",
          "name": "stderr",
          "text": [
            "\rProcessing images:   9%|▊         | 178/2071 [04:11<40:51,  1.30s/it]"
          ]
        },
        {
          "output_type": "stream",
          "name": "stdout",
          "text": [
            "\n",
            "image 1/1 /content/Olympia_new/renamed_image/C0097.JPG: 448x640 1 Right_eye, 1 Left_eye, 1115.6ms\n",
            "Speed: 3.8ms preprocess, 1115.6ms inference, 0.9ms postprocess per image at shape (1, 3, 448, 640)\n"
          ]
        },
        {
          "output_type": "stream",
          "name": "stderr",
          "text": [
            "\rProcessing images:   9%|▊         | 179/2071 [04:12<40:09,  1.27s/it]"
          ]
        },
        {
          "output_type": "stream",
          "name": "stdout",
          "text": [
            "\n",
            "image 1/1 /content/Olympia_new/renamed_image/A0533.JPG: 448x640 1 Right_eye, 1 Left_eye, 1485.9ms\n",
            "Speed: 5.8ms preprocess, 1485.9ms inference, 1.2ms postprocess per image at shape (1, 3, 448, 640)\n"
          ]
        },
        {
          "output_type": "stream",
          "name": "stderr",
          "text": [
            "\rProcessing images:   9%|▊         | 180/2071 [04:13<43:13,  1.37s/it]"
          ]
        },
        {
          "output_type": "stream",
          "name": "stdout",
          "text": [
            "\n",
            "image 1/1 /content/Olympia_new/renamed_image/A0719.JPG: 448x640 1 Right_eye, 1 Left_eye, 1747.0ms\n",
            "Speed: 5.2ms preprocess, 1747.0ms inference, 1.1ms postprocess per image at shape (1, 3, 448, 640)\n"
          ]
        },
        {
          "output_type": "stream",
          "name": "stderr",
          "text": [
            "\rProcessing images:   9%|▊         | 181/2071 [04:15<48:06,  1.53s/it]"
          ]
        },
        {
          "output_type": "stream",
          "name": "stdout",
          "text": [
            "\n",
            "image 1/1 /content/Olympia_new/renamed_image/C0280.JPG: 448x640 1 Right_eye, 1 Left_eye, 1455.3ms\n",
            "Speed: 5.4ms preprocess, 1455.3ms inference, 0.9ms postprocess per image at shape (1, 3, 448, 640)\n"
          ]
        },
        {
          "output_type": "stream",
          "name": "stderr",
          "text": [
            "\rProcessing images:   9%|▉         | 182/2071 [04:17<49:22,  1.57s/it]"
          ]
        },
        {
          "output_type": "stream",
          "name": "stdout",
          "text": [
            "\n",
            "image 1/1 /content/Olympia_new/renamed_image/C0598.JPG: 448x640 1 Right_eye, 1 Left_eye, 1146.1ms\n",
            "Speed: 3.5ms preprocess, 1146.1ms inference, 0.9ms postprocess per image at shape (1, 3, 448, 640)\n"
          ]
        },
        {
          "output_type": "stream",
          "name": "stderr",
          "text": [
            "\rProcessing images:   9%|▉         | 183/2071 [04:18<46:16,  1.47s/it]"
          ]
        },
        {
          "output_type": "stream",
          "name": "stdout",
          "text": [
            "\n",
            "image 1/1 /content/Olympia_new/renamed_image/C0533.JPG: 448x640 1 Right_eye, 1 Left_eye, 1091.9ms\n",
            "Speed: 3.5ms preprocess, 1091.9ms inference, 1.3ms postprocess per image at shape (1, 3, 448, 640)\n"
          ]
        },
        {
          "output_type": "stream",
          "name": "stderr",
          "text": [
            "\rProcessing images:   9%|▉         | 184/2071 [04:19<43:41,  1.39s/it]"
          ]
        },
        {
          "output_type": "stream",
          "name": "stdout",
          "text": [
            "\n",
            "image 1/1 /content/Olympia_new/renamed_image/A0462.JPG: 448x640 1 Right_eye, 1 Left_eye, 1097.3ms\n",
            "Speed: 3.5ms preprocess, 1097.3ms inference, 0.9ms postprocess per image at shape (1, 3, 448, 640)\n"
          ]
        },
        {
          "output_type": "stream",
          "name": "stderr",
          "text": [
            "\rProcessing images:   9%|▉         | 185/2071 [04:21<41:50,  1.33s/it]"
          ]
        },
        {
          "output_type": "stream",
          "name": "stdout",
          "text": [
            "\n",
            "image 1/1 /content/Olympia_new/renamed_image/C0814.JPG: 448x640 1 Right_eye, 1 Left_eye, 1094.3ms\n",
            "Speed: 3.5ms preprocess, 1094.3ms inference, 0.9ms postprocess per image at shape (1, 3, 448, 640)\n"
          ]
        },
        {
          "output_type": "stream",
          "name": "stderr",
          "text": [
            "\rProcessing images:   9%|▉         | 186/2071 [04:22<40:33,  1.29s/it]"
          ]
        },
        {
          "output_type": "stream",
          "name": "stdout",
          "text": [
            "\n",
            "image 1/1 /content/Olympia_new/renamed_image/C0843.JPG: 448x640 1 Right_eye, 1 Left_eye, 1142.9ms\n",
            "Speed: 3.4ms preprocess, 1142.9ms inference, 0.9ms postprocess per image at shape (1, 3, 448, 640)\n"
          ]
        },
        {
          "output_type": "stream",
          "name": "stderr",
          "text": [
            "\rProcessing images:   9%|▉         | 187/2071 [04:23<40:06,  1.28s/it]"
          ]
        },
        {
          "output_type": "stream",
          "name": "stdout",
          "text": [
            "\n",
            "image 1/1 /content/Olympia_new/renamed_image/A0252.JPG: 448x640 1 Right_eye, 1 Left_eye, 1128.0ms\n",
            "Speed: 3.5ms preprocess, 1128.0ms inference, 0.9ms postprocess per image at shape (1, 3, 448, 640)\n"
          ]
        },
        {
          "output_type": "stream",
          "name": "stderr",
          "text": [
            "\rProcessing images:   9%|▉         | 188/2071 [04:24<39:35,  1.26s/it]"
          ]
        },
        {
          "output_type": "stream",
          "name": "stdout",
          "text": [
            "\n",
            "image 1/1 /content/Olympia_new/renamed_image/A0044.JPG: 448x640 1 Right_eye, 1 Left_eye, 1151.8ms\n",
            "Speed: 3.8ms preprocess, 1151.8ms inference, 1.2ms postprocess per image at shape (1, 3, 448, 640)\n"
          ]
        },
        {
          "output_type": "stream",
          "name": "stderr",
          "text": [
            "\rProcessing images:   9%|▉         | 189/2071 [04:26<40:14,  1.28s/it]"
          ]
        },
        {
          "output_type": "stream",
          "name": "stdout",
          "text": [
            "\n",
            "image 1/1 /content/Olympia_new/renamed_image/C0931.JPG: 448x640 1 Right_eye, 1 Left_eye, 1311.5ms\n",
            "Speed: 3.7ms preprocess, 1311.5ms inference, 1.1ms postprocess per image at shape (1, 3, 448, 640)\n"
          ]
        },
        {
          "output_type": "stream",
          "name": "stderr",
          "text": [
            "\rProcessing images:   9%|▉         | 190/2071 [04:27<41:36,  1.33s/it]"
          ]
        },
        {
          "output_type": "stream",
          "name": "stdout",
          "text": [
            "\n",
            "image 1/1 /content/Olympia_new/renamed_image/C0882.JPG: 448x640 1 Right_eye, 1 Left_eye, 1774.5ms\n",
            "Speed: 5.2ms preprocess, 1774.5ms inference, 1.1ms postprocess per image at shape (1, 3, 448, 640)\n"
          ]
        },
        {
          "output_type": "stream",
          "name": "stderr",
          "text": [
            "\rProcessing images:   9%|▉         | 191/2071 [04:29<47:15,  1.51s/it]"
          ]
        },
        {
          "output_type": "stream",
          "name": "stdout",
          "text": [
            "\n",
            "image 1/1 /content/Olympia_new/renamed_image/C0169.JPG: 448x640 1 Right_eye, 1 Left_eye, 1536.6ms\n",
            "Speed: 5.3ms preprocess, 1536.6ms inference, 0.9ms postprocess per image at shape (1, 3, 448, 640)\n"
          ]
        },
        {
          "output_type": "stream",
          "name": "stderr",
          "text": [
            "\rProcessing images:   9%|▉         | 192/2071 [04:31<48:41,  1.55s/it]"
          ]
        },
        {
          "output_type": "stream",
          "name": "stdout",
          "text": [
            "\n",
            "image 1/1 /content/Olympia_new/renamed_image/C0918.JPG: 448x640 1 Right_eye, 1 Left_eye, 1108.4ms\n",
            "Speed: 3.6ms preprocess, 1108.4ms inference, 0.9ms postprocess per image at shape (1, 3, 448, 640)\n"
          ]
        },
        {
          "output_type": "stream",
          "name": "stderr",
          "text": [
            "\rProcessing images:   9%|▉         | 193/2071 [04:32<45:27,  1.45s/it]"
          ]
        },
        {
          "output_type": "stream",
          "name": "stdout",
          "text": [
            "\n",
            "image 1/1 /content/Olympia_new/renamed_image/C0337.JPG: 448x640 1 Right_eye, 1 Left_eye, 1146.6ms\n",
            "Speed: 3.7ms preprocess, 1146.6ms inference, 0.9ms postprocess per image at shape (1, 3, 448, 640)\n"
          ]
        },
        {
          "output_type": "stream",
          "name": "stderr",
          "text": [
            "\rProcessing images:   9%|▉         | 194/2071 [04:33<44:06,  1.41s/it]"
          ]
        },
        {
          "output_type": "stream",
          "name": "stdout",
          "text": [
            "\n",
            "image 1/1 /content/Olympia_new/renamed_image/C0345.JPG: 448x640 1 Right_eye, 1 Left_eye, 1099.5ms\n",
            "Speed: 3.8ms preprocess, 1099.5ms inference, 0.9ms postprocess per image at shape (1, 3, 448, 640)\n"
          ]
        },
        {
          "output_type": "stream",
          "name": "stderr",
          "text": [
            "\rProcessing images:   9%|▉         | 195/2071 [04:34<42:32,  1.36s/it]"
          ]
        },
        {
          "output_type": "stream",
          "name": "stdout",
          "text": [
            "\n",
            "image 1/1 /content/Olympia_new/renamed_image/C0674.JPG: 448x640 1 Right_eye, 1 Left_eye, 1109.4ms\n",
            "Speed: 3.5ms preprocess, 1109.4ms inference, 0.9ms postprocess per image at shape (1, 3, 448, 640)\n"
          ]
        },
        {
          "output_type": "stream",
          "name": "stderr",
          "text": [
            "\rProcessing images:   9%|▉         | 196/2071 [04:36<41:04,  1.31s/it]"
          ]
        },
        {
          "output_type": "stream",
          "name": "stdout",
          "text": [
            "\n",
            "image 1/1 /content/Olympia_new/renamed_image/C0025.JPG: 448x640 1 Right_eye, 1 Left_eye, 1109.8ms\n",
            "Speed: 3.7ms preprocess, 1109.8ms inference, 0.9ms postprocess per image at shape (1, 3, 448, 640)\n"
          ]
        },
        {
          "output_type": "stream",
          "name": "stderr",
          "text": [
            "\rProcessing images:  10%|▉         | 197/2071 [04:37<40:09,  1.29s/it]"
          ]
        },
        {
          "output_type": "stream",
          "name": "stdout",
          "text": [
            "\n",
            "image 1/1 /content/Olympia_new/renamed_image/A0469.JPG: 448x640 1 Right_eye, 1 Left_eye, 1097.4ms\n",
            "Speed: 3.4ms preprocess, 1097.4ms inference, 0.9ms postprocess per image at shape (1, 3, 448, 640)\n"
          ]
        },
        {
          "output_type": "stream",
          "name": "stderr",
          "text": [
            "\rProcessing images:  10%|▉         | 198/2071 [04:38<39:16,  1.26s/it]"
          ]
        },
        {
          "output_type": "stream",
          "name": "stdout",
          "text": [
            "\n",
            "image 1/1 /content/Olympia_new/renamed_image/A0373.JPG: 448x640 1 Right_eye, 1 Left_eye, 1119.0ms\n",
            "Speed: 3.7ms preprocess, 1119.0ms inference, 0.9ms postprocess per image at shape (1, 3, 448, 640)\n"
          ]
        },
        {
          "output_type": "stream",
          "name": "stderr",
          "text": [
            "\rProcessing images:  10%|▉         | 199/2071 [04:39<39:32,  1.27s/it]"
          ]
        },
        {
          "output_type": "stream",
          "name": "stdout",
          "text": [
            "\n",
            "image 1/1 /content/Olympia_new/renamed_image/A0586.JPG: 448x640 1 Right_eye, 1 Left_eye, 1209.3ms\n",
            "Speed: 3.7ms preprocess, 1209.3ms inference, 1.3ms postprocess per image at shape (1, 3, 448, 640)\n"
          ]
        },
        {
          "output_type": "stream",
          "name": "stderr",
          "text": [
            "\rProcessing images:  10%|▉         | 200/2071 [04:41<39:57,  1.28s/it]"
          ]
        },
        {
          "output_type": "stream",
          "name": "stdout",
          "text": [
            "\n",
            "image 1/1 /content/Olympia_new/renamed_image/A0058.JPG: 448x640 1 Right_eye, 1 Left_eye, 1767.4ms\n",
            "Speed: 5.2ms preprocess, 1767.4ms inference, 1.1ms postprocess per image at shape (1, 3, 448, 640)\n"
          ]
        },
        {
          "output_type": "stream",
          "name": "stderr",
          "text": [
            "\rProcessing images:  10%|▉         | 201/2071 [04:43<46:29,  1.49s/it]"
          ]
        },
        {
          "output_type": "stream",
          "name": "stdout",
          "text": [
            "\n",
            "image 1/1 /content/Olympia_new/renamed_image/A0446.JPG: 448x640 1 Right_eye, 1 Left_eye, 1649.2ms\n",
            "Speed: 5.3ms preprocess, 1649.2ms inference, 0.9ms postprocess per image at shape (1, 3, 448, 640)\n"
          ]
        },
        {
          "output_type": "stream",
          "name": "stderr",
          "text": [
            "\rProcessing images:  10%|▉         | 202/2071 [04:44<49:55,  1.60s/it]"
          ]
        },
        {
          "output_type": "stream",
          "name": "stdout",
          "text": [
            "\n",
            "image 1/1 /content/Olympia_new/renamed_image/C0447.JPG: 448x640 1 Right_eye, 1 Left_eye, 1109.6ms\n",
            "Speed: 3.5ms preprocess, 1109.6ms inference, 0.9ms postprocess per image at shape (1, 3, 448, 640)\n"
          ]
        },
        {
          "output_type": "stream",
          "name": "stderr",
          "text": [
            "\rProcessing images:  10%|▉         | 203/2071 [04:46<46:12,  1.48s/it]"
          ]
        },
        {
          "output_type": "stream",
          "name": "stdout",
          "text": [
            "\n",
            "image 1/1 /content/Olympia_new/renamed_image/A0732.JPG: 448x640 1 Right_eye, 1 Left_eye, 1113.9ms\n",
            "Speed: 4.8ms preprocess, 1113.9ms inference, 0.9ms postprocess per image at shape (1, 3, 448, 640)\n"
          ]
        },
        {
          "output_type": "stream",
          "name": "stderr",
          "text": [
            "\rProcessing images:  10%|▉         | 204/2071 [04:47<43:40,  1.40s/it]"
          ]
        },
        {
          "output_type": "stream",
          "name": "stdout",
          "text": [
            "\n",
            "image 1/1 /content/Olympia_new/renamed_image/A0589.JPG: 448x640 1 Right_eye, 1 Left_eye, 1105.0ms\n",
            "Speed: 3.5ms preprocess, 1105.0ms inference, 0.9ms postprocess per image at shape (1, 3, 448, 640)\n"
          ]
        },
        {
          "output_type": "stream",
          "name": "stderr",
          "text": [
            "\rProcessing images:  10%|▉         | 205/2071 [04:48<41:46,  1.34s/it]"
          ]
        },
        {
          "output_type": "stream",
          "name": "stdout",
          "text": [
            "\n",
            "image 1/1 /content/Olympia_new/renamed_image/A0382.JPG: 448x640 1 Right_eye, 1 Left_eye, 1091.6ms\n",
            "Speed: 3.7ms preprocess, 1091.6ms inference, 0.9ms postprocess per image at shape (1, 3, 448, 640)\n"
          ]
        },
        {
          "output_type": "stream",
          "name": "stderr",
          "text": [
            "\rProcessing images:  10%|▉         | 206/2071 [04:49<40:49,  1.31s/it]"
          ]
        },
        {
          "output_type": "stream",
          "name": "stdout",
          "text": [
            "\n",
            "image 1/1 /content/Olympia_new/renamed_image/C0922.JPG: 448x640 1 Right_eye, 1 Left_eye, 1100.0ms\n",
            "Speed: 3.6ms preprocess, 1100.0ms inference, 0.9ms postprocess per image at shape (1, 3, 448, 640)\n"
          ]
        },
        {
          "output_type": "stream",
          "name": "stderr",
          "text": [
            "\rProcessing images:  10%|▉         | 207/2071 [04:50<39:47,  1.28s/it]"
          ]
        },
        {
          "output_type": "stream",
          "name": "stdout",
          "text": [
            "\n",
            "image 1/1 /content/Olympia_new/renamed_image/C0203.JPG: 448x640 1 Right_eye, 1 Left_eye, 1105.3ms\n",
            "Speed: 4.0ms preprocess, 1105.3ms inference, 0.9ms postprocess per image at shape (1, 3, 448, 640)\n"
          ]
        },
        {
          "output_type": "stream",
          "name": "stderr",
          "text": [
            "\rProcessing images:  10%|█         | 208/2071 [04:52<43:43,  1.41s/it]"
          ]
        },
        {
          "output_type": "stream",
          "name": "stdout",
          "text": [
            "\n",
            "image 1/1 /content/Olympia_new/renamed_image/A0989.JPG: 448x640 1 Right_eye, 1 Left_eye, 1087.3ms\n",
            "Speed: 3.6ms preprocess, 1087.3ms inference, 0.9ms postprocess per image at shape (1, 3, 448, 640)\n"
          ]
        },
        {
          "output_type": "stream",
          "name": "stderr",
          "text": [
            "\rProcessing images:  10%|█         | 209/2071 [04:53<41:42,  1.34s/it]"
          ]
        },
        {
          "output_type": "stream",
          "name": "stdout",
          "text": [
            "\n",
            "image 1/1 /content/Olympia_new/renamed_image/A0205.JPG: 448x640 1 Right_eye, 1 Left_eye, 1305.5ms\n",
            "Speed: 3.5ms preprocess, 1305.5ms inference, 1.1ms postprocess per image at shape (1, 3, 448, 640)\n"
          ]
        },
        {
          "output_type": "stream",
          "name": "stderr",
          "text": [
            "\rProcessing images:  10%|█         | 210/2071 [04:55<42:20,  1.37s/it]"
          ]
        },
        {
          "output_type": "stream",
          "name": "stdout",
          "text": [
            "\n",
            "image 1/1 /content/Olympia_new/renamed_image/A0248.JPG: 448x640 1 Right_eye, 1 Left_eye, 1754.0ms\n",
            "Speed: 5.3ms preprocess, 1754.0ms inference, 1.1ms postprocess per image at shape (1, 3, 448, 640)\n"
          ]
        },
        {
          "output_type": "stream",
          "name": "stderr",
          "text": [
            "\rProcessing images:  10%|█         | 211/2071 [04:57<47:17,  1.53s/it]"
          ]
        },
        {
          "output_type": "stream",
          "name": "stdout",
          "text": [
            "\n",
            "image 1/1 /content/Olympia_new/renamed_image/C0978.JPG: 448x640 1 Right_eye, 1 Left_eye, 1546.2ms\n",
            "Speed: 5.6ms preprocess, 1546.2ms inference, 0.9ms postprocess per image at shape (1, 3, 448, 640)\n"
          ]
        },
        {
          "output_type": "stream",
          "name": "stderr",
          "text": [
            "\rProcessing images:  10%|█         | 212/2071 [04:58<48:48,  1.58s/it]"
          ]
        },
        {
          "output_type": "stream",
          "name": "stdout",
          "text": [
            "\n",
            "image 1/1 /content/Olympia_new/renamed_image/A0336.JPG: 448x640 1 Right_eye, 1 Left_eye, 1116.8ms\n",
            "Speed: 3.7ms preprocess, 1116.8ms inference, 0.9ms postprocess per image at shape (1, 3, 448, 640)\n"
          ]
        },
        {
          "output_type": "stream",
          "name": "stderr",
          "text": [
            "\rProcessing images:  10%|█         | 213/2071 [05:00<45:57,  1.48s/it]"
          ]
        },
        {
          "output_type": "stream",
          "name": "stdout",
          "text": [
            "\n",
            "image 1/1 /content/Olympia_new/renamed_image/C0871.JPG: 448x640 1 Right_eye, 1 Left_eye, 1096.7ms\n",
            "Speed: 4.9ms preprocess, 1096.7ms inference, 0.9ms postprocess per image at shape (1, 3, 448, 640)\n"
          ]
        },
        {
          "output_type": "stream",
          "name": "stderr",
          "text": [
            "\rProcessing images:  10%|█         | 214/2071 [05:01<43:20,  1.40s/it]"
          ]
        },
        {
          "output_type": "stream",
          "name": "stdout",
          "text": [
            "\n",
            "image 1/1 /content/Olympia_new/renamed_image/C0249.JPG: 448x640 1 Right_eye, 1 Left_eye, 1095.7ms\n",
            "Speed: 4.4ms preprocess, 1095.7ms inference, 0.9ms postprocess per image at shape (1, 3, 448, 640)\n"
          ]
        },
        {
          "output_type": "stream",
          "name": "stderr",
          "text": [
            "\rProcessing images:  10%|█         | 215/2071 [05:02<41:57,  1.36s/it]"
          ]
        },
        {
          "output_type": "stream",
          "name": "stdout",
          "text": [
            "\n",
            "image 1/1 /content/Olympia_new/renamed_image/A0656.JPG: 448x640 1 Right_eye, 1 Left_eye, 1127.2ms\n",
            "Speed: 3.4ms preprocess, 1127.2ms inference, 0.9ms postprocess per image at shape (1, 3, 448, 640)\n"
          ]
        },
        {
          "output_type": "stream",
          "name": "stderr",
          "text": [
            "\rProcessing images:  10%|█         | 216/2071 [05:03<40:46,  1.32s/it]"
          ]
        },
        {
          "output_type": "stream",
          "name": "stdout",
          "text": [
            "\n",
            "image 1/1 /content/Olympia_new/renamed_image/C0050.JPG: 448x640 1 Right_eye, 1 Left_eye, 1082.5ms\n",
            "Speed: 3.6ms preprocess, 1082.5ms inference, 0.9ms postprocess per image at shape (1, 3, 448, 640)\n"
          ]
        },
        {
          "output_type": "stream",
          "name": "stderr",
          "text": [
            "\rProcessing images:  10%|█         | 217/2071 [05:05<39:26,  1.28s/it]"
          ]
        },
        {
          "output_type": "stream",
          "name": "stdout",
          "text": [
            "\n",
            "image 1/1 /content/Olympia_new/renamed_image/C0830.JPG: 448x640 1 Right_eye, 1 Left_eye, 1088.1ms\n",
            "Speed: 3.4ms preprocess, 1088.1ms inference, 1.1ms postprocess per image at shape (1, 3, 448, 640)\n"
          ]
        },
        {
          "output_type": "stream",
          "name": "stderr",
          "text": [
            "\rProcessing images:  11%|█         | 218/2071 [05:06<38:37,  1.25s/it]"
          ]
        },
        {
          "output_type": "stream",
          "name": "stdout",
          "text": [
            "\n",
            "image 1/1 /content/Olympia_new/renamed_image/A0155.JPG: 448x640 1 Right_eye, 1 Left_eye, 1081.1ms\n",
            "Speed: 3.4ms preprocess, 1081.1ms inference, 0.9ms postprocess per image at shape (1, 3, 448, 640)\n"
          ]
        },
        {
          "output_type": "stream",
          "name": "stderr",
          "text": [
            "\rProcessing images:  11%|█         | 219/2071 [05:07<38:00,  1.23s/it]"
          ]
        },
        {
          "output_type": "stream",
          "name": "stdout",
          "text": [
            "\n",
            "image 1/1 /content/Olympia_new/renamed_image/A0810.JPG: 448x640 1 Right_eye, 1 Left_eye, 1117.5ms\n",
            "Speed: 3.5ms preprocess, 1117.5ms inference, 1.3ms postprocess per image at shape (1, 3, 448, 640)\n"
          ]
        },
        {
          "output_type": "stream",
          "name": "stderr",
          "text": [
            "\rProcessing images:  11%|█         | 220/2071 [05:08<37:58,  1.23s/it]"
          ]
        },
        {
          "output_type": "stream",
          "name": "stdout",
          "text": [
            "\n",
            "image 1/1 /content/Olympia_new/renamed_image/C0385.JPG: 448x640 1 Right_eye, 1 Left_eye, 1732.1ms\n",
            "Speed: 5.3ms preprocess, 1732.1ms inference, 1.3ms postprocess per image at shape (1, 3, 448, 640)\n"
          ]
        },
        {
          "output_type": "stream",
          "name": "stderr",
          "text": [
            "\rProcessing images:  11%|█         | 221/2071 [05:10<44:37,  1.45s/it]"
          ]
        },
        {
          "output_type": "stream",
          "name": "stdout",
          "text": [
            "\n",
            "image 1/1 /content/Olympia_new/renamed_image/C0229.JPG: 448x640 1 Right_eye, 1 Left_eye, 1588.6ms\n",
            "Speed: 5.4ms preprocess, 1588.6ms inference, 0.9ms postprocess per image at shape (1, 3, 448, 640)\n"
          ]
        },
        {
          "output_type": "stream",
          "name": "stderr",
          "text": [
            "\rProcessing images:  11%|█         | 222/2071 [05:12<51:14,  1.66s/it]"
          ]
        },
        {
          "output_type": "stream",
          "name": "stdout",
          "text": [
            "\n",
            "image 1/1 /content/Olympia_new/renamed_image/C0422.JPG: 448x640 1 Right_eye, 1 Left_eye, 1098.5ms\n",
            "Speed: 3.5ms preprocess, 1098.5ms inference, 1.3ms postprocess per image at shape (1, 3, 448, 640)\n"
          ]
        },
        {
          "output_type": "stream",
          "name": "stderr",
          "text": [
            "\rProcessing images:  11%|█         | 223/2071 [05:14<47:25,  1.54s/it]"
          ]
        },
        {
          "output_type": "stream",
          "name": "stdout",
          "text": [
            "\n",
            "image 1/1 /content/Olympia_new/renamed_image/A0195.JPG: 448x640 1 Right_eye, 1 Left_eye, 1089.7ms\n",
            "Speed: 3.6ms preprocess, 1089.7ms inference, 1.2ms postprocess per image at shape (1, 3, 448, 640)\n"
          ]
        },
        {
          "output_type": "stream",
          "name": "stderr",
          "text": [
            "\rProcessing images:  11%|█         | 224/2071 [05:15<44:06,  1.43s/it]"
          ]
        },
        {
          "output_type": "stream",
          "name": "stdout",
          "text": [
            "\n",
            "image 1/1 /content/Olympia_new/renamed_image/C0986.JPG: 448x640 1 Right_eye, 1 Left_eye, 1092.7ms\n",
            "Speed: 3.7ms preprocess, 1092.7ms inference, 0.8ms postprocess per image at shape (1, 3, 448, 640)\n"
          ]
        },
        {
          "output_type": "stream",
          "name": "stderr",
          "text": [
            "\rProcessing images:  11%|█         | 225/2071 [05:16<41:56,  1.36s/it]"
          ]
        },
        {
          "output_type": "stream",
          "name": "stdout",
          "text": [
            "\n",
            "image 1/1 /content/Olympia_new/renamed_image/A0466.JPG: 448x640 1 Right_eye, 1 Left_eye, 1163.5ms\n",
            "Speed: 3.6ms preprocess, 1163.5ms inference, 0.9ms postprocess per image at shape (1, 3, 448, 640)\n"
          ]
        },
        {
          "output_type": "stream",
          "name": "stderr",
          "text": [
            "\rProcessing images:  11%|█         | 226/2071 [05:17<40:58,  1.33s/it]"
          ]
        },
        {
          "output_type": "stream",
          "name": "stdout",
          "text": [
            "\n",
            "image 1/1 /content/Olympia_new/renamed_image/A0140.JPG: 448x640 1 Right_eye, 1 Left_eye, 1120.3ms\n",
            "Speed: 3.6ms preprocess, 1120.3ms inference, 0.9ms postprocess per image at shape (1, 3, 448, 640)\n"
          ]
        },
        {
          "output_type": "stream",
          "name": "stderr",
          "text": [
            "\rProcessing images:  11%|█         | 227/2071 [05:18<39:58,  1.30s/it]"
          ]
        },
        {
          "output_type": "stream",
          "name": "stdout",
          "text": [
            "\n",
            "image 1/1 /content/Olympia_new/renamed_image/C0793.JPG: 448x640 1 Right_eye, 1 Left_eye, 1105.3ms\n",
            "Speed: 3.5ms preprocess, 1105.3ms inference, 0.9ms postprocess per image at shape (1, 3, 448, 640)\n"
          ]
        },
        {
          "output_type": "stream",
          "name": "stderr",
          "text": [
            "\rProcessing images:  11%|█         | 228/2071 [05:20<39:04,  1.27s/it]"
          ]
        },
        {
          "output_type": "stream",
          "name": "stdout",
          "text": [
            "\n",
            "image 1/1 /content/Olympia_new/renamed_image/A0930.JPG: 448x640 1 Right_eye, 1 Left_eye, 1100.8ms\n",
            "Speed: 3.5ms preprocess, 1100.8ms inference, 0.9ms postprocess per image at shape (1, 3, 448, 640)\n"
          ]
        },
        {
          "output_type": "stream",
          "name": "stderr",
          "text": [
            "\rProcessing images:  11%|█         | 229/2071 [05:21<38:39,  1.26s/it]"
          ]
        },
        {
          "output_type": "stream",
          "name": "stdout",
          "text": [
            "\n",
            "image 1/1 /content/Olympia_new/renamed_image/A0504.JPG: 448x640 1 Right_eye, 1 Left_eye, 1409.0ms\n",
            "Speed: 3.5ms preprocess, 1409.0ms inference, 1.3ms postprocess per image at shape (1, 3, 448, 640)\n"
          ]
        },
        {
          "output_type": "stream",
          "name": "stderr",
          "text": [
            "\rProcessing images:  11%|█         | 230/2071 [05:22<41:02,  1.34s/it]"
          ]
        },
        {
          "output_type": "stream",
          "name": "stdout",
          "text": [
            "\n",
            "image 1/1 /content/Olympia_new/renamed_image/C0341.JPG: 448x640 1 Right_eye, 1 Left_eye, 1809.8ms\n",
            "Speed: 5.2ms preprocess, 1809.8ms inference, 1.2ms postprocess per image at shape (1, 3, 448, 640)\n"
          ]
        },
        {
          "output_type": "stream",
          "name": "stderr",
          "text": [
            "\rProcessing images:  11%|█         | 231/2071 [05:24<47:17,  1.54s/it]"
          ]
        },
        {
          "output_type": "stream",
          "name": "stdout",
          "text": [
            "\n",
            "image 1/1 /content/Olympia_new/renamed_image/A0309.JPG: 448x640 1 Right_eye, 1 Left_eye, 1313.8ms\n",
            "Speed: 5.7ms preprocess, 1313.8ms inference, 0.9ms postprocess per image at shape (1, 3, 448, 640)\n"
          ]
        },
        {
          "output_type": "stream",
          "name": "stderr",
          "text": [
            "\rProcessing images:  11%|█         | 232/2071 [05:26<52:50,  1.72s/it]"
          ]
        },
        {
          "output_type": "stream",
          "name": "stdout",
          "text": [
            "\n",
            "image 1/1 /content/Olympia_new/renamed_image/A0070.JPG: 448x640 1 Right_eye, 1 Left_eye, 1262.8ms\n",
            "Speed: 4.4ms preprocess, 1262.8ms inference, 1.1ms postprocess per image at shape (1, 3, 448, 640)\n"
          ]
        },
        {
          "output_type": "stream",
          "name": "stderr",
          "text": [
            "\rProcessing images:  11%|█▏        | 233/2071 [05:28<49:57,  1.63s/it]"
          ]
        },
        {
          "output_type": "stream",
          "name": "stdout",
          "text": [
            "\n",
            "image 1/1 /content/Olympia_new/renamed_image/A0279.JPG: 448x640 1 Right_eye, 1 Left_eye, 1127.1ms\n",
            "Speed: 4.7ms preprocess, 1127.1ms inference, 1.2ms postprocess per image at shape (1, 3, 448, 640)\n"
          ]
        },
        {
          "output_type": "stream",
          "name": "stderr",
          "text": [
            "\rProcessing images:  11%|█▏        | 234/2071 [05:29<46:14,  1.51s/it]"
          ]
        },
        {
          "output_type": "stream",
          "name": "stdout",
          "text": [
            "\n",
            "image 1/1 /content/Olympia_new/renamed_image/C0536.JPG: 448x640 1 Right_eye, 1 Left_eye, 1101.4ms\n",
            "Speed: 3.5ms preprocess, 1101.4ms inference, 0.9ms postprocess per image at shape (1, 3, 448, 640)\n"
          ]
        },
        {
          "output_type": "stream",
          "name": "stderr",
          "text": [
            "\rProcessing images:  11%|█▏        | 235/2071 [05:30<43:19,  1.42s/it]"
          ]
        },
        {
          "output_type": "stream",
          "name": "stdout",
          "text": [
            "\n",
            "image 1/1 /content/Olympia_new/renamed_image/C0776.JPG: 448x640 1 Right_eye, 1 Left_eye, 1116.7ms\n",
            "Speed: 4.3ms preprocess, 1116.7ms inference, 0.9ms postprocess per image at shape (1, 3, 448, 640)\n"
          ]
        },
        {
          "output_type": "stream",
          "name": "stderr",
          "text": [
            "\rProcessing images:  11%|█▏        | 236/2071 [05:32<41:28,  1.36s/it]"
          ]
        },
        {
          "output_type": "stream",
          "name": "stdout",
          "text": [
            "\n",
            "image 1/1 /content/Olympia_new/renamed_image/C0319.JPG: 448x640 1 Right_eye, 1 Left_eye, 1116.5ms\n",
            "Speed: 3.7ms preprocess, 1116.5ms inference, 0.9ms postprocess per image at shape (1, 3, 448, 640)\n"
          ]
        },
        {
          "output_type": "stream",
          "name": "stderr",
          "text": [
            "\rProcessing images:  11%|█▏        | 237/2071 [05:33<40:38,  1.33s/it]"
          ]
        },
        {
          "output_type": "stream",
          "name": "stdout",
          "text": [
            "\n",
            "image 1/1 /content/Olympia_new/renamed_image/C0480.JPG: 448x640 1 Right_eye, 1 Left_eye, 1101.6ms\n",
            "Speed: 3.6ms preprocess, 1101.6ms inference, 0.9ms postprocess per image at shape (1, 3, 448, 640)\n"
          ]
        },
        {
          "output_type": "stream",
          "name": "stderr",
          "text": [
            "\rProcessing images:  11%|█▏        | 238/2071 [05:34<39:24,  1.29s/it]"
          ]
        },
        {
          "output_type": "stream",
          "name": "stdout",
          "text": [
            "\n",
            "image 1/1 /content/Olympia_new/renamed_image/A0706.JPG: 448x640 1 Right_eye, 1 Left_eye, 1102.2ms\n",
            "Speed: 3.6ms preprocess, 1102.2ms inference, 0.9ms postprocess per image at shape (1, 3, 448, 640)\n"
          ]
        },
        {
          "output_type": "stream",
          "name": "stderr",
          "text": [
            "\rProcessing images:  12%|█▏        | 239/2071 [05:35<38:31,  1.26s/it]"
          ]
        },
        {
          "output_type": "stream",
          "name": "stdout",
          "text": [
            "\n",
            "image 1/1 /content/Olympia_new/renamed_image/C0438.JPG: 448x640 1 Right_eye, 1 Left_eye, 3261.1ms\n",
            "Speed: 5.2ms preprocess, 3261.1ms inference, 1.1ms postprocess per image at shape (1, 3, 448, 640)\n"
          ]
        },
        {
          "output_type": "stream",
          "name": "stderr",
          "text": [
            "\rProcessing images:  12%|█▏        | 240/2071 [05:39<57:57,  1.90s/it]"
          ]
        },
        {
          "output_type": "stream",
          "name": "stdout",
          "text": [
            "\n",
            "image 1/1 /content/Olympia_new/renamed_image/C0373.JPG: 448x640 1 Right_eye, 1 Left_eye, 2689.2ms\n",
            "Speed: 5.2ms preprocess, 2689.2ms inference, 1.2ms postprocess per image at shape (1, 3, 448, 640)\n"
          ]
        },
        {
          "output_type": "stream",
          "name": "stderr",
          "text": [
            "\rProcessing images:  12%|█▏        | 241/2071 [05:42<1:08:45,  2.25s/it]"
          ]
        },
        {
          "output_type": "stream",
          "name": "stdout",
          "text": [
            "\n",
            "image 1/1 /content/Olympia_new/renamed_image/C0884.JPG: 448x640 1 Right_eye, 1 Left_eye, 1093.2ms\n",
            "Speed: 3.7ms preprocess, 1093.2ms inference, 0.9ms postprocess per image at shape (1, 3, 448, 640)\n"
          ]
        },
        {
          "output_type": "stream",
          "name": "stderr",
          "text": [
            "\rProcessing images:  12%|█▏        | 242/2071 [05:43<59:06,  1.94s/it]  "
          ]
        },
        {
          "output_type": "stream",
          "name": "stdout",
          "text": [
            "\n",
            "image 1/1 /content/Olympia_new/renamed_image/C0302.JPG: 448x640 1 Right_eye, 1 Left_eye, 1371.0ms\n",
            "Speed: 3.7ms preprocess, 1371.0ms inference, 1.5ms postprocess per image at shape (1, 3, 448, 640)\n"
          ]
        },
        {
          "output_type": "stream",
          "name": "stderr",
          "text": [
            "\rProcessing images:  12%|█▏        | 243/2071 [05:44<55:29,  1.82s/it]"
          ]
        },
        {
          "output_type": "stream",
          "name": "stdout",
          "text": [
            "\n",
            "image 1/1 /content/Olympia_new/renamed_image/A0138.JPG: 448x640 1 Right_eye, 1 Left_eye, 1313.2ms\n",
            "Speed: 8.4ms preprocess, 1313.2ms inference, 0.9ms postprocess per image at shape (1, 3, 448, 640)\n"
          ]
        },
        {
          "output_type": "stream",
          "name": "stderr",
          "text": [
            "\rProcessing images:  12%|█▏        | 244/2071 [05:46<52:08,  1.71s/it]"
          ]
        },
        {
          "output_type": "stream",
          "name": "stdout",
          "text": [
            "\n",
            "image 1/1 /content/Olympia_new/renamed_image/C0968.JPG: 448x640 1 Right_eye, 1 Left_eye, 1517.4ms\n",
            "Speed: 3.7ms preprocess, 1517.4ms inference, 1.3ms postprocess per image at shape (1, 3, 448, 640)\n"
          ]
        },
        {
          "output_type": "stream",
          "name": "stderr",
          "text": [
            "\rProcessing images:  12%|█▏        | 245/2071 [05:48<51:19,  1.69s/it]"
          ]
        },
        {
          "output_type": "stream",
          "name": "stdout",
          "text": [
            "\n",
            "image 1/1 /content/Olympia_new/renamed_image/A0832.JPG: 448x640 1 Right_eye, 1 Left_eye, 1237.8ms\n",
            "Speed: 3.4ms preprocess, 1237.8ms inference, 0.9ms postprocess per image at shape (1, 3, 448, 640)\n"
          ]
        },
        {
          "output_type": "stream",
          "name": "stderr",
          "text": [
            "\rProcessing images:  12%|█▏        | 246/2071 [05:49<48:15,  1.59s/it]"
          ]
        },
        {
          "output_type": "stream",
          "name": "stdout",
          "text": [
            "\n",
            "image 1/1 /content/Olympia_new/renamed_image/C0627.JPG: 448x640 1 Right_eye, 1 Left_eye, 1176.6ms\n",
            "Speed: 3.7ms preprocess, 1176.6ms inference, 0.9ms postprocess per image at shape (1, 3, 448, 640)\n"
          ]
        },
        {
          "output_type": "stream",
          "name": "stderr",
          "text": [
            "\rProcessing images:  12%|█▏        | 247/2071 [05:50<45:25,  1.49s/it]"
          ]
        },
        {
          "output_type": "stream",
          "name": "stdout",
          "text": [
            "\n",
            "image 1/1 /content/Olympia_new/renamed_image/A0567.JPG: 448x640 1 Right_eye, 1 Left_eye, 2131.9ms\n",
            "Speed: 3.5ms preprocess, 2131.9ms inference, 1.1ms postprocess per image at shape (1, 3, 448, 640)\n"
          ]
        },
        {
          "output_type": "stream",
          "name": "stderr",
          "text": [
            "\rProcessing images:  12%|█▏        | 248/2071 [05:52<52:08,  1.72s/it]"
          ]
        },
        {
          "output_type": "stream",
          "name": "stdout",
          "text": [
            "\n",
            "image 1/1 /content/Olympia_new/renamed_image/C0603.JPG: 448x640 1 Right_eye, 1 Left_eye, 1739.7ms\n",
            "Speed: 5.1ms preprocess, 1739.7ms inference, 0.9ms postprocess per image at shape (1, 3, 448, 640)\n"
          ]
        },
        {
          "output_type": "stream",
          "name": "stderr",
          "text": [
            "\rProcessing images:  12%|█▏        | 249/2071 [05:54<53:26,  1.76s/it]"
          ]
        },
        {
          "output_type": "stream",
          "name": "stdout",
          "text": [
            "\n",
            "image 1/1 /content/Olympia_new/renamed_image/A0845.JPG: 448x640 1 Right_eye, 1 Left_eye, 1101.0ms\n",
            "Speed: 3.5ms preprocess, 1101.0ms inference, 0.9ms postprocess per image at shape (1, 3, 448, 640)\n"
          ]
        },
        {
          "output_type": "stream",
          "name": "stderr",
          "text": [
            "\rProcessing images:  12%|█▏        | 250/2071 [05:55<48:20,  1.59s/it]"
          ]
        },
        {
          "output_type": "stream",
          "name": "stdout",
          "text": [
            "\n",
            "image 1/1 /content/Olympia_new/renamed_image/A0605.JPG: 448x640 1 Right_eye, 1 Left_eye, 1093.3ms\n",
            "Speed: 3.5ms preprocess, 1093.3ms inference, 0.9ms postprocess per image at shape (1, 3, 448, 640)\n"
          ]
        },
        {
          "output_type": "stream",
          "name": "stderr",
          "text": [
            "\rProcessing images:  12%|█▏        | 251/2071 [05:57<44:38,  1.47s/it]"
          ]
        },
        {
          "output_type": "stream",
          "name": "stdout",
          "text": [
            "\n",
            "image 1/1 /content/Olympia_new/renamed_image/A0476.JPG: 448x640 1 Right_eye, 1 Left_eye, 1148.3ms\n",
            "Speed: 3.4ms preprocess, 1148.3ms inference, 0.9ms postprocess per image at shape (1, 3, 448, 640)\n"
          ]
        },
        {
          "output_type": "stream",
          "name": "stderr",
          "text": [
            "\rProcessing images:  12%|█▏        | 252/2071 [05:58<42:30,  1.40s/it]"
          ]
        },
        {
          "output_type": "stream",
          "name": "stdout",
          "text": [
            "\n",
            "image 1/1 /content/Olympia_new/renamed_image/A0652.JPG: 448x640 1 Right_eye, 1 Left_eye, 1102.1ms\n",
            "Speed: 3.4ms preprocess, 1102.1ms inference, 1.2ms postprocess per image at shape (1, 3, 448, 640)\n"
          ]
        },
        {
          "output_type": "stream",
          "name": "stderr",
          "text": [
            "\rProcessing images:  12%|█▏        | 253/2071 [05:59<40:37,  1.34s/it]"
          ]
        },
        {
          "output_type": "stream",
          "name": "stdout",
          "text": [
            "\n",
            "image 1/1 /content/Olympia_new/renamed_image/A0095.JPG: 448x640 1 Right_eye, 1 Left_eye, 1452.4ms\n",
            "Speed: 4.5ms preprocess, 1452.4ms inference, 0.9ms postprocess per image at shape (1, 3, 448, 640)\n"
          ]
        },
        {
          "output_type": "stream",
          "name": "stderr",
          "text": [
            "\rProcessing images:  12%|█▏        | 254/2071 [06:01<42:29,  1.40s/it]"
          ]
        },
        {
          "output_type": "stream",
          "name": "stdout",
          "text": [
            "\n",
            "image 1/1 /content/Olympia_new/renamed_image/A0938.JPG: 448x640 1 Right_eye, 1 Left_eye, 1086.9ms\n",
            "Speed: 3.7ms preprocess, 1086.9ms inference, 0.9ms postprocess per image at shape (1, 3, 448, 640)\n"
          ]
        },
        {
          "output_type": "stream",
          "name": "stderr",
          "text": [
            "\rProcessing images:  12%|█▏        | 255/2071 [06:02<40:36,  1.34s/it]"
          ]
        },
        {
          "output_type": "stream",
          "name": "stdout",
          "text": [
            "\n",
            "image 1/1 /content/Olympia_new/renamed_image/A0774.JPG: 448x640 1 Right_eye, 1 Left_eye, 1218.7ms\n",
            "Speed: 3.5ms preprocess, 1218.7ms inference, 0.9ms postprocess per image at shape (1, 3, 448, 640)\n"
          ]
        },
        {
          "output_type": "stream",
          "name": "stderr",
          "text": [
            "\rProcessing images:  12%|█▏        | 256/2071 [06:03<40:22,  1.33s/it]"
          ]
        },
        {
          "output_type": "stream",
          "name": "stdout",
          "text": [
            "\n",
            "image 1/1 /content/Olympia_new/renamed_image/A0928.JPG: 448x640 1 Right_eye, 1 Left_eye, 1543.6ms\n",
            "Speed: 3.6ms preprocess, 1543.6ms inference, 1.1ms postprocess per image at shape (1, 3, 448, 640)\n"
          ]
        },
        {
          "output_type": "stream",
          "name": "stderr",
          "text": [
            "\rProcessing images:  12%|█▏        | 257/2071 [06:05<43:18,  1.43s/it]"
          ]
        },
        {
          "output_type": "stream",
          "name": "stdout",
          "text": [
            "\n",
            "image 1/1 /content/Olympia_new/renamed_image/A0443.JPG: 448x640 1 Right_eye, 1 Left_eye, 2295.7ms\n",
            "Speed: 5.2ms preprocess, 2295.7ms inference, 1.1ms postprocess per image at shape (1, 3, 448, 640)\n"
          ]
        },
        {
          "output_type": "stream",
          "name": "stderr",
          "text": [
            "\rProcessing images:  12%|█▏        | 258/2071 [06:07<53:12,  1.76s/it]"
          ]
        },
        {
          "output_type": "stream",
          "name": "stdout",
          "text": [
            "\n",
            "image 1/1 /content/Olympia_new/renamed_image/A0790.JPG: 448x640 1 Right_eye, 1 Left_eye, 1812.5ms\n",
            "Speed: 5.0ms preprocess, 1812.5ms inference, 0.9ms postprocess per image at shape (1, 3, 448, 640)\n"
          ]
        },
        {
          "output_type": "stream",
          "name": "stderr",
          "text": [
            "\rProcessing images:  13%|█▎        | 259/2071 [06:09<55:09,  1.83s/it]"
          ]
        },
        {
          "output_type": "stream",
          "name": "stdout",
          "text": [
            "\n",
            "image 1/1 /content/Olympia_new/renamed_image/A0484.JPG: 448x640 1 Right_eye, 1 Left_eye, 1292.4ms\n",
            "Speed: 5.0ms preprocess, 1292.4ms inference, 0.9ms postprocess per image at shape (1, 3, 448, 640)\n"
          ]
        },
        {
          "output_type": "stream",
          "name": "stderr",
          "text": [
            "\rProcessing images:  13%|█▎        | 260/2071 [06:11<51:29,  1.71s/it]"
          ]
        },
        {
          "output_type": "stream",
          "name": "stdout",
          "text": [
            "\n",
            "image 1/1 /content/Olympia_new/renamed_image/A0595.JPG: 448x640 1 Right_eye, 1 Left_eye, 1638.5ms\n",
            "Speed: 5.0ms preprocess, 1638.5ms inference, 0.9ms postprocess per image at shape (1, 3, 448, 640)\n"
          ]
        },
        {
          "output_type": "stream",
          "name": "stderr",
          "text": [
            "\rProcessing images:  13%|█▎        | 261/2071 [06:12<51:53,  1.72s/it]"
          ]
        },
        {
          "output_type": "stream",
          "name": "stdout",
          "text": [
            "\n",
            "image 1/1 /content/Olympia_new/renamed_image/C0997.JPG: 448x640 1 Right_eye, 1 Left_eye, 1551.9ms\n",
            "Speed: 3.7ms preprocess, 1551.9ms inference, 1.0ms postprocess per image at shape (1, 3, 448, 640)\n"
          ]
        },
        {
          "output_type": "stream",
          "name": "stderr",
          "text": [
            "\rProcessing images:  13%|█▎        | 262/2071 [06:14<51:21,  1.70s/it]"
          ]
        },
        {
          "output_type": "stream",
          "name": "stdout",
          "text": [
            "\n",
            "image 1/1 /content/Olympia_new/renamed_image/A0946.JPG: 448x640 1 Right_eye, 1 Left_eye, 1096.4ms\n",
            "Speed: 3.5ms preprocess, 1096.4ms inference, 0.9ms postprocess per image at shape (1, 3, 448, 640)\n"
          ]
        },
        {
          "output_type": "stream",
          "name": "stderr",
          "text": [
            "\rProcessing images:  13%|█▎        | 263/2071 [06:15<46:45,  1.55s/it]"
          ]
        },
        {
          "output_type": "stream",
          "name": "stdout",
          "text": [
            "\n",
            "image 1/1 /content/Olympia_new/renamed_image/C0991.JPG: 448x640 1 Right_eye, 1 Left_eye, 1097.5ms\n",
            "Speed: 3.7ms preprocess, 1097.5ms inference, 0.9ms postprocess per image at shape (1, 3, 448, 640)\n"
          ]
        },
        {
          "output_type": "stream",
          "name": "stderr",
          "text": [
            "\rProcessing images:  13%|█▎        | 264/2071 [06:17<43:33,  1.45s/it]"
          ]
        },
        {
          "output_type": "stream",
          "name": "stdout",
          "text": [
            "\n",
            "image 1/1 /content/Olympia_new/renamed_image/C0938.JPG: 448x640 1 Right_eye, 1 Left_eye, 1178.2ms\n",
            "Speed: 3.5ms preprocess, 1178.2ms inference, 0.9ms postprocess per image at shape (1, 3, 448, 640)\n"
          ]
        },
        {
          "output_type": "stream",
          "name": "stderr",
          "text": [
            "\rProcessing images:  13%|█▎        | 265/2071 [06:18<42:05,  1.40s/it]"
          ]
        },
        {
          "output_type": "stream",
          "name": "stdout",
          "text": [
            "\n",
            "image 1/1 /content/Olympia_new/renamed_image/C0783.JPG: 448x640 1 Right_eye, 1 Left_eye, 1711.8ms\n",
            "Speed: 3.9ms preprocess, 1711.8ms inference, 1.1ms postprocess per image at shape (1, 3, 448, 640)\n"
          ]
        },
        {
          "output_type": "stream",
          "name": "stderr",
          "text": [
            "\rProcessing images:  13%|█▎        | 266/2071 [06:20<46:04,  1.53s/it]"
          ]
        },
        {
          "output_type": "stream",
          "name": "stdout",
          "text": [
            "\n",
            "image 1/1 /content/Olympia_new/renamed_image/C0874.JPG: 448x640 1 Right_eye, 1 Left_eye, 2933.5ms\n",
            "Speed: 10.6ms preprocess, 2933.5ms inference, 1.9ms postprocess per image at shape (1, 3, 448, 640)\n"
          ]
        },
        {
          "output_type": "stream",
          "name": "stderr",
          "text": [
            "\rProcessing images:  13%|█▎        | 267/2071 [06:23<1:00:30,  2.01s/it]"
          ]
        },
        {
          "output_type": "stream",
          "name": "stdout",
          "text": [
            "\n",
            "image 1/1 /content/Olympia_new/renamed_image/A0417.JPG: 448x640 1 Right_eye, 1 Left_eye, 1333.2ms\n",
            "Speed: 6.8ms preprocess, 1333.2ms inference, 0.9ms postprocess per image at shape (1, 3, 448, 640)\n"
          ]
        },
        {
          "output_type": "stream",
          "name": "stderr",
          "text": [
            "\rProcessing images:  13%|█▎        | 268/2071 [06:24<56:16,  1.87s/it]  "
          ]
        },
        {
          "output_type": "stream",
          "name": "stdout",
          "text": [
            "\n",
            "image 1/1 /content/Olympia_new/renamed_image/C0292.JPG: 448x640 1 Right_eye, 1 Left_eye, 1092.2ms\n",
            "Speed: 5.2ms preprocess, 1092.2ms inference, 0.9ms postprocess per image at shape (1, 3, 448, 640)\n"
          ]
        },
        {
          "output_type": "stream",
          "name": "stderr",
          "text": [
            "\rProcessing images:  13%|█▎        | 269/2071 [06:26<50:36,  1.68s/it]"
          ]
        },
        {
          "output_type": "stream",
          "name": "stdout",
          "text": [
            "\n",
            "image 1/1 /content/Olympia_new/renamed_image/C0940.JPG: 448x640 1 Right_eye, 1 Left_eye, 1223.0ms\n",
            "Speed: 3.8ms preprocess, 1223.0ms inference, 0.9ms postprocess per image at shape (1, 3, 448, 640)\n"
          ]
        },
        {
          "output_type": "stream",
          "name": "stderr",
          "text": [
            "\rProcessing images:  13%|█▎        | 270/2071 [06:27<47:25,  1.58s/it]"
          ]
        },
        {
          "output_type": "stream",
          "name": "stdout",
          "text": [
            "\n",
            "image 1/1 /content/Olympia_new/renamed_image/A0348.JPG: 448x640 1 Right_eye, 1 Left_eye, 1317.0ms\n",
            "Speed: 3.6ms preprocess, 1317.0ms inference, 0.9ms postprocess per image at shape (1, 3, 448, 640)\n"
          ]
        },
        {
          "output_type": "stream",
          "name": "stderr",
          "text": [
            "\rProcessing images:  13%|█▎        | 271/2071 [06:28<46:25,  1.55s/it]"
          ]
        },
        {
          "output_type": "stream",
          "name": "stdout",
          "text": [
            "\n",
            "image 1/1 /content/Olympia_new/renamed_image/C0193.JPG: 448x640 1 Right_eye, 1 Left_eye, 1316.9ms\n",
            "Speed: 3.8ms preprocess, 1316.9ms inference, 1.5ms postprocess per image at shape (1, 3, 448, 640)\n"
          ]
        },
        {
          "output_type": "stream",
          "name": "stderr",
          "text": [
            "\rProcessing images:  13%|█▎        | 272/2071 [06:30<48:45,  1.63s/it]"
          ]
        },
        {
          "output_type": "stream",
          "name": "stdout",
          "text": [
            "\n",
            "image 1/1 /content/Olympia_new/renamed_image/A0422.JPG: 448x640 1 Right_eye, 1 Left_eye, 1103.5ms\n",
            "Speed: 3.6ms preprocess, 1103.5ms inference, 0.9ms postprocess per image at shape (1, 3, 448, 640)\n"
          ]
        },
        {
          "output_type": "stream",
          "name": "stderr",
          "text": [
            "\rProcessing images:  13%|█▎        | 273/2071 [06:32<45:44,  1.53s/it]"
          ]
        },
        {
          "output_type": "stream",
          "name": "stdout",
          "text": [
            "\n",
            "image 1/1 /content/Olympia_new/renamed_image/C0376.JPG: 448x640 1 Right_eye, 1 Left_eye, 1115.2ms\n",
            "Speed: 3.7ms preprocess, 1115.2ms inference, 0.9ms postprocess per image at shape (1, 3, 448, 640)\n"
          ]
        },
        {
          "output_type": "stream",
          "name": "stderr",
          "text": [
            "\rProcessing images:  13%|█▎        | 274/2071 [06:33<43:21,  1.45s/it]"
          ]
        },
        {
          "output_type": "stream",
          "name": "stdout",
          "text": [
            "\n",
            "image 1/1 /content/Olympia_new/renamed_image/A0981.JPG: 448x640 1 Right_eye, 1 Left_eye, 1619.8ms\n",
            "Speed: 3.6ms preprocess, 1619.8ms inference, 1.3ms postprocess per image at shape (1, 3, 448, 640)\n"
          ]
        },
        {
          "output_type": "stream",
          "name": "stderr",
          "text": [
            "\rProcessing images:  13%|█▎        | 275/2071 [06:35<46:00,  1.54s/it]"
          ]
        },
        {
          "output_type": "stream",
          "name": "stdout",
          "text": [
            "\n",
            "image 1/1 /content/Olympia_new/renamed_image/C0522.JPG: 448x640 1 Right_eye, 1 Left_eye, 1752.5ms\n",
            "Speed: 5.2ms preprocess, 1752.5ms inference, 1.3ms postprocess per image at shape (1, 3, 448, 640)\n"
          ]
        },
        {
          "output_type": "stream",
          "name": "stderr",
          "text": [
            "\rProcessing images:  13%|█▎        | 276/2071 [06:36<49:08,  1.64s/it]"
          ]
        },
        {
          "output_type": "stream",
          "name": "stdout",
          "text": [
            "\n",
            "image 1/1 /content/Olympia_new/renamed_image/A0983.JPG: 448x640 1 Right_eye, 1 Left_eye, 1297.0ms\n",
            "Speed: 7.5ms preprocess, 1297.0ms inference, 1.3ms postprocess per image at shape (1, 3, 448, 640)\n"
          ]
        },
        {
          "output_type": "stream",
          "name": "stderr",
          "text": [
            "\rProcessing images:  13%|█▎        | 277/2071 [06:38<47:38,  1.59s/it]"
          ]
        },
        {
          "output_type": "stream",
          "name": "stdout",
          "text": [
            "\n",
            "image 1/1 /content/Olympia_new/renamed_image/C0496.JPG: 448x640 1 Right_eye, 1 Left_eye, 1149.6ms\n",
            "Speed: 3.4ms preprocess, 1149.6ms inference, 0.9ms postprocess per image at shape (1, 3, 448, 640)\n"
          ]
        },
        {
          "output_type": "stream",
          "name": "stderr",
          "text": [
            "\rProcessing images:  13%|█▎        | 278/2071 [06:39<44:39,  1.49s/it]"
          ]
        },
        {
          "output_type": "stream",
          "name": "stdout",
          "text": [
            "\n",
            "image 1/1 /content/Olympia_new/renamed_image/A1033.JPG: 448x640 1 Right_eye, 1 Left_eye, 1118.7ms\n",
            "Speed: 3.8ms preprocess, 1118.7ms inference, 0.9ms postprocess per image at shape (1, 3, 448, 640)\n"
          ]
        },
        {
          "output_type": "stream",
          "name": "stderr",
          "text": [
            "\rProcessing images:  13%|█▎        | 279/2071 [06:40<42:16,  1.42s/it]"
          ]
        },
        {
          "output_type": "stream",
          "name": "stdout",
          "text": [
            "\n",
            "image 1/1 /content/Olympia_new/renamed_image/A0758.JPG: 448x640 1 Right_eye, 1 Left_eye, 1095.1ms\n",
            "Speed: 3.4ms preprocess, 1095.1ms inference, 0.9ms postprocess per image at shape (1, 3, 448, 640)\n"
          ]
        },
        {
          "output_type": "stream",
          "name": "stderr",
          "text": [
            "\rProcessing images:  14%|█▎        | 280/2071 [06:42<40:19,  1.35s/it]"
          ]
        },
        {
          "output_type": "stream",
          "name": "stdout",
          "text": [
            "\n",
            "image 1/1 /content/Olympia_new/renamed_image/C0372.JPG: 448x640 1 Right_eye, 1 Left_eye, 1107.7ms\n",
            "Speed: 3.7ms preprocess, 1107.7ms inference, 0.9ms postprocess per image at shape (1, 3, 448, 640)\n"
          ]
        },
        {
          "output_type": "stream",
          "name": "stderr",
          "text": [
            "\rProcessing images:  14%|█▎        | 281/2071 [06:43<39:39,  1.33s/it]"
          ]
        },
        {
          "output_type": "stream",
          "name": "stdout",
          "text": [
            "\n",
            "image 1/1 /content/Olympia_new/renamed_image/A0255.JPG: 448x640 1 Right_eye, 1 Left_eye, 1090.3ms\n",
            "Speed: 3.4ms preprocess, 1090.3ms inference, 0.9ms postprocess per image at shape (1, 3, 448, 640)\n"
          ]
        },
        {
          "output_type": "stream",
          "name": "stderr",
          "text": [
            "\rProcessing images:  14%|█▎        | 282/2071 [06:44<38:23,  1.29s/it]"
          ]
        },
        {
          "output_type": "stream",
          "name": "stdout",
          "text": [
            "\n",
            "image 1/1 /content/Olympia_new/renamed_image/A0321.JPG: 448x640 1 Right_eye, 1 Left_eye, 1107.2ms\n",
            "Speed: 3.6ms preprocess, 1107.2ms inference, 0.9ms postprocess per image at shape (1, 3, 448, 640)\n"
          ]
        },
        {
          "output_type": "stream",
          "name": "stderr",
          "text": [
            "\rProcessing images:  14%|█▎        | 283/2071 [06:45<38:04,  1.28s/it]"
          ]
        },
        {
          "output_type": "stream",
          "name": "stdout",
          "text": [
            "\n",
            "image 1/1 /content/Olympia_new/renamed_image/C0954.JPG: 448x640 1 Right_eye, 1 Left_eye, 1128.3ms\n",
            "Speed: 3.6ms preprocess, 1128.3ms inference, 0.9ms postprocess per image at shape (1, 3, 448, 640)\n"
          ]
        },
        {
          "output_type": "stream",
          "name": "stderr",
          "text": [
            "\rProcessing images:  14%|█▎        | 284/2071 [06:47<37:40,  1.27s/it]"
          ]
        },
        {
          "output_type": "stream",
          "name": "stdout",
          "text": [
            "\n",
            "image 1/1 /content/Olympia_new/renamed_image/C0786.JPG: 448x640 1 Right_eye, 1 Left_eye, 2106.1ms\n",
            "Speed: 3.6ms preprocess, 2106.1ms inference, 1.2ms postprocess per image at shape (1, 3, 448, 640)\n"
          ]
        },
        {
          "output_type": "stream",
          "name": "stderr",
          "text": [
            "\rProcessing images:  14%|█▍        | 285/2071 [06:49<46:08,  1.55s/it]"
          ]
        },
        {
          "output_type": "stream",
          "name": "stdout",
          "text": [
            "\n",
            "image 1/1 /content/Olympia_new/renamed_image/A0679.JPG: 448x640 1 Right_eye, 1 Left_eye, 1810.2ms\n",
            "Speed: 4.0ms preprocess, 1810.2ms inference, 1.1ms postprocess per image at shape (1, 3, 448, 640)\n"
          ]
        },
        {
          "output_type": "stream",
          "name": "stderr",
          "text": [
            "\rProcessing images:  14%|█▍        | 286/2071 [06:51<49:42,  1.67s/it]"
          ]
        },
        {
          "output_type": "stream",
          "name": "stdout",
          "text": [
            "\n",
            "image 1/1 /content/Olympia_new/renamed_image/C0222.JPG: 448x640 1 Right_eye, 1 Left_eye, 1114.6ms\n",
            "Speed: 5.7ms preprocess, 1114.6ms inference, 0.9ms postprocess per image at shape (1, 3, 448, 640)\n"
          ]
        },
        {
          "output_type": "stream",
          "name": "stderr",
          "text": [
            "\rProcessing images:  14%|█▍        | 287/2071 [06:53<50:46,  1.71s/it]"
          ]
        },
        {
          "output_type": "stream",
          "name": "stdout",
          "text": [
            "\n",
            "image 1/1 /content/Olympia_new/renamed_image/C0983.JPG: 448x640 1 Right_eye, 1 Left_eye, 1093.8ms\n",
            "Speed: 5.1ms preprocess, 1093.8ms inference, 0.9ms postprocess per image at shape (1, 3, 448, 640)\n"
          ]
        },
        {
          "output_type": "stream",
          "name": "stderr",
          "text": [
            "\rProcessing images:  14%|█▍        | 288/2071 [06:54<46:16,  1.56s/it]"
          ]
        },
        {
          "output_type": "stream",
          "name": "stdout",
          "text": [
            "\n",
            "image 1/1 /content/Olympia_new/renamed_image/A0697.JPG: 448x640 1 Right_eye, 1 Left_eye, 1100.5ms\n",
            "Speed: 3.6ms preprocess, 1100.5ms inference, 0.9ms postprocess per image at shape (1, 3, 448, 640)\n"
          ]
        },
        {
          "output_type": "stream",
          "name": "stderr",
          "text": [
            "\rProcessing images:  14%|█▍        | 289/2071 [06:55<43:03,  1.45s/it]"
          ]
        },
        {
          "output_type": "stream",
          "name": "stdout",
          "text": [
            "\n",
            "image 1/1 /content/Olympia_new/renamed_image/C0901.JPG: 448x640 1 Right_eye, 1 Left_eye, 1088.9ms\n",
            "Speed: 3.7ms preprocess, 1088.9ms inference, 0.9ms postprocess per image at shape (1, 3, 448, 640)\n"
          ]
        },
        {
          "output_type": "stream",
          "name": "stderr",
          "text": [
            "\rProcessing images:  14%|█▍        | 290/2071 [06:56<40:48,  1.37s/it]"
          ]
        },
        {
          "output_type": "stream",
          "name": "stdout",
          "text": [
            "\n",
            "image 1/1 /content/Olympia_new/renamed_image/A0839.JPG: 448x640 1 Right_eye, 1 Left_eye, 1109.4ms\n",
            "Speed: 3.6ms preprocess, 1109.4ms inference, 0.9ms postprocess per image at shape (1, 3, 448, 640)\n"
          ]
        },
        {
          "output_type": "stream",
          "name": "stderr",
          "text": [
            "\rProcessing images:  14%|█▍        | 291/2071 [06:57<39:22,  1.33s/it]"
          ]
        },
        {
          "output_type": "stream",
          "name": "stdout",
          "text": [
            "\n",
            "image 1/1 /content/Olympia_new/renamed_image/A0686.JPG: 448x640 1 Right_eye, 1 Left_eye, 1171.2ms\n",
            "Speed: 3.6ms preprocess, 1171.2ms inference, 0.9ms postprocess per image at shape (1, 3, 448, 640)\n"
          ]
        },
        {
          "output_type": "stream",
          "name": "stderr",
          "text": [
            "\rProcessing images:  14%|█▍        | 292/2071 [06:59<38:52,  1.31s/it]"
          ]
        },
        {
          "output_type": "stream",
          "name": "stdout",
          "text": [
            "\n",
            "image 1/1 /content/Olympia_new/renamed_image/C0400.JPG: 448x640 1 Right_eye, 1 Left_eye, 1115.6ms\n",
            "Speed: 3.7ms preprocess, 1115.6ms inference, 1.0ms postprocess per image at shape (1, 3, 448, 640)\n"
          ]
        },
        {
          "output_type": "stream",
          "name": "stderr",
          "text": [
            "\rProcessing images:  14%|█▍        | 293/2071 [07:00<38:24,  1.30s/it]"
          ]
        },
        {
          "output_type": "stream",
          "name": "stdout",
          "text": [
            "\n",
            "image 1/1 /content/Olympia_new/renamed_image/A0694.JPG: 448x640 1 Right_eye, 1 Left_eye, 1141.5ms\n",
            "Speed: 3.5ms preprocess, 1141.5ms inference, 1.1ms postprocess per image at shape (1, 3, 448, 640)\n"
          ]
        },
        {
          "output_type": "stream",
          "name": "stderr",
          "text": [
            "\rProcessing images:  14%|█▍        | 294/2071 [07:01<38:02,  1.28s/it]"
          ]
        },
        {
          "output_type": "stream",
          "name": "stdout",
          "text": [
            "\n",
            "image 1/1 /content/Olympia_new/renamed_image/A0102.JPG: 448x640 1 Right_eye, 1 Left_eye, 1598.2ms\n",
            "Speed: 3.4ms preprocess, 1598.2ms inference, 1.2ms postprocess per image at shape (1, 3, 448, 640)\n"
          ]
        },
        {
          "output_type": "stream",
          "name": "stderr",
          "text": [
            "\rProcessing images:  14%|█▍        | 295/2071 [07:03<41:49,  1.41s/it]"
          ]
        },
        {
          "output_type": "stream",
          "name": "stdout",
          "text": [
            "\n",
            "image 1/1 /content/Olympia_new/renamed_image/A0345.JPG: 448x640 1 Right_eye, 1 Left_eye, 1784.2ms\n",
            "Speed: 5.8ms preprocess, 1784.2ms inference, 1.3ms postprocess per image at shape (1, 3, 448, 640)\n"
          ]
        },
        {
          "output_type": "stream",
          "name": "stderr",
          "text": [
            "\rProcessing images:  14%|█▍        | 296/2071 [07:05<47:11,  1.60s/it]"
          ]
        },
        {
          "output_type": "stream",
          "name": "stdout",
          "text": [
            "\n",
            "image 1/1 /content/Olympia_new/renamed_image/C0472.JPG: 448x640 1 Right_eye, 1 Left_eye, 1275.6ms\n",
            "Speed: 4.9ms preprocess, 1275.6ms inference, 0.9ms postprocess per image at shape (1, 3, 448, 640)\n"
          ]
        },
        {
          "output_type": "stream",
          "name": "stderr",
          "text": [
            "\rProcessing images:  14%|█▍        | 297/2071 [07:06<45:27,  1.54s/it]"
          ]
        },
        {
          "output_type": "stream",
          "name": "stdout",
          "text": [
            "\n",
            "image 1/1 /content/Olympia_new/renamed_image/A0982.JPG: 448x640 1 Right_eye, 1 Left_eye, 1117.4ms\n",
            "Speed: 3.5ms preprocess, 1117.4ms inference, 0.9ms postprocess per image at shape (1, 3, 448, 640)\n"
          ]
        },
        {
          "output_type": "stream",
          "name": "stderr",
          "text": [
            "\rProcessing images:  14%|█▍        | 298/2071 [07:07<42:47,  1.45s/it]"
          ]
        },
        {
          "output_type": "stream",
          "name": "stdout",
          "text": [
            "\n",
            "image 1/1 /content/Olympia_new/renamed_image/C0560.JPG: 448x640 1 Right_eye, 1 Left_eye, 1169.7ms\n",
            "Speed: 3.7ms preprocess, 1169.7ms inference, 0.9ms postprocess per image at shape (1, 3, 448, 640)\n"
          ]
        },
        {
          "output_type": "stream",
          "name": "stderr",
          "text": [
            "\rProcessing images:  14%|█▍        | 299/2071 [07:09<41:08,  1.39s/it]"
          ]
        },
        {
          "output_type": "stream",
          "name": "stdout",
          "text": [
            "\n",
            "image 1/1 /content/Olympia_new/renamed_image/C0410.JPG: 448x640 1 Right_eye, 1 Left_eye, 1113.1ms\n",
            "Speed: 3.6ms preprocess, 1113.1ms inference, 0.9ms postprocess per image at shape (1, 3, 448, 640)\n"
          ]
        },
        {
          "output_type": "stream",
          "name": "stderr",
          "text": [
            "\rProcessing images:  14%|█▍        | 300/2071 [07:10<40:05,  1.36s/it]"
          ]
        },
        {
          "output_type": "stream",
          "name": "stdout",
          "text": [
            "\n",
            "image 1/1 /content/Olympia_new/renamed_image/C0038.JPG: 448x640 1 Right_eye, 1 Left_eye, 1097.0ms\n",
            "Speed: 3.5ms preprocess, 1097.0ms inference, 0.9ms postprocess per image at shape (1, 3, 448, 640)\n"
          ]
        },
        {
          "output_type": "stream",
          "name": "stderr",
          "text": [
            "\rProcessing images:  15%|█▍        | 301/2071 [07:11<38:36,  1.31s/it]"
          ]
        },
        {
          "output_type": "stream",
          "name": "stdout",
          "text": [
            "\n",
            "image 1/1 /content/Olympia_new/renamed_image/A0958.JPG: 448x640 1 Right_eye, 1 Left_eye, 1106.0ms\n",
            "Speed: 3.6ms preprocess, 1106.0ms inference, 0.9ms postprocess per image at shape (1, 3, 448, 640)\n"
          ]
        },
        {
          "output_type": "stream",
          "name": "stderr",
          "text": [
            "\rProcessing images:  15%|█▍        | 302/2071 [07:12<37:54,  1.29s/it]"
          ]
        },
        {
          "output_type": "stream",
          "name": "stdout",
          "text": [
            "\n",
            "image 1/1 /content/Olympia_new/renamed_image/A0590.JPG: 448x640 1 Right_eye, 1 Left_eye, 1083.5ms\n",
            "Speed: 3.5ms preprocess, 1083.5ms inference, 0.9ms postprocess per image at shape (1, 3, 448, 640)\n"
          ]
        },
        {
          "output_type": "stream",
          "name": "stderr",
          "text": [
            "\rProcessing images:  15%|█▍        | 303/2071 [07:14<37:01,  1.26s/it]"
          ]
        },
        {
          "output_type": "stream",
          "name": "stdout",
          "text": [
            "\n",
            "image 1/1 /content/Olympia_new/renamed_image/A0917.JPG: 448x640 1 Right_eye, 1 Left_eye, 1114.7ms\n",
            "Speed: 3.7ms preprocess, 1114.7ms inference, 0.9ms postprocess per image at shape (1, 3, 448, 640)\n"
          ]
        },
        {
          "output_type": "stream",
          "name": "stderr",
          "text": [
            "\rProcessing images:  15%|█▍        | 304/2071 [07:15<36:41,  1.25s/it]"
          ]
        },
        {
          "output_type": "stream",
          "name": "stdout",
          "text": [
            "\n",
            "image 1/1 /content/Olympia_new/renamed_image/C0539.JPG: 448x640 1 Right_eye, 1 Left_eye, 1478.5ms\n",
            "Speed: 3.6ms preprocess, 1478.5ms inference, 1.1ms postprocess per image at shape (1, 3, 448, 640)\n"
          ]
        },
        {
          "output_type": "stream",
          "name": "stderr",
          "text": [
            "\rProcessing images:  15%|█▍        | 305/2071 [07:16<39:38,  1.35s/it]"
          ]
        },
        {
          "output_type": "stream",
          "name": "stdout",
          "text": [
            "\n",
            "image 1/1 /content/Olympia_new/renamed_image/C0771.JPG: 448x640 1 Right_eye, 1 Left_eye, 1761.4ms\n",
            "Speed: 5.5ms preprocess, 1761.4ms inference, 1.1ms postprocess per image at shape (1, 3, 448, 640)\n"
          ]
        },
        {
          "output_type": "stream",
          "name": "stderr",
          "text": [
            "\rProcessing images:  15%|█▍        | 306/2071 [07:18<44:43,  1.52s/it]"
          ]
        },
        {
          "output_type": "stream",
          "name": "stdout",
          "text": [
            "\n",
            "image 1/1 /content/Olympia_new/renamed_image/C0099.JPG: 448x640 1 Right_eye, 1 Left_eye, 1549.9ms\n",
            "Speed: 5.2ms preprocess, 1549.9ms inference, 0.9ms postprocess per image at shape (1, 3, 448, 640)\n"
          ]
        },
        {
          "output_type": "stream",
          "name": "stderr",
          "text": [
            "\rProcessing images:  15%|█▍        | 307/2071 [07:20<46:06,  1.57s/it]"
          ]
        },
        {
          "output_type": "stream",
          "name": "stdout",
          "text": [
            "\n",
            "image 1/1 /content/Olympia_new/renamed_image/A0351.JPG: 448x640 1 Right_eye, 1 Left_eye, 1124.4ms\n",
            "Speed: 3.7ms preprocess, 1124.4ms inference, 0.9ms postprocess per image at shape (1, 3, 448, 640)\n"
          ]
        },
        {
          "output_type": "stream",
          "name": "stderr",
          "text": [
            "\rProcessing images:  15%|█▍        | 308/2071 [07:21<43:38,  1.48s/it]"
          ]
        },
        {
          "output_type": "stream",
          "name": "stdout",
          "text": [
            "\n",
            "image 1/1 /content/Olympia_new/renamed_image/A0421.JPG: 448x640 1 Right_eye, 1 Left_eye, 1148.7ms\n",
            "Speed: 3.7ms preprocess, 1148.7ms inference, 0.9ms postprocess per image at shape (1, 3, 448, 640)\n"
          ]
        },
        {
          "output_type": "stream",
          "name": "stderr",
          "text": [
            "\rProcessing images:  15%|█▍        | 309/2071 [07:23<42:04,  1.43s/it]"
          ]
        },
        {
          "output_type": "stream",
          "name": "stdout",
          "text": [
            "\n",
            "image 1/1 /content/Olympia_new/renamed_image/C0712.JPG: 448x640 1 Right_eye, 1 Left_eye, 1097.5ms\n",
            "Speed: 3.5ms preprocess, 1097.5ms inference, 0.9ms postprocess per image at shape (1, 3, 448, 640)\n"
          ]
        },
        {
          "output_type": "stream",
          "name": "stderr",
          "text": [
            "\rProcessing images:  15%|█▍        | 310/2071 [07:24<40:01,  1.36s/it]"
          ]
        },
        {
          "output_type": "stream",
          "name": "stdout",
          "text": [
            "\n",
            "image 1/1 /content/Olympia_new/renamed_image/C0825.JPG: 448x640 1 Right_eye, 1 Left_eye, 1115.3ms\n",
            "Speed: 3.5ms preprocess, 1115.3ms inference, 0.8ms postprocess per image at shape (1, 3, 448, 640)\n"
          ]
        },
        {
          "output_type": "stream",
          "name": "stderr",
          "text": [
            "\rProcessing images:  15%|█▌        | 311/2071 [07:25<38:35,  1.32s/it]"
          ]
        },
        {
          "output_type": "stream",
          "name": "stdout",
          "text": [
            "\n",
            "image 1/1 /content/Olympia_new/renamed_image/C0999.JPG: 448x640 1 Right_eye, 1 Left_eye, 1092.7ms\n",
            "Speed: 3.6ms preprocess, 1092.7ms inference, 0.9ms postprocess per image at shape (1, 3, 448, 640)\n"
          ]
        },
        {
          "output_type": "stream",
          "name": "stderr",
          "text": [
            "\rProcessing images:  15%|█▌        | 312/2071 [07:26<37:35,  1.28s/it]"
          ]
        },
        {
          "output_type": "stream",
          "name": "stdout",
          "text": [
            "\n",
            "image 1/1 /content/Olympia_new/renamed_image/C0294.JPG: 448x640 1 Right_eye, 1 Left_eye, 1114.0ms\n",
            "Speed: 3.7ms preprocess, 1114.0ms inference, 0.9ms postprocess per image at shape (1, 3, 448, 640)\n"
          ]
        },
        {
          "output_type": "stream",
          "name": "stderr",
          "text": [
            "\rProcessing images:  15%|█▌        | 313/2071 [07:28<37:22,  1.28s/it]"
          ]
        },
        {
          "output_type": "stream",
          "name": "stdout",
          "text": [
            "\n",
            "image 1/1 /content/Olympia_new/renamed_image/C0395.JPG: 448x640 1 Right_eye, 1 Left_eye, 1189.0ms\n",
            "Speed: 3.6ms preprocess, 1189.0ms inference, 0.9ms postprocess per image at shape (1, 3, 448, 640)\n"
          ]
        },
        {
          "output_type": "stream",
          "name": "stderr",
          "text": [
            "\rProcessing images:  15%|█▌        | 314/2071 [07:29<38:04,  1.30s/it]"
          ]
        },
        {
          "output_type": "stream",
          "name": "stdout",
          "text": [
            "\n",
            "image 1/1 /content/Olympia_new/renamed_image/A0068.JPG: 448x640 1 Right_eye, 1 Left_eye, 1383.0ms\n",
            "Speed: 3.7ms preprocess, 1383.0ms inference, 1.3ms postprocess per image at shape (1, 3, 448, 640)\n"
          ]
        },
        {
          "output_type": "stream",
          "name": "stderr",
          "text": [
            "\rProcessing images:  15%|█▌        | 315/2071 [07:30<40:14,  1.38s/it]"
          ]
        },
        {
          "output_type": "stream",
          "name": "stdout",
          "text": [
            "\n",
            "image 1/1 /content/Olympia_new/renamed_image/A0075.JPG: 448x640 1 Right_eye, 1 Left_eye, 1748.1ms\n",
            "Speed: 5.2ms preprocess, 1748.1ms inference, 1.1ms postprocess per image at shape (1, 3, 448, 640)\n"
          ]
        },
        {
          "output_type": "stream",
          "name": "stderr",
          "text": [
            "\rProcessing images:  15%|█▌        | 316/2071 [07:32<45:17,  1.55s/it]"
          ]
        },
        {
          "output_type": "stream",
          "name": "stdout",
          "text": [
            "\n",
            "image 1/1 /content/Olympia_new/renamed_image/A0174.JPG: 448x640 1 Right_eye, 1 Left_eye, 1548.2ms\n",
            "Speed: 5.2ms preprocess, 1548.2ms inference, 0.9ms postprocess per image at shape (1, 3, 448, 640)\n"
          ]
        },
        {
          "output_type": "stream",
          "name": "stderr",
          "text": [
            "\rProcessing images:  15%|█▌        | 317/2071 [07:34<46:25,  1.59s/it]"
          ]
        },
        {
          "output_type": "stream",
          "name": "stdout",
          "text": [
            "\n",
            "image 1/1 /content/Olympia_new/renamed_image/A0190.JPG: 448x640 1 Right_eye, 1 Left_eye, 1123.1ms\n",
            "Speed: 3.6ms preprocess, 1123.1ms inference, 0.9ms postprocess per image at shape (1, 3, 448, 640)\n"
          ]
        },
        {
          "output_type": "stream",
          "name": "stderr",
          "text": [
            "\rProcessing images:  15%|█▌        | 318/2071 [07:35<43:13,  1.48s/it]"
          ]
        },
        {
          "output_type": "stream",
          "name": "stdout",
          "text": [
            "\n",
            "image 1/1 /content/Olympia_new/renamed_image/C0816.JPG: 448x640 1 Right_eye, 1 Left_eye, 1099.7ms\n",
            "Speed: 3.7ms preprocess, 1099.7ms inference, 0.9ms postprocess per image at shape (1, 3, 448, 640)\n"
          ]
        },
        {
          "output_type": "stream",
          "name": "stderr",
          "text": [
            "\rProcessing images:  15%|█▌        | 319/2071 [07:37<40:46,  1.40s/it]"
          ]
        },
        {
          "output_type": "stream",
          "name": "stdout",
          "text": [
            "\n",
            "image 1/1 /content/Olympia_new/renamed_image/A0624.JPG: 448x640 1 Right_eye, 1 Left_eye, 1092.4ms\n",
            "Speed: 3.6ms preprocess, 1092.4ms inference, 0.9ms postprocess per image at shape (1, 3, 448, 640)\n"
          ]
        },
        {
          "output_type": "stream",
          "name": "stderr",
          "text": [
            "\rProcessing images:  15%|█▌        | 320/2071 [07:38<39:01,  1.34s/it]"
          ]
        },
        {
          "output_type": "stream",
          "name": "stdout",
          "text": [
            "\n",
            "image 1/1 /content/Olympia_new/renamed_image/A0209.JPG: 448x640 1 Right_eye, 1 Left_eye, 1101.2ms\n",
            "Speed: 3.6ms preprocess, 1101.2ms inference, 0.9ms postprocess per image at shape (1, 3, 448, 640)\n"
          ]
        },
        {
          "output_type": "stream",
          "name": "stderr",
          "text": [
            "\rProcessing images:  15%|█▌        | 321/2071 [07:39<37:45,  1.29s/it]"
          ]
        },
        {
          "output_type": "stream",
          "name": "stdout",
          "text": [
            "\n",
            "image 1/1 /content/Olympia_new/renamed_image/C1008.JPG: 448x640 1 Right_eye, 1 Left_eye, 1108.9ms\n",
            "Speed: 3.6ms preprocess, 1108.9ms inference, 0.9ms postprocess per image at shape (1, 3, 448, 640)\n"
          ]
        },
        {
          "output_type": "stream",
          "name": "stderr",
          "text": [
            "\rProcessing images:  16%|█▌        | 322/2071 [07:40<37:02,  1.27s/it]"
          ]
        },
        {
          "output_type": "stream",
          "name": "stdout",
          "text": [
            "\n",
            "image 1/1 /content/Olympia_new/renamed_image/A0800.JPG: 448x640 1 Right_eye, 1 Left_eye, 1106.9ms\n",
            "Speed: 3.7ms preprocess, 1106.9ms inference, 0.9ms postprocess per image at shape (1, 3, 448, 640)\n"
          ]
        },
        {
          "output_type": "stream",
          "name": "stderr",
          "text": [
            "\rProcessing images:  16%|█▌        | 323/2071 [07:41<36:32,  1.25s/it]"
          ]
        },
        {
          "output_type": "stream",
          "name": "stdout",
          "text": [
            "\n",
            "image 1/1 /content/Olympia_new/renamed_image/A0676.JPG: 448x640 1 Right_eye, 1 Left_eye, 1107.3ms\n",
            "Speed: 3.5ms preprocess, 1107.3ms inference, 0.9ms postprocess per image at shape (1, 3, 448, 640)\n"
          ]
        },
        {
          "output_type": "stream",
          "name": "stderr",
          "text": [
            "\rProcessing images:  16%|█▌        | 324/2071 [07:43<36:09,  1.24s/it]"
          ]
        },
        {
          "output_type": "stream",
          "name": "stdout",
          "text": [
            "\n",
            "image 1/1 /content/Olympia_new/renamed_image/C0161.JPG: 448x640 1 Right_eye, 1 Left_eye, 1110.0ms\n",
            "Speed: 3.5ms preprocess, 1110.0ms inference, 1.3ms postprocess per image at shape (1, 3, 448, 640)\n"
          ]
        },
        {
          "output_type": "stream",
          "name": "stderr",
          "text": [
            "\rProcessing images:  16%|█▌        | 325/2071 [07:44<35:54,  1.23s/it]"
          ]
        },
        {
          "output_type": "stream",
          "name": "stdout",
          "text": [
            "\n",
            "image 1/1 /content/Olympia_new/renamed_image/A0416.JPG: 448x640 1 Right_eye, 1 Left_eye, 1776.3ms\n",
            "Speed: 5.4ms preprocess, 1776.3ms inference, 1.1ms postprocess per image at shape (1, 3, 448, 640)\n"
          ]
        },
        {
          "output_type": "stream",
          "name": "stderr",
          "text": [
            "\rProcessing images:  16%|█▌        | 326/2071 [07:46<42:36,  1.46s/it]"
          ]
        },
        {
          "output_type": "stream",
          "name": "stdout",
          "text": [
            "\n",
            "image 1/1 /content/Olympia_new/renamed_image/A0721.JPG: 448x640 1 Right_eye, 1 Left_eye, 1732.5ms\n",
            "Speed: 5.0ms preprocess, 1732.5ms inference, 1.4ms postprocess per image at shape (1, 3, 448, 640)\n"
          ]
        },
        {
          "output_type": "stream",
          "name": "stderr",
          "text": [
            "\rProcessing images:  16%|█▌        | 327/2071 [07:48<46:09,  1.59s/it]"
          ]
        },
        {
          "output_type": "stream",
          "name": "stdout",
          "text": [
            "\n",
            "image 1/1 /content/Olympia_new/renamed_image/C0148.JPG: 448x640 1 Right_eye, 1 Left_eye, 1106.8ms\n",
            "Speed: 5.1ms preprocess, 1106.8ms inference, 0.9ms postprocess per image at shape (1, 3, 448, 640)\n"
          ]
        },
        {
          "output_type": "stream",
          "name": "stderr",
          "text": [
            "\rProcessing images:  16%|█▌        | 328/2071 [07:49<42:55,  1.48s/it]"
          ]
        },
        {
          "output_type": "stream",
          "name": "stdout",
          "text": [
            "\n",
            "image 1/1 /content/Olympia_new/renamed_image/C0452.JPG: 448x640 1 Right_eye, 1 Left_eye, 1124.3ms\n",
            "Speed: 3.5ms preprocess, 1124.3ms inference, 0.9ms postprocess per image at shape (1, 3, 448, 640)\n"
          ]
        },
        {
          "output_type": "stream",
          "name": "stderr",
          "text": [
            "\rProcessing images:  16%|█▌        | 329/2071 [07:50<40:40,  1.40s/it]"
          ]
        },
        {
          "output_type": "stream",
          "name": "stdout",
          "text": [
            "\n",
            "image 1/1 /content/Olympia_new/renamed_image/C0062.JPG: 448x640 1 Right_eye, 1 Left_eye, 1126.0ms\n",
            "Speed: 3.6ms preprocess, 1126.0ms inference, 0.9ms postprocess per image at shape (1, 3, 448, 640)\n"
          ]
        },
        {
          "output_type": "stream",
          "name": "stderr",
          "text": [
            "\rProcessing images:  16%|█▌        | 330/2071 [07:51<39:06,  1.35s/it]"
          ]
        },
        {
          "output_type": "stream",
          "name": "stdout",
          "text": [
            "\n",
            "image 1/1 /content/Olympia_new/renamed_image/C0823.JPG: 448x640 1 Right_eye, 1 Left_eye, 1092.1ms\n",
            "Speed: 4.0ms preprocess, 1092.1ms inference, 0.9ms postprocess per image at shape (1, 3, 448, 640)\n"
          ]
        },
        {
          "output_type": "stream",
          "name": "stderr",
          "text": [
            "\rProcessing images:  16%|█▌        | 331/2071 [07:53<37:48,  1.30s/it]"
          ]
        },
        {
          "output_type": "stream",
          "name": "stdout",
          "text": [
            "\n",
            "image 1/1 /content/Olympia_new/renamed_image/C0981.JPG: 448x640 1 Right_eye, 1 Left_eye, 1080.5ms\n",
            "Speed: 3.7ms preprocess, 1080.5ms inference, 0.9ms postprocess per image at shape (1, 3, 448, 640)\n"
          ]
        },
        {
          "output_type": "stream",
          "name": "stderr",
          "text": [
            "\rProcessing images:  16%|█▌        | 332/2071 [07:54<36:51,  1.27s/it]"
          ]
        },
        {
          "output_type": "stream",
          "name": "stdout",
          "text": [
            "\n",
            "image 1/1 /content/Olympia_new/renamed_image/A0461.JPG: 448x640 1 Right_eye, 1 Left_eye, 1107.8ms\n",
            "Speed: 3.5ms preprocess, 1107.8ms inference, 0.9ms postprocess per image at shape (1, 3, 448, 640)\n"
          ]
        },
        {
          "output_type": "stream",
          "name": "stderr",
          "text": [
            "\rProcessing images:  16%|█▌        | 333/2071 [07:55<36:16,  1.25s/it]"
          ]
        },
        {
          "output_type": "stream",
          "name": "stdout",
          "text": [
            "\n",
            "image 1/1 /content/Olympia_new/renamed_image/C0619.JPG: 448x640 1 Right_eye, 1 Left_eye, 1095.7ms\n",
            "Speed: 5.4ms preprocess, 1095.7ms inference, 0.8ms postprocess per image at shape (1, 3, 448, 640)\n"
          ]
        },
        {
          "output_type": "stream",
          "name": "stderr",
          "text": [
            "\rProcessing images:  16%|█▌        | 334/2071 [07:56<35:49,  1.24s/it]"
          ]
        },
        {
          "output_type": "stream",
          "name": "stdout",
          "text": [
            "\n",
            "image 1/1 /content/Olympia_new/renamed_image/A0771.JPG: 448x640 1 Right_eye, 1 Left_eye, 1086.4ms\n",
            "Speed: 3.6ms preprocess, 1086.4ms inference, 0.9ms postprocess per image at shape (1, 3, 448, 640)\n"
          ]
        },
        {
          "output_type": "stream",
          "name": "stderr",
          "text": [
            "\rProcessing images:  16%|█▌        | 335/2071 [07:57<35:23,  1.22s/it]"
          ]
        },
        {
          "output_type": "stream",
          "name": "stdout",
          "text": [
            "\n",
            "image 1/1 /content/Olympia_new/renamed_image/A0220.JPG: 448x640 1 Right_eye, 1 Left_eye, 2104.6ms\n",
            "Speed: 3.5ms preprocess, 2104.6ms inference, 1.1ms postprocess per image at shape (1, 3, 448, 640)\n"
          ]
        },
        {
          "output_type": "stream",
          "name": "stderr",
          "text": [
            "\rProcessing images:  16%|█▌        | 336/2071 [08:00<43:57,  1.52s/it]"
          ]
        },
        {
          "output_type": "stream",
          "name": "stdout",
          "text": [
            "\n",
            "image 1/1 /content/Olympia_new/renamed_image/A0897.JPG: 448x640 1 Right_eye, 1 Left_eye, 1744.7ms\n",
            "Speed: 5.2ms preprocess, 1744.7ms inference, 1.2ms postprocess per image at shape (1, 3, 448, 640)\n"
          ]
        },
        {
          "output_type": "stream",
          "name": "stderr",
          "text": [
            "\rProcessing images:  16%|█▋        | 337/2071 [08:01<47:06,  1.63s/it]"
          ]
        },
        {
          "output_type": "stream",
          "name": "stdout",
          "text": [
            "\n",
            "image 1/1 /content/Olympia_new/renamed_image/C0333.JPG: 448x640 1 Right_eye, 1 Left_eye, 1146.7ms\n",
            "Speed: 5.1ms preprocess, 1146.7ms inference, 0.9ms postprocess per image at shape (1, 3, 448, 640)\n"
          ]
        },
        {
          "output_type": "stream",
          "name": "stderr",
          "text": [
            "\rProcessing images:  16%|█▋        | 338/2071 [08:03<44:41,  1.55s/it]"
          ]
        },
        {
          "output_type": "stream",
          "name": "stdout",
          "text": [
            "\n",
            "image 1/1 /content/Olympia_new/renamed_image/C0868.JPG: 448x640 1 Right_eye, 1 Left_eye, 1099.1ms\n",
            "Speed: 3.5ms preprocess, 1099.1ms inference, 0.9ms postprocess per image at shape (1, 3, 448, 640)\n"
          ]
        },
        {
          "output_type": "stream",
          "name": "stderr",
          "text": [
            "\rProcessing images:  16%|█▋        | 339/2071 [08:04<41:43,  1.45s/it]"
          ]
        },
        {
          "output_type": "stream",
          "name": "stdout",
          "text": [
            "\n",
            "image 1/1 /content/Olympia_new/renamed_image/A0611.JPG: 448x640 1 Right_eye, 1 Left_eye, 1092.3ms\n",
            "Speed: 3.5ms preprocess, 1092.3ms inference, 0.9ms postprocess per image at shape (1, 3, 448, 640)\n"
          ]
        },
        {
          "output_type": "stream",
          "name": "stderr",
          "text": [
            "\rProcessing images:  16%|█▋        | 340/2071 [08:05<39:28,  1.37s/it]"
          ]
        },
        {
          "output_type": "stream",
          "name": "stdout",
          "text": [
            "\n",
            "image 1/1 /content/Olympia_new/renamed_image/C0035.JPG: 448x640 1 Right_eye, 1 Left_eye, 1091.4ms\n",
            "Speed: 3.6ms preprocess, 1091.4ms inference, 1.6ms postprocess per image at shape (1, 3, 448, 640)\n"
          ]
        },
        {
          "output_type": "stream",
          "name": "stderr",
          "text": [
            "\rProcessing images:  16%|█▋        | 341/2071 [08:06<37:50,  1.31s/it]"
          ]
        },
        {
          "output_type": "stream",
          "name": "stdout",
          "text": [
            "\n",
            "image 1/1 /content/Olympia_new/renamed_image/A0391.JPG: 448x640 1 Right_eye, 1 Left_eye, 1157.6ms\n",
            "Speed: 3.8ms preprocess, 1157.6ms inference, 0.9ms postprocess per image at shape (1, 3, 448, 640)\n"
          ]
        },
        {
          "output_type": "stream",
          "name": "stderr",
          "text": [
            "\rProcessing images:  17%|█▋        | 342/2071 [08:08<37:54,  1.32s/it]"
          ]
        },
        {
          "output_type": "stream",
          "name": "stdout",
          "text": [
            "\n",
            "image 1/1 /content/Olympia_new/renamed_image/C0443.JPG: 448x640 1 Right_eye, 1 Left_eye, 1116.3ms\n",
            "Speed: 3.5ms preprocess, 1116.3ms inference, 0.9ms postprocess per image at shape (1, 3, 448, 640)\n"
          ]
        },
        {
          "output_type": "stream",
          "name": "stderr",
          "text": [
            "\rProcessing images:  17%|█▋        | 343/2071 [08:09<36:58,  1.28s/it]"
          ]
        },
        {
          "output_type": "stream",
          "name": "stdout",
          "text": [
            "\n",
            "image 1/1 /content/Olympia_new/renamed_image/C0567.JPG: 448x640 1 Right_eye, 1 Left_eye, 1127.4ms\n",
            "Speed: 3.6ms preprocess, 1127.4ms inference, 0.9ms postprocess per image at shape (1, 3, 448, 640)\n"
          ]
        },
        {
          "output_type": "stream",
          "name": "stderr",
          "text": [
            "\rProcessing images:  17%|█▋        | 344/2071 [08:10<36:27,  1.27s/it]"
          ]
        },
        {
          "output_type": "stream",
          "name": "stdout",
          "text": [
            "\n",
            "image 1/1 /content/Olympia_new/renamed_image/C0494.JPG: 448x640 1 Right_eye, 1 Left_eye, 1087.3ms\n",
            "Speed: 3.4ms preprocess, 1087.3ms inference, 0.9ms postprocess per image at shape (1, 3, 448, 640)\n"
          ]
        },
        {
          "output_type": "stream",
          "name": "stderr",
          "text": [
            "\rProcessing images:  17%|█▋        | 345/2071 [08:11<35:43,  1.24s/it]"
          ]
        },
        {
          "output_type": "stream",
          "name": "stdout",
          "text": [
            "\n",
            "image 1/1 /content/Olympia_new/renamed_image/A1034.JPG: 448x640 1 Right_eye, 1 Left_eye, 1532.7ms\n",
            "Speed: 3.6ms preprocess, 1532.7ms inference, 1.1ms postprocess per image at shape (1, 3, 448, 640)\n"
          ]
        },
        {
          "output_type": "stream",
          "name": "stderr",
          "text": [
            "\rProcessing images:  17%|█▋        | 346/2071 [08:13<39:16,  1.37s/it]"
          ]
        },
        {
          "output_type": "stream",
          "name": "stdout",
          "text": [
            "\n",
            "image 1/1 /content/Olympia_new/renamed_image/A0166.JPG: 448x640 1 Right_eye, 1 Left_eye, 1748.2ms\n",
            "Speed: 5.2ms preprocess, 1748.2ms inference, 1.4ms postprocess per image at shape (1, 3, 448, 640)\n"
          ]
        },
        {
          "output_type": "stream",
          "name": "stderr",
          "text": [
            "\rProcessing images:  17%|█▋        | 347/2071 [08:15<43:44,  1.52s/it]"
          ]
        },
        {
          "output_type": "stream",
          "name": "stdout",
          "text": [
            "\n",
            "image 1/1 /content/Olympia_new/renamed_image/A0690.JPG: 448x640 1 Right_eye, 1 Left_eye, 1360.7ms\n",
            "Speed: 5.2ms preprocess, 1360.7ms inference, 0.9ms postprocess per image at shape (1, 3, 448, 640)\n"
          ]
        },
        {
          "output_type": "stream",
          "name": "stderr",
          "text": [
            "\rProcessing images:  17%|█▋        | 348/2071 [08:16<43:26,  1.51s/it]"
          ]
        },
        {
          "output_type": "stream",
          "name": "stdout",
          "text": [
            "\n",
            "image 1/1 /content/Olympia_new/renamed_image/C0220.JPG: 448x640 1 Right_eye, 1 Left_eye, 1179.9ms\n",
            "Speed: 3.9ms preprocess, 1179.9ms inference, 0.9ms postprocess per image at shape (1, 3, 448, 640)\n"
          ]
        },
        {
          "output_type": "stream",
          "name": "stderr",
          "text": [
            "\rProcessing images:  17%|█▋        | 349/2071 [08:18<44:38,  1.56s/it]"
          ]
        },
        {
          "output_type": "stream",
          "name": "stdout",
          "text": [
            "\n",
            "image 1/1 /content/Olympia_new/renamed_image/A0783.JPG: 448x640 1 Right_eye, 1 Left_eye, 1092.8ms\n",
            "Speed: 3.5ms preprocess, 1092.8ms inference, 1.0ms postprocess per image at shape (1, 3, 448, 640)\n"
          ]
        },
        {
          "output_type": "stream",
          "name": "stderr",
          "text": [
            "\rProcessing images:  17%|█▋        | 350/2071 [08:19<41:29,  1.45s/it]"
          ]
        },
        {
          "output_type": "stream",
          "name": "stdout",
          "text": [
            "\n",
            "image 1/1 /content/Olympia_new/renamed_image/A0910.JPG: 448x640 1 Right_eye, 1 Left_eye, 1126.3ms\n",
            "Speed: 3.6ms preprocess, 1126.3ms inference, 1.1ms postprocess per image at shape (1, 3, 448, 640)\n"
          ]
        },
        {
          "output_type": "stream",
          "name": "stderr",
          "text": [
            "\rProcessing images:  17%|█▋        | 351/2071 [08:20<39:39,  1.38s/it]"
          ]
        },
        {
          "output_type": "stream",
          "name": "stdout",
          "text": [
            "\n",
            "image 1/1 /content/Olympia_new/renamed_image/C0332.JPG: 448x640 1 Right_eye, 1 Left_eye, 1105.5ms\n",
            "Speed: 3.7ms preprocess, 1105.5ms inference, 0.9ms postprocess per image at shape (1, 3, 448, 640)\n"
          ]
        },
        {
          "output_type": "stream",
          "name": "stderr",
          "text": [
            "\rProcessing images:  17%|█▋        | 352/2071 [08:22<38:32,  1.35s/it]"
          ]
        },
        {
          "output_type": "stream",
          "name": "stdout",
          "text": [
            "\n",
            "image 1/1 /content/Olympia_new/renamed_image/A0398.JPG: 448x640 1 Right_eye, 1 Left_eye, 1113.4ms\n",
            "Speed: 3.7ms preprocess, 1113.4ms inference, 0.9ms postprocess per image at shape (1, 3, 448, 640)\n"
          ]
        },
        {
          "output_type": "stream",
          "name": "stderr",
          "text": [
            "\rProcessing images:  17%|█▋        | 353/2071 [08:23<38:00,  1.33s/it]"
          ]
        },
        {
          "output_type": "stream",
          "name": "stdout",
          "text": [
            "\n",
            "image 1/1 /content/Olympia_new/renamed_image/A0634.JPG: 448x640 1 Right_eye, 1 Left_eye, 1685.2ms\n",
            "Speed: 3.6ms preprocess, 1685.2ms inference, 0.9ms postprocess per image at shape (1, 3, 448, 640)\n"
          ]
        },
        {
          "output_type": "stream",
          "name": "stderr",
          "text": [
            "\rProcessing images:  17%|█▋        | 354/2071 [08:25<41:55,  1.47s/it]"
          ]
        },
        {
          "output_type": "stream",
          "name": "stdout",
          "text": [
            "\n",
            "image 1/1 /content/Olympia_new/renamed_image/A0831.JPG: 448x640 1 Right_eye, 1 Left_eye, 1317.2ms\n",
            "Speed: 3.6ms preprocess, 1317.2ms inference, 1.1ms postprocess per image at shape (1, 3, 448, 640)\n"
          ]
        },
        {
          "output_type": "stream",
          "name": "stderr",
          "text": [
            "\rProcessing images:  17%|█▋        | 355/2071 [08:26<41:40,  1.46s/it]"
          ]
        },
        {
          "output_type": "stream",
          "name": "stdout",
          "text": [
            "\n",
            "image 1/1 /content/Olympia_new/renamed_image/A0253.JPG: 448x640 1 Right_eye, 1 Left_eye, 1784.2ms\n",
            "Speed: 5.3ms preprocess, 1784.2ms inference, 1.1ms postprocess per image at shape (1, 3, 448, 640)\n"
          ]
        },
        {
          "output_type": "stream",
          "name": "stderr",
          "text": [
            "\rProcessing images:  17%|█▋        | 356/2071 [08:28<45:45,  1.60s/it]"
          ]
        },
        {
          "output_type": "stream",
          "name": "stdout",
          "text": [
            "\n",
            "image 1/1 /content/Olympia_new/renamed_image/C0114.JPG: 448x640 1 Right_eye, 1 Left_eye, 1638.5ms\n",
            "Speed: 5.3ms preprocess, 1638.5ms inference, 0.9ms postprocess per image at shape (1, 3, 448, 640)\n"
          ]
        },
        {
          "output_type": "stream",
          "name": "stderr",
          "text": [
            "\rProcessing images:  17%|█▋        | 357/2071 [08:30<47:09,  1.65s/it]"
          ]
        },
        {
          "output_type": "stream",
          "name": "stdout",
          "text": [
            "\n",
            "image 1/1 /content/Olympia_new/renamed_image/C0101.JPG: 448x640 1 Right_eye, 1 Left_eye, 1096.8ms\n",
            "Speed: 3.7ms preprocess, 1096.8ms inference, 0.8ms postprocess per image at shape (1, 3, 448, 640)\n"
          ]
        },
        {
          "output_type": "stream",
          "name": "stderr",
          "text": [
            "\rProcessing images:  17%|█▋        | 358/2071 [08:31<43:14,  1.51s/it]"
          ]
        },
        {
          "output_type": "stream",
          "name": "stdout",
          "text": [
            "\n",
            "image 1/1 /content/Olympia_new/renamed_image/C0697.JPG: 448x640 1 Right_eye, 1 Left_eye, 1089.2ms\n",
            "Speed: 3.5ms preprocess, 1089.2ms inference, 0.9ms postprocess per image at shape (1, 3, 448, 640)\n"
          ]
        },
        {
          "output_type": "stream",
          "name": "stderr",
          "text": [
            "\rProcessing images:  17%|█▋        | 359/2071 [08:32<40:25,  1.42s/it]"
          ]
        },
        {
          "output_type": "stream",
          "name": "stdout",
          "text": [
            "\n",
            "image 1/1 /content/Olympia_new/renamed_image/C0876.JPG: 448x640 1 Right_eye, 1 Left_eye, 1102.7ms\n",
            "Speed: 3.6ms preprocess, 1102.7ms inference, 0.9ms postprocess per image at shape (1, 3, 448, 640)\n"
          ]
        },
        {
          "output_type": "stream",
          "name": "stderr",
          "text": [
            "\rProcessing images:  17%|█▋        | 360/2071 [08:33<38:34,  1.35s/it]"
          ]
        },
        {
          "output_type": "stream",
          "name": "stdout",
          "text": [
            "\n",
            "image 1/1 /content/Olympia_new/renamed_image/A0948.JPG: 448x640 1 Right_eye, 1 Left_eye, 1131.7ms\n",
            "Speed: 5.1ms preprocess, 1131.7ms inference, 0.9ms postprocess per image at shape (1, 3, 448, 640)\n"
          ]
        },
        {
          "output_type": "stream",
          "name": "stderr",
          "text": [
            "\rProcessing images:  17%|█▋        | 361/2071 [08:35<37:38,  1.32s/it]"
          ]
        },
        {
          "output_type": "stream",
          "name": "stdout",
          "text": [
            "\n",
            "image 1/1 /content/Olympia_new/renamed_image/A0562.JPG: 448x640 1 Right_eye, 1 Left_eye, 1102.3ms\n",
            "Speed: 3.6ms preprocess, 1102.3ms inference, 0.9ms postprocess per image at shape (1, 3, 448, 640)\n"
          ]
        },
        {
          "output_type": "stream",
          "name": "stderr",
          "text": [
            "\rProcessing images:  17%|█▋        | 362/2071 [08:36<36:38,  1.29s/it]"
          ]
        },
        {
          "output_type": "stream",
          "name": "stdout",
          "text": [
            "\n",
            "image 1/1 /content/Olympia_new/renamed_image/C0497.JPG: 448x640 1 Right_eye, 1 Left_eye, 1093.4ms\n",
            "Speed: 3.7ms preprocess, 1093.4ms inference, 0.9ms postprocess per image at shape (1, 3, 448, 640)\n"
          ]
        },
        {
          "output_type": "stream",
          "name": "stderr",
          "text": [
            "\rProcessing images:  18%|█▊        | 363/2071 [08:37<35:51,  1.26s/it]"
          ]
        },
        {
          "output_type": "stream",
          "name": "stdout",
          "text": [
            "\n",
            "image 1/1 /content/Olympia_new/renamed_image/A0005.JPG: 448x640 1 Right_eye, 1 Left_eye, 1176.5ms\n",
            "Speed: 3.6ms preprocess, 1176.5ms inference, 0.9ms postprocess per image at shape (1, 3, 448, 640)\n"
          ]
        },
        {
          "output_type": "stream",
          "name": "stderr",
          "text": [
            "\rProcessing images:  18%|█▊        | 364/2071 [08:38<36:37,  1.29s/it]"
          ]
        },
        {
          "output_type": "stream",
          "name": "stdout",
          "text": [
            "\n",
            "image 1/1 /content/Olympia_new/renamed_image/C0179.JPG: 448x640 1 Right_eye, 1 Left_eye, 1104.1ms\n",
            "Speed: 3.4ms preprocess, 1104.1ms inference, 0.9ms postprocess per image at shape (1, 3, 448, 640)\n"
          ]
        },
        {
          "output_type": "stream",
          "name": "stderr",
          "text": [
            "\rProcessing images:  18%|█▊        | 365/2071 [08:40<35:53,  1.26s/it]"
          ]
        },
        {
          "output_type": "stream",
          "name": "stdout",
          "text": [
            "\n",
            "image 1/1 /content/Olympia_new/renamed_image/A0945.JPG: 448x640 1 Right_eye, 1 Left_eye, 1743.6ms\n",
            "Speed: 5.5ms preprocess, 1743.6ms inference, 1.1ms postprocess per image at shape (1, 3, 448, 640)\n"
          ]
        },
        {
          "output_type": "stream",
          "name": "stderr",
          "text": [
            "\rProcessing images:  18%|█▊        | 366/2071 [08:42<41:25,  1.46s/it]"
          ]
        },
        {
          "output_type": "stream",
          "name": "stdout",
          "text": [
            "\n",
            "image 1/1 /content/Olympia_new/renamed_image/A0909.JPG: 448x640 1 Right_eye, 1 Left_eye, 1748.1ms\n",
            "Speed: 6.5ms preprocess, 1748.1ms inference, 1.4ms postprocess per image at shape (1, 3, 448, 640)\n"
          ]
        },
        {
          "output_type": "stream",
          "name": "stderr",
          "text": [
            "\rProcessing images:  18%|█▊        | 367/2071 [08:43<45:06,  1.59s/it]"
          ]
        },
        {
          "output_type": "stream",
          "name": "stdout",
          "text": [
            "\n",
            "image 1/1 /content/Olympia_new/renamed_image/C0032.JPG: 448x640 1 Right_eye, 1 Left_eye, 1115.5ms\n",
            "Speed: 3.5ms preprocess, 1115.5ms inference, 0.9ms postprocess per image at shape (1, 3, 448, 640)\n"
          ]
        },
        {
          "output_type": "stream",
          "name": "stderr",
          "text": [
            "\rProcessing images:  18%|█▊        | 368/2071 [08:45<42:02,  1.48s/it]"
          ]
        },
        {
          "output_type": "stream",
          "name": "stdout",
          "text": [
            "\n",
            "image 1/1 /content/Olympia_new/renamed_image/A0088.JPG: 448x640 1 Right_eye, 1 Left_eye, 1108.7ms\n",
            "Speed: 3.8ms preprocess, 1108.7ms inference, 0.9ms postprocess per image at shape (1, 3, 448, 640)\n"
          ]
        },
        {
          "output_type": "stream",
          "name": "stderr",
          "text": [
            "\rProcessing images:  18%|█▊        | 369/2071 [08:46<40:12,  1.42s/it]"
          ]
        },
        {
          "output_type": "stream",
          "name": "stdout",
          "text": [
            "\n",
            "image 1/1 /content/Olympia_new/renamed_image/A0493.JPG: 448x640 1 Right_eye, 1 Left_eye, 1103.8ms\n",
            "Speed: 3.5ms preprocess, 1103.8ms inference, 0.9ms postprocess per image at shape (1, 3, 448, 640)\n"
          ]
        },
        {
          "output_type": "stream",
          "name": "stderr",
          "text": [
            "\rProcessing images:  18%|█▊        | 370/2071 [08:47<38:24,  1.35s/it]"
          ]
        },
        {
          "output_type": "stream",
          "name": "stdout",
          "text": [
            "\n",
            "image 1/1 /content/Olympia_new/renamed_image/C0477.JPG: 448x640 1 Right_eye, 1 Left_eye, 1191.6ms\n",
            "Speed: 3.5ms preprocess, 1191.6ms inference, 0.9ms postprocess per image at shape (1, 3, 448, 640)\n"
          ]
        },
        {
          "output_type": "stream",
          "name": "stderr",
          "text": [
            "\rProcessing images:  18%|█▊        | 371/2071 [08:48<37:50,  1.34s/it]"
          ]
        },
        {
          "output_type": "stream",
          "name": "stdout",
          "text": [
            "\n",
            "image 1/1 /content/Olympia_new/renamed_image/A1026.JPG: 448x640 1 Right_eye, 1 Left_eye, 1128.9ms\n",
            "Speed: 3.5ms preprocess, 1128.9ms inference, 0.9ms postprocess per image at shape (1, 3, 448, 640)\n"
          ]
        },
        {
          "output_type": "stream",
          "name": "stderr",
          "text": [
            "\rProcessing images:  18%|█▊        | 372/2071 [08:50<37:02,  1.31s/it]"
          ]
        },
        {
          "output_type": "stream",
          "name": "stdout",
          "text": [
            "\n",
            "image 1/1 /content/Olympia_new/renamed_image/A0380.JPG: 448x640 1 Right_eye, 1 Left_eye, 1138.9ms\n",
            "Speed: 3.6ms preprocess, 1138.9ms inference, 0.9ms postprocess per image at shape (1, 3, 448, 640)\n"
          ]
        },
        {
          "output_type": "stream",
          "name": "stderr",
          "text": [
            "\rProcessing images:  18%|█▊        | 373/2071 [08:51<36:52,  1.30s/it]"
          ]
        },
        {
          "output_type": "stream",
          "name": "stdout",
          "text": [
            "\n",
            "image 1/1 /content/Olympia_new/renamed_image/A0015.JPG: 448x640 1 Right_eye, 1 Left_eye, 1101.0ms\n",
            "Speed: 3.7ms preprocess, 1101.0ms inference, 0.9ms postprocess per image at shape (1, 3, 448, 640)\n"
          ]
        },
        {
          "output_type": "stream",
          "name": "stderr",
          "text": [
            "\rProcessing images:  18%|█▊        | 374/2071 [08:52<36:27,  1.29s/it]"
          ]
        },
        {
          "output_type": "stream",
          "name": "stdout",
          "text": [
            "\n",
            "image 1/1 /content/Olympia_new/renamed_image/A0428.JPG: 448x640 1 Right_eye, 1 Left_eye, 1083.6ms\n",
            "Speed: 3.8ms preprocess, 1083.6ms inference, 0.9ms postprocess per image at shape (1, 3, 448, 640)\n"
          ]
        },
        {
          "output_type": "stream",
          "name": "stderr",
          "text": [
            "\rProcessing images:  18%|█▊        | 375/2071 [08:54<36:05,  1.28s/it]"
          ]
        },
        {
          "output_type": "stream",
          "name": "stdout",
          "text": [
            "\n",
            "image 1/1 /content/Olympia_new/renamed_image/A0865.JPG: 448x640 1 Right_eye, 1 Left_eye, 1754.6ms\n",
            "Speed: 5.0ms preprocess, 1754.6ms inference, 1.1ms postprocess per image at shape (1, 3, 448, 640)\n"
          ]
        },
        {
          "output_type": "stream",
          "name": "stderr",
          "text": [
            "\rProcessing images:  18%|█▊        | 376/2071 [08:55<41:19,  1.46s/it]"
          ]
        },
        {
          "output_type": "stream",
          "name": "stdout",
          "text": [
            "\n",
            "image 1/1 /content/Olympia_new/renamed_image/C0469.JPG: 448x640 1 Right_eye, 1 Left_eye, 1757.6ms\n",
            "Speed: 5.0ms preprocess, 1757.6ms inference, 1.3ms postprocess per image at shape (1, 3, 448, 640)\n"
          ]
        },
        {
          "output_type": "stream",
          "name": "stderr",
          "text": [
            "\rProcessing images:  18%|█▊        | 377/2071 [08:57<44:53,  1.59s/it]"
          ]
        },
        {
          "output_type": "stream",
          "name": "stdout",
          "text": [
            "\n",
            "image 1/1 /content/Olympia_new/renamed_image/A0497.JPG: 448x640 1 Right_eye, 1 Left_eye, 1111.6ms\n",
            "Speed: 5.4ms preprocess, 1111.6ms inference, 0.9ms postprocess per image at shape (1, 3, 448, 640)\n"
          ]
        },
        {
          "output_type": "stream",
          "name": "stderr",
          "text": [
            "\rProcessing images:  18%|█▊        | 378/2071 [08:59<41:52,  1.48s/it]"
          ]
        },
        {
          "output_type": "stream",
          "name": "stdout",
          "text": [
            "\n",
            "image 1/1 /content/Olympia_new/renamed_image/A0043.JPG: 448x640 1 Right_eye, 1 Left_eye, 1114.6ms\n",
            "Speed: 4.4ms preprocess, 1114.6ms inference, 0.9ms postprocess per image at shape (1, 3, 448, 640)\n"
          ]
        },
        {
          "output_type": "stream",
          "name": "stderr",
          "text": [
            "\rProcessing images:  18%|█▊        | 379/2071 [09:00<40:07,  1.42s/it]"
          ]
        },
        {
          "output_type": "stream",
          "name": "stdout",
          "text": [
            "\n",
            "image 1/1 /content/Olympia_new/renamed_image/C0737.JPG: 448x640 1 Right_eye, 1 Left_eye, 1094.4ms\n",
            "Speed: 3.5ms preprocess, 1094.4ms inference, 0.9ms postprocess per image at shape (1, 3, 448, 640)\n"
          ]
        },
        {
          "output_type": "stream",
          "name": "stderr",
          "text": [
            "\rProcessing images:  18%|█▊        | 380/2071 [09:01<38:08,  1.35s/it]"
          ]
        },
        {
          "output_type": "stream",
          "name": "stdout",
          "text": [
            "\n",
            "image 1/1 /content/Olympia_new/renamed_image/A0217.JPG: 448x640 1 Right_eye, 1 Left_eye, 1103.6ms\n",
            "Speed: 3.4ms preprocess, 1103.6ms inference, 0.9ms postprocess per image at shape (1, 3, 448, 640)\n"
          ]
        },
        {
          "output_type": "stream",
          "name": "stderr",
          "text": [
            "\rProcessing images:  18%|█▊        | 381/2071 [09:02<36:50,  1.31s/it]"
          ]
        },
        {
          "output_type": "stream",
          "name": "stdout",
          "text": [
            "\n",
            "image 1/1 /content/Olympia_new/renamed_image/C0266.JPG: 448x640 1 Right_eye, 1 Left_eye, 1102.9ms\n",
            "Speed: 3.5ms preprocess, 1102.9ms inference, 0.9ms postprocess per image at shape (1, 3, 448, 640)\n"
          ]
        },
        {
          "output_type": "stream",
          "name": "stderr",
          "text": [
            "\rProcessing images:  18%|█▊        | 382/2071 [09:03<36:24,  1.29s/it]"
          ]
        },
        {
          "output_type": "stream",
          "name": "stdout",
          "text": [
            "\n",
            "image 1/1 /content/Olympia_new/renamed_image/C0851.JPG: 448x640 1 Right_eye, 1 Left_eye, 1087.8ms\n",
            "Speed: 3.4ms preprocess, 1087.8ms inference, 0.9ms postprocess per image at shape (1, 3, 448, 640)\n"
          ]
        },
        {
          "output_type": "stream",
          "name": "stderr",
          "text": [
            "\rProcessing images:  18%|█▊        | 383/2071 [09:05<35:32,  1.26s/it]"
          ]
        },
        {
          "output_type": "stream",
          "name": "stdout",
          "text": [
            "\n",
            "image 1/1 /content/Olympia_new/renamed_image/A0352.JPG: 448x640 1 Right_eye, 1 Left_eye, 1130.2ms\n",
            "Speed: 5.3ms preprocess, 1130.2ms inference, 0.9ms postprocess per image at shape (1, 3, 448, 640)\n"
          ]
        },
        {
          "output_type": "stream",
          "name": "stderr",
          "text": [
            "\rProcessing images:  19%|█▊        | 384/2071 [09:06<35:43,  1.27s/it]"
          ]
        },
        {
          "output_type": "stream",
          "name": "stdout",
          "text": [
            "\n",
            "image 1/1 /content/Olympia_new/renamed_image/A0568.JPG: 448x640 1 Right_eye, 1 Left_eye, 1097.9ms\n",
            "Speed: 3.7ms preprocess, 1097.9ms inference, 0.9ms postprocess per image at shape (1, 3, 448, 640)\n"
          ]
        },
        {
          "output_type": "stream",
          "name": "stderr",
          "text": [
            "\rProcessing images:  19%|█▊        | 385/2071 [09:07<35:07,  1.25s/it]"
          ]
        },
        {
          "output_type": "stream",
          "name": "stdout",
          "text": [
            "\n",
            "image 1/1 /content/Olympia_new/renamed_image/C0570.JPG: 448x640 1 Right_eye, 1 Left_eye, 1645.8ms\n",
            "Speed: 3.6ms preprocess, 1645.8ms inference, 1.2ms postprocess per image at shape (1, 3, 448, 640)\n"
          ]
        },
        {
          "output_type": "stream",
          "name": "stderr",
          "text": [
            "\rProcessing images:  19%|█▊        | 386/2071 [09:09<39:16,  1.40s/it]"
          ]
        },
        {
          "output_type": "stream",
          "name": "stdout",
          "text": [
            "\n",
            "image 1/1 /content/Olympia_new/renamed_image/C0010.JPG: 448x640 1 Right_eye, 1 Left_eye, 1812.7ms\n",
            "Speed: 5.1ms preprocess, 1812.7ms inference, 1.3ms postprocess per image at shape (1, 3, 448, 640)\n"
          ]
        },
        {
          "output_type": "stream",
          "name": "stderr",
          "text": [
            "\rProcessing images:  19%|█▊        | 387/2071 [09:11<44:01,  1.57s/it]"
          ]
        },
        {
          "output_type": "stream",
          "name": "stdout",
          "text": [
            "\n",
            "image 1/1 /content/Olympia_new/renamed_image/A0818.JPG: 448x640 1 Right_eye, 1 Left_eye, 1223.5ms\n",
            "Speed: 4.9ms preprocess, 1223.5ms inference, 0.9ms postprocess per image at shape (1, 3, 448, 640)\n"
          ]
        },
        {
          "output_type": "stream",
          "name": "stderr",
          "text": [
            "\rProcessing images:  19%|█▊        | 388/2071 [09:12<42:16,  1.51s/it]"
          ]
        },
        {
          "output_type": "stream",
          "name": "stdout",
          "text": [
            "\n",
            "image 1/1 /content/Olympia_new/renamed_image/C0988.JPG: 448x640 1 Right_eye, 1 Left_eye, 1086.7ms\n",
            "Speed: 3.7ms preprocess, 1086.7ms inference, 0.9ms postprocess per image at shape (1, 3, 448, 640)\n"
          ]
        },
        {
          "output_type": "stream",
          "name": "stderr",
          "text": [
            "\rProcessing images:  19%|█▉        | 389/2071 [09:13<39:39,  1.41s/it]"
          ]
        },
        {
          "output_type": "stream",
          "name": "stdout",
          "text": [
            "\n",
            "image 1/1 /content/Olympia_new/renamed_image/A0276.JPG: 448x640 1 Right_eye, 1 Left_eye, 1105.8ms\n",
            "Speed: 3.5ms preprocess, 1105.8ms inference, 0.9ms postprocess per image at shape (1, 3, 448, 640)\n"
          ]
        },
        {
          "output_type": "stream",
          "name": "stderr",
          "text": [
            "\rProcessing images:  19%|█▉        | 390/2071 [09:15<37:50,  1.35s/it]"
          ]
        },
        {
          "output_type": "stream",
          "name": "stdout",
          "text": [
            "\n",
            "image 1/1 /content/Olympia_new/renamed_image/A0532.JPG: 448x640 1 Right_eye, 1 Left_eye, 1120.3ms\n",
            "Speed: 3.4ms preprocess, 1120.3ms inference, 0.9ms postprocess per image at shape (1, 3, 448, 640)\n"
          ]
        },
        {
          "output_type": "stream",
          "name": "stderr",
          "text": [
            "\rProcessing images:  19%|█▉        | 391/2071 [09:16<36:48,  1.31s/it]"
          ]
        },
        {
          "output_type": "stream",
          "name": "stdout",
          "text": [
            "\n",
            "image 1/1 /content/Olympia_new/renamed_image/A0904.JPG: 448x640 1 Right_eye, 1 Left_eye, 1095.0ms\n",
            "Speed: 3.5ms preprocess, 1095.0ms inference, 1.0ms postprocess per image at shape (1, 3, 448, 640)\n"
          ]
        },
        {
          "output_type": "stream",
          "name": "stderr",
          "text": [
            "\rProcessing images:  19%|█▉        | 392/2071 [09:17<35:57,  1.28s/it]"
          ]
        },
        {
          "output_type": "stream",
          "name": "stdout",
          "text": [
            "\n",
            "image 1/1 /content/Olympia_new/renamed_image/C0125.JPG: 448x640 1 Right_eye, 1 Left_eye, 1105.0ms\n",
            "Speed: 3.6ms preprocess, 1105.0ms inference, 0.9ms postprocess per image at shape (1, 3, 448, 640)\n"
          ]
        },
        {
          "output_type": "stream",
          "name": "stderr",
          "text": [
            "\rProcessing images:  19%|█▉        | 393/2071 [09:18<35:12,  1.26s/it]"
          ]
        },
        {
          "output_type": "stream",
          "name": "stdout",
          "text": [
            "\n",
            "image 1/1 /content/Olympia_new/renamed_image/A0665.JPG: 448x640 1 Right_eye, 1 Left_eye, 1094.4ms\n",
            "Speed: 4.5ms preprocess, 1094.4ms inference, 0.9ms postprocess per image at shape (1, 3, 448, 640)\n"
          ]
        },
        {
          "output_type": "stream",
          "name": "stderr",
          "text": [
            "\rProcessing images:  19%|█▉        | 394/2071 [09:19<34:45,  1.24s/it]"
          ]
        },
        {
          "output_type": "stream",
          "name": "stdout",
          "text": [
            "\n",
            "image 1/1 /content/Olympia_new/renamed_image/A0947.JPG: 448x640 1 Right_eye, 1 Left_eye, 1311.5ms\n",
            "Speed: 3.7ms preprocess, 1311.5ms inference, 0.9ms postprocess per image at shape (1, 3, 448, 640)\n"
          ]
        },
        {
          "output_type": "stream",
          "name": "stderr",
          "text": [
            "\rProcessing images:  19%|█▉        | 395/2071 [09:21<36:15,  1.30s/it]"
          ]
        },
        {
          "output_type": "stream",
          "name": "stdout",
          "text": [
            "\n",
            "image 1/1 /content/Olympia_new/renamed_image/A0755.JPG: 448x640 1 Right_eye, 1 Left_eye, 1570.7ms\n",
            "Speed: 3.4ms preprocess, 1570.7ms inference, 1.3ms postprocess per image at shape (1, 3, 448, 640)\n"
          ]
        },
        {
          "output_type": "stream",
          "name": "stderr",
          "text": [
            "\rProcessing images:  19%|█▉        | 396/2071 [09:23<39:30,  1.42s/it]"
          ]
        },
        {
          "output_type": "stream",
          "name": "stdout",
          "text": [
            "\n",
            "image 1/1 /content/Olympia_new/renamed_image/A0310.JPG: 448x640 1 Right_eye, 1 Left_eye, 1762.8ms\n",
            "Speed: 5.5ms preprocess, 1762.8ms inference, 1.3ms postprocess per image at shape (1, 3, 448, 640)\n"
          ]
        },
        {
          "output_type": "stream",
          "name": "stderr",
          "text": [
            "\rProcessing images:  19%|█▉        | 397/2071 [09:25<49:02,  1.76s/it]"
          ]
        },
        {
          "output_type": "stream",
          "name": "stdout",
          "text": [
            "\n",
            "image 1/1 /content/Olympia_new/renamed_image/A0151.JPG: 448x640 1 Right_eye, 1 Left_eye, 1096.0ms\n",
            "Speed: 3.8ms preprocess, 1096.0ms inference, 0.9ms postprocess per image at shape (1, 3, 448, 640)\n"
          ]
        },
        {
          "output_type": "stream",
          "name": "stderr",
          "text": [
            "\rProcessing images:  19%|█▉        | 398/2071 [09:26<44:31,  1.60s/it]"
          ]
        },
        {
          "output_type": "stream",
          "name": "stdout",
          "text": [
            "\n",
            "image 1/1 /content/Olympia_new/renamed_image/C0309.JPG: 448x640 1 Right_eye, 1 Left_eye, 1087.4ms\n",
            "Speed: 3.6ms preprocess, 1087.4ms inference, 0.9ms postprocess per image at shape (1, 3, 448, 640)\n"
          ]
        },
        {
          "output_type": "stream",
          "name": "stderr",
          "text": [
            "\rProcessing images:  19%|█▉        | 399/2071 [09:28<41:31,  1.49s/it]"
          ]
        },
        {
          "output_type": "stream",
          "name": "stdout",
          "text": [
            "\n",
            "image 1/1 /content/Olympia_new/renamed_image/A0091.JPG: 448x640 1 Right_eye, 1 Left_eye, 1113.9ms\n",
            "Speed: 3.6ms preprocess, 1113.9ms inference, 1.0ms postprocess per image at shape (1, 3, 448, 640)\n"
          ]
        },
        {
          "output_type": "stream",
          "name": "stderr",
          "text": [
            "\rProcessing images:  19%|█▉        | 400/2071 [09:29<39:33,  1.42s/it]"
          ]
        },
        {
          "output_type": "stream",
          "name": "stdout",
          "text": [
            "\n",
            "image 1/1 /content/Olympia_new/renamed_image/A0105.JPG: 448x640 1 Right_eye, 1 Left_eye, 1315.5ms\n",
            "Speed: 3.4ms preprocess, 1315.5ms inference, 0.9ms postprocess per image at shape (1, 3, 448, 640)\n"
          ]
        },
        {
          "output_type": "stream",
          "name": "stderr",
          "text": [
            "\rProcessing images:  19%|█▉        | 401/2071 [09:30<39:32,  1.42s/it]"
          ]
        },
        {
          "output_type": "stream",
          "name": "stdout",
          "text": [
            "\n",
            "image 1/1 /content/Olympia_new/renamed_image/C0937.JPG: 448x640 1 Right_eye, 1 Left_eye, 1117.5ms\n",
            "Speed: 3.5ms preprocess, 1117.5ms inference, 0.9ms postprocess per image at shape (1, 3, 448, 640)\n"
          ]
        },
        {
          "output_type": "stream",
          "name": "stderr",
          "text": [
            "\rProcessing images:  19%|█▉        | 402/2071 [09:32<37:56,  1.36s/it]"
          ]
        },
        {
          "output_type": "stream",
          "name": "stdout",
          "text": [
            "\n",
            "image 1/1 /content/Olympia_new/renamed_image/C0961.JPG: 448x640 1 Right_eye, 1 Left_eye, 1087.5ms\n",
            "Speed: 3.4ms preprocess, 1087.5ms inference, 0.9ms postprocess per image at shape (1, 3, 448, 640)\n"
          ]
        },
        {
          "output_type": "stream",
          "name": "stderr",
          "text": [
            "\rProcessing images:  19%|█▉        | 403/2071 [09:33<36:32,  1.31s/it]"
          ]
        },
        {
          "output_type": "stream",
          "name": "stdout",
          "text": [
            "\n",
            "image 1/1 /content/Olympia_new/renamed_image/A0804.JPG: 448x640 1 Right_eye, 1 Left_eye, 1095.9ms\n",
            "Speed: 3.7ms preprocess, 1095.9ms inference, 0.9ms postprocess per image at shape (1, 3, 448, 640)\n"
          ]
        },
        {
          "output_type": "stream",
          "name": "stderr",
          "text": [
            "\rProcessing images:  20%|█▉        | 404/2071 [09:34<35:31,  1.28s/it]"
          ]
        },
        {
          "output_type": "stream",
          "name": "stdout",
          "text": [
            "\n",
            "image 1/1 /content/Olympia_new/renamed_image/C0060.JPG: 448x640 1 Right_eye, 1 Left_eye, 1099.8ms\n",
            "Speed: 3.5ms preprocess, 1099.8ms inference, 0.9ms postprocess per image at shape (1, 3, 448, 640)\n"
          ]
        },
        {
          "output_type": "stream",
          "name": "stderr",
          "text": [
            "\rProcessing images:  20%|█▉        | 405/2071 [09:35<34:54,  1.26s/it]"
          ]
        },
        {
          "output_type": "stream",
          "name": "stdout",
          "text": [
            "\n",
            "image 1/1 /content/Olympia_new/renamed_image/C0513.JPG: 448x640 1 Right_eye, 1 Left_eye, 1757.6ms\n",
            "Speed: 3.6ms preprocess, 1757.6ms inference, 1.1ms postprocess per image at shape (1, 3, 448, 640)\n"
          ]
        },
        {
          "output_type": "stream",
          "name": "stderr",
          "text": [
            "\rProcessing images:  20%|█▉        | 406/2071 [09:37<39:52,  1.44s/it]"
          ]
        },
        {
          "output_type": "stream",
          "name": "stdout",
          "text": [
            "\n",
            "image 1/1 /content/Olympia_new/renamed_image/C0454.JPG: 448x640 1 Right_eye, 1 Left_eye, 1834.7ms\n",
            "Speed: 5.1ms preprocess, 1834.7ms inference, 1.3ms postprocess per image at shape (1, 3, 448, 640)\n"
          ]
        },
        {
          "output_type": "stream",
          "name": "stderr",
          "text": [
            "\rProcessing images:  20%|█▉        | 407/2071 [09:39<44:18,  1.60s/it]"
          ]
        },
        {
          "output_type": "stream",
          "name": "stdout",
          "text": [
            "\n",
            "image 1/1 /content/Olympia_new/renamed_image/C0542.JPG: 448x640 1 Right_eye, 1 Left_eye, 1258.9ms\n",
            "Speed: 5.1ms preprocess, 1258.9ms inference, 0.9ms postprocess per image at shape (1, 3, 448, 640)\n"
          ]
        },
        {
          "output_type": "stream",
          "name": "stderr",
          "text": [
            "\rProcessing images:  20%|█▉        | 408/2071 [09:40<42:36,  1.54s/it]"
          ]
        },
        {
          "output_type": "stream",
          "name": "stdout",
          "text": [
            "\n",
            "image 1/1 /content/Olympia_new/renamed_image/A0868.JPG: 448x640 1 Right_eye, 1 Left_eye, 1096.4ms\n",
            "Speed: 3.7ms preprocess, 1096.4ms inference, 0.9ms postprocess per image at shape (1, 3, 448, 640)\n"
          ]
        },
        {
          "output_type": "stream",
          "name": "stderr",
          "text": [
            "\rProcessing images:  20%|█▉        | 409/2071 [09:42<39:48,  1.44s/it]"
          ]
        },
        {
          "output_type": "stream",
          "name": "stdout",
          "text": [
            "\n",
            "image 1/1 /content/Olympia_new/renamed_image/A0347.JPG: 448x640 1 Right_eye, 1 Left_eye, 1080.1ms\n",
            "Speed: 4.2ms preprocess, 1080.1ms inference, 0.9ms postprocess per image at shape (1, 3, 448, 640)\n"
          ]
        },
        {
          "output_type": "stream",
          "name": "stderr",
          "text": [
            "\rProcessing images:  20%|█▉        | 410/2071 [09:43<38:07,  1.38s/it]"
          ]
        },
        {
          "output_type": "stream",
          "name": "stdout",
          "text": [
            "\n",
            "image 1/1 /content/Olympia_new/renamed_image/C0960.JPG: 448x640 1 Right_eye, 1 Left_eye, 1094.4ms\n",
            "Speed: 3.5ms preprocess, 1094.4ms inference, 0.9ms postprocess per image at shape (1, 3, 448, 640)\n"
          ]
        },
        {
          "output_type": "stream",
          "name": "stderr",
          "text": [
            "\rProcessing images:  20%|█▉        | 411/2071 [09:44<36:40,  1.33s/it]"
          ]
        },
        {
          "output_type": "stream",
          "name": "stdout",
          "text": [
            "\n",
            "image 1/1 /content/Olympia_new/renamed_image/C0489.JPG: 448x640 1 Right_eye, 1 Left_eye, 1140.0ms\n",
            "Speed: 3.7ms preprocess, 1140.0ms inference, 0.9ms postprocess per image at shape (1, 3, 448, 640)\n"
          ]
        },
        {
          "output_type": "stream",
          "name": "stderr",
          "text": [
            "\rProcessing images:  20%|█▉        | 412/2071 [09:45<35:57,  1.30s/it]"
          ]
        },
        {
          "output_type": "stream",
          "name": "stdout",
          "text": [
            "\n",
            "image 1/1 /content/Olympia_new/renamed_image/C0993.JPG: 448x640 1 Right_eye, 1 Left_eye, 1140.3ms\n",
            "Speed: 3.7ms preprocess, 1140.3ms inference, 0.9ms postprocess per image at shape (1, 3, 448, 640)\n"
          ]
        },
        {
          "output_type": "stream",
          "name": "stderr",
          "text": [
            "\rProcessing images:  20%|█▉        | 413/2071 [09:46<35:36,  1.29s/it]"
          ]
        },
        {
          "output_type": "stream",
          "name": "stdout",
          "text": [
            "\n",
            "image 1/1 /content/Olympia_new/renamed_image/A0543.JPG: 448x640 1 Right_eye, 1 Left_eye, 1158.4ms\n",
            "Speed: 3.6ms preprocess, 1158.4ms inference, 0.9ms postprocess per image at shape (1, 3, 448, 640)\n"
          ]
        },
        {
          "output_type": "stream",
          "name": "stderr",
          "text": [
            "\rProcessing images:  20%|█▉        | 414/2071 [09:48<35:27,  1.28s/it]"
          ]
        },
        {
          "output_type": "stream",
          "name": "stdout",
          "text": [
            "\n",
            "image 1/1 /content/Olympia_new/renamed_image/A0663.JPG: 448x640 1 Right_eye, 1 Left_eye, 1127.8ms\n",
            "Speed: 3.5ms preprocess, 1127.8ms inference, 1.0ms postprocess per image at shape (1, 3, 448, 640)\n"
          ]
        },
        {
          "output_type": "stream",
          "name": "stderr",
          "text": [
            "\rProcessing images:  20%|██        | 415/2071 [09:49<35:02,  1.27s/it]"
          ]
        },
        {
          "output_type": "stream",
          "name": "stdout",
          "text": [
            "\n",
            "image 1/1 /content/Olympia_new/renamed_image/A0393.JPG: 448x640 1 Right_eye, 1 Left_eye, 1733.1ms\n",
            "Speed: 3.6ms preprocess, 1733.1ms inference, 1.2ms postprocess per image at shape (1, 3, 448, 640)\n"
          ]
        },
        {
          "output_type": "stream",
          "name": "stderr",
          "text": [
            "\rProcessing images:  20%|██        | 416/2071 [09:51<40:15,  1.46s/it]"
          ]
        },
        {
          "output_type": "stream",
          "name": "stdout",
          "text": [
            "\n",
            "image 1/1 /content/Olympia_new/renamed_image/A0021.JPG: 448x640 1 Right_eye, 1 Left_eye, 1747.3ms\n",
            "Speed: 5.3ms preprocess, 1747.3ms inference, 1.2ms postprocess per image at shape (1, 3, 448, 640)\n"
          ]
        },
        {
          "output_type": "stream",
          "name": "stderr",
          "text": [
            "\rProcessing images:  20%|██        | 417/2071 [09:53<44:22,  1.61s/it]"
          ]
        },
        {
          "output_type": "stream",
          "name": "stdout",
          "text": [
            "\n",
            "image 1/1 /content/Olympia_new/renamed_image/C0966.JPG: 448x640 1 Right_eye, 1 Left_eye, 1160.8ms\n",
            "Speed: 5.7ms preprocess, 1160.8ms inference, 0.9ms postprocess per image at shape (1, 3, 448, 640)\n"
          ]
        },
        {
          "output_type": "stream",
          "name": "stderr",
          "text": [
            "\rProcessing images:  20%|██        | 418/2071 [09:54<41:49,  1.52s/it]"
          ]
        },
        {
          "output_type": "stream",
          "name": "stdout",
          "text": [
            "\n",
            "image 1/1 /content/Olympia_new/renamed_image/A0572.JPG: 448x640 1 Right_eye, 1 Left_eye, 1407.6ms\n",
            "Speed: 3.6ms preprocess, 1407.6ms inference, 0.9ms postprocess per image at shape (1, 3, 448, 640)\n"
          ]
        },
        {
          "output_type": "stream",
          "name": "stderr",
          "text": [
            "\rProcessing images:  20%|██        | 419/2071 [09:56<41:43,  1.52s/it]"
          ]
        },
        {
          "output_type": "stream",
          "name": "stdout",
          "text": [
            "\n",
            "image 1/1 /content/Olympia_new/renamed_image/C0172.JPG: 448x640 1 Right_eye, 1 Left_eye, 1095.5ms\n",
            "Speed: 3.7ms preprocess, 1095.5ms inference, 0.9ms postprocess per image at shape (1, 3, 448, 640)\n"
          ]
        },
        {
          "output_type": "stream",
          "name": "stderr",
          "text": [
            "\rProcessing images:  20%|██        | 420/2071 [09:57<39:02,  1.42s/it]"
          ]
        },
        {
          "output_type": "stream",
          "name": "stdout",
          "text": [
            "\n",
            "image 1/1 /content/Olympia_new/renamed_image/C0612.JPG: 448x640 1 Right_eye, 1 Left_eye, 1086.6ms\n",
            "Speed: 3.5ms preprocess, 1086.6ms inference, 0.9ms postprocess per image at shape (1, 3, 448, 640)\n"
          ]
        },
        {
          "output_type": "stream",
          "name": "stderr",
          "text": [
            "\rProcessing images:  20%|██        | 421/2071 [09:58<37:12,  1.35s/it]"
          ]
        },
        {
          "output_type": "stream",
          "name": "stdout",
          "text": [
            "\n",
            "image 1/1 /content/Olympia_new/renamed_image/A0527.JPG: 448x640 1 Right_eye, 1 Left_eye, 1093.9ms\n",
            "Speed: 3.4ms preprocess, 1093.9ms inference, 1.2ms postprocess per image at shape (1, 3, 448, 640)\n"
          ]
        },
        {
          "output_type": "stream",
          "name": "stderr",
          "text": [
            "\rProcessing images:  20%|██        | 422/2071 [09:59<35:53,  1.31s/it]"
          ]
        },
        {
          "output_type": "stream",
          "name": "stdout",
          "text": [
            "\n",
            "image 1/1 /content/Olympia_new/renamed_image/A0053.JPG: 448x640 1 Right_eye, 1 Left_eye, 1180.4ms\n",
            "Speed: 3.6ms preprocess, 1180.4ms inference, 0.9ms postprocess per image at shape (1, 3, 448, 640)\n"
          ]
        },
        {
          "output_type": "stream",
          "name": "stderr",
          "text": [
            "\rProcessing images:  20%|██        | 423/2071 [10:01<36:08,  1.32s/it]"
          ]
        },
        {
          "output_type": "stream",
          "name": "stdout",
          "text": [
            "\n",
            "image 1/1 /content/Olympia_new/renamed_image/C0659.JPG: 448x640 1 Right_eye, 1 Left_eye, 1082.4ms\n",
            "Speed: 3.5ms preprocess, 1082.4ms inference, 0.9ms postprocess per image at shape (1, 3, 448, 640)\n"
          ]
        },
        {
          "output_type": "stream",
          "name": "stderr",
          "text": [
            "\rProcessing images:  20%|██        | 424/2071 [10:02<35:08,  1.28s/it]"
          ]
        },
        {
          "output_type": "stream",
          "name": "stdout",
          "text": [
            "\n",
            "image 1/1 /content/Olympia_new/renamed_image/C0950.JPG: 448x640 1 Right_eye, 1 Left_eye, 1087.0ms\n",
            "Speed: 3.6ms preprocess, 1087.0ms inference, 0.9ms postprocess per image at shape (1, 3, 448, 640)\n"
          ]
        },
        {
          "output_type": "stream",
          "name": "stderr",
          "text": [
            "\rProcessing images:  21%|██        | 425/2071 [10:03<34:30,  1.26s/it]"
          ]
        },
        {
          "output_type": "stream",
          "name": "stdout",
          "text": [
            "\n",
            "image 1/1 /content/Olympia_new/renamed_image/A0842.JPG: 448x640 1 Right_eye, 1 Left_eye, 1702.6ms\n",
            "Speed: 3.6ms preprocess, 1702.6ms inference, 1.3ms postprocess per image at shape (1, 3, 448, 640)\n"
          ]
        },
        {
          "output_type": "stream",
          "name": "stderr",
          "text": [
            "\rProcessing images:  21%|██        | 426/2071 [10:05<39:04,  1.43s/it]"
          ]
        },
        {
          "output_type": "stream",
          "name": "stdout",
          "text": [
            "\n",
            "image 1/1 /content/Olympia_new/renamed_image/C0714.JPG: 448x640 1 Right_eye, 1 Left_eye, 1740.1ms\n",
            "Speed: 5.3ms preprocess, 1740.1ms inference, 1.3ms postprocess per image at shape (1, 3, 448, 640)\n"
          ]
        },
        {
          "output_type": "stream",
          "name": "stderr",
          "text": [
            "\rProcessing images:  21%|██        | 427/2071 [10:07<42:43,  1.56s/it]"
          ]
        },
        {
          "output_type": "stream",
          "name": "stdout",
          "text": [
            "\n",
            "image 1/1 /content/Olympia_new/renamed_image/A0141.JPG: 448x640 1 Right_eye, 1 Left_eye, 1189.4ms\n",
            "Speed: 5.4ms preprocess, 1189.4ms inference, 0.9ms postprocess per image at shape (1, 3, 448, 640)\n"
          ]
        },
        {
          "output_type": "stream",
          "name": "stderr",
          "text": [
            "\rProcessing images:  21%|██        | 428/2071 [10:08<40:46,  1.49s/it]"
          ]
        },
        {
          "output_type": "stream",
          "name": "stdout",
          "text": [
            "\n",
            "image 1/1 /content/Olympia_new/renamed_image/C0846.JPG: 448x640 1 Right_eye, 1 Left_eye, 1097.0ms\n",
            "Speed: 3.4ms preprocess, 1097.0ms inference, 0.9ms postprocess per image at shape (1, 3, 448, 640)\n"
          ]
        },
        {
          "output_type": "stream",
          "name": "stderr",
          "text": [
            "\rProcessing images:  21%|██        | 429/2071 [10:09<38:19,  1.40s/it]"
          ]
        },
        {
          "output_type": "stream",
          "name": "stdout",
          "text": [
            "\n",
            "image 1/1 /content/Olympia_new/renamed_image/A0343.JPG: 448x640 1 Right_eye, 1 Left_eye, 1115.1ms\n",
            "Speed: 3.6ms preprocess, 1115.1ms inference, 0.9ms postprocess per image at shape (1, 3, 448, 640)\n"
          ]
        },
        {
          "output_type": "stream",
          "name": "stderr",
          "text": [
            "\rProcessing images:  21%|██        | 430/2071 [10:10<37:16,  1.36s/it]"
          ]
        },
        {
          "output_type": "stream",
          "name": "stdout",
          "text": [
            "\n",
            "image 1/1 /content/Olympia_new/renamed_image/A0854.JPG: 448x640 1 Right_eye, 1 Left_eye, 1090.4ms\n",
            "Speed: 3.5ms preprocess, 1090.4ms inference, 0.9ms postprocess per image at shape (1, 3, 448, 640)\n"
          ]
        },
        {
          "output_type": "stream",
          "name": "stderr",
          "text": [
            "\rProcessing images:  21%|██        | 431/2071 [10:12<35:51,  1.31s/it]"
          ]
        },
        {
          "output_type": "stream",
          "name": "stdout",
          "text": [
            "\n",
            "image 1/1 /content/Olympia_new/renamed_image/A0506.JPG: 448x640 1 Right_eye, 1 Left_eye, 1095.0ms\n",
            "Speed: 3.6ms preprocess, 1095.0ms inference, 0.9ms postprocess per image at shape (1, 3, 448, 640)\n"
          ]
        },
        {
          "output_type": "stream",
          "name": "stderr",
          "text": [
            "\rProcessing images:  21%|██        | 432/2071 [10:13<34:53,  1.28s/it]"
          ]
        },
        {
          "output_type": "stream",
          "name": "stdout",
          "text": [
            "\n",
            "image 1/1 /content/Olympia_new/renamed_image/A0833.JPG: 448x640 1 Right_eye, 1 Left_eye, 1103.0ms\n",
            "Speed: 3.5ms preprocess, 1103.0ms inference, 0.9ms postprocess per image at shape (1, 3, 448, 640)\n"
          ]
        },
        {
          "output_type": "stream",
          "name": "stderr",
          "text": [
            "\rProcessing images:  21%|██        | 433/2071 [10:14<34:14,  1.25s/it]"
          ]
        },
        {
          "output_type": "stream",
          "name": "stdout",
          "text": [
            "\n",
            "image 1/1 /content/Olympia_new/renamed_image/A1038.JPG: 448x640 1 Right_eye, 1 Left_eye, 1324.9ms\n",
            "Speed: 3.8ms preprocess, 1324.9ms inference, 0.9ms postprocess per image at shape (1, 3, 448, 640)\n"
          ]
        },
        {
          "output_type": "stream",
          "name": "stderr",
          "text": [
            "\rProcessing images:  21%|██        | 434/2071 [10:16<35:44,  1.31s/it]"
          ]
        },
        {
          "output_type": "stream",
          "name": "stdout",
          "text": [
            "\n",
            "image 1/1 /content/Olympia_new/renamed_image/A0623.JPG: 448x640 1 Right_eye, 1 Left_eye, 1105.7ms\n",
            "Speed: 3.5ms preprocess, 1105.7ms inference, 0.9ms postprocess per image at shape (1, 3, 448, 640)\n"
          ]
        },
        {
          "output_type": "stream",
          "name": "stderr",
          "text": [
            "\rProcessing images:  21%|██        | 435/2071 [10:17<34:59,  1.28s/it]"
          ]
        },
        {
          "output_type": "stream",
          "name": "stdout",
          "text": [
            "\n",
            "image 1/1 /content/Olympia_new/renamed_image/A0651.JPG: 448x640 1 Right_eye, 1 Left_eye, 1587.8ms\n",
            "Speed: 3.5ms preprocess, 1587.8ms inference, 1.3ms postprocess per image at shape (1, 3, 448, 640)\n"
          ]
        },
        {
          "output_type": "stream",
          "name": "stderr",
          "text": [
            "\rProcessing images:  21%|██        | 436/2071 [10:18<38:24,  1.41s/it]"
          ]
        },
        {
          "output_type": "stream",
          "name": "stdout",
          "text": [
            "\n",
            "image 1/1 /content/Olympia_new/renamed_image/C0696.JPG: 448x640 1 Right_eye, 1 Left_eye, 1762.5ms\n",
            "Speed: 5.2ms preprocess, 1762.5ms inference, 1.3ms postprocess per image at shape (1, 3, 448, 640)\n"
          ]
        },
        {
          "output_type": "stream",
          "name": "stderr",
          "text": [
            "\rProcessing images:  21%|██        | 437/2071 [10:20<42:22,  1.56s/it]"
          ]
        },
        {
          "output_type": "stream",
          "name": "stdout",
          "text": [
            "\n",
            "image 1/1 /content/Olympia_new/renamed_image/A0635.JPG: 448x640 1 Right_eye, 1 Left_eye, 1341.7ms\n",
            "Speed: 5.3ms preprocess, 1341.7ms inference, 0.8ms postprocess per image at shape (1, 3, 448, 640)\n"
          ]
        },
        {
          "output_type": "stream",
          "name": "stderr",
          "text": [
            "\rProcessing images:  21%|██        | 438/2071 [10:22<41:44,  1.53s/it]"
          ]
        },
        {
          "output_type": "stream",
          "name": "stdout",
          "text": [
            "\n",
            "image 1/1 /content/Olympia_new/renamed_image/A1016.JPG: 448x640 1 Right_eye, 1 Left_eye, 1101.1ms\n",
            "Speed: 3.6ms preprocess, 1101.1ms inference, 0.9ms postprocess per image at shape (1, 3, 448, 640)\n"
          ]
        },
        {
          "output_type": "stream",
          "name": "stderr",
          "text": [
            "\rProcessing images:  21%|██        | 439/2071 [10:23<39:08,  1.44s/it]"
          ]
        },
        {
          "output_type": "stream",
          "name": "stdout",
          "text": [
            "\n",
            "image 1/1 /content/Olympia_new/renamed_image/C0213.JPG: 448x640 1 Right_eye, 1 Left_eye, 1100.6ms\n",
            "Speed: 3.8ms preprocess, 1100.6ms inference, 0.9ms postprocess per image at shape (1, 3, 448, 640)\n"
          ]
        },
        {
          "output_type": "stream",
          "name": "stderr",
          "text": [
            "\rProcessing images:  21%|██        | 440/2071 [10:25<41:25,  1.52s/it]"
          ]
        },
        {
          "output_type": "stream",
          "name": "stdout",
          "text": [
            "\n",
            "image 1/1 /content/Olympia_new/renamed_image/A0067.JPG: 448x640 1 Right_eye, 1 Left_eye, 1094.6ms\n",
            "Speed: 4.3ms preprocess, 1094.6ms inference, 1.0ms postprocess per image at shape (1, 3, 448, 640)\n"
          ]
        },
        {
          "output_type": "stream",
          "name": "stderr",
          "text": [
            "\rProcessing images:  21%|██▏       | 441/2071 [10:26<39:08,  1.44s/it]"
          ]
        },
        {
          "output_type": "stream",
          "name": "stdout",
          "text": [
            "\n",
            "image 1/1 /content/Olympia_new/renamed_image/A0499.JPG: 448x640 1 Right_eye, 1 Left_eye, 1089.0ms\n",
            "Speed: 5.0ms preprocess, 1089.0ms inference, 0.9ms postprocess per image at shape (1, 3, 448, 640)\n"
          ]
        },
        {
          "output_type": "stream",
          "name": "stderr",
          "text": [
            "\rProcessing images:  21%|██▏       | 442/2071 [10:27<37:07,  1.37s/it]"
          ]
        },
        {
          "output_type": "stream",
          "name": "stdout",
          "text": [
            "\n",
            "image 1/1 /content/Olympia_new/renamed_image/A0939.JPG: 448x640 1 Right_eye, 1 Left_eye, 1086.9ms\n",
            "Speed: 3.5ms preprocess, 1086.9ms inference, 0.9ms postprocess per image at shape (1, 3, 448, 640)\n"
          ]
        },
        {
          "output_type": "stream",
          "name": "stderr",
          "text": [
            "\rProcessing images:  21%|██▏       | 443/2071 [10:28<35:44,  1.32s/it]"
          ]
        },
        {
          "output_type": "stream",
          "name": "stdout",
          "text": [
            "\n",
            "image 1/1 /content/Olympia_new/renamed_image/C1009.JPG: 448x640 1 Right_eye, 1 Left_eye, 1100.8ms\n",
            "Speed: 3.5ms preprocess, 1100.8ms inference, 0.9ms postprocess per image at shape (1, 3, 448, 640)\n"
          ]
        },
        {
          "output_type": "stream",
          "name": "stderr",
          "text": [
            "\rProcessing images:  21%|██▏       | 444/2071 [10:30<34:49,  1.28s/it]"
          ]
        },
        {
          "output_type": "stream",
          "name": "stdout",
          "text": [
            "\n",
            "image 1/1 /content/Olympia_new/renamed_image/C0680.JPG: 448x640 1 Right_eye, 1 Left_eye, 1100.6ms\n",
            "Speed: 3.5ms preprocess, 1100.6ms inference, 0.9ms postprocess per image at shape (1, 3, 448, 640)\n"
          ]
        },
        {
          "output_type": "stream",
          "name": "stderr",
          "text": [
            "\rProcessing images:  21%|██▏       | 445/2071 [10:31<34:02,  1.26s/it]"
          ]
        },
        {
          "output_type": "stream",
          "name": "stdout",
          "text": [
            "\n",
            "image 1/1 /content/Olympia_new/renamed_image/C0022.JPG: 448x640 1 Right_eye, 1 Left_eye, 1613.0ms\n",
            "Speed: 3.4ms preprocess, 1613.0ms inference, 1.3ms postprocess per image at shape (1, 3, 448, 640)\n"
          ]
        },
        {
          "output_type": "stream",
          "name": "stderr",
          "text": [
            "\rProcessing images:  22%|██▏       | 446/2071 [10:33<37:44,  1.39s/it]"
          ]
        },
        {
          "output_type": "stream",
          "name": "stdout",
          "text": [
            "\n",
            "image 1/1 /content/Olympia_new/renamed_image/C0663.JPG: 448x640 1 Right_eye, 1 Left_eye, 1775.2ms\n",
            "Speed: 5.4ms preprocess, 1775.2ms inference, 1.3ms postprocess per image at shape (1, 3, 448, 640)\n"
          ]
        },
        {
          "output_type": "stream",
          "name": "stderr",
          "text": [
            "\rProcessing images:  22%|██▏       | 447/2071 [10:34<42:01,  1.55s/it]"
          ]
        },
        {
          "output_type": "stream",
          "name": "stdout",
          "text": [
            "\n",
            "image 1/1 /content/Olympia_new/renamed_image/C0077.JPG: 448x640 1 Right_eye, 1 Left_eye, 1260.6ms\n",
            "Speed: 5.0ms preprocess, 1260.6ms inference, 0.9ms postprocess per image at shape (1, 3, 448, 640)\n"
          ]
        },
        {
          "output_type": "stream",
          "name": "stderr",
          "text": [
            "\rProcessing images:  22%|██▏       | 448/2071 [10:36<40:45,  1.51s/it]"
          ]
        },
        {
          "output_type": "stream",
          "name": "stdout",
          "text": [
            "\n",
            "image 1/1 /content/Olympia_new/renamed_image/A0376.JPG: 448x640 1 Right_eye, 1 Left_eye, 1091.4ms\n",
            "Speed: 3.7ms preprocess, 1091.4ms inference, 0.9ms postprocess per image at shape (1, 3, 448, 640)\n"
          ]
        },
        {
          "output_type": "stream",
          "name": "stderr",
          "text": [
            "\rProcessing images:  22%|██▏       | 449/2071 [10:37<38:40,  1.43s/it]"
          ]
        },
        {
          "output_type": "stream",
          "name": "stdout",
          "text": [
            "\n",
            "image 1/1 /content/Olympia_new/renamed_image/C0164.JPG: 448x640 1 Right_eye, 1 Left_eye, 1089.8ms\n",
            "Speed: 3.5ms preprocess, 1089.8ms inference, 0.9ms postprocess per image at shape (1, 3, 448, 640)\n"
          ]
        },
        {
          "output_type": "stream",
          "name": "stderr",
          "text": [
            "\rProcessing images:  22%|██▏       | 450/2071 [10:38<36:39,  1.36s/it]"
          ]
        },
        {
          "output_type": "stream",
          "name": "stdout",
          "text": [
            "\n",
            "image 1/1 /content/Olympia_new/renamed_image/C0043.JPG: 448x640 1 Right_eye, 1 Left_eye, 1181.9ms\n",
            "Speed: 3.5ms preprocess, 1181.9ms inference, 0.9ms postprocess per image at shape (1, 3, 448, 640)\n"
          ]
        },
        {
          "output_type": "stream",
          "name": "stderr",
          "text": [
            "\rProcessing images:  22%|██▏       | 451/2071 [10:40<36:01,  1.33s/it]"
          ]
        },
        {
          "output_type": "stream",
          "name": "stdout",
          "text": [
            "\n",
            "image 1/1 /content/Olympia_new/renamed_image/C0109.JPG: 448x640 1 Right_eye, 1 Left_eye, 1111.2ms\n",
            "Speed: 3.5ms preprocess, 1111.2ms inference, 0.9ms postprocess per image at shape (1, 3, 448, 640)\n"
          ]
        },
        {
          "output_type": "stream",
          "name": "stderr",
          "text": [
            "\rProcessing images:  22%|██▏       | 452/2071 [10:41<35:02,  1.30s/it]"
          ]
        },
        {
          "output_type": "stream",
          "name": "stdout",
          "text": [
            "\n",
            "image 1/1 /content/Olympia_new/renamed_image/C0665.JPG: 448x640 1 Right_eye, 1 Left_eye, 1087.1ms\n",
            "Speed: 3.6ms preprocess, 1087.1ms inference, 0.9ms postprocess per image at shape (1, 3, 448, 640)\n"
          ]
        },
        {
          "output_type": "stream",
          "name": "stderr",
          "text": [
            "\rProcessing images:  22%|██▏       | 453/2071 [10:42<34:15,  1.27s/it]"
          ]
        },
        {
          "output_type": "stream",
          "name": "stdout",
          "text": [
            "\n",
            "image 1/1 /content/Olympia_new/renamed_image/C0799.JPG: 448x640 1 Right_eye, 1 Left_eye, 1088.7ms\n",
            "Speed: 3.8ms preprocess, 1088.7ms inference, 0.9ms postprocess per image at shape (1, 3, 448, 640)\n"
          ]
        },
        {
          "output_type": "stream",
          "name": "stderr",
          "text": [
            "\rProcessing images:  22%|██▏       | 454/2071 [10:43<33:40,  1.25s/it]"
          ]
        },
        {
          "output_type": "stream",
          "name": "stdout",
          "text": [
            "\n",
            "image 1/1 /content/Olympia_new/renamed_image/C0804.JPG: 448x640 1 Right_eye, 1 Left_eye, 1084.6ms\n",
            "Speed: 3.5ms preprocess, 1084.6ms inference, 0.9ms postprocess per image at shape (1, 3, 448, 640)\n"
          ]
        },
        {
          "output_type": "stream",
          "name": "stderr",
          "text": [
            "\rProcessing images:  22%|██▏       | 455/2071 [10:44<33:11,  1.23s/it]"
          ]
        },
        {
          "output_type": "stream",
          "name": "stdout",
          "text": [
            "\n",
            "image 1/1 /content/Olympia_new/renamed_image/A0124.JPG: 448x640 1 Right_eye, 1 Left_eye, 1455.4ms\n",
            "Speed: 3.6ms preprocess, 1455.4ms inference, 1.1ms postprocess per image at shape (1, 3, 448, 640)\n"
          ]
        },
        {
          "output_type": "stream",
          "name": "stderr",
          "text": [
            "\rProcessing images:  22%|██▏       | 456/2071 [10:46<35:55,  1.33s/it]"
          ]
        },
        {
          "output_type": "stream",
          "name": "stdout",
          "text": [
            "\n",
            "image 1/1 /content/Olympia_new/renamed_image/C0875.JPG: 448x640 1 Right_eye, 1 Left_eye, 1731.2ms\n",
            "Speed: 5.4ms preprocess, 1731.2ms inference, 1.1ms postprocess per image at shape (1, 3, 448, 640)\n"
          ]
        },
        {
          "output_type": "stream",
          "name": "stderr",
          "text": [
            "\rProcessing images:  22%|██▏       | 457/2071 [10:48<40:23,  1.50s/it]"
          ]
        },
        {
          "output_type": "stream",
          "name": "stdout",
          "text": [
            "\n",
            "image 1/1 /content/Olympia_new/renamed_image/C0687.JPG: 448x640 1 Right_eye, 1 Left_eye, 1477.2ms\n",
            "Speed: 5.3ms preprocess, 1477.2ms inference, 0.9ms postprocess per image at shape (1, 3, 448, 640)\n"
          ]
        },
        {
          "output_type": "stream",
          "name": "stderr",
          "text": [
            "\rProcessing images:  22%|██▏       | 458/2071 [10:49<41:09,  1.53s/it]"
          ]
        },
        {
          "output_type": "stream",
          "name": "stdout",
          "text": [
            "\n",
            "image 1/1 /content/Olympia_new/renamed_image/C0379.JPG: 448x640 1 Right_eye, 1 Left_eye, 1138.3ms\n",
            "Speed: 3.7ms preprocess, 1138.3ms inference, 0.9ms postprocess per image at shape (1, 3, 448, 640)\n"
          ]
        },
        {
          "output_type": "stream",
          "name": "stderr",
          "text": [
            "\rProcessing images:  22%|██▏       | 459/2071 [10:51<39:09,  1.46s/it]"
          ]
        },
        {
          "output_type": "stream",
          "name": "stdout",
          "text": [
            "\n",
            "image 1/1 /content/Olympia_new/renamed_image/A0514.JPG: 448x640 1 Right_eye, 1 Left_eye, 1089.8ms\n",
            "Speed: 3.6ms preprocess, 1089.8ms inference, 0.9ms postprocess per image at shape (1, 3, 448, 640)\n"
          ]
        },
        {
          "output_type": "stream",
          "name": "stderr",
          "text": [
            "\rProcessing images:  22%|██▏       | 460/2071 [10:52<36:58,  1.38s/it]"
          ]
        },
        {
          "output_type": "stream",
          "name": "stdout",
          "text": [
            "\n",
            "image 1/1 /content/Olympia_new/renamed_image/C0285.JPG: 448x640 1 Right_eye, 1 Left_eye, 1086.2ms\n",
            "Speed: 3.6ms preprocess, 1086.2ms inference, 1.0ms postprocess per image at shape (1, 3, 448, 640)\n"
          ]
        },
        {
          "output_type": "stream",
          "name": "stderr",
          "text": [
            "\rProcessing images:  22%|██▏       | 461/2071 [10:53<35:48,  1.33s/it]"
          ]
        },
        {
          "output_type": "stream",
          "name": "stdout",
          "text": [
            "\n",
            "image 1/1 /content/Olympia_new/renamed_image/C0351.JPG: 448x640 1 Right_eye, 1 Left_eye, 1140.9ms\n",
            "Speed: 3.7ms preprocess, 1140.9ms inference, 0.9ms postprocess per image at shape (1, 3, 448, 640)\n"
          ]
        },
        {
          "output_type": "stream",
          "name": "stderr",
          "text": [
            "\rProcessing images:  22%|██▏       | 462/2071 [10:54<35:31,  1.32s/it]"
          ]
        },
        {
          "output_type": "stream",
          "name": "stdout",
          "text": [
            "\n",
            "image 1/1 /content/Olympia_new/renamed_image/A0214.JPG: 448x640 1 Right_eye, 1 Left_eye, 1105.0ms\n",
            "Speed: 3.7ms preprocess, 1105.0ms inference, 0.9ms postprocess per image at shape (1, 3, 448, 640)\n"
          ]
        },
        {
          "output_type": "stream",
          "name": "stderr",
          "text": [
            "\rProcessing images:  22%|██▏       | 463/2071 [10:56<34:30,  1.29s/it]"
          ]
        },
        {
          "output_type": "stream",
          "name": "stdout",
          "text": [
            "\n",
            "image 1/1 /content/Olympia_new/renamed_image/C0936.JPG: 448x640 1 Right_eye, 1 Left_eye, 1087.4ms\n",
            "Speed: 3.5ms preprocess, 1087.4ms inference, 0.9ms postprocess per image at shape (1, 3, 448, 640)\n"
          ]
        },
        {
          "output_type": "stream",
          "name": "stderr",
          "text": [
            "\rProcessing images:  22%|██▏       | 464/2071 [10:57<33:48,  1.26s/it]"
          ]
        },
        {
          "output_type": "stream",
          "name": "stdout",
          "text": [
            "\n",
            "image 1/1 /content/Olympia_new/renamed_image/A0814.JPG: 448x640 1 Right_eye, 1 Left_eye, 1082.8ms\n",
            "Speed: 3.6ms preprocess, 1082.8ms inference, 0.9ms postprocess per image at shape (1, 3, 448, 640)\n"
          ]
        },
        {
          "output_type": "stream",
          "name": "stderr",
          "text": [
            "\rProcessing images:  22%|██▏       | 465/2071 [10:58<33:14,  1.24s/it]"
          ]
        },
        {
          "output_type": "stream",
          "name": "stdout",
          "text": [
            "\n",
            "image 1/1 /content/Olympia_new/renamed_image/C0018.JPG: 448x640 1 Right_eye, 1 Left_eye, 1287.4ms\n",
            "Speed: 3.5ms preprocess, 1287.4ms inference, 1.1ms postprocess per image at shape (1, 3, 448, 640)\n"
          ]
        },
        {
          "output_type": "stream",
          "name": "stderr",
          "text": [
            "\rProcessing images:  23%|██▎       | 466/2071 [10:59<34:27,  1.29s/it]"
          ]
        },
        {
          "output_type": "stream",
          "name": "stdout",
          "text": [
            "\n",
            "image 1/1 /content/Olympia_new/renamed_image/A0534.JPG: 448x640 1 Right_eye, 1 Left_eye, 1727.8ms\n",
            "Speed: 5.3ms preprocess, 1727.8ms inference, 1.1ms postprocess per image at shape (1, 3, 448, 640)\n"
          ]
        },
        {
          "output_type": "stream",
          "name": "stderr",
          "text": [
            "\rProcessing images:  23%|██▎       | 467/2071 [11:01<39:10,  1.47s/it]"
          ]
        },
        {
          "output_type": "stream",
          "name": "stdout",
          "text": [
            "\n",
            "image 1/1 /content/Olympia_new/renamed_image/A0819.JPG: 448x640 1 Right_eye, 1 Left_eye, 1615.8ms\n",
            "Speed: 5.2ms preprocess, 1615.8ms inference, 0.9ms postprocess per image at shape (1, 3, 448, 640)\n"
          ]
        },
        {
          "output_type": "stream",
          "name": "stderr",
          "text": [
            "\rProcessing images:  23%|██▎       | 468/2071 [11:03<41:27,  1.55s/it]"
          ]
        },
        {
          "output_type": "stream",
          "name": "stdout",
          "text": [
            "\n",
            "image 1/1 /content/Olympia_new/renamed_image/A0320.JPG: 448x640 1 Right_eye, 1 Left_eye, 1100.5ms\n",
            "Speed: 3.6ms preprocess, 1100.5ms inference, 0.8ms postprocess per image at shape (1, 3, 448, 640)\n"
          ]
        },
        {
          "output_type": "stream",
          "name": "stderr",
          "text": [
            "\rProcessing images:  23%|██▎       | 469/2071 [11:04<39:14,  1.47s/it]"
          ]
        },
        {
          "output_type": "stream",
          "name": "stdout",
          "text": [
            "\n",
            "image 1/1 /content/Olympia_new/renamed_image/C0085.JPG: 448x640 1 Right_eye, 1 Left_eye, 1095.5ms\n",
            "Speed: 3.6ms preprocess, 1095.5ms inference, 0.9ms postprocess per image at shape (1, 3, 448, 640)\n"
          ]
        },
        {
          "output_type": "stream",
          "name": "stderr",
          "text": [
            "\rProcessing images:  23%|██▎       | 470/2071 [11:06<37:01,  1.39s/it]"
          ]
        },
        {
          "output_type": "stream",
          "name": "stdout",
          "text": [
            "\n",
            "image 1/1 /content/Olympia_new/renamed_image/C0601.JPG: 448x640 1 Right_eye, 1 Left_eye, 1093.6ms\n",
            "Speed: 5.1ms preprocess, 1093.6ms inference, 0.9ms postprocess per image at shape (1, 3, 448, 640)\n"
          ]
        },
        {
          "output_type": "stream",
          "name": "stderr",
          "text": [
            "\rProcessing images:  23%|██▎       | 471/2071 [11:07<35:29,  1.33s/it]"
          ]
        },
        {
          "output_type": "stream",
          "name": "stdout",
          "text": [
            "\n",
            "image 1/1 /content/Olympia_new/renamed_image/C0113.JPG: 448x640 1 Right_eye, 1 Left_eye, 1080.1ms\n",
            "Speed: 3.7ms preprocess, 1080.1ms inference, 0.8ms postprocess per image at shape (1, 3, 448, 640)\n"
          ]
        },
        {
          "output_type": "stream",
          "name": "stderr",
          "text": [
            "\rProcessing images:  23%|██▎       | 472/2071 [11:08<34:14,  1.29s/it]"
          ]
        },
        {
          "output_type": "stream",
          "name": "stdout",
          "text": [
            "\n",
            "image 1/1 /content/Olympia_new/renamed_image/A0742.JPG: 448x640 1 Right_eye, 1 Left_eye, 1095.9ms\n",
            "Speed: 3.4ms preprocess, 1095.9ms inference, 0.9ms postprocess per image at shape (1, 3, 448, 640)\n"
          ]
        },
        {
          "output_type": "stream",
          "name": "stderr",
          "text": [
            "\rProcessing images:  23%|██▎       | 473/2071 [11:09<33:35,  1.26s/it]"
          ]
        },
        {
          "output_type": "stream",
          "name": "stdout",
          "text": [
            "\n",
            "image 1/1 /content/Olympia_new/renamed_image/C0655.JPG: 448x640 1 Right_eye, 1 Left_eye, 1097.4ms\n",
            "Speed: 3.5ms preprocess, 1097.4ms inference, 1.1ms postprocess per image at shape (1, 3, 448, 640)\n"
          ]
        },
        {
          "output_type": "stream",
          "name": "stderr",
          "text": [
            "\rProcessing images:  23%|██▎       | 474/2071 [11:10<33:02,  1.24s/it]"
          ]
        },
        {
          "output_type": "stream",
          "name": "stdout",
          "text": [
            "\n",
            "image 1/1 /content/Olympia_new/renamed_image/C0282.JPG: 448x640 1 Right_eye, 1 Left_eye, 1086.2ms\n",
            "Speed: 3.4ms preprocess, 1086.2ms inference, 0.9ms postprocess per image at shape (1, 3, 448, 640)\n"
          ]
        },
        {
          "output_type": "stream",
          "name": "stderr",
          "text": [
            "\rProcessing images:  23%|██▎       | 475/2071 [11:12<33:05,  1.24s/it]"
          ]
        },
        {
          "output_type": "stream",
          "name": "stdout",
          "text": [
            "\n",
            "image 1/1 /content/Olympia_new/renamed_image/A0993.JPG: 448x640 1 Right_eye, 1 Left_eye, 1127.7ms\n",
            "Speed: 3.5ms preprocess, 1127.7ms inference, 0.9ms postprocess per image at shape (1, 3, 448, 640)\n"
          ]
        },
        {
          "output_type": "stream",
          "name": "stderr",
          "text": [
            "\rProcessing images:  23%|██▎       | 476/2071 [11:13<33:12,  1.25s/it]"
          ]
        },
        {
          "output_type": "stream",
          "name": "stdout",
          "text": [
            "\n",
            "image 1/1 /content/Olympia_new/renamed_image/A0260.JPG: 448x640 1 Right_eye, 1 Left_eye, 1733.5ms\n",
            "Speed: 5.1ms preprocess, 1733.5ms inference, 1.1ms postprocess per image at shape (1, 3, 448, 640)\n"
          ]
        },
        {
          "output_type": "stream",
          "name": "stderr",
          "text": [
            "\rProcessing images:  23%|██▎       | 477/2071 [11:15<38:13,  1.44s/it]"
          ]
        },
        {
          "output_type": "stream",
          "name": "stdout",
          "text": [
            "\n",
            "image 1/1 /content/Olympia_new/renamed_image/C0387.JPG: 448x640 1 Right_eye, 1 Left_eye, 1751.5ms\n",
            "Speed: 5.2ms preprocess, 1751.5ms inference, 1.3ms postprocess per image at shape (1, 3, 448, 640)\n"
          ]
        },
        {
          "output_type": "stream",
          "name": "stderr",
          "text": [
            "\rProcessing images:  23%|██▎       | 478/2071 [11:17<42:32,  1.60s/it]"
          ]
        },
        {
          "output_type": "stream",
          "name": "stdout",
          "text": [
            "\n",
            "image 1/1 /content/Olympia_new/renamed_image/C0096.JPG: 448x640 1 Right_eye, 1 Left_eye, 1082.5ms\n",
            "Speed: 3.6ms preprocess, 1082.5ms inference, 0.9ms postprocess per image at shape (1, 3, 448, 640)\n"
          ]
        },
        {
          "output_type": "stream",
          "name": "stderr",
          "text": [
            "\rProcessing images:  23%|██▎       | 479/2071 [11:18<39:26,  1.49s/it]"
          ]
        },
        {
          "output_type": "stream",
          "name": "stdout",
          "text": [
            "\n",
            "image 1/1 /content/Olympia_new/renamed_image/C0140.JPG: 448x640 1 Right_eye, 1 Left_eye, 1102.9ms\n",
            "Speed: 3.7ms preprocess, 1102.9ms inference, 0.9ms postprocess per image at shape (1, 3, 448, 640)\n"
          ]
        },
        {
          "output_type": "stream",
          "name": "stderr",
          "text": [
            "\rProcessing images:  23%|██▎       | 480/2071 [11:19<37:08,  1.40s/it]"
          ]
        },
        {
          "output_type": "stream",
          "name": "stdout",
          "text": [
            "\n",
            "image 1/1 /content/Olympia_new/renamed_image/A0395.JPG: 448x640 1 Right_eye, 1 Left_eye, 1090.3ms\n",
            "Speed: 3.5ms preprocess, 1090.3ms inference, 0.9ms postprocess per image at shape (1, 3, 448, 640)\n"
          ]
        },
        {
          "output_type": "stream",
          "name": "stderr",
          "text": [
            "\rProcessing images:  23%|██▎       | 481/2071 [11:20<36:03,  1.36s/it]"
          ]
        },
        {
          "output_type": "stream",
          "name": "stdout",
          "text": [
            "\n",
            "image 1/1 /content/Olympia_new/renamed_image/C1034.JPG: 448x640 1 Right_eye, 1 Left_eye, 1115.1ms\n",
            "Speed: 3.6ms preprocess, 1115.1ms inference, 0.9ms postprocess per image at shape (1, 3, 448, 640)\n"
          ]
        },
        {
          "output_type": "stream",
          "name": "stderr",
          "text": [
            "\rProcessing images:  23%|██▎       | 482/2071 [11:22<35:02,  1.32s/it]"
          ]
        },
        {
          "output_type": "stream",
          "name": "stdout",
          "text": [
            "\n",
            "image 1/1 /content/Olympia_new/renamed_image/A0460.JPG: 448x640 1 Right_eye, 1 Left_eye, 1094.8ms\n",
            "Speed: 3.5ms preprocess, 1094.8ms inference, 0.9ms postprocess per image at shape (1, 3, 448, 640)\n"
          ]
        },
        {
          "output_type": "stream",
          "name": "stderr",
          "text": [
            "\rProcessing images:  23%|██▎       | 483/2071 [11:23<34:02,  1.29s/it]"
          ]
        },
        {
          "output_type": "stream",
          "name": "stdout",
          "text": [
            "\n",
            "image 1/1 /content/Olympia_new/renamed_image/A0326.JPG: 448x640 1 Right_eye, 1 Left_eye, 1097.5ms\n",
            "Speed: 3.8ms preprocess, 1097.5ms inference, 0.9ms postprocess per image at shape (1, 3, 448, 640)\n"
          ]
        },
        {
          "output_type": "stream",
          "name": "stderr",
          "text": [
            "\rProcessing images:  23%|██▎       | 484/2071 [11:24<33:52,  1.28s/it]"
          ]
        },
        {
          "output_type": "stream",
          "name": "stdout",
          "text": [
            "\n",
            "image 1/1 /content/Olympia_new/renamed_image/C0813.JPG: 448x640 1 Right_eye, 1 Left_eye, 1096.8ms\n",
            "Speed: 3.5ms preprocess, 1096.8ms inference, 0.9ms postprocess per image at shape (1, 3, 448, 640)\n"
          ]
        },
        {
          "output_type": "stream",
          "name": "stderr",
          "text": [
            "\rProcessing images:  23%|██▎       | 485/2071 [11:25<33:09,  1.25s/it]"
          ]
        },
        {
          "output_type": "stream",
          "name": "stdout",
          "text": [
            "\n",
            "image 1/1 /content/Olympia_new/renamed_image/A0425.JPG: 448x640 1 Right_eye, 1 Left_eye, 1094.5ms\n",
            "Speed: 3.9ms preprocess, 1094.5ms inference, 0.9ms postprocess per image at shape (1, 3, 448, 640)\n"
          ]
        },
        {
          "output_type": "stream",
          "name": "stderr",
          "text": [
            "\rProcessing images:  23%|██▎       | 486/2071 [11:27<33:14,  1.26s/it]"
          ]
        },
        {
          "output_type": "stream",
          "name": "stdout",
          "text": [
            "\n",
            "image 1/1 /content/Olympia_new/renamed_image/C0056.JPG: 448x640 1 Right_eye, 1 Left_eye, 1678.5ms\n",
            "Speed: 3.7ms preprocess, 1678.5ms inference, 1.1ms postprocess per image at shape (1, 3, 448, 640)\n"
          ]
        },
        {
          "output_type": "stream",
          "name": "stderr",
          "text": [
            "\rProcessing images:  24%|██▎       | 487/2071 [11:28<37:27,  1.42s/it]"
          ]
        },
        {
          "output_type": "stream",
          "name": "stdout",
          "text": [
            "\n",
            "image 1/1 /content/Olympia_new/renamed_image/A0805.JPG: 448x640 1 Right_eye, 1 Left_eye, 1765.5ms\n",
            "Speed: 5.2ms preprocess, 1765.5ms inference, 1.3ms postprocess per image at shape (1, 3, 448, 640)\n"
          ]
        },
        {
          "output_type": "stream",
          "name": "stderr",
          "text": [
            "\rProcessing images:  24%|██▎       | 488/2071 [11:30<41:15,  1.56s/it]"
          ]
        },
        {
          "output_type": "stream",
          "name": "stdout",
          "text": [
            "\n",
            "image 1/1 /content/Olympia_new/renamed_image/C0861.JPG: 448x640 1 Right_eye, 1 Left_eye, 1204.2ms\n",
            "Speed: 5.3ms preprocess, 1204.2ms inference, 0.9ms postprocess per image at shape (1, 3, 448, 640)\n"
          ]
        },
        {
          "output_type": "stream",
          "name": "stderr",
          "text": [
            "\rProcessing images:  24%|██▎       | 489/2071 [11:32<39:37,  1.50s/it]"
          ]
        },
        {
          "output_type": "stream",
          "name": "stdout",
          "text": [
            "\n",
            "image 1/1 /content/Olympia_new/renamed_image/C0248.JPG: 448x640 1 Right_eye, 1 Left_eye, 1091.3ms\n",
            "Speed: 3.8ms preprocess, 1091.3ms inference, 0.9ms postprocess per image at shape (1, 3, 448, 640)\n"
          ]
        },
        {
          "output_type": "stream",
          "name": "stderr",
          "text": [
            "\rProcessing images:  24%|██▎       | 490/2071 [11:33<37:41,  1.43s/it]"
          ]
        },
        {
          "output_type": "stream",
          "name": "stdout",
          "text": [
            "\n",
            "image 1/1 /content/Olympia_new/renamed_image/A0614.JPG: 448x640 1 Right_eye, 1 Left_eye, 1092.5ms\n",
            "Speed: 3.4ms preprocess, 1092.5ms inference, 0.9ms postprocess per image at shape (1, 3, 448, 640)\n"
          ]
        },
        {
          "output_type": "stream",
          "name": "stderr",
          "text": [
            "\rProcessing images:  24%|██▎       | 491/2071 [11:34<35:49,  1.36s/it]"
          ]
        },
        {
          "output_type": "stream",
          "name": "stdout",
          "text": [
            "\n",
            "image 1/1 /content/Olympia_new/renamed_image/C0208.JPG: 448x640 1 Right_eye, 1 Left_eye, 1091.0ms\n",
            "Speed: 3.8ms preprocess, 1091.0ms inference, 0.9ms postprocess per image at shape (1, 3, 448, 640)\n"
          ]
        },
        {
          "output_type": "stream",
          "name": "stderr",
          "text": [
            "\rProcessing images:  24%|██▍       | 492/2071 [11:36<37:44,  1.43s/it]"
          ]
        },
        {
          "output_type": "stream",
          "name": "stdout",
          "text": [
            "\n",
            "image 1/1 /content/Olympia_new/renamed_image/A0974.JPG: 448x640 1 Right_eye, 1 Left_eye, 1118.1ms\n",
            "Speed: 3.5ms preprocess, 1118.1ms inference, 0.8ms postprocess per image at shape (1, 3, 448, 640)\n"
          ]
        },
        {
          "output_type": "stream",
          "name": "stderr",
          "text": [
            "\rProcessing images:  24%|██▍       | 493/2071 [11:37<36:05,  1.37s/it]"
          ]
        },
        {
          "output_type": "stream",
          "name": "stdout",
          "text": [
            "\n",
            "image 1/1 /content/Olympia_new/renamed_image/A0459.JPG: 448x640 1 Right_eye, 1 Left_eye, 1090.1ms\n",
            "Speed: 3.6ms preprocess, 1090.1ms inference, 0.9ms postprocess per image at shape (1, 3, 448, 640)\n"
          ]
        },
        {
          "output_type": "stream",
          "name": "stderr",
          "text": [
            "\rProcessing images:  24%|██▍       | 494/2071 [11:38<34:40,  1.32s/it]"
          ]
        },
        {
          "output_type": "stream",
          "name": "stdout",
          "text": [
            "\n",
            "image 1/1 /content/Olympia_new/renamed_image/A0375.JPG: 448x640 1 Right_eye, 1 Left_eye, 1104.8ms\n",
            "Speed: 3.7ms preprocess, 1104.8ms inference, 0.9ms postprocess per image at shape (1, 3, 448, 640)\n"
          ]
        },
        {
          "output_type": "stream",
          "name": "stderr",
          "text": [
            "\rProcessing images:  24%|██▍       | 495/2071 [11:39<34:12,  1.30s/it]"
          ]
        },
        {
          "output_type": "stream",
          "name": "stdout",
          "text": [
            "\n",
            "image 1/1 /content/Olympia_new/renamed_image/A0750.JPG: 448x640 1 Right_eye, 1 Left_eye, 1090.7ms\n",
            "Speed: 3.6ms preprocess, 1090.7ms inference, 0.9ms postprocess per image at shape (1, 3, 448, 640)\n"
          ]
        },
        {
          "output_type": "stream",
          "name": "stderr",
          "text": [
            "\rProcessing images:  24%|██▍       | 496/2071 [11:41<33:16,  1.27s/it]"
          ]
        },
        {
          "output_type": "stream",
          "name": "stdout",
          "text": [
            "\n",
            "image 1/1 /content/Olympia_new/renamed_image/A0244.JPG: 448x640 1 Right_eye, 1 Left_eye, 1687.0ms\n",
            "Speed: 3.5ms preprocess, 1687.0ms inference, 1.3ms postprocess per image at shape (1, 3, 448, 640)\n"
          ]
        },
        {
          "output_type": "stream",
          "name": "stderr",
          "text": [
            "\rProcessing images:  24%|██▍       | 497/2071 [11:42<37:25,  1.43s/it]"
          ]
        },
        {
          "output_type": "stream",
          "name": "stdout",
          "text": [
            "\n",
            "image 1/1 /content/Olympia_new/renamed_image/A0720.JPG: 448x640 1 Right_eye, 1 Left_eye, 1741.2ms\n",
            "Speed: 7.9ms preprocess, 1741.2ms inference, 1.4ms postprocess per image at shape (1, 3, 448, 640)\n"
          ]
        },
        {
          "output_type": "stream",
          "name": "stderr",
          "text": [
            "\rProcessing images:  24%|██▍       | 498/2071 [11:44<41:10,  1.57s/it]"
          ]
        },
        {
          "output_type": "stream",
          "name": "stdout",
          "text": [
            "\n",
            "image 1/1 /content/Olympia_new/renamed_image/C0973.JPG: 448x640 1 Right_eye, 1 Left_eye, 1161.8ms\n",
            "Speed: 5.9ms preprocess, 1161.8ms inference, 0.9ms postprocess per image at shape (1, 3, 448, 640)\n"
          ]
        },
        {
          "output_type": "stream",
          "name": "stderr",
          "text": [
            "\rProcessing images:  24%|██▍       | 499/2071 [11:46<39:07,  1.49s/it]"
          ]
        },
        {
          "output_type": "stream",
          "name": "stdout",
          "text": [
            "\n",
            "image 1/1 /content/Olympia_new/renamed_image/C0479.JPG: 448x640 1 Right_eye, 1 Left_eye, 1090.2ms\n",
            "Speed: 3.5ms preprocess, 1090.2ms inference, 0.9ms postprocess per image at shape (1, 3, 448, 640)\n"
          ]
        },
        {
          "output_type": "stream",
          "name": "stderr",
          "text": [
            "\rProcessing images:  24%|██▍       | 500/2071 [11:47<36:41,  1.40s/it]"
          ]
        },
        {
          "output_type": "stream",
          "name": "stdout",
          "text": [
            "\n",
            "image 1/1 /content/Olympia_new/renamed_image/C0005.JPG: 448x640 1 Right_eye, 1 Left_eye, 1082.7ms\n",
            "Speed: 3.5ms preprocess, 1082.7ms inference, 0.9ms postprocess per image at shape (1, 3, 448, 640)\n"
          ]
        },
        {
          "output_type": "stream",
          "name": "stderr",
          "text": [
            "\rProcessing images:  24%|██▍       | 501/2071 [11:48<35:00,  1.34s/it]"
          ]
        },
        {
          "output_type": "stream",
          "name": "stdout",
          "text": [
            "\n",
            "image 1/1 /content/Olympia_new/renamed_image/A0510.JPG: 448x640 1 Right_eye, 1 Left_eye, 1088.3ms\n",
            "Speed: 3.6ms preprocess, 1088.3ms inference, 0.9ms postprocess per image at shape (1, 3, 448, 640)\n"
          ]
        },
        {
          "output_type": "stream",
          "name": "stderr",
          "text": [
            "\rProcessing images:  24%|██▍       | 502/2071 [11:49<33:49,  1.29s/it]"
          ]
        },
        {
          "output_type": "stream",
          "name": "stdout",
          "text": [
            "\n",
            "image 1/1 /content/Olympia_new/renamed_image/A1002.JPG: 448x640 1 Right_eye, 1 Left_eye, 1094.3ms\n",
            "Speed: 3.5ms preprocess, 1094.3ms inference, 0.9ms postprocess per image at shape (1, 3, 448, 640)\n"
          ]
        },
        {
          "output_type": "stream",
          "name": "stderr",
          "text": [
            "\rProcessing images:  24%|██▍       | 503/2071 [11:50<33:11,  1.27s/it]"
          ]
        },
        {
          "output_type": "stream",
          "name": "stdout",
          "text": [
            "\n",
            "image 1/1 /content/Olympia_new/renamed_image/A0633.JPG: 448x640 1 Right_eye, 1 Left_eye, 1117.0ms\n",
            "Speed: 3.5ms preprocess, 1117.0ms inference, 0.9ms postprocess per image at shape (1, 3, 448, 640)\n"
          ]
        },
        {
          "output_type": "stream",
          "name": "stderr",
          "text": [
            "\rProcessing images:  24%|██▍       | 504/2071 [11:52<32:51,  1.26s/it]"
          ]
        },
        {
          "output_type": "stream",
          "name": "stdout",
          "text": [
            "\n",
            "image 1/1 /content/Olympia_new/renamed_image/A0728.JPG: 448x640 1 Right_eye, 1 Left_eye, 1085.0ms\n",
            "Speed: 4.1ms preprocess, 1085.0ms inference, 0.9ms postprocess per image at shape (1, 3, 448, 640)\n"
          ]
        },
        {
          "output_type": "stream",
          "name": "stderr",
          "text": [
            "\rProcessing images:  24%|██▍       | 505/2071 [11:53<32:21,  1.24s/it]"
          ]
        },
        {
          "output_type": "stream",
          "name": "stdout",
          "text": [
            "\n",
            "image 1/1 /content/Olympia_new/renamed_image/C0252.JPG: 448x640 1 Right_eye, 1 Left_eye, 1089.9ms\n",
            "Speed: 3.7ms preprocess, 1089.9ms inference, 0.9ms postprocess per image at shape (1, 3, 448, 640)\n"
          ]
        },
        {
          "output_type": "stream",
          "name": "stderr",
          "text": [
            "\rProcessing images:  24%|██▍       | 506/2071 [11:54<32:18,  1.24s/it]"
          ]
        },
        {
          "output_type": "stream",
          "name": "stdout",
          "text": [
            "\n",
            "image 1/1 /content/Olympia_new/renamed_image/C0549.JPG: 448x640 1 Right_eye, 1 Left_eye, 1519.6ms\n",
            "Speed: 3.5ms preprocess, 1519.6ms inference, 1.1ms postprocess per image at shape (1, 3, 448, 640)\n"
          ]
        },
        {
          "output_type": "stream",
          "name": "stderr",
          "text": [
            "\rProcessing images:  24%|██▍       | 507/2071 [11:56<35:21,  1.36s/it]"
          ]
        },
        {
          "output_type": "stream",
          "name": "stdout",
          "text": [
            "\n",
            "image 1/1 /content/Olympia_new/renamed_image/A0960.JPG: 448x640 1 Right_eye, 1 Left_eye, 1800.9ms\n",
            "Speed: 5.3ms preprocess, 1800.9ms inference, 1.4ms postprocess per image at shape (1, 3, 448, 640)\n"
          ]
        },
        {
          "output_type": "stream",
          "name": "stderr",
          "text": [
            "\rProcessing images:  25%|██▍       | 508/2071 [11:58<39:55,  1.53s/it]"
          ]
        },
        {
          "output_type": "stream",
          "name": "stdout",
          "text": [
            "\n",
            "image 1/1 /content/Olympia_new/renamed_image/C0824.JPG: 448x640 1 Right_eye, 1 Left_eye, 1340.1ms\n",
            "Speed: 5.0ms preprocess, 1340.1ms inference, 0.9ms postprocess per image at shape (1, 3, 448, 640)\n"
          ]
        },
        {
          "output_type": "stream",
          "name": "stderr",
          "text": [
            "\rProcessing images:  25%|██▍       | 509/2071 [11:59<39:30,  1.52s/it]"
          ]
        },
        {
          "output_type": "stream",
          "name": "stdout",
          "text": [
            "\n",
            "image 1/1 /content/Olympia_new/renamed_image/C0716.JPG: 448x640 1 Right_eye, 1 Left_eye, 1119.8ms\n",
            "Speed: 3.5ms preprocess, 1119.8ms inference, 0.9ms postprocess per image at shape (1, 3, 448, 640)\n"
          ]
        },
        {
          "output_type": "stream",
          "name": "stderr",
          "text": [
            "\rProcessing images:  25%|██▍       | 510/2071 [12:00<37:11,  1.43s/it]"
          ]
        },
        {
          "output_type": "stream",
          "name": "stdout",
          "text": [
            "\n",
            "image 1/1 /content/Olympia_new/renamed_image/C0189.JPG: 448x640 1 Right_eye, 1 Left_eye, 1217.4ms\n",
            "Speed: 5.4ms preprocess, 1217.4ms inference, 0.9ms postprocess per image at shape (1, 3, 448, 640)\n"
          ]
        },
        {
          "output_type": "stream",
          "name": "stderr",
          "text": [
            "\rProcessing images:  25%|██▍       | 511/2071 [12:02<39:36,  1.52s/it]"
          ]
        },
        {
          "output_type": "stream",
          "name": "stdout",
          "text": [
            "\n",
            "image 1/1 /content/Olympia_new/renamed_image/C0706.JPG: 448x640 1 Right_eye, 1 Left_eye, 1086.0ms\n",
            "Speed: 3.4ms preprocess, 1086.0ms inference, 0.9ms postprocess per image at shape (1, 3, 448, 640)\n"
          ]
        },
        {
          "output_type": "stream",
          "name": "stderr",
          "text": [
            "\rProcessing images:  25%|██▍       | 512/2071 [12:03<36:57,  1.42s/it]"
          ]
        },
        {
          "output_type": "stream",
          "name": "stdout",
          "text": [
            "\n",
            "image 1/1 /content/Olympia_new/renamed_image/C0305.JPG: 448x640 1 Right_eye, 1 Left_eye, 1093.2ms\n",
            "Speed: 3.6ms preprocess, 1093.2ms inference, 0.9ms postprocess per image at shape (1, 3, 448, 640)\n"
          ]
        },
        {
          "output_type": "stream",
          "name": "stderr",
          "text": [
            "\rProcessing images:  25%|██▍       | 513/2071 [12:04<35:36,  1.37s/it]"
          ]
        },
        {
          "output_type": "stream",
          "name": "stdout",
          "text": [
            "\n",
            "image 1/1 /content/Olympia_new/renamed_image/C0441.JPG: 448x640 1 Right_eye, 1 Left_eye, 1091.0ms\n",
            "Speed: 3.5ms preprocess, 1091.0ms inference, 0.8ms postprocess per image at shape (1, 3, 448, 640)\n"
          ]
        },
        {
          "output_type": "stream",
          "name": "stderr",
          "text": [
            "\rProcessing images:  25%|██▍       | 514/2071 [12:06<34:10,  1.32s/it]"
          ]
        },
        {
          "output_type": "stream",
          "name": "stdout",
          "text": [
            "\n",
            "image 1/1 /content/Olympia_new/renamed_image/C0020.JPG: 448x640 1 Right_eye, 1 Left_eye, 1097.1ms\n",
            "Speed: 3.6ms preprocess, 1097.1ms inference, 0.9ms postprocess per image at shape (1, 3, 448, 640)\n"
          ]
        },
        {
          "output_type": "stream",
          "name": "stderr",
          "text": [
            "\rProcessing images:  25%|██▍       | 515/2071 [12:07<33:13,  1.28s/it]"
          ]
        },
        {
          "output_type": "stream",
          "name": "stdout",
          "text": [
            "\n",
            "image 1/1 /content/Olympia_new/renamed_image/A0200.JPG: 448x640 1 Right_eye, 1 Left_eye, 1103.7ms\n",
            "Speed: 3.6ms preprocess, 1103.7ms inference, 1.1ms postprocess per image at shape (1, 3, 448, 640)\n"
          ]
        },
        {
          "output_type": "stream",
          "name": "stderr",
          "text": [
            "\rProcessing images:  25%|██▍       | 516/2071 [12:08<32:37,  1.26s/it]"
          ]
        },
        {
          "output_type": "stream",
          "name": "stdout",
          "text": [
            "\n",
            "image 1/1 /content/Olympia_new/renamed_image/C0210.JPG: 448x640 1 Right_eye, 1 Left_eye, 1740.5ms\n",
            "Speed: 5.0ms preprocess, 1740.5ms inference, 1.1ms postprocess per image at shape (1, 3, 448, 640)\n"
          ]
        },
        {
          "output_type": "stream",
          "name": "stderr",
          "text": [
            "\rProcessing images:  25%|██▍       | 517/2071 [12:10<40:18,  1.56s/it]"
          ]
        },
        {
          "output_type": "stream",
          "name": "stdout",
          "text": [
            "\n",
            "image 1/1 /content/Olympia_new/renamed_image/A0765.JPG: 448x640 1 Right_eye, 1 Left_eye, 1743.6ms\n",
            "Speed: 5.1ms preprocess, 1743.6ms inference, 1.5ms postprocess per image at shape (1, 3, 448, 640)\n"
          ]
        },
        {
          "output_type": "stream",
          "name": "stderr",
          "text": [
            "\rProcessing images:  25%|██▌       | 518/2071 [12:12<42:52,  1.66s/it]"
          ]
        },
        {
          "output_type": "stream",
          "name": "stdout",
          "text": [
            "\n",
            "image 1/1 /content/Olympia_new/renamed_image/A0835.JPG: 448x640 1 Right_eye, 1 Left_eye, 1085.2ms\n",
            "Speed: 3.5ms preprocess, 1085.2ms inference, 0.9ms postprocess per image at shape (1, 3, 448, 640)\n"
          ]
        },
        {
          "output_type": "stream",
          "name": "stderr",
          "text": [
            "\rProcessing images:  25%|██▌       | 519/2071 [12:13<39:23,  1.52s/it]"
          ]
        },
        {
          "output_type": "stream",
          "name": "stdout",
          "text": [
            "\n",
            "image 1/1 /content/Olympia_new/renamed_image/C0065.JPG: 448x640 1 Right_eye, 1 Left_eye, 1098.0ms\n",
            "Speed: 3.5ms preprocess, 1098.0ms inference, 1.0ms postprocess per image at shape (1, 3, 448, 640)\n"
          ]
        },
        {
          "output_type": "stream",
          "name": "stderr",
          "text": [
            "\rProcessing images:  25%|██▌       | 520/2071 [12:15<36:51,  1.43s/it]"
          ]
        },
        {
          "output_type": "stream",
          "name": "stdout",
          "text": [
            "\n",
            "image 1/1 /content/Olympia_new/renamed_image/C0187.JPG: 448x640 1 Right_eye, 1 Left_eye, 1108.2ms\n",
            "Speed: 3.8ms preprocess, 1108.2ms inference, 0.9ms postprocess per image at shape (1, 3, 448, 640)\n"
          ]
        },
        {
          "output_type": "stream",
          "name": "stderr",
          "text": [
            "\rProcessing images:  25%|██▌       | 521/2071 [12:16<35:11,  1.36s/it]"
          ]
        },
        {
          "output_type": "stream",
          "name": "stdout",
          "text": [
            "\n",
            "image 1/1 /content/Olympia_new/renamed_image/C0547.JPG: 448x640 1 Right_eye, 1 Left_eye, 1087.8ms\n",
            "Speed: 3.5ms preprocess, 1087.8ms inference, 0.9ms postprocess per image at shape (1, 3, 448, 640)\n"
          ]
        },
        {
          "output_type": "stream",
          "name": "stderr",
          "text": [
            "\rProcessing images:  25%|██▌       | 522/2071 [12:17<33:50,  1.31s/it]"
          ]
        },
        {
          "output_type": "stream",
          "name": "stdout",
          "text": [
            "\n",
            "image 1/1 /content/Olympia_new/renamed_image/A0207.JPG: 448x640 1 Right_eye, 1 Left_eye, 1086.2ms\n",
            "Speed: 3.5ms preprocess, 1086.2ms inference, 1.1ms postprocess per image at shape (1, 3, 448, 640)\n"
          ]
        },
        {
          "output_type": "stream",
          "name": "stderr",
          "text": [
            "\rProcessing images:  25%|██▌       | 523/2071 [12:18<32:54,  1.28s/it]"
          ]
        },
        {
          "output_type": "stream",
          "name": "stdout",
          "text": [
            "\n",
            "image 1/1 /content/Olympia_new/renamed_image/A0603.JPG: 448x640 1 Right_eye, 1 Left_eye, 1086.4ms\n",
            "Speed: 3.4ms preprocess, 1086.4ms inference, 0.9ms postprocess per image at shape (1, 3, 448, 640)\n"
          ]
        },
        {
          "output_type": "stream",
          "name": "stderr",
          "text": [
            "\rProcessing images:  25%|██▌       | 524/2071 [12:19<32:07,  1.25s/it]"
          ]
        },
        {
          "output_type": "stream",
          "name": "stdout",
          "text": [
            "\n",
            "image 1/1 /content/Olympia_new/renamed_image/A0713.JPG: 448x640 1 Right_eye, 1 Left_eye, 1090.8ms\n",
            "Speed: 3.4ms preprocess, 1090.8ms inference, 1.0ms postprocess per image at shape (1, 3, 448, 640)\n"
          ]
        },
        {
          "output_type": "stream",
          "name": "stderr",
          "text": [
            "\rProcessing images:  25%|██▌       | 525/2071 [12:21<31:47,  1.23s/it]"
          ]
        },
        {
          "output_type": "stream",
          "name": "stdout",
          "text": [
            "\n",
            "image 1/1 /content/Olympia_new/renamed_image/C0709.JPG: 448x640 1 Right_eye, 1 Left_eye, 1107.1ms\n",
            "Speed: 3.5ms preprocess, 1107.1ms inference, 0.9ms postprocess per image at shape (1, 3, 448, 640)\n"
          ]
        },
        {
          "output_type": "stream",
          "name": "stderr",
          "text": [
            "\rProcessing images:  25%|██▌       | 526/2071 [12:22<31:34,  1.23s/it]"
          ]
        },
        {
          "output_type": "stream",
          "name": "stdout",
          "text": [
            "\n",
            "image 1/1 /content/Olympia_new/renamed_image/C0347.JPG: 448x640 1 Right_eye, 1 Left_eye, 1575.8ms\n",
            "Speed: 3.7ms preprocess, 1575.8ms inference, 1.1ms postprocess per image at shape (1, 3, 448, 640)\n"
          ]
        },
        {
          "output_type": "stream",
          "name": "stderr",
          "text": [
            "\rProcessing images:  25%|██▌       | 527/2071 [12:24<35:36,  1.38s/it]"
          ]
        },
        {
          "output_type": "stream",
          "name": "stdout",
          "text": [
            "\n",
            "image 1/1 /content/Olympia_new/renamed_image/A0780.JPG: 448x640 1 Right_eye, 1 Left_eye, 1761.3ms\n",
            "Speed: 5.0ms preprocess, 1761.3ms inference, 1.1ms postprocess per image at shape (1, 3, 448, 640)\n"
          ]
        },
        {
          "output_type": "stream",
          "name": "stderr",
          "text": [
            "\rProcessing images:  25%|██▌       | 528/2071 [12:25<39:44,  1.55s/it]"
          ]
        },
        {
          "output_type": "stream",
          "name": "stdout",
          "text": [
            "\n",
            "image 1/1 /content/Olympia_new/renamed_image/C0792.JPG: 448x640 1 Right_eye, 1 Left_eye, 1289.7ms\n",
            "Speed: 5.3ms preprocess, 1289.7ms inference, 0.8ms postprocess per image at shape (1, 3, 448, 640)\n"
          ]
        },
        {
          "output_type": "stream",
          "name": "stderr",
          "text": [
            "\rProcessing images:  26%|██▌       | 529/2071 [12:27<38:53,  1.51s/it]"
          ]
        },
        {
          "output_type": "stream",
          "name": "stdout",
          "text": [
            "\n",
            "image 1/1 /content/Olympia_new/renamed_image/A0531.JPG: 448x640 1 Right_eye, 1 Left_eye, 1087.8ms\n",
            "Speed: 4.6ms preprocess, 1087.8ms inference, 0.9ms postprocess per image at shape (1, 3, 448, 640)\n"
          ]
        },
        {
          "output_type": "stream",
          "name": "stderr",
          "text": [
            "\rProcessing images:  26%|██▌       | 530/2071 [12:28<36:20,  1.42s/it]"
          ]
        },
        {
          "output_type": "stream",
          "name": "stdout",
          "text": [
            "\n",
            "image 1/1 /content/Olympia_new/renamed_image/A0204.JPG: 448x640 1 Right_eye, 1 Left_eye, 1092.1ms\n",
            "Speed: 3.4ms preprocess, 1092.1ms inference, 0.9ms postprocess per image at shape (1, 3, 448, 640)\n"
          ]
        },
        {
          "output_type": "stream",
          "name": "stderr",
          "text": [
            "\rProcessing images:  26%|██▌       | 531/2071 [12:29<34:35,  1.35s/it]"
          ]
        },
        {
          "output_type": "stream",
          "name": "stdout",
          "text": [
            "\n",
            "image 1/1 /content/Olympia_new/renamed_image/A0227.JPG: 448x640 1 Right_eye, 1 Left_eye, 1108.0ms\n",
            "Speed: 3.5ms preprocess, 1108.0ms inference, 1.0ms postprocess per image at shape (1, 3, 448, 640)\n"
          ]
        },
        {
          "output_type": "stream",
          "name": "stderr",
          "text": [
            "\rProcessing images:  26%|██▌       | 532/2071 [12:30<33:31,  1.31s/it]"
          ]
        },
        {
          "output_type": "stream",
          "name": "stdout",
          "text": [
            "\n",
            "image 1/1 /content/Olympia_new/renamed_image/C0887.JPG: 448x640 1 Right_eye, 1 Left_eye, 1094.1ms\n",
            "Speed: 3.6ms preprocess, 1094.1ms inference, 0.9ms postprocess per image at shape (1, 3, 448, 640)\n"
          ]
        },
        {
          "output_type": "stream",
          "name": "stderr",
          "text": [
            "\rProcessing images:  26%|██▌       | 533/2071 [12:32<32:45,  1.28s/it]"
          ]
        },
        {
          "output_type": "stream",
          "name": "stdout",
          "text": [
            "\n",
            "image 1/1 /content/Olympia_new/renamed_image/C0232.JPG: 448x640 1 Right_eye, 1 Left_eye, 1095.2ms\n",
            "Speed: 3.8ms preprocess, 1095.2ms inference, 0.9ms postprocess per image at shape (1, 3, 448, 640)\n"
          ]
        },
        {
          "output_type": "stream",
          "name": "stderr",
          "text": [
            "\rProcessing images:  26%|██▌       | 534/2071 [12:33<36:05,  1.41s/it]"
          ]
        },
        {
          "output_type": "stream",
          "name": "stdout",
          "text": [
            "\n",
            "image 1/1 /content/Olympia_new/renamed_image/C0177.JPG: 448x640 1 Right_eye, 1 Left_eye, 1079.2ms\n",
            "Speed: 3.5ms preprocess, 1079.2ms inference, 0.9ms postprocess per image at shape (1, 3, 448, 640)\n"
          ]
        },
        {
          "output_type": "stream",
          "name": "stderr",
          "text": [
            "\rProcessing images:  26%|██▌       | 535/2071 [12:35<34:17,  1.34s/it]"
          ]
        },
        {
          "output_type": "stream",
          "name": "stdout",
          "text": [
            "\n",
            "image 1/1 /content/Olympia_new/renamed_image/A0196.JPG: 448x640 1 Right_eye, 1 Left_eye, 1085.3ms\n",
            "Speed: 3.5ms preprocess, 1085.3ms inference, 0.9ms postprocess per image at shape (1, 3, 448, 640)\n"
          ]
        },
        {
          "output_type": "stream",
          "name": "stderr",
          "text": [
            "\rProcessing images:  26%|██▌       | 536/2071 [12:36<33:10,  1.30s/it]"
          ]
        },
        {
          "output_type": "stream",
          "name": "stdout",
          "text": [
            "\n",
            "image 1/1 /content/Olympia_new/renamed_image/C0417.JPG: 448x640 1 Right_eye, 1 Left_eye, 1654.6ms\n",
            "Speed: 3.6ms preprocess, 1654.6ms inference, 1.2ms postprocess per image at shape (1, 3, 448, 640)\n"
          ]
        },
        {
          "output_type": "stream",
          "name": "stderr",
          "text": [
            "\rProcessing images:  26%|██▌       | 537/2071 [12:38<37:05,  1.45s/it]"
          ]
        },
        {
          "output_type": "stream",
          "name": "stdout",
          "text": [
            "\n",
            "image 1/1 /content/Olympia_new/renamed_image/A0084.JPG: 448x640 1 Right_eye, 1 Left_eye, 1767.6ms\n",
            "Speed: 5.2ms preprocess, 1767.6ms inference, 1.1ms postprocess per image at shape (1, 3, 448, 640)\n"
          ]
        },
        {
          "output_type": "stream",
          "name": "stderr",
          "text": [
            "\rProcessing images:  26%|██▌       | 538/2071 [12:40<41:15,  1.61s/it]"
          ]
        },
        {
          "output_type": "stream",
          "name": "stdout",
          "text": [
            "\n",
            "image 1/1 /content/Olympia_new/renamed_image/A0152.JPG: 448x640 1 Right_eye, 1 Left_eye, 1179.8ms\n",
            "Speed: 5.2ms preprocess, 1179.8ms inference, 0.9ms postprocess per image at shape (1, 3, 448, 640)\n"
          ]
        },
        {
          "output_type": "stream",
          "name": "stderr",
          "text": [
            "\rProcessing images:  26%|██▌       | 539/2071 [12:41<38:53,  1.52s/it]"
          ]
        },
        {
          "output_type": "stream",
          "name": "stdout",
          "text": [
            "\n",
            "image 1/1 /content/Olympia_new/renamed_image/C0554.JPG: 448x640 1 Right_eye, 1 Left_eye, 1086.9ms\n",
            "Speed: 3.8ms preprocess, 1086.9ms inference, 0.9ms postprocess per image at shape (1, 3, 448, 640)\n"
          ]
        },
        {
          "output_type": "stream",
          "name": "stderr",
          "text": [
            "\rProcessing images:  26%|██▌       | 540/2071 [12:42<36:24,  1.43s/it]"
          ]
        },
        {
          "output_type": "stream",
          "name": "stdout",
          "text": [
            "\n",
            "image 1/1 /content/Olympia_new/renamed_image/A0922.JPG: 448x640 1 Right_eye, 1 Left_eye, 1096.3ms\n",
            "Speed: 3.9ms preprocess, 1096.3ms inference, 0.9ms postprocess per image at shape (1, 3, 448, 640)\n"
          ]
        },
        {
          "output_type": "stream",
          "name": "stderr",
          "text": [
            "\rProcessing images:  26%|██▌       | 541/2071 [12:43<34:46,  1.36s/it]"
          ]
        },
        {
          "output_type": "stream",
          "name": "stdout",
          "text": [
            "\n",
            "image 1/1 /content/Olympia_new/renamed_image/A0208.JPG: 448x640 1 Right_eye, 1 Left_eye, 1109.3ms\n",
            "Speed: 3.6ms preprocess, 1109.3ms inference, 0.9ms postprocess per image at shape (1, 3, 448, 640)\n"
          ]
        },
        {
          "output_type": "stream",
          "name": "stderr",
          "text": [
            "\rProcessing images:  26%|██▌       | 542/2071 [12:45<33:35,  1.32s/it]"
          ]
        },
        {
          "output_type": "stream",
          "name": "stdout",
          "text": [
            "\n",
            "image 1/1 /content/Olympia_new/renamed_image/A0736.JPG: 448x640 1 Right_eye, 1 Left_eye, 1097.5ms\n",
            "Speed: 3.5ms preprocess, 1097.5ms inference, 0.9ms postprocess per image at shape (1, 3, 448, 640)\n"
          ]
        },
        {
          "output_type": "stream",
          "name": "stderr",
          "text": [
            "\rProcessing images:  26%|██▌       | 543/2071 [12:46<32:41,  1.28s/it]"
          ]
        },
        {
          "output_type": "stream",
          "name": "stdout",
          "text": [
            "\n",
            "image 1/1 /content/Olympia_new/renamed_image/C0192.JPG: 448x640 1 Right_eye, 1 Left_eye, 1093.9ms\n",
            "Speed: 4.0ms preprocess, 1093.9ms inference, 0.9ms postprocess per image at shape (1, 3, 448, 640)\n"
          ]
        },
        {
          "output_type": "stream",
          "name": "stderr",
          "text": [
            "\rProcessing images:  26%|██▋       | 544/2071 [12:47<36:02,  1.42s/it]"
          ]
        },
        {
          "output_type": "stream",
          "name": "stdout",
          "text": [
            "\n",
            "image 1/1 /content/Olympia_new/renamed_image/A0259.JPG: 448x640 1 Right_eye, 1 Left_eye, 1101.9ms\n",
            "Speed: 4.4ms preprocess, 1101.9ms inference, 0.9ms postprocess per image at shape (1, 3, 448, 640)\n"
          ]
        },
        {
          "output_type": "stream",
          "name": "stderr",
          "text": [
            "\rProcessing images:  26%|██▋       | 545/2071 [12:49<34:26,  1.35s/it]"
          ]
        },
        {
          "output_type": "stream",
          "name": "stdout",
          "text": [
            "\n",
            "image 1/1 /content/Olympia_new/renamed_image/C0902.JPG: 448x640 1 Right_eye, 1 Left_eye, 1107.0ms\n",
            "Speed: 3.6ms preprocess, 1107.0ms inference, 0.9ms postprocess per image at shape (1, 3, 448, 640)\n"
          ]
        },
        {
          "output_type": "stream",
          "name": "stderr",
          "text": [
            "\rProcessing images:  26%|██▋       | 546/2071 [12:50<33:28,  1.32s/it]"
          ]
        },
        {
          "output_type": "stream",
          "name": "stdout",
          "text": [
            "\n",
            "image 1/1 /content/Olympia_new/renamed_image/A0050.JPG: 448x640 1 Right_eye, 1 Left_eye, 1740.8ms\n",
            "Speed: 5.3ms preprocess, 1740.8ms inference, 1.1ms postprocess per image at shape (1, 3, 448, 640)\n"
          ]
        },
        {
          "output_type": "stream",
          "name": "stderr",
          "text": [
            "\rProcessing images:  26%|██▋       | 547/2071 [12:52<38:18,  1.51s/it]"
          ]
        },
        {
          "output_type": "stream",
          "name": "stdout",
          "text": [
            "\n",
            "image 1/1 /content/Olympia_new/renamed_image/C0346.JPG: 448x640 1 Right_eye, 1 Left_eye, 1746.6ms\n",
            "Speed: 5.3ms preprocess, 1746.6ms inference, 1.4ms postprocess per image at shape (1, 3, 448, 640)\n"
          ]
        },
        {
          "output_type": "stream",
          "name": "stderr",
          "text": [
            "\rProcessing images:  26%|██▋       | 548/2071 [12:54<41:43,  1.64s/it]"
          ]
        },
        {
          "output_type": "stream",
          "name": "stdout",
          "text": [
            "\n",
            "image 1/1 /content/Olympia_new/renamed_image/C0470.JPG: 448x640 1 Right_eye, 1 Left_eye, 1096.9ms\n",
            "Speed: 3.6ms preprocess, 1096.9ms inference, 0.9ms postprocess per image at shape (1, 3, 448, 640)\n"
          ]
        },
        {
          "output_type": "stream",
          "name": "stderr",
          "text": [
            "\rProcessing images:  27%|██▋       | 549/2071 [12:55<38:23,  1.51s/it]"
          ]
        },
        {
          "output_type": "stream",
          "name": "stdout",
          "text": [
            "\n",
            "image 1/1 /content/Olympia_new/renamed_image/C0455.JPG: 448x640 1 Right_eye, 1 Left_eye, 1112.4ms\n",
            "Speed: 3.7ms preprocess, 1112.4ms inference, 0.9ms postprocess per image at shape (1, 3, 448, 640)\n"
          ]
        },
        {
          "output_type": "stream",
          "name": "stderr",
          "text": [
            "\rProcessing images:  27%|██▋       | 550/2071 [12:56<36:04,  1.42s/it]"
          ]
        },
        {
          "output_type": "stream",
          "name": "stdout",
          "text": [
            "\n",
            "image 1/1 /content/Olympia_new/renamed_image/C0921.JPG: 448x640 1 Right_eye, 1 Left_eye, 1084.0ms\n",
            "Speed: 3.5ms preprocess, 1084.0ms inference, 0.9ms postprocess per image at shape (1, 3, 448, 640)\n"
          ]
        },
        {
          "output_type": "stream",
          "name": "stderr",
          "text": [
            "\rProcessing images:  27%|██▋       | 551/2071 [12:57<34:21,  1.36s/it]"
          ]
        },
        {
          "output_type": "stream",
          "name": "stdout",
          "text": [
            "\n",
            "image 1/1 /content/Olympia_new/renamed_image/A0285.JPG: 448x640 1 Right_eye, 1 Left_eye, 1091.7ms\n",
            "Speed: 3.4ms preprocess, 1091.7ms inference, 0.9ms postprocess per image at shape (1, 3, 448, 640)\n"
          ]
        },
        {
          "output_type": "stream",
          "name": "stderr",
          "text": [
            "\rProcessing images:  27%|██▋       | 552/2071 [12:59<33:06,  1.31s/it]"
          ]
        },
        {
          "output_type": "stream",
          "name": "stdout",
          "text": [
            "\n",
            "image 1/1 /content/Olympia_new/renamed_image/A1031.JPG: 448x640 1 Right_eye, 1 Left_eye, 1125.2ms\n",
            "Speed: 3.5ms preprocess, 1125.2ms inference, 0.9ms postprocess per image at shape (1, 3, 448, 640)\n"
          ]
        },
        {
          "output_type": "stream",
          "name": "stderr",
          "text": [
            "\rProcessing images:  27%|██▋       | 553/2071 [13:00<32:41,  1.29s/it]"
          ]
        },
        {
          "output_type": "stream",
          "name": "stdout",
          "text": [
            "\n",
            "image 1/1 /content/Olympia_new/renamed_image/C0646.JPG: 448x640 1 Right_eye, 1 Left_eye, 1107.2ms\n",
            "Speed: 3.7ms preprocess, 1107.2ms inference, 1.3ms postprocess per image at shape (1, 3, 448, 640)\n"
          ]
        },
        {
          "output_type": "stream",
          "name": "stderr",
          "text": [
            "\rProcessing images:  27%|██▋       | 554/2071 [13:01<32:05,  1.27s/it]"
          ]
        },
        {
          "output_type": "stream",
          "name": "stdout",
          "text": [
            "\n",
            "image 1/1 /content/Olympia_new/renamed_image/C0863.JPG: 448x640 1 Right_eye, 1 Left_eye, 1101.2ms\n",
            "Speed: 3.5ms preprocess, 1101.2ms inference, 0.8ms postprocess per image at shape (1, 3, 448, 640)\n"
          ]
        },
        {
          "output_type": "stream",
          "name": "stderr",
          "text": [
            "\rProcessing images:  27%|██▋       | 555/2071 [13:02<31:41,  1.25s/it]"
          ]
        },
        {
          "output_type": "stream",
          "name": "stdout",
          "text": [
            "\n",
            "image 1/1 /content/Olympia_new/renamed_image/C0944.JPG: 448x640 1 Right_eye, 1 Left_eye, 1090.4ms\n",
            "Speed: 3.7ms preprocess, 1090.4ms inference, 0.9ms postprocess per image at shape (1, 3, 448, 640)\n"
          ]
        },
        {
          "output_type": "stream",
          "name": "stderr",
          "text": [
            "\rProcessing images:  27%|██▋       | 556/2071 [13:04<31:20,  1.24s/it]"
          ]
        },
        {
          "output_type": "stream",
          "name": "stdout",
          "text": [
            "\n",
            "image 1/1 /content/Olympia_new/renamed_image/A0228.JPG: 448x640 1 Right_eye, 1 Left_eye, 1647.1ms\n",
            "Speed: 3.6ms preprocess, 1647.1ms inference, 1.3ms postprocess per image at shape (1, 3, 448, 640)\n"
          ]
        },
        {
          "output_type": "stream",
          "name": "stderr",
          "text": [
            "\rProcessing images:  27%|██▋       | 557/2071 [13:05<35:13,  1.40s/it]"
          ]
        },
        {
          "output_type": "stream",
          "name": "stdout",
          "text": [
            "\n",
            "image 1/1 /content/Olympia_new/renamed_image/C0701.JPG: 448x640 1 Right_eye, 1 Left_eye, 1762.9ms\n",
            "Speed: 5.1ms preprocess, 1762.9ms inference, 1.3ms postprocess per image at shape (1, 3, 448, 640)\n"
          ]
        },
        {
          "output_type": "stream",
          "name": "stderr",
          "text": [
            "\rProcessing images:  27%|██▋       | 558/2071 [13:07<39:05,  1.55s/it]"
          ]
        },
        {
          "output_type": "stream",
          "name": "stdout",
          "text": [
            "\n",
            "image 1/1 /content/Olympia_new/renamed_image/A0481.JPG: 448x640 1 Right_eye, 1 Left_eye, 1210.3ms\n",
            "Speed: 5.2ms preprocess, 1210.3ms inference, 0.9ms postprocess per image at shape (1, 3, 448, 640)\n"
          ]
        },
        {
          "output_type": "stream",
          "name": "stderr",
          "text": [
            "\rProcessing images:  27%|██▋       | 559/2071 [13:09<37:30,  1.49s/it]"
          ]
        },
        {
          "output_type": "stream",
          "name": "stdout",
          "text": [
            "\n",
            "image 1/1 /content/Olympia_new/renamed_image/C0461.JPG: 448x640 1 Right_eye, 1 Left_eye, 1096.1ms\n",
            "Speed: 3.6ms preprocess, 1096.1ms inference, 0.9ms postprocess per image at shape (1, 3, 448, 640)\n"
          ]
        },
        {
          "output_type": "stream",
          "name": "stderr",
          "text": [
            "\rProcessing images:  27%|██▋       | 560/2071 [13:10<35:14,  1.40s/it]"
          ]
        },
        {
          "output_type": "stream",
          "name": "stdout",
          "text": [
            "\n",
            "image 1/1 /content/Olympia_new/renamed_image/C0822.JPG: 448x640 1 Right_eye, 1 Left_eye, 1088.3ms\n",
            "Speed: 3.5ms preprocess, 1088.3ms inference, 0.9ms postprocess per image at shape (1, 3, 448, 640)\n"
          ]
        },
        {
          "output_type": "stream",
          "name": "stderr",
          "text": [
            "\rProcessing images:  27%|██▋       | 561/2071 [13:11<33:42,  1.34s/it]"
          ]
        },
        {
          "output_type": "stream",
          "name": "stdout",
          "text": [
            "\n",
            "image 1/1 /content/Olympia_new/renamed_image/C0368.JPG: 448x640 1 Right_eye, 1 Left_eye, 1091.7ms\n",
            "Speed: 3.6ms preprocess, 1091.7ms inference, 1.2ms postprocess per image at shape (1, 3, 448, 640)\n"
          ]
        },
        {
          "output_type": "stream",
          "name": "stderr",
          "text": [
            "\rProcessing images:  27%|██▋       | 562/2071 [13:12<33:02,  1.31s/it]"
          ]
        },
        {
          "output_type": "stream",
          "name": "stdout",
          "text": [
            "\n",
            "image 1/1 /content/Olympia_new/renamed_image/A0081.JPG: 448x640 1 Right_eye, 1 Left_eye, 1085.0ms\n",
            "Speed: 3.7ms preprocess, 1085.0ms inference, 0.9ms postprocess per image at shape (1, 3, 448, 640)\n"
          ]
        },
        {
          "output_type": "stream",
          "name": "stderr",
          "text": [
            "\rProcessing images:  27%|██▋       | 563/2071 [13:13<32:28,  1.29s/it]"
          ]
        },
        {
          "output_type": "stream",
          "name": "stdout",
          "text": [
            "\n",
            "image 1/1 /content/Olympia_new/renamed_image/A0973.JPG: 448x640 1 Right_eye, 1 Left_eye, 1135.2ms\n",
            "Speed: 3.5ms preprocess, 1135.2ms inference, 0.9ms postprocess per image at shape (1, 3, 448, 640)\n"
          ]
        },
        {
          "output_type": "stream",
          "name": "stderr",
          "text": [
            "\rProcessing images:  27%|██▋       | 564/2071 [13:15<32:05,  1.28s/it]"
          ]
        },
        {
          "output_type": "stream",
          "name": "stdout",
          "text": [
            "\n",
            "image 1/1 /content/Olympia_new/renamed_image/A0030.JPG: 448x640 1 Right_eye, 1 Left_eye, 1107.8ms\n",
            "Speed: 3.7ms preprocess, 1107.8ms inference, 0.9ms postprocess per image at shape (1, 3, 448, 640)\n"
          ]
        },
        {
          "output_type": "stream",
          "name": "stderr",
          "text": [
            "\rProcessing images:  27%|██▋       | 565/2071 [13:16<32:00,  1.28s/it]"
          ]
        },
        {
          "output_type": "stream",
          "name": "stdout",
          "text": [
            "\n",
            "image 1/1 /content/Olympia_new/renamed_image/C0611.JPG: 448x640 1 Right_eye, 1 Left_eye, 1084.1ms\n",
            "Speed: 3.5ms preprocess, 1084.1ms inference, 0.9ms postprocess per image at shape (1, 3, 448, 640)\n"
          ]
        },
        {
          "output_type": "stream",
          "name": "stderr",
          "text": [
            "\rProcessing images:  27%|██▋       | 566/2071 [13:17<31:22,  1.25s/it]"
          ]
        },
        {
          "output_type": "stream",
          "name": "stdout",
          "text": [
            "\n",
            "image 1/1 /content/Olympia_new/renamed_image/A0191.JPG: 448x640 1 Right_eye, 1 Left_eye, 1496.5ms\n",
            "Speed: 4.1ms preprocess, 1496.5ms inference, 1.1ms postprocess per image at shape (1, 3, 448, 640)\n"
          ]
        },
        {
          "output_type": "stream",
          "name": "stderr",
          "text": [
            "\rProcessing images:  27%|██▋       | 567/2071 [13:19<34:04,  1.36s/it]"
          ]
        },
        {
          "output_type": "stream",
          "name": "stdout",
          "text": [
            "\n",
            "image 1/1 /content/Olympia_new/renamed_image/A0616.JPG: 448x640 1 Right_eye, 1 Left_eye, 1759.7ms\n",
            "Speed: 5.3ms preprocess, 1759.7ms inference, 1.4ms postprocess per image at shape (1, 3, 448, 640)\n"
          ]
        },
        {
          "output_type": "stream",
          "name": "stderr",
          "text": [
            "\rProcessing images:  27%|██▋       | 568/2071 [13:21<38:14,  1.53s/it]"
          ]
        },
        {
          "output_type": "stream",
          "name": "stdout",
          "text": [
            "\n",
            "image 1/1 /content/Olympia_new/renamed_image/A1037.JPG: 448x640 1 Right_eye, 1 Left_eye, 1358.5ms\n",
            "Speed: 5.1ms preprocess, 1358.5ms inference, 0.9ms postprocess per image at shape (1, 3, 448, 640)\n"
          ]
        },
        {
          "output_type": "stream",
          "name": "stderr",
          "text": [
            "\rProcessing images:  27%|██▋       | 569/2071 [13:22<38:08,  1.52s/it]"
          ]
        },
        {
          "output_type": "stream",
          "name": "stdout",
          "text": [
            "\n",
            "image 1/1 /content/Olympia_new/renamed_image/A0717.JPG: 448x640 1 Right_eye, 1 Left_eye, 1099.3ms\n",
            "Speed: 3.4ms preprocess, 1099.3ms inference, 0.9ms postprocess per image at shape (1, 3, 448, 640)\n"
          ]
        },
        {
          "output_type": "stream",
          "name": "stderr",
          "text": [
            "\rProcessing images:  28%|██▊       | 570/2071 [13:23<35:43,  1.43s/it]"
          ]
        },
        {
          "output_type": "stream",
          "name": "stdout",
          "text": [
            "\n",
            "image 1/1 /content/Olympia_new/renamed_image/C0635.JPG: 448x640 1 Right_eye, 1 Left_eye, 1098.0ms\n",
            "Speed: 3.5ms preprocess, 1098.0ms inference, 0.9ms postprocess per image at shape (1, 3, 448, 640)\n"
          ]
        },
        {
          "output_type": "stream",
          "name": "stderr",
          "text": [
            "\rProcessing images:  28%|██▊       | 571/2071 [13:25<34:00,  1.36s/it]"
          ]
        },
        {
          "output_type": "stream",
          "name": "stdout",
          "text": [
            "\n",
            "image 1/1 /content/Olympia_new/renamed_image/C0762.JPG: 448x640 1 Right_eye, 1 Left_eye, 1079.5ms\n",
            "Speed: 3.5ms preprocess, 1079.5ms inference, 0.9ms postprocess per image at shape (1, 3, 448, 640)\n"
          ]
        },
        {
          "output_type": "stream",
          "name": "stderr",
          "text": [
            "\rProcessing images:  28%|██▊       | 572/2071 [13:26<32:38,  1.31s/it]"
          ]
        },
        {
          "output_type": "stream",
          "name": "stdout",
          "text": [
            "\n",
            "image 1/1 /content/Olympia_new/renamed_image/C0634.JPG: 448x640 1 Right_eye, 1 Left_eye, 1089.4ms\n",
            "Speed: 3.6ms preprocess, 1089.4ms inference, 0.9ms postprocess per image at shape (1, 3, 448, 640)\n"
          ]
        },
        {
          "output_type": "stream",
          "name": "stderr",
          "text": [
            "\rProcessing images:  28%|██▊       | 573/2071 [13:27<31:47,  1.27s/it]"
          ]
        },
        {
          "output_type": "stream",
          "name": "stdout",
          "text": [
            "\n",
            "image 1/1 /content/Olympia_new/renamed_image/C0288.JPG: 448x640 1 Right_eye, 1 Left_eye, 1125.6ms\n",
            "Speed: 5.3ms preprocess, 1125.6ms inference, 0.9ms postprocess per image at shape (1, 3, 448, 640)\n"
          ]
        },
        {
          "output_type": "stream",
          "name": "stderr",
          "text": [
            "\rProcessing images:  28%|██▊       | 574/2071 [13:28<31:52,  1.28s/it]"
          ]
        },
        {
          "output_type": "stream",
          "name": "stdout",
          "text": [
            "\n",
            "image 1/1 /content/Olympia_new/renamed_image/A0610.JPG: 448x640 1 Right_eye, 1 Left_eye, 1088.8ms\n",
            "Speed: 3.4ms preprocess, 1088.8ms inference, 1.0ms postprocess per image at shape (1, 3, 448, 640)\n"
          ]
        },
        {
          "output_type": "stream",
          "name": "stderr",
          "text": [
            "\rProcessing images:  28%|██▊       | 575/2071 [13:29<31:14,  1.25s/it]"
          ]
        },
        {
          "output_type": "stream",
          "name": "stdout",
          "text": [
            "\n",
            "image 1/1 /content/Olympia_new/renamed_image/C0891.JPG: 448x640 1 Right_eye, 1 Left_eye, 1104.1ms\n",
            "Speed: 3.7ms preprocess, 1104.1ms inference, 0.9ms postprocess per image at shape (1, 3, 448, 640)\n"
          ]
        },
        {
          "output_type": "stream",
          "name": "stderr",
          "text": [
            "\rProcessing images:  28%|██▊       | 576/2071 [13:31<31:00,  1.24s/it]"
          ]
        },
        {
          "output_type": "stream",
          "name": "stdout",
          "text": [
            "\n",
            "image 1/1 /content/Olympia_new/renamed_image/C0724.JPG: 448x640 1 Right_eye, 1 Left_eye, 1294.9ms\n",
            "Speed: 3.5ms preprocess, 1294.9ms inference, 1.1ms postprocess per image at shape (1, 3, 448, 640)\n"
          ]
        },
        {
          "output_type": "stream",
          "name": "stderr",
          "text": [
            "\rProcessing images:  28%|██▊       | 577/2071 [13:32<32:13,  1.29s/it]"
          ]
        },
        {
          "output_type": "stream",
          "name": "stdout",
          "text": [
            "\n",
            "image 1/1 /content/Olympia_new/renamed_image/C0916.JPG: 448x640 1 Right_eye, 1 Left_eye, 1762.6ms\n",
            "Speed: 5.1ms preprocess, 1762.6ms inference, 1.1ms postprocess per image at shape (1, 3, 448, 640)\n"
          ]
        },
        {
          "output_type": "stream",
          "name": "stderr",
          "text": [
            "\rProcessing images:  28%|██▊       | 578/2071 [13:34<36:49,  1.48s/it]"
          ]
        },
        {
          "output_type": "stream",
          "name": "stdout",
          "text": [
            "\n",
            "image 1/1 /content/Olympia_new/renamed_image/C0393.JPG: 448x640 1 Right_eye, 1 Left_eye, 1570.1ms\n",
            "Speed: 5.3ms preprocess, 1570.1ms inference, 1.0ms postprocess per image at shape (1, 3, 448, 640)\n"
          ]
        },
        {
          "output_type": "stream",
          "name": "stderr",
          "text": [
            "\rProcessing images:  28%|██▊       | 579/2071 [13:36<38:49,  1.56s/it]"
          ]
        },
        {
          "output_type": "stream",
          "name": "stdout",
          "text": [
            "\n",
            "image 1/1 /content/Olympia_new/renamed_image/A0029.JPG: 448x640 1 Right_eye, 1 Left_eye, 1111.5ms\n",
            "Speed: 3.6ms preprocess, 1111.5ms inference, 0.9ms postprocess per image at shape (1, 3, 448, 640)\n"
          ]
        },
        {
          "output_type": "stream",
          "name": "stderr",
          "text": [
            "\rProcessing images:  28%|██▊       | 580/2071 [13:37<36:41,  1.48s/it]"
          ]
        },
        {
          "output_type": "stream",
          "name": "stdout",
          "text": [
            "\n",
            "image 1/1 /content/Olympia_new/renamed_image/C0798.JPG: 448x640 1 Right_eye, 1 Left_eye, 1141.4ms\n",
            "Speed: 3.5ms preprocess, 1141.4ms inference, 0.9ms postprocess per image at shape (1, 3, 448, 640)\n"
          ]
        },
        {
          "output_type": "stream",
          "name": "stderr",
          "text": [
            "\rProcessing images:  28%|██▊       | 581/2071 [13:38<34:58,  1.41s/it]"
          ]
        },
        {
          "output_type": "stream",
          "name": "stdout",
          "text": [
            "\n",
            "image 1/1 /content/Olympia_new/renamed_image/A0890.JPG: 448x640 1 Right_eye, 1 Left_eye, 1103.4ms\n",
            "Speed: 3.7ms preprocess, 1103.4ms inference, 0.9ms postprocess per image at shape (1, 3, 448, 640)\n"
          ]
        },
        {
          "output_type": "stream",
          "name": "stderr",
          "text": [
            "\rProcessing images:  28%|██▊       | 582/2071 [13:40<33:27,  1.35s/it]"
          ]
        },
        {
          "output_type": "stream",
          "name": "stdout",
          "text": [
            "\n",
            "image 1/1 /content/Olympia_new/renamed_image/C0486.JPG: 448x640 1 Right_eye, 1 Left_eye, 1123.9ms\n",
            "Speed: 3.6ms preprocess, 1123.9ms inference, 0.9ms postprocess per image at shape (1, 3, 448, 640)\n"
          ]
        },
        {
          "output_type": "stream",
          "name": "stderr",
          "text": [
            "\rProcessing images:  28%|██▊       | 583/2071 [13:41<32:36,  1.31s/it]"
          ]
        },
        {
          "output_type": "stream",
          "name": "stdout",
          "text": [
            "\n",
            "image 1/1 /content/Olympia_new/renamed_image/A0051.JPG: 448x640 1 Right_eye, 1 Left_eye, 1092.2ms\n",
            "Speed: 3.7ms preprocess, 1092.2ms inference, 0.9ms postprocess per image at shape (1, 3, 448, 640)\n"
          ]
        },
        {
          "output_type": "stream",
          "name": "stderr",
          "text": [
            "\rProcessing images:  28%|██▊       | 584/2071 [13:42<32:08,  1.30s/it]"
          ]
        },
        {
          "output_type": "stream",
          "name": "stdout",
          "text": [
            "\n",
            "image 1/1 /content/Olympia_new/renamed_image/A0092.JPG: 448x640 1 Right_eye, 1 Left_eye, 1323.7ms\n",
            "Speed: 4.2ms preprocess, 1323.7ms inference, 1.0ms postprocess per image at shape (1, 3, 448, 640)\n"
          ]
        },
        {
          "output_type": "stream",
          "name": "stderr",
          "text": [
            "\rProcessing images:  28%|██▊       | 585/2071 [13:44<34:01,  1.37s/it]"
          ]
        },
        {
          "output_type": "stream",
          "name": "stdout",
          "text": [
            "\n",
            "image 1/1 /content/Olympia_new/renamed_image/C0429.JPG: 448x640 1 Right_eye, 1 Left_eye, 1293.8ms\n",
            "Speed: 4.0ms preprocess, 1293.8ms inference, 1.0ms postprocess per image at shape (1, 3, 448, 640)\n"
          ]
        },
        {
          "output_type": "stream",
          "name": "stderr",
          "text": [
            "\rProcessing images:  28%|██▊       | 586/2071 [13:45<34:12,  1.38s/it]"
          ]
        },
        {
          "output_type": "stream",
          "name": "stdout",
          "text": [
            "\n",
            "image 1/1 /content/Olympia_new/renamed_image/C0173.JPG: 448x640 1 Right_eye, 1 Left_eye, 3586.2ms\n",
            "Speed: 10.1ms preprocess, 3586.2ms inference, 1.5ms postprocess per image at shape (1, 3, 448, 640)\n"
          ]
        },
        {
          "output_type": "stream",
          "name": "stderr",
          "text": [
            "\rProcessing images:  28%|██▊       | 587/2071 [13:49<52:27,  2.12s/it]"
          ]
        },
        {
          "output_type": "stream",
          "name": "stdout",
          "text": [
            "\n",
            "image 1/1 /content/Olympia_new/renamed_image/C0325.JPG: 448x640 1 Right_eye, 1 Left_eye, 2715.9ms\n",
            "Speed: 5.2ms preprocess, 2715.9ms inference, 1.3ms postprocess per image at shape (1, 3, 448, 640)\n"
          ]
        },
        {
          "output_type": "stream",
          "name": "stderr",
          "text": [
            "\rProcessing images:  28%|██▊       | 588/2071 [13:52<59:38,  2.41s/it]"
          ]
        },
        {
          "output_type": "stream",
          "name": "stdout",
          "text": [
            "\n",
            "image 1/1 /content/Olympia_new/renamed_image/A0129.JPG: 448x640 1 Right_eye, 1 Left_eye, 1531.3ms\n",
            "Speed: 5.2ms preprocess, 1531.3ms inference, 1.0ms postprocess per image at shape (1, 3, 448, 640)\n"
          ]
        },
        {
          "output_type": "stream",
          "name": "stderr",
          "text": [
            "\rProcessing images:  28%|██▊       | 589/2071 [13:54<54:23,  2.20s/it]"
          ]
        },
        {
          "output_type": "stream",
          "name": "stdout",
          "text": [
            "\n",
            "image 1/1 /content/Olympia_new/renamed_image/A0327.JPG: 448x640 1 Right_eye, 1 Left_eye, 1124.2ms\n",
            "Speed: 3.5ms preprocess, 1124.2ms inference, 0.9ms postprocess per image at shape (1, 3, 448, 640)\n"
          ]
        },
        {
          "output_type": "stream",
          "name": "stderr",
          "text": [
            "\rProcessing images:  28%|██▊       | 590/2071 [13:55<47:38,  1.93s/it]"
          ]
        },
        {
          "output_type": "stream",
          "name": "stdout",
          "text": [
            "\n",
            "image 1/1 /content/Olympia_new/renamed_image/C0287.JPG: 448x640 1 Right_eye, 1 Left_eye, 1113.7ms\n",
            "Speed: 3.7ms preprocess, 1113.7ms inference, 0.9ms postprocess per image at shape (1, 3, 448, 640)\n"
          ]
        },
        {
          "output_type": "stream",
          "name": "stderr",
          "text": [
            "\rProcessing images:  29%|██▊       | 591/2071 [13:56<42:42,  1.73s/it]"
          ]
        },
        {
          "output_type": "stream",
          "name": "stdout",
          "text": [
            "\n",
            "image 1/1 /content/Olympia_new/renamed_image/A0953.JPG: 448x640 1 Right_eye, 1 Left_eye, 1156.0ms\n",
            "Speed: 3.7ms preprocess, 1156.0ms inference, 1.0ms postprocess per image at shape (1, 3, 448, 640)\n"
          ]
        },
        {
          "output_type": "stream",
          "name": "stderr",
          "text": [
            "\rProcessing images:  29%|██▊       | 592/2071 [13:57<39:20,  1.60s/it]"
          ]
        },
        {
          "output_type": "stream",
          "name": "stdout",
          "text": [
            "\n",
            "image 1/1 /content/Olympia_new/renamed_image/A0900.JPG: 448x640 1 Right_eye, 1 Left_eye, 1098.0ms\n",
            "Speed: 3.6ms preprocess, 1098.0ms inference, 0.9ms postprocess per image at shape (1, 3, 448, 640)\n"
          ]
        },
        {
          "output_type": "stream",
          "name": "stderr",
          "text": [
            "\rProcessing images:  29%|██▊       | 593/2071 [13:59<36:33,  1.48s/it]"
          ]
        },
        {
          "output_type": "stream",
          "name": "stdout",
          "text": [
            "\n",
            "image 1/1 /content/Olympia_new/renamed_image/C0224.JPG: 448x640 1 Right_eye, 1 Left_eye, 1104.7ms\n",
            "Speed: 3.9ms preprocess, 1104.7ms inference, 1.0ms postprocess per image at shape (1, 3, 448, 640)\n"
          ]
        },
        {
          "output_type": "stream",
          "name": "stderr",
          "text": [
            "\rProcessing images:  29%|██▊       | 594/2071 [14:00<38:40,  1.57s/it]"
          ]
        },
        {
          "output_type": "stream",
          "name": "stdout",
          "text": [
            "\n",
            "image 1/1 /content/Olympia_new/renamed_image/C0323.JPG: 448x640 1 Right_eye, 1 Left_eye, 1116.1ms\n",
            "Speed: 3.9ms preprocess, 1116.1ms inference, 1.2ms postprocess per image at shape (1, 3, 448, 640)\n"
          ]
        },
        {
          "output_type": "stream",
          "name": "stderr",
          "text": [
            "\rProcessing images:  29%|██▊       | 595/2071 [14:02<36:32,  1.49s/it]"
          ]
        },
        {
          "output_type": "stream",
          "name": "stdout",
          "text": [
            "\n",
            "image 1/1 /content/Olympia_new/renamed_image/C0638.JPG: 448x640 1 Right_eye, 1 Left_eye, 1123.8ms\n",
            "Speed: 3.5ms preprocess, 1123.8ms inference, 0.9ms postprocess per image at shape (1, 3, 448, 640)\n"
          ]
        },
        {
          "output_type": "stream",
          "name": "stderr",
          "text": [
            "\rProcessing images:  29%|██▉       | 596/2071 [14:03<34:39,  1.41s/it]"
          ]
        },
        {
          "output_type": "stream",
          "name": "stdout",
          "text": [
            "\n",
            "image 1/1 /content/Olympia_new/renamed_image/A0270.JPG: 448x640 1 Right_eye, 1 Left_eye, 1754.4ms\n",
            "Speed: 5.1ms preprocess, 1754.4ms inference, 1.3ms postprocess per image at shape (1, 3, 448, 640)\n"
          ]
        },
        {
          "output_type": "stream",
          "name": "stderr",
          "text": [
            "\rProcessing images:  29%|██▉       | 597/2071 [14:05<38:25,  1.56s/it]"
          ]
        },
        {
          "output_type": "stream",
          "name": "stdout",
          "text": [
            "\n",
            "image 1/1 /content/Olympia_new/renamed_image/C0355.JPG: 448x640 1 Right_eye, 1 Left_eye, 1761.3ms\n",
            "Speed: 5.3ms preprocess, 1761.3ms inference, 1.3ms postprocess per image at shape (1, 3, 448, 640)\n"
          ]
        },
        {
          "output_type": "stream",
          "name": "stderr",
          "text": [
            "\rProcessing images:  29%|██▉       | 598/2071 [14:07<41:29,  1.69s/it]"
          ]
        },
        {
          "output_type": "stream",
          "name": "stdout",
          "text": [
            "\n",
            "image 1/1 /content/Olympia_new/renamed_image/A0731.JPG: 448x640 1 Right_eye, 1 Left_eye, 1133.7ms\n",
            "Speed: 5.2ms preprocess, 1133.7ms inference, 0.9ms postprocess per image at shape (1, 3, 448, 640)\n"
          ]
        },
        {
          "output_type": "stream",
          "name": "stderr",
          "text": [
            "\rProcessing images:  29%|██▉       | 599/2071 [14:08<38:24,  1.57s/it]"
          ]
        },
        {
          "output_type": "stream",
          "name": "stdout",
          "text": [
            "\n",
            "image 1/1 /content/Olympia_new/renamed_image/C0552.JPG: 448x640 1 Right_eye, 1 Left_eye, 1126.8ms\n",
            "Speed: 3.6ms preprocess, 1126.8ms inference, 0.9ms postprocess per image at shape (1, 3, 448, 640)\n"
          ]
        },
        {
          "output_type": "stream",
          "name": "stderr",
          "text": [
            "\rProcessing images:  29%|██▉       | 600/2071 [14:09<36:00,  1.47s/it]"
          ]
        },
        {
          "output_type": "stream",
          "name": "stdout",
          "text": [
            "\n",
            "image 1/1 /content/Olympia_new/renamed_image/C0872.JPG: 448x640 1 Right_eye, 1 Left_eye, 1134.3ms\n",
            "Speed: 3.6ms preprocess, 1134.3ms inference, 0.9ms postprocess per image at shape (1, 3, 448, 640)\n"
          ]
        },
        {
          "output_type": "stream",
          "name": "stderr",
          "text": [
            "\rProcessing images:  29%|██▉       | 601/2071 [14:11<34:22,  1.40s/it]"
          ]
        },
        {
          "output_type": "stream",
          "name": "stdout",
          "text": [
            "\n",
            "image 1/1 /content/Olympia_new/renamed_image/C0735.JPG: 448x640 1 Right_eye, 1 Left_eye, 1105.9ms\n",
            "Speed: 3.5ms preprocess, 1105.9ms inference, 0.9ms postprocess per image at shape (1, 3, 448, 640)\n"
          ]
        },
        {
          "output_type": "stream",
          "name": "stderr",
          "text": [
            "\rProcessing images:  29%|██▉       | 602/2071 [14:12<33:02,  1.35s/it]"
          ]
        },
        {
          "output_type": "stream",
          "name": "stdout",
          "text": [
            "\n",
            "image 1/1 /content/Olympia_new/renamed_image/C0194.JPG: 448x640 1 Right_eye, 1 Left_eye, 1113.2ms\n",
            "Speed: 3.8ms preprocess, 1113.2ms inference, 0.9ms postprocess per image at shape (1, 3, 448, 640)\n"
          ]
        },
        {
          "output_type": "stream",
          "name": "stderr",
          "text": [
            "\rProcessing images:  29%|██▉       | 603/2071 [14:14<35:26,  1.45s/it]"
          ]
        },
        {
          "output_type": "stream",
          "name": "stdout",
          "text": [
            "\n",
            "image 1/1 /content/Olympia_new/renamed_image/C0744.JPG: 448x640 1 Right_eye, 1 Left_eye, 1123.9ms\n",
            "Speed: 4.1ms preprocess, 1123.9ms inference, 1.3ms postprocess per image at shape (1, 3, 448, 640)\n"
          ]
        },
        {
          "output_type": "stream",
          "name": "stderr",
          "text": [
            "\rProcessing images:  29%|██▉       | 604/2071 [14:15<33:48,  1.38s/it]"
          ]
        },
        {
          "output_type": "stream",
          "name": "stdout",
          "text": [
            "\n",
            "image 1/1 /content/Olympia_new/renamed_image/A0955.JPG: 448x640 1 Right_eye, 1 Left_eye, 1119.0ms\n",
            "Speed: 3.6ms preprocess, 1119.0ms inference, 0.9ms postprocess per image at shape (1, 3, 448, 640)\n"
          ]
        },
        {
          "output_type": "stream",
          "name": "stderr",
          "text": [
            "\rProcessing images:  29%|██▉       | 605/2071 [14:16<32:41,  1.34s/it]"
          ]
        },
        {
          "output_type": "stream",
          "name": "stdout",
          "text": [
            "\n",
            "image 1/1 /content/Olympia_new/renamed_image/C0763.JPG: 448x640 1 Right_eye, 1 Left_eye, 1212.0ms\n",
            "Speed: 3.4ms preprocess, 1212.0ms inference, 1.3ms postprocess per image at shape (1, 3, 448, 640)\n"
          ]
        },
        {
          "output_type": "stream",
          "name": "stderr",
          "text": [
            "\rProcessing images:  29%|██▉       | 606/2071 [14:17<32:43,  1.34s/it]"
          ]
        },
        {
          "output_type": "stream",
          "name": "stdout",
          "text": [
            "\n",
            "image 1/1 /content/Olympia_new/renamed_image/A0175.JPG: 448x640 1 Right_eye, 1 Left_eye, 1820.5ms\n",
            "Speed: 4.2ms preprocess, 1820.5ms inference, 1.3ms postprocess per image at shape (1, 3, 448, 640)\n"
          ]
        },
        {
          "output_type": "stream",
          "name": "stderr",
          "text": [
            "\rProcessing images:  29%|██▉       | 607/2071 [14:19<37:08,  1.52s/it]"
          ]
        },
        {
          "output_type": "stream",
          "name": "stdout",
          "text": [
            "\n",
            "image 1/1 /content/Olympia_new/renamed_image/A0384.JPG: 448x640 1 Right_eye, 1 Left_eye, 1686.9ms\n",
            "Speed: 5.4ms preprocess, 1686.9ms inference, 0.9ms postprocess per image at shape (1, 3, 448, 640)\n"
          ]
        },
        {
          "output_type": "stream",
          "name": "stderr",
          "text": [
            "\rProcessing images:  29%|██▉       | 608/2071 [14:21<39:48,  1.63s/it]"
          ]
        },
        {
          "output_type": "stream",
          "name": "stdout",
          "text": [
            "\n",
            "image 1/1 /content/Olympia_new/renamed_image/C0090.JPG: 448x640 1 Right_eye, 1 Left_eye, 1130.7ms\n",
            "Speed: 3.4ms preprocess, 1130.7ms inference, 1.2ms postprocess per image at shape (1, 3, 448, 640)\n"
          ]
        },
        {
          "output_type": "stream",
          "name": "stderr",
          "text": [
            "\rProcessing images:  29%|██▉       | 609/2071 [14:22<36:56,  1.52s/it]"
          ]
        },
        {
          "output_type": "stream",
          "name": "stdout",
          "text": [
            "\n",
            "image 1/1 /content/Olympia_new/renamed_image/A0625.JPG: 448x640 1 Right_eye, 1 Left_eye, 1141.2ms\n",
            "Speed: 3.8ms preprocess, 1141.2ms inference, 0.9ms postprocess per image at shape (1, 3, 448, 640)\n"
          ]
        },
        {
          "output_type": "stream",
          "name": "stderr",
          "text": [
            "\rProcessing images:  29%|██▉       | 610/2071 [14:24<35:04,  1.44s/it]"
          ]
        },
        {
          "output_type": "stream",
          "name": "stdout",
          "text": [
            "\n",
            "image 1/1 /content/Olympia_new/renamed_image/C0801.JPG: 448x640 1 Right_eye, 1 Left_eye, 1102.2ms\n",
            "Speed: 3.5ms preprocess, 1102.2ms inference, 0.9ms postprocess per image at shape (1, 3, 448, 640)\n"
          ]
        },
        {
          "output_type": "stream",
          "name": "stderr",
          "text": [
            "\rProcessing images:  30%|██▉       | 611/2071 [14:25<33:20,  1.37s/it]"
          ]
        },
        {
          "output_type": "stream",
          "name": "stdout",
          "text": [
            "\n",
            "image 1/1 /content/Olympia_new/renamed_image/A0853.JPG: 448x640 1 Right_eye, 1 Left_eye, 1125.9ms\n",
            "Speed: 3.5ms preprocess, 1125.9ms inference, 0.9ms postprocess per image at shape (1, 3, 448, 640)\n"
          ]
        },
        {
          "output_type": "stream",
          "name": "stderr",
          "text": [
            "\rProcessing images:  30%|██▉       | 612/2071 [14:26<32:22,  1.33s/it]"
          ]
        },
        {
          "output_type": "stream",
          "name": "stdout",
          "text": [
            "\n",
            "image 1/1 /content/Olympia_new/renamed_image/C0017.JPG: 448x640 1 Right_eye, 1 Left_eye, 1095.1ms\n",
            "Speed: 3.5ms preprocess, 1095.1ms inference, 0.9ms postprocess per image at shape (1, 3, 448, 640)\n"
          ]
        },
        {
          "output_type": "stream",
          "name": "stderr",
          "text": [
            "\rProcessing images:  30%|██▉       | 613/2071 [14:27<31:22,  1.29s/it]"
          ]
        },
        {
          "output_type": "stream",
          "name": "stdout",
          "text": [
            "\n",
            "image 1/1 /content/Olympia_new/renamed_image/A0288.JPG: 448x640 1 Right_eye, 1 Left_eye, 1502.1ms\n",
            "Speed: 4.3ms preprocess, 1502.1ms inference, 1.3ms postprocess per image at shape (1, 3, 448, 640)\n"
          ]
        },
        {
          "output_type": "stream",
          "name": "stderr",
          "text": [
            "\rProcessing images:  30%|██▉       | 614/2071 [14:29<33:44,  1.39s/it]"
          ]
        },
        {
          "output_type": "stream",
          "name": "stdout",
          "text": [
            "\n",
            "image 1/1 /content/Olympia_new/renamed_image/A0691.JPG: 448x640 1 Right_eye, 1 Left_eye, 1338.3ms\n",
            "Speed: 12.7ms preprocess, 1338.3ms inference, 0.9ms postprocess per image at shape (1, 3, 448, 640)\n"
          ]
        },
        {
          "output_type": "stream",
          "name": "stderr",
          "text": [
            "\rProcessing images:  30%|██▉       | 615/2071 [14:30<34:46,  1.43s/it]"
          ]
        },
        {
          "output_type": "stream",
          "name": "stdout",
          "text": [
            "\n",
            "image 1/1 /content/Olympia_new/renamed_image/C0048.JPG: 448x640 1 Right_eye, 1 Left_eye, 1584.0ms\n",
            "Speed: 4.0ms preprocess, 1584.0ms inference, 1.1ms postprocess per image at shape (1, 3, 448, 640)\n"
          ]
        },
        {
          "output_type": "stream",
          "name": "stderr",
          "text": [
            "\rProcessing images:  30%|██▉       | 616/2071 [14:32<36:43,  1.51s/it]"
          ]
        },
        {
          "output_type": "stream",
          "name": "stdout",
          "text": [
            "\n",
            "image 1/1 /content/Olympia_new/renamed_image/C0758.JPG: 448x640 1 Right_eye, 1 Left_eye, 1804.3ms\n",
            "Speed: 5.3ms preprocess, 1804.3ms inference, 1.3ms postprocess per image at shape (1, 3, 448, 640)\n"
          ]
        },
        {
          "output_type": "stream",
          "name": "stderr",
          "text": [
            "\rProcessing images:  30%|██▉       | 617/2071 [14:34<39:53,  1.65s/it]"
          ]
        },
        {
          "output_type": "stream",
          "name": "stdout",
          "text": [
            "\n",
            "image 1/1 /content/Olympia_new/renamed_image/C0686.JPG: 448x640 1 Right_eye, 1 Left_eye, 2291.0ms\n",
            "Speed: 5.2ms preprocess, 2291.0ms inference, 0.9ms postprocess per image at shape (1, 3, 448, 640)\n"
          ]
        },
        {
          "output_type": "stream",
          "name": "stderr",
          "text": [
            "\rProcessing images:  30%|██▉       | 618/2071 [14:37<45:42,  1.89s/it]"
          ]
        },
        {
          "output_type": "stream",
          "name": "stdout",
          "text": [
            "\n",
            "image 1/1 /content/Olympia_new/renamed_image/C0217.JPG: 448x640 1 Right_eye, 1 Left_eye, 1113.7ms\n",
            "Speed: 3.9ms preprocess, 1113.7ms inference, 0.9ms postprocess per image at shape (1, 3, 448, 640)\n"
          ]
        },
        {
          "output_type": "stream",
          "name": "stderr",
          "text": [
            "\rProcessing images:  30%|██▉       | 619/2071 [14:38<43:47,  1.81s/it]"
          ]
        },
        {
          "output_type": "stream",
          "name": "stdout",
          "text": [
            "\n",
            "image 1/1 /content/Olympia_new/renamed_image/A0179.JPG: 448x640 1 Right_eye, 1 Left_eye, 1118.6ms\n",
            "Speed: 3.4ms preprocess, 1118.6ms inference, 0.9ms postprocess per image at shape (1, 3, 448, 640)\n"
          ]
        },
        {
          "output_type": "stream",
          "name": "stderr",
          "text": [
            "\rProcessing images:  30%|██▉       | 620/2071 [14:39<39:33,  1.64s/it]"
          ]
        },
        {
          "output_type": "stream",
          "name": "stdout",
          "text": [
            "\n",
            "image 1/1 /content/Olympia_new/renamed_image/C0033.JPG: 448x640 1 Right_eye, 1 Left_eye, 1129.7ms\n",
            "Speed: 3.5ms preprocess, 1129.7ms inference, 0.9ms postprocess per image at shape (1, 3, 448, 640)\n"
          ]
        },
        {
          "output_type": "stream",
          "name": "stderr",
          "text": [
            "\rProcessing images:  30%|██▉       | 621/2071 [14:41<36:35,  1.51s/it]"
          ]
        },
        {
          "output_type": "stream",
          "name": "stdout",
          "text": [
            "\n",
            "image 1/1 /content/Olympia_new/renamed_image/A0886.JPG: 448x640 1 Right_eye, 1 Left_eye, 1148.2ms\n",
            "Speed: 3.6ms preprocess, 1148.2ms inference, 0.9ms postprocess per image at shape (1, 3, 448, 640)\n"
          ]
        },
        {
          "output_type": "stream",
          "name": "stderr",
          "text": [
            "\rProcessing images:  30%|███       | 622/2071 [14:42<34:46,  1.44s/it]"
          ]
        },
        {
          "output_type": "stream",
          "name": "stdout",
          "text": [
            "\n",
            "image 1/1 /content/Olympia_new/renamed_image/C0502.JPG: 448x640 1 Right_eye, 1 Left_eye, 1099.5ms\n",
            "Speed: 3.5ms preprocess, 1099.5ms inference, 0.9ms postprocess per image at shape (1, 3, 448, 640)\n"
          ]
        },
        {
          "output_type": "stream",
          "name": "stderr",
          "text": [
            "\rProcessing images:  30%|███       | 623/2071 [14:43<33:06,  1.37s/it]"
          ]
        },
        {
          "output_type": "stream",
          "name": "stdout",
          "text": [
            "\n",
            "image 1/1 /content/Olympia_new/renamed_image/C0685.JPG: 448x640 1 Right_eye, 1 Left_eye, 1147.9ms\n",
            "Speed: 3.5ms preprocess, 1147.9ms inference, 0.9ms postprocess per image at shape (1, 3, 448, 640)\n"
          ]
        },
        {
          "output_type": "stream",
          "name": "stderr",
          "text": [
            "\rProcessing images:  30%|███       | 624/2071 [14:44<32:16,  1.34s/it]"
          ]
        },
        {
          "output_type": "stream",
          "name": "stdout",
          "text": [
            "\n",
            "image 1/1 /content/Olympia_new/renamed_image/A0082.JPG: 448x640 1 Right_eye, 1 Left_eye, 1421.0ms\n",
            "Speed: 3.7ms preprocess, 1421.0ms inference, 1.1ms postprocess per image at shape (1, 3, 448, 640)\n"
          ]
        },
        {
          "output_type": "stream",
          "name": "stderr",
          "text": [
            "\rProcessing images:  30%|███       | 625/2071 [14:46<34:11,  1.42s/it]"
          ]
        },
        {
          "output_type": "stream",
          "name": "stdout",
          "text": [
            "\n",
            "image 1/1 /content/Olympia_new/renamed_image/A0402.JPG: 448x640 1 Right_eye, 1 Left_eye, 1757.9ms\n",
            "Speed: 5.3ms preprocess, 1757.9ms inference, 1.1ms postprocess per image at shape (1, 3, 448, 640)\n"
          ]
        },
        {
          "output_type": "stream",
          "name": "stderr",
          "text": [
            "\rProcessing images:  30%|███       | 626/2071 [14:48<38:11,  1.59s/it]"
          ]
        },
        {
          "output_type": "stream",
          "name": "stdout",
          "text": [
            "\n",
            "image 1/1 /content/Olympia_new/renamed_image/A0133.JPG: 448x640 1 Right_eye, 1 Left_eye, 1566.3ms\n",
            "Speed: 6.3ms preprocess, 1566.3ms inference, 0.9ms postprocess per image at shape (1, 3, 448, 640)\n"
          ]
        },
        {
          "output_type": "stream",
          "name": "stderr",
          "text": [
            "\rProcessing images:  30%|███       | 627/2071 [14:50<39:05,  1.62s/it]"
          ]
        },
        {
          "output_type": "stream",
          "name": "stdout",
          "text": [
            "\n",
            "image 1/1 /content/Olympia_new/renamed_image/C0311.JPG: 448x640 1 Right_eye, 1 Left_eye, 1109.3ms\n",
            "Speed: 3.7ms preprocess, 1109.3ms inference, 0.9ms postprocess per image at shape (1, 3, 448, 640)\n"
          ]
        },
        {
          "output_type": "stream",
          "name": "stderr",
          "text": [
            "\rProcessing images:  30%|███       | 628/2071 [14:51<36:34,  1.52s/it]"
          ]
        },
        {
          "output_type": "stream",
          "name": "stdout",
          "text": [
            "\n",
            "image 1/1 /content/Olympia_new/renamed_image/A0772.JPG: 448x640 1 Right_eye, 1 Left_eye, 1124.6ms\n",
            "Speed: 3.5ms preprocess, 1124.6ms inference, 0.9ms postprocess per image at shape (1, 3, 448, 640)\n"
          ]
        },
        {
          "output_type": "stream",
          "name": "stderr",
          "text": [
            "\rProcessing images:  30%|███       | 629/2071 [14:52<34:28,  1.43s/it]"
          ]
        },
        {
          "output_type": "stream",
          "name": "stdout",
          "text": [
            "\n",
            "image 1/1 /content/Olympia_new/renamed_image/A0552.JPG: 448x640 1 Right_eye, 1 Left_eye, 1127.2ms\n",
            "Speed: 3.6ms preprocess, 1127.2ms inference, 0.9ms postprocess per image at shape (1, 3, 448, 640)\n"
          ]
        },
        {
          "output_type": "stream",
          "name": "stderr",
          "text": [
            "\rProcessing images:  30%|███       | 630/2071 [14:53<33:01,  1.38s/it]"
          ]
        },
        {
          "output_type": "stream",
          "name": "stdout",
          "text": [
            "\n",
            "image 1/1 /content/Olympia_new/renamed_image/A0162.JPG: 448x640 1 Right_eye, 1 Left_eye, 1160.6ms\n",
            "Speed: 3.5ms preprocess, 1160.6ms inference, 0.9ms postprocess per image at shape (1, 3, 448, 640)\n"
          ]
        },
        {
          "output_type": "stream",
          "name": "stderr",
          "text": [
            "\rProcessing images:  30%|███       | 631/2071 [14:55<32:14,  1.34s/it]"
          ]
        },
        {
          "output_type": "stream",
          "name": "stdout",
          "text": [
            "\n",
            "image 1/1 /content/Olympia_new/renamed_image/A0238.JPG: 448x640 1 Right_eye, 1 Left_eye, 1125.3ms\n",
            "Speed: 3.5ms preprocess, 1125.3ms inference, 0.8ms postprocess per image at shape (1, 3, 448, 640)\n"
          ]
        },
        {
          "output_type": "stream",
          "name": "stderr",
          "text": [
            "\rProcessing images:  31%|███       | 632/2071 [14:56<31:22,  1.31s/it]"
          ]
        },
        {
          "output_type": "stream",
          "name": "stdout",
          "text": [
            "\n",
            "image 1/1 /content/Olympia_new/renamed_image/A0322.JPG: 448x640 1 Right_eye, 1 Left_eye, 1103.9ms\n",
            "Speed: 3.6ms preprocess, 1103.9ms inference, 0.9ms postprocess per image at shape (1, 3, 448, 640)\n"
          ]
        },
        {
          "output_type": "stream",
          "name": "stderr",
          "text": [
            "\rProcessing images:  31%|███       | 633/2071 [14:57<31:07,  1.30s/it]"
          ]
        },
        {
          "output_type": "stream",
          "name": "stdout",
          "text": [
            "\n",
            "image 1/1 /content/Olympia_new/renamed_image/A0083.JPG: 448x640 1 Right_eye, 1 Left_eye, 1102.1ms\n",
            "Speed: 3.8ms preprocess, 1102.1ms inference, 0.9ms postprocess per image at shape (1, 3, 448, 640)\n"
          ]
        },
        {
          "output_type": "stream",
          "name": "stderr",
          "text": [
            "\rProcessing images:  31%|███       | 634/2071 [14:59<30:49,  1.29s/it]"
          ]
        },
        {
          "output_type": "stream",
          "name": "stdout",
          "text": [
            "\n",
            "image 1/1 /content/Olympia_new/renamed_image/C0757.JPG: 448x640 1 Right_eye, 1 Left_eye, 1317.0ms\n",
            "Speed: 3.4ms preprocess, 1317.0ms inference, 1.1ms postprocess per image at shape (1, 3, 448, 640)\n"
          ]
        }
      ]
    },
    {
      "cell_type": "code",
      "source": [
        "import os\n",
        "import shutil\n",
        "\n",
        "# コピー元とコピー先のパス\n",
        "src_dir = \"/content/Olympia_new/cropped_unilateral_image_25%\"\n",
        "dst_dir = \"/content/drive/MyDrive/Deep_learning/Olympia_dataset/Olympia_new/cropped_unilateral_image_25%\"\n",
        "\n",
        "# コピー先のディレクトリが存在する場合は削除\n",
        "if os.path.exists(dst_dir):\n",
        "    print(f\"Removing existing directory: {dst_dir}\")\n",
        "    shutil.rmtree(dst_dir)\n",
        "\n",
        "# ディレクトリごとコピー\n",
        "print(f\"Copying {src_dir} to {dst_dir}...\")\n",
        "shutil.copytree(src_dir, dst_dir)\n",
        "print(\"Copy completed successfully!\")\n",
        "\n",
        "# ファイル数を確認\n",
        "file_count = len([f for f in os.listdir(dst_dir) if os.path.isfile(os.path.join(dst_dir, f))])\n",
        "print(f\"Total files copied: {file_count}\")"
      ],
      "metadata": {
        "id": "BFjqGzPnnVpZ"
      },
      "execution_count": null,
      "outputs": []
    }
  ]
}